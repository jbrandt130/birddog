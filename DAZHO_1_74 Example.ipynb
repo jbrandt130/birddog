{
 "cells": [
  {
   "cell_type": "code",
   "execution_count": 1,
   "metadata": {},
   "outputs": [],
   "source": [
    "from birddog.core import Table, Archive, Fond, Opus, read_page, check_page_changes, report_page_changes\n",
    "from birddog.excel import export_page"
   ]
  },
  {
   "cell_type": "code",
   "execution_count": 2,
   "metadata": {},
   "outputs": [
    {
     "name": "stdout",
     "output_type": "stream",
     "text": [
      "Retrieved from cache: DAZHO-D[latest]: DAZHO-D/latest.json\n",
      "checking currency: 2025,01,19,12:47 == 2025,01,19,12:47?\n",
      "archive,DAZHO-D,2025,01,19,12:47\n"
     ]
    }
   ],
   "source": [
    "archive = Archive('DAZHO')\n",
    "print(archive.report)"
   ]
  },
  {
   "cell_type": "code",
   "execution_count": 3,
   "metadata": {},
   "outputs": [
    {
     "name": "stdout",
     "output_type": "stream",
     "text": [
      "Retrieved from cache: DAZHO-D/1[latest]: DAZHO-D/1/latest.json\n",
      "checking currency: 2024,09,12,08:41 == 2024,09,12,08:41?\n",
      "Retrieved from cache: DAZHO-D/1/74[latest]: DAZHO-D/1/74/latest.json\n",
      "checking currency: 2025,03,14,11:40 == 2025,03,14,11:40?\n",
      "opus,DAZHO-D/1/74,2025,03,14,11:40\n"
     ]
    }
   ],
   "source": [
    "fond1 = archive.lookup('1')\n",
    "opus1_74 = fond1.lookup('74')\n",
    "print(opus1_74.report)"
   ]
  },
  {
   "cell_type": "code",
   "execution_count": 4,
   "metadata": {},
   "outputs": [
    {
     "data": {
      "text/plain": [
       "'2025,03,14,11:40'"
      ]
     },
     "execution_count": 4,
     "metadata": {},
     "output_type": "execute_result"
    }
   ],
   "source": [
    "opus1_74.lastmod"
   ]
  },
  {
   "cell_type": "code",
   "execution_count": 5,
   "metadata": {},
   "outputs": [
    {
     "data": {
      "text/plain": [
       "'Metric books of Kovel, Zaslav, Dubensky, Rivne, Ovruch, Kremenetsky counties. Confessional information on Kovel, Zaslavsky, Dubensky, Rivne, Ovruch, Kremenetsky counties'"
      ]
     },
     "execution_count": 5,
     "metadata": {},
     "output_type": "execute_result"
    }
   ],
   "source": [
    "opus1_74.description"
   ]
  },
  {
   "cell_type": "code",
   "execution_count": 6,
   "metadata": {},
   "outputs": [
    {
     "data": {
      "text/plain": [
       "False"
      ]
     },
     "execution_count": 6,
     "metadata": {},
     "output_type": "execute_result"
    }
   ],
   "source": [
    "opus1_74.translate()"
   ]
  },
  {
   "cell_type": "code",
   "execution_count": 7,
   "metadata": {},
   "outputs": [
    {
     "name": "stdout",
     "output_type": "stream",
     "text": [
      "opening template file resources/templates/opus.xlsx...\n",
      "sheet title: DAZHO 1-74\n"
     ]
    },
    {
     "data": {
      "text/plain": [
       "<openpyxl.workbook.workbook.Workbook at 0x11ced3e90>"
      ]
     },
     "execution_count": 7,
     "metadata": {},
     "output_type": "execute_result"
    }
   ],
   "source": [
    "export_page(opus1_74, 'var/example.xlsx')"
   ]
  }
 ],
 "metadata": {
  "kernelspec": {
   "display_name": "Python 3 (ipykernel)",
   "language": "python",
   "name": "python3"
  },
  "language_info": {
   "codemirror_mode": {
    "name": "ipython",
    "version": 3
   },
   "file_extension": ".py",
   "mimetype": "text/x-python",
   "name": "python",
   "nbconvert_exporter": "python",
   "pygments_lexer": "ipython3",
   "version": "3.11.5"
  }
 },
 "nbformat": 4,
 "nbformat_minor": 4
}
