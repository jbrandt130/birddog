{
 "cells": [
  {
   "cell_type": "code",
   "execution_count": 1,
   "id": "71554754",
   "metadata": {},
   "outputs": [],
   "source": [
    "import boto3\n",
    "from botocore.exceptions import ClientError"
   ]
  },
  {
   "cell_type": "code",
   "execution_count": 2,
   "id": "efc293c4",
   "metadata": {},
   "outputs": [],
   "source": [
    "# Get the service resource.\n",
    "dynamodb = boto3.client('dynamodb', region_name='us-east-2')"
   ]
  },
  {
   "cell_type": "code",
   "execution_count": 3,
   "id": "9de1aca8",
   "metadata": {},
   "outputs": [],
   "source": [
    "table_name='example_user'"
   ]
  },
  {
   "cell_type": "code",
   "execution_count": 4,
   "id": "0b11b1f6",
   "metadata": {},
   "outputs": [],
   "source": [
    "# Create the DynamoDB table.\n",
    "table = dynamodb.create_table(\n",
    "    TableName=table_name,\n",
    "    KeySchema=[\n",
    "        {\n",
    "            'AttributeName': 'username',\n",
    "            'KeyType': 'HASH'\n",
    "        },\n",
    "        {\n",
    "            'AttributeName': 'last_name',\n",
    "            'KeyType': 'RANGE'\n",
    "        }\n",
    "    ],\n",
    "    AttributeDefinitions=[\n",
    "        {\n",
    "            'AttributeName': 'username',\n",
    "            'AttributeType': 'S'\n",
    "        },\n",
    "        {\n",
    "            'AttributeName': 'last_name',\n",
    "            'AttributeType': 'S'\n",
    "        },\n",
    "    ],\n",
    "    ProvisionedThroughput={\n",
    "        'ReadCapacityUnits': 5,\n",
    "        'WriteCapacityUnits': 5\n",
    "    }\n",
    ")\n"
   ]
  },
  {
   "cell_type": "code",
   "execution_count": 9,
   "id": "ed537739",
   "metadata": {},
   "outputs": [
    {
     "name": "stdout",
     "output_type": "stream",
     "text": [
      "{'Table': {'AttributeDefinitions': [{'AttributeName': 'last_name', 'AttributeType': 'S'}, {'AttributeName': 'username', 'AttributeType': 'S'}], 'TableName': 'example_user', 'KeySchema': [{'AttributeName': 'username', 'KeyType': 'HASH'}, {'AttributeName': 'last_name', 'KeyType': 'RANGE'}], 'TableStatus': 'ACTIVE', 'CreationDateTime': datetime.datetime(2025, 3, 13, 14, 22, 56, 898000, tzinfo=tzlocal()), 'ProvisionedThroughput': {'NumberOfDecreasesToday': 0, 'ReadCapacityUnits': 5, 'WriteCapacityUnits': 5}, 'TableSizeBytes': 0, 'ItemCount': 0, 'TableArn': 'arn:aws:dynamodb:us-east-2:241533137427:table/example_user', 'TableId': 'a893062b-7bfc-4b2d-aa83-95f264ce03ec', 'DeletionProtectionEnabled': False, 'WarmThroughput': {'ReadUnitsPerSecond': 5, 'WriteUnitsPerSecond': 5, 'Status': 'ACTIVE'}}, 'ResponseMetadata': {'RequestId': 'Q957JD4KQJC3DT5M6ERTQUDAH3VV4KQNSO5AEMVJF66Q9ASUAAJG', 'HTTPStatusCode': 200, 'HTTPHeaders': {'server': 'Server', 'date': 'Thu, 13 Mar 2025 20:23:39 GMT', 'content-type': 'application/x-amz-json-1.0', 'content-length': '699', 'connection': 'keep-alive', 'x-amzn-requestid': 'Q957JD4KQJC3DT5M6ERTQUDAH3VV4KQNSO5AEMVJF66Q9ASUAAJG', 'x-amz-crc32': '880354769'}, 'RetryAttempts': 0}}\n"
     ]
    }
   ],
   "source": [
    "# Print out some data about the table.\n",
    "print(dynamodb.describe_table(TableName=table_name))"
   ]
  },
  {
   "cell_type": "code",
   "execution_count": 10,
   "id": "321fc735",
   "metadata": {},
   "outputs": [
    {
     "data": {
      "text/plain": [
       "{'ResponseMetadata': {'RequestId': '399H61SD9FJ93GPDDS06IMV1RNVV4KQNSO5AEMVJF66Q9ASUAAJG',\n",
       "  'HTTPStatusCode': 200,\n",
       "  'HTTPHeaders': {'server': 'Server',\n",
       "   'date': 'Thu, 13 Mar 2025 20:23:40 GMT',\n",
       "   'content-type': 'application/x-amz-json-1.0',\n",
       "   'content-length': '2',\n",
       "   'connection': 'keep-alive',\n",
       "   'x-amzn-requestid': '399H61SD9FJ93GPDDS06IMV1RNVV4KQNSO5AEMVJF66Q9ASUAAJG',\n",
       "   'x-amz-crc32': '2745614147'},\n",
       "  'RetryAttempts': 0}}"
      ]
     },
     "execution_count": 10,
     "metadata": {},
     "output_type": "execute_result"
    }
   ],
   "source": [
    "dynamodb.put_item(\n",
    "    TableName=table_name,\n",
    "    Item={\n",
    "        'username': {'S': 'janedoe'},\n",
    "        'first_name': {'S': 'Jane'},\n",
    "        'last_name': {'S': 'Doe'},\n",
    "        'age': {'S': '25' },\n",
    "        'account_type': {'S': 'standard_user'},\n",
    "    }\n",
    ")"
   ]
  },
  {
   "cell_type": "code",
   "execution_count": 15,
   "id": "32f6f9eb",
   "metadata": {},
   "outputs": [
    {
     "name": "stdout",
     "output_type": "stream",
     "text": [
      "{'Item': {'username': {'S': 'janedoe'}, 'account_type': {'S': 'standard_user'}, 'last_name': {'S': 'Doe'}, 'first_name': {'S': 'Jane'}, 'age': {'S': '25'}}, 'ResponseMetadata': {'RequestId': 'JGE5M6KKRCJ88PKGC60U9G54EVVV4KQNSO5AEMVJF66Q9ASUAAJG', 'HTTPStatusCode': 200, 'HTTPHeaders': {'server': 'Server', 'date': 'Thu, 13 Mar 2025 20:24:57 GMT', 'content-type': 'application/x-amz-json-1.0', 'content-length': '141', 'connection': 'keep-alive', 'x-amzn-requestid': 'JGE5M6KKRCJ88PKGC60U9G54EVVV4KQNSO5AEMVJF66Q9ASUAAJG', 'x-amz-crc32': '482155364'}, 'RetryAttempts': 0}}\n",
      "{'username': {'S': 'janedoe'}, 'account_type': {'S': 'standard_user'}, 'last_name': {'S': 'Doe'}, 'first_name': {'S': 'Jane'}, 'age': {'S': '25'}}\n",
      "janedoe\n"
     ]
    }
   ],
   "source": [
    "response = dynamodb.get_item(\n",
    "    TableName=table_name,\n",
    "    Key={\n",
    "        'username': {'S': 'janedoe'},\n",
    "        'last_name': {'S': 'Doe'}\n",
    "    }\n",
    ")\n",
    "print(response)\n",
    "item = response['Item']\n",
    "print(item)\n",
    "print(item['username']['S'])"
   ]
  },
  {
   "cell_type": "code",
   "execution_count": 12,
   "id": "f3b4f20c",
   "metadata": {},
   "outputs": [
    {
     "name": "stdout",
     "output_type": "stream",
     "text": [
      "{'ResponseMetadata': {'RequestId': 'T86SAU7NMEFSLV2IAD5OP5THDNVV4KQNSO5AEMVJF66Q9ASUAAJG', 'HTTPStatusCode': 200, 'HTTPHeaders': {'server': 'Server', 'date': 'Thu, 13 Mar 2025 20:23:48 GMT', 'content-type': 'application/x-amz-json-1.0', 'content-length': '2', 'connection': 'keep-alive', 'x-amzn-requestid': 'T86SAU7NMEFSLV2IAD5OP5THDNVV4KQNSO5AEMVJF66Q9ASUAAJG', 'x-amz-crc32': '2745614147'}, 'RetryAttempts': 0}}\n"
     ]
    }
   ],
   "source": [
    "response = dynamodb.get_item(\n",
    "    TableName=table_name,\n",
    "    Key={\n",
    "        'username': {'S': 'foo'},\n",
    "        'last_name': {'S': 'bar'}\n",
    "    }\n",
    ")\n",
    "print(response)"
   ]
  },
  {
   "cell_type": "code",
   "execution_count": 13,
   "id": "4b386c56",
   "metadata": {},
   "outputs": [],
   "source": [
    "def table_exists(name):\n",
    "    try:\n",
    "        dynamodb.describe_table(TableName=name)\n",
    "        return True\n",
    "    except ClientError as e:\n",
    "        return False"
   ]
  },
  {
   "cell_type": "code",
   "execution_count": 14,
   "id": "605c7591",
   "metadata": {},
   "outputs": [
    {
     "data": {
      "text/plain": [
       "True"
      ]
     },
     "execution_count": 14,
     "metadata": {},
     "output_type": "execute_result"
    }
   ],
   "source": [
    "table_exists(table_name)"
   ]
  },
  {
   "cell_type": "code",
   "execution_count": 15,
   "id": "49b7fcaa",
   "metadata": {},
   "outputs": [
    {
     "data": {
      "text/plain": [
       "False"
      ]
     },
     "execution_count": 15,
     "metadata": {},
     "output_type": "execute_result"
    }
   ],
   "source": [
    "table_exists('foo')"
   ]
  },
  {
   "cell_type": "code",
   "execution_count": null,
   "id": "33e447f4",
   "metadata": {},
   "outputs": [],
   "source": [
    "dynamodb.delete_table(TableName=table_name)"
   ]
  },
  {
   "cell_type": "code",
   "execution_count": 16,
   "id": "f21eb749",
   "metadata": {},
   "outputs": [
    {
     "data": {
      "text/plain": [
       "{'ResponseMetadata': {'RequestId': '14QI7AO7IPDP5UJ9NDQ6ELOHB3VV4KQNSO5AEMVJF66Q9ASUAAJG',\n",
       "  'HTTPStatusCode': 200,\n",
       "  'HTTPHeaders': {'server': 'Server',\n",
       "   'date': 'Thu, 13 Mar 2025 20:04:42 GMT',\n",
       "   'content-type': 'application/x-amz-json-1.0',\n",
       "   'content-length': '2',\n",
       "   'connection': 'keep-alive',\n",
       "   'x-amzn-requestid': '14QI7AO7IPDP5UJ9NDQ6ELOHB3VV4KQNSO5AEMVJF66Q9ASUAAJG',\n",
       "   'x-amz-crc32': '2745614147'},\n",
       "  'RetryAttempts': 0}}"
      ]
     },
     "execution_count": 16,
     "metadata": {},
     "output_type": "execute_result"
    }
   ],
   "source": [
    "dynamodb.delete_item(\n",
    "    TableName=table_name,\n",
    "    Key={\n",
    "        'username': {'S': 'janedoe'},\n",
    "        'last_name': {'S': 'Doe'}\n",
    "    }\n",
    ")"
   ]
  },
  {
   "cell_type": "code",
   "execution_count": 17,
   "id": "559de66c",
   "metadata": {},
   "outputs": [
    {
     "data": {
      "text/plain": [
       "{'ResponseMetadata': {'RequestId': 'O4QO94OHI1SELH7F3IKHSPI1PVVV4KQNSO5AEMVJF66Q9ASUAAJG',\n",
       "  'HTTPStatusCode': 200,\n",
       "  'HTTPHeaders': {'server': 'Server',\n",
       "   'date': 'Thu, 13 Mar 2025 20:04:57 GMT',\n",
       "   'content-type': 'application/x-amz-json-1.0',\n",
       "   'content-length': '2',\n",
       "   'connection': 'keep-alive',\n",
       "   'x-amzn-requestid': 'O4QO94OHI1SELH7F3IKHSPI1PVVV4KQNSO5AEMVJF66Q9ASUAAJG',\n",
       "   'x-amz-crc32': '2745614147'},\n",
       "  'RetryAttempts': 0}}"
      ]
     },
     "execution_count": 17,
     "metadata": {},
     "output_type": "execute_result"
    }
   ],
   "source": [
    "dynamodb.delete_item(\n",
    "    TableName=table_name,\n",
    "    Key={\n",
    "        'username': {'S': 'foo'},\n",
    "        'last_name': {'S': 'bar'}\n",
    "    }\n",
    ")"
   ]
  },
  {
   "cell_type": "code",
   "execution_count": 23,
   "id": "8da7ed8b",
   "metadata": {},
   "outputs": [
    {
     "name": "stdout",
     "output_type": "stream",
     "text": [
      "{'Item': {'path': {'S': 'x'}, 'value': {'S': '123'}}, 'ResponseMetadata': {'RequestId': 'A7OS2REG14FUANRCVPRC7QN05JVV4KQNSO5AEMVJF66Q9ASUAAJG', 'HTTPStatusCode': 200, 'HTTPHeaders': {'server': 'Server', 'date': 'Thu, 13 Mar 2025 20:44:49 GMT', 'content-type': 'application/x-amz-json-1.0', 'content-length': '47', 'connection': 'keep-alive', 'x-amzn-requestid': 'A7OS2REG14FUANRCVPRC7QN05JVV4KQNSO5AEMVJF66Q9ASUAAJG', 'x-amz-crc32': '3626750944'}, 'RetryAttempts': 0}}\n",
      "True\n",
      "{'path': {'S': 'x'}, 'value': {'S': '123'}}\n"
     ]
    }
   ],
   "source": [
    "response = dynamodb.get_item(\n",
    "    TableName='birddog_cache',\n",
    "    Key={\n",
    "        'path': {'S': 'x'},\n",
    "    }\n",
    ")\n",
    "print(response)\n",
    "print('Item' in response)\n",
    "print(response['Item'])"
   ]
  },
  {
   "cell_type": "code",
   "execution_count": 20,
   "id": "1b9ff276",
   "metadata": {},
   "outputs": [
    {
     "data": {
      "text/plain": [
       "{'Table': {'AttributeDefinitions': [{'AttributeName': 'path',\n",
       "    'AttributeType': 'S'}],\n",
       "  'TableName': 'birddog_cache',\n",
       "  'KeySchema': [{'AttributeName': 'path', 'KeyType': 'HASH'}],\n",
       "  'TableStatus': 'ACTIVE',\n",
       "  'CreationDateTime': datetime.datetime(2025, 3, 13, 14, 26, 10, 736000, tzinfo=tzlocal()),\n",
       "  'ProvisionedThroughput': {'NumberOfDecreasesToday': 0,\n",
       "   'ReadCapacityUnits': 0,\n",
       "   'WriteCapacityUnits': 0},\n",
       "  'TableSizeBytes': 0,\n",
       "  'ItemCount': 0,\n",
       "  'TableArn': 'arn:aws:dynamodb:us-east-2:241533137427:table/birddog_cache',\n",
       "  'TableId': '78939d7b-f54f-4217-955e-57f5eb3eb5e8',\n",
       "  'BillingModeSummary': {'BillingMode': 'PAY_PER_REQUEST',\n",
       "   'LastUpdateToPayPerRequestDateTime': datetime.datetime(2025, 3, 13, 14, 26, 10, 736000, tzinfo=tzlocal())},\n",
       "  'DeletionProtectionEnabled': False,\n",
       "  'WarmThroughput': {'ReadUnitsPerSecond': 12000,\n",
       "   'WriteUnitsPerSecond': 4000,\n",
       "   'Status': 'ACTIVE'}},\n",
       " 'ResponseMetadata': {'RequestId': 'NPMJG48U082PA8UKLS2J2AKID3VV4KQNSO5AEMVJF66Q9ASUAAJG',\n",
       "  'HTTPStatusCode': 200,\n",
       "  'HTTPHeaders': {'server': 'Server',\n",
       "   'date': 'Thu, 13 Mar 2025 20:42:33 GMT',\n",
       "   'content-type': 'application/x-amz-json-1.0',\n",
       "   'content-length': '834',\n",
       "   'connection': 'keep-alive',\n",
       "   'x-amzn-requestid': 'NPMJG48U082PA8UKLS2J2AKID3VV4KQNSO5AEMVJF66Q9ASUAAJG',\n",
       "   'x-amz-crc32': '1943068208'},\n",
       "  'RetryAttempts': 0}}"
      ]
     },
     "execution_count": 20,
     "metadata": {},
     "output_type": "execute_result"
    }
   ],
   "source": [
    "dynamodb.describe_table(TableName='birddog_cache')"
   ]
  },
  {
   "cell_type": "code",
   "execution_count": 21,
   "id": "f6144ce0",
   "metadata": {},
   "outputs": [
    {
     "data": {
      "text/plain": [
       "{'ResponseMetadata': {'RequestId': 'RMLGL1ANO135JDLOU58AVR5R67VV4KQNSO5AEMVJF66Q9ASUAAJG',\n",
       "  'HTTPStatusCode': 200,\n",
       "  'HTTPHeaders': {'server': 'Server',\n",
       "   'date': 'Thu, 13 Mar 2025 20:44:21 GMT',\n",
       "   'content-type': 'application/x-amz-json-1.0',\n",
       "   'content-length': '2',\n",
       "   'connection': 'keep-alive',\n",
       "   'x-amzn-requestid': 'RMLGL1ANO135JDLOU58AVR5R67VV4KQNSO5AEMVJF66Q9ASUAAJG',\n",
       "   'x-amz-crc32': '2745614147'},\n",
       "  'RetryAttempts': 0}}"
      ]
     },
     "execution_count": 21,
     "metadata": {},
     "output_type": "execute_result"
    }
   ],
   "source": [
    "dynamodb.put_item(\n",
    "    TableName='birddog_cache',\n",
    "    Item={\n",
    "        'path': {'S': 'x'},\n",
    "        'value': {'S': '123'},\n",
    "    }\n",
    ")"
   ]
  },
  {
   "cell_type": "code",
   "execution_count": 31,
   "id": "d0230054",
   "metadata": {},
   "outputs": [],
   "source": [
    "s3 = boto3.resource('s3')\n",
    "bucket = 'birddog-s3-test'"
   ]
  },
  {
   "cell_type": "code",
   "execution_count": 32,
   "id": "95bc6edb",
   "metadata": {},
   "outputs": [
    {
     "data": {
      "text/plain": [
       "s3.Bucket(name='birddog-s3-test')"
      ]
     },
     "execution_count": 32,
     "metadata": {},
     "output_type": "execute_result"
    }
   ],
   "source": [
    "s3.create_bucket(Bucket=bucket, CreateBucketConfiguration={\n",
    "    'LocationConstraint': 'us-east-2'})"
   ]
  },
  {
   "cell_type": "code",
   "execution_count": 33,
   "id": "46bc2108",
   "metadata": {},
   "outputs": [
    {
     "data": {
      "text/plain": [
       "{'ResponseMetadata': {'RequestId': 'AC6FJRBFJ12JV80J',\n",
       "  'HostId': 'JyZ6AluINqxeRUiAZf/Ro1I+QtK9QUTq7NuOUgHCnFfSPXxPtzS+0EqjW+3oiuGgWpuib6wjqlX4h7TpEy7QHqx4L7xLrKxtWxEcFv0YnCs=',\n",
       "  'HTTPStatusCode': 200,\n",
       "  'HTTPHeaders': {'x-amz-id-2': 'JyZ6AluINqxeRUiAZf/Ro1I+QtK9QUTq7NuOUgHCnFfSPXxPtzS+0EqjW+3oiuGgWpuib6wjqlX4h7TpEy7QHqx4L7xLrKxtWxEcFv0YnCs=',\n",
       "   'x-amz-request-id': 'AC6FJRBFJ12JV80J',\n",
       "   'date': 'Thu, 13 Mar 2025 22:03:16 GMT',\n",
       "   'x-amz-server-side-encryption': 'AES256',\n",
       "   'etag': '\"5eb63bbbe01eeed093cb22bb8f5acdc3\"',\n",
       "   'x-amz-checksum-crc32': 'DUoRhQ==',\n",
       "   'x-amz-checksum-type': 'FULL_OBJECT',\n",
       "   'content-length': '0',\n",
       "   'server': 'AmazonS3'},\n",
       "  'RetryAttempts': 0},\n",
       " 'ETag': '\"5eb63bbbe01eeed093cb22bb8f5acdc3\"',\n",
       " 'ChecksumCRC32': 'DUoRhQ==',\n",
       " 'ChecksumType': 'FULL_OBJECT',\n",
       " 'ServerSideEncryption': 'AES256'}"
      ]
     },
     "execution_count": 33,
     "metadata": {},
     "output_type": "execute_result"
    }
   ],
   "source": [
    "s3.Object(bucket, 'x').put(Body='hello world')"
   ]
  },
  {
   "cell_type": "code",
   "execution_count": 34,
   "id": "70757d3a",
   "metadata": {},
   "outputs": [
    {
     "name": "stdout",
     "output_type": "stream",
     "text": [
      "x\n"
     ]
    }
   ],
   "source": [
    "for b in s3.buckets.all():\n",
    "    for key in b.objects.all():\n",
    "        print(key.key)"
   ]
  },
  {
   "cell_type": "code",
   "execution_count": 35,
   "id": "b3d0b0c5",
   "metadata": {},
   "outputs": [],
   "source": [
    "s3 = boto3.client('s3')"
   ]
  },
  {
   "cell_type": "code",
   "execution_count": 42,
   "id": "a58cc3fc",
   "metadata": {},
   "outputs": [],
   "source": [
    "response = s3.get_object(Bucket=bucket, Key='x')"
   ]
  },
  {
   "cell_type": "code",
   "execution_count": 43,
   "id": "c9d181e4",
   "metadata": {},
   "outputs": [],
   "source": [
    "body = response['Body'].read()"
   ]
  },
  {
   "cell_type": "code",
   "execution_count": null,
   "id": "ea2e22fd",
   "metadata": {},
   "outputs": [],
   "source": []
  },
  {
   "cell_type": "code",
   "execution_count": 41,
   "id": "61b0fb81",
   "metadata": {},
   "outputs": [],
   "source": [
    "import json"
   ]
  },
  {
   "cell_type": "code",
   "execution_count": 46,
   "id": "c16e3e34",
   "metadata": {},
   "outputs": [
    {
     "ename": "JSONDecodeError",
     "evalue": "Expecting value: line 1 column 1 (char 0)",
     "output_type": "error",
     "traceback": [
      "\u001b[0;31m---------------------------------------------------------------------------\u001b[0m",
      "\u001b[0;31mJSONDecodeError\u001b[0m                           Traceback (most recent call last)",
      "Cell \u001b[0;32mIn[46], line 1\u001b[0m\n\u001b[0;32m----> 1\u001b[0m json\u001b[38;5;241m.\u001b[39mloads(body\u001b[38;5;241m.\u001b[39mdecode(\u001b[38;5;124m\"\u001b[39m\u001b[38;5;124mutf-8\u001b[39m\u001b[38;5;124m\"\u001b[39m))\n",
      "File \u001b[0;32m~/anaconda3/lib/python3.11/json/__init__.py:346\u001b[0m, in \u001b[0;36mloads\u001b[0;34m(s, cls, object_hook, parse_float, parse_int, parse_constant, object_pairs_hook, **kw)\u001b[0m\n\u001b[1;32m    341\u001b[0m     s \u001b[38;5;241m=\u001b[39m s\u001b[38;5;241m.\u001b[39mdecode(detect_encoding(s), \u001b[38;5;124m'\u001b[39m\u001b[38;5;124msurrogatepass\u001b[39m\u001b[38;5;124m'\u001b[39m)\n\u001b[1;32m    343\u001b[0m \u001b[38;5;28;01mif\u001b[39;00m (\u001b[38;5;28mcls\u001b[39m \u001b[38;5;129;01mis\u001b[39;00m \u001b[38;5;28;01mNone\u001b[39;00m \u001b[38;5;129;01mand\u001b[39;00m object_hook \u001b[38;5;129;01mis\u001b[39;00m \u001b[38;5;28;01mNone\u001b[39;00m \u001b[38;5;129;01mand\u001b[39;00m\n\u001b[1;32m    344\u001b[0m         parse_int \u001b[38;5;129;01mis\u001b[39;00m \u001b[38;5;28;01mNone\u001b[39;00m \u001b[38;5;129;01mand\u001b[39;00m parse_float \u001b[38;5;129;01mis\u001b[39;00m \u001b[38;5;28;01mNone\u001b[39;00m \u001b[38;5;129;01mand\u001b[39;00m\n\u001b[1;32m    345\u001b[0m         parse_constant \u001b[38;5;129;01mis\u001b[39;00m \u001b[38;5;28;01mNone\u001b[39;00m \u001b[38;5;129;01mand\u001b[39;00m object_pairs_hook \u001b[38;5;129;01mis\u001b[39;00m \u001b[38;5;28;01mNone\u001b[39;00m \u001b[38;5;129;01mand\u001b[39;00m \u001b[38;5;129;01mnot\u001b[39;00m kw):\n\u001b[0;32m--> 346\u001b[0m     \u001b[38;5;28;01mreturn\u001b[39;00m _default_decoder\u001b[38;5;241m.\u001b[39mdecode(s)\n\u001b[1;32m    347\u001b[0m \u001b[38;5;28;01mif\u001b[39;00m \u001b[38;5;28mcls\u001b[39m \u001b[38;5;129;01mis\u001b[39;00m \u001b[38;5;28;01mNone\u001b[39;00m:\n\u001b[1;32m    348\u001b[0m     \u001b[38;5;28mcls\u001b[39m \u001b[38;5;241m=\u001b[39m JSONDecoder\n",
      "File \u001b[0;32m~/anaconda3/lib/python3.11/json/decoder.py:337\u001b[0m, in \u001b[0;36mJSONDecoder.decode\u001b[0;34m(self, s, _w)\u001b[0m\n\u001b[1;32m    332\u001b[0m \u001b[38;5;28;01mdef\u001b[39;00m \u001b[38;5;21mdecode\u001b[39m(\u001b[38;5;28mself\u001b[39m, s, _w\u001b[38;5;241m=\u001b[39mWHITESPACE\u001b[38;5;241m.\u001b[39mmatch):\n\u001b[1;32m    333\u001b[0m \u001b[38;5;250m    \u001b[39m\u001b[38;5;124;03m\"\"\"Return the Python representation of ``s`` (a ``str`` instance\u001b[39;00m\n\u001b[1;32m    334\u001b[0m \u001b[38;5;124;03m    containing a JSON document).\u001b[39;00m\n\u001b[1;32m    335\u001b[0m \n\u001b[1;32m    336\u001b[0m \u001b[38;5;124;03m    \"\"\"\u001b[39;00m\n\u001b[0;32m--> 337\u001b[0m     obj, end \u001b[38;5;241m=\u001b[39m \u001b[38;5;28mself\u001b[39m\u001b[38;5;241m.\u001b[39mraw_decode(s, idx\u001b[38;5;241m=\u001b[39m_w(s, \u001b[38;5;241m0\u001b[39m)\u001b[38;5;241m.\u001b[39mend())\n\u001b[1;32m    338\u001b[0m     end \u001b[38;5;241m=\u001b[39m _w(s, end)\u001b[38;5;241m.\u001b[39mend()\n\u001b[1;32m    339\u001b[0m     \u001b[38;5;28;01mif\u001b[39;00m end \u001b[38;5;241m!=\u001b[39m \u001b[38;5;28mlen\u001b[39m(s):\n",
      "File \u001b[0;32m~/anaconda3/lib/python3.11/json/decoder.py:355\u001b[0m, in \u001b[0;36mJSONDecoder.raw_decode\u001b[0;34m(self, s, idx)\u001b[0m\n\u001b[1;32m    353\u001b[0m     obj, end \u001b[38;5;241m=\u001b[39m \u001b[38;5;28mself\u001b[39m\u001b[38;5;241m.\u001b[39mscan_once(s, idx)\n\u001b[1;32m    354\u001b[0m \u001b[38;5;28;01mexcept\u001b[39;00m \u001b[38;5;167;01mStopIteration\u001b[39;00m \u001b[38;5;28;01mas\u001b[39;00m err:\n\u001b[0;32m--> 355\u001b[0m     \u001b[38;5;28;01mraise\u001b[39;00m JSONDecodeError(\u001b[38;5;124m\"\u001b[39m\u001b[38;5;124mExpecting value\u001b[39m\u001b[38;5;124m\"\u001b[39m, s, err\u001b[38;5;241m.\u001b[39mvalue) \u001b[38;5;28;01mfrom\u001b[39;00m \u001b[38;5;28;01mNone\u001b[39;00m\n\u001b[1;32m    356\u001b[0m \u001b[38;5;28;01mreturn\u001b[39;00m obj, end\n",
      "\u001b[0;31mJSONDecodeError\u001b[0m: Expecting value: line 1 column 1 (char 0)"
     ]
    }
   ],
   "source": [
    "json.loads(body.decode(\"utf-8\"))"
   ]
  },
  {
   "cell_type": "code",
   "execution_count": 47,
   "id": "4eb89fae",
   "metadata": {},
   "outputs": [
    {
     "data": {
      "text/plain": [
       "b'hello world'"
      ]
     },
     "execution_count": 47,
     "metadata": {},
     "output_type": "execute_result"
    }
   ],
   "source": [
    "body"
   ]
  },
  {
   "cell_type": "code",
   "execution_count": 48,
   "id": "4d144e5d",
   "metadata": {},
   "outputs": [
    {
     "data": {
      "text/plain": [
       "'hello world'"
      ]
     },
     "execution_count": 48,
     "metadata": {},
     "output_type": "execute_result"
    }
   ],
   "source": [
    "body.decode(\"utf-8\")"
   ]
  },
  {
   "cell_type": "code",
   "execution_count": null,
   "id": "5da16e9a",
   "metadata": {},
   "outputs": [],
   "source": []
  },
  {
   "cell_type": "code",
   "execution_count": null,
   "id": "36799f21",
   "metadata": {},
   "outputs": [],
   "source": []
  },
  {
   "cell_type": "code",
   "execution_count": null,
   "id": "42c00f16",
   "metadata": {},
   "outputs": [],
   "source": []
  },
  {
   "cell_type": "code",
   "execution_count": null,
   "id": "681fa5e3",
   "metadata": {},
   "outputs": [],
   "source": []
  },
  {
   "cell_type": "code",
   "execution_count": null,
   "id": "75dc2507",
   "metadata": {},
   "outputs": [],
   "source": []
  },
  {
   "cell_type": "code",
   "execution_count": null,
   "id": "8da25cf7",
   "metadata": {},
   "outputs": [],
   "source": []
  }
 ],
 "metadata": {
  "kernelspec": {
   "display_name": "Python 3 (ipykernel)",
   "language": "python",
   "name": "python3"
  },
  "language_info": {
   "codemirror_mode": {
    "name": "ipython",
    "version": 3
   },
   "file_extension": ".py",
   "mimetype": "text/x-python",
   "name": "python",
   "nbconvert_exporter": "python",
   "pygments_lexer": "ipython3",
   "version": "3.11.5"
  }
 },
 "nbformat": 4,
 "nbformat_minor": 5
}
