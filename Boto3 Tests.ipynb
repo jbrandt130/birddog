{
 "cells": [
  {
   "cell_type": "code",
   "execution_count": 1,
   "id": "71554754",
   "metadata": {},
   "outputs": [
    {
     "ename": "ImportError",
     "evalue": "cannot import name 'BucketAlreadyOwnedByYou' from 'botocore.exceptions' (/Users/jbrandt/anaconda3/lib/python3.11/site-packages/botocore/exceptions.py)",
     "output_type": "error",
     "traceback": [
      "\u001b[0;31m---------------------------------------------------------------------------\u001b[0m",
      "\u001b[0;31mImportError\u001b[0m                               Traceback (most recent call last)",
      "Cell \u001b[0;32mIn[1], line 3\u001b[0m\n\u001b[1;32m      1\u001b[0m \u001b[38;5;28;01mimport\u001b[39;00m \u001b[38;5;21;01mboto3\u001b[39;00m\n\u001b[1;32m      2\u001b[0m \u001b[38;5;28;01mfrom\u001b[39;00m \u001b[38;5;21;01mbotocore\u001b[39;00m\u001b[38;5;21;01m.\u001b[39;00m\u001b[38;5;21;01mexceptions\u001b[39;00m \u001b[38;5;28;01mimport\u001b[39;00m ClientError\n\u001b[0;32m----> 3\u001b[0m \u001b[38;5;28;01mfrom\u001b[39;00m \u001b[38;5;21;01mbotocore\u001b[39;00m\u001b[38;5;21;01m.\u001b[39;00m\u001b[38;5;21;01mexceptions\u001b[39;00m \u001b[38;5;28;01mimport\u001b[39;00m BucketAlreadyOwnedByYou, BucketAlreadyExists\n",
      "\u001b[0;31mImportError\u001b[0m: cannot import name 'BucketAlreadyOwnedByYou' from 'botocore.exceptions' (/Users/jbrandt/anaconda3/lib/python3.11/site-packages/botocore/exceptions.py)"
     ]
    }
   ],
   "source": [
    "import boto3\n",
    "from botocore.exceptions import ClientError\n",
    "from botocore.exceptions import BucketAlreadyOwnedByYou, BucketAlreadyExists"
   ]
  },
  {
   "cell_type": "code",
   "execution_count": 4,
   "id": "dc155bc5",
   "metadata": {},
   "outputs": [],
   "source": [
    "bucket='birddog-s3-test'"
   ]
  },
  {
   "cell_type": "code",
   "execution_count": 5,
   "id": "06ae0278",
   "metadata": {},
   "outputs": [],
   "source": [
    "s3 = boto3.client('s3')"
   ]
  },
  {
   "cell_type": "code",
   "execution_count": 7,
   "id": "c3b079d6",
   "metadata": {},
   "outputs": [
    {
     "name": "stdout",
     "output_type": "stream",
     "text": [
      "already exists\n"
     ]
    }
   ],
   "source": [
    "try:\n",
    "    s3.create_bucket(\n",
    "        ACL='private',\n",
    "        Bucket=bucket,\n",
    "        CreateBucketConfiguration={\n",
    "            'LocationConstraint': 'us-east-2',\n",
    "        },\n",
    "    )\n",
    "except (s3.exceptions.BucketAlreadyExists, s3.exceptions.BucketAlreadyOwnedByYou):\n",
    "    print('already exists')"
   ]
  },
  {
   "cell_type": "code",
   "execution_count": 11,
   "id": "c2c98fb8",
   "metadata": {},
   "outputs": [
    {
     "name": "stdout",
     "output_type": "stream",
     "text": [
      "{'ResponseMetadata': {'RequestId': 'FAWBKH8JTCY8R4WJ', 'HostId': 'XTwv+RHpLRl8k4oY7ctwog9AcDg5H7npJQ6wKzIKQdOcSFrRc19KpSTp2Lav9uUxXv/P06dfIOs=', 'HTTPStatusCode': 200, 'HTTPHeaders': {'x-amz-id-2': 'XTwv+RHpLRl8k4oY7ctwog9AcDg5H7npJQ6wKzIKQdOcSFrRc19KpSTp2Lav9uUxXv/P06dfIOs=', 'x-amz-request-id': 'FAWBKH8JTCY8R4WJ', 'date': 'Thu, 13 Mar 2025 22:45:44 GMT', 'last-modified': 'Thu, 13 Mar 2025 22:45:21 GMT', 'etag': '\"5eb63bbbe01eeed093cb22bb8f5acdc3\"', 'x-amz-checksum-crc32': 'DUoRhQ==', 'x-amz-checksum-type': 'FULL_OBJECT', 'x-amz-server-side-encryption': 'AES256', 'accept-ranges': 'bytes', 'content-type': 'binary/octet-stream', 'content-length': '11', 'server': 'AmazonS3'}, 'ChecksumAlgorithm': 'crc32', 'RetryAttempts': 0}, 'AcceptRanges': 'bytes', 'LastModified': datetime.datetime(2025, 3, 13, 22, 45, 21, tzinfo=tzutc()), 'ContentLength': 11, 'ETag': '\"5eb63bbbe01eeed093cb22bb8f5acdc3\"', 'ChecksumCRC32': 'DUoRhQ==', 'ChecksumType': 'FULL_OBJECT', 'ContentType': 'binary/octet-stream', 'ServerSideEncryption': 'AES256', 'Metadata': {}, 'Body': <botocore.httpchecksum.StreamingChecksumBody object at 0x1154ac370>}\n"
     ]
    }
   ],
   "source": [
    "try:\n",
    "    response = s3.get_object(Bucket=bucket, Key='x')\n",
    "    print(response)\n",
    "except s3.exceptions.NoSuchKey:\n",
    "    print('nonexistent')"
   ]
  },
  {
   "cell_type": "code",
   "execution_count": null,
   "id": "58039c0f",
   "metadata": {},
   "outputs": [],
   "source": [
    "body = response['Body'].read()"
   ]
  },
  {
   "cell_type": "code",
   "execution_count": 10,
   "id": "5341ba9f",
   "metadata": {},
   "outputs": [
    {
     "data": {
      "text/plain": [
       "{'ResponseMetadata': {'RequestId': 'G3FF27YM9N1VJ2Q7',\n",
       "  'HostId': 'hBBZlg71WumqQbfa5Rs7kNjZ2S0TMhk9J5uPZAn7X4BaSWcDmxfQfXgYjeptlCHV+0ukzFvM4zA=',\n",
       "  'HTTPStatusCode': 200,\n",
       "  'HTTPHeaders': {'x-amz-id-2': 'hBBZlg71WumqQbfa5Rs7kNjZ2S0TMhk9J5uPZAn7X4BaSWcDmxfQfXgYjeptlCHV+0ukzFvM4zA=',\n",
       "   'x-amz-request-id': 'G3FF27YM9N1VJ2Q7',\n",
       "   'date': 'Thu, 13 Mar 2025 22:45:21 GMT',\n",
       "   'x-amz-server-side-encryption': 'AES256',\n",
       "   'etag': '\"5eb63bbbe01eeed093cb22bb8f5acdc3\"',\n",
       "   'x-amz-checksum-crc32': 'DUoRhQ==',\n",
       "   'x-amz-checksum-type': 'FULL_OBJECT',\n",
       "   'content-length': '0',\n",
       "   'server': 'AmazonS3'},\n",
       "  'RetryAttempts': 0},\n",
       " 'ETag': '\"5eb63bbbe01eeed093cb22bb8f5acdc3\"',\n",
       " 'ChecksumCRC32': 'DUoRhQ==',\n",
       " 'ChecksumType': 'FULL_OBJECT',\n",
       " 'ServerSideEncryption': 'AES256'}"
      ]
     },
     "execution_count": 10,
     "metadata": {},
     "output_type": "execute_result"
    }
   ],
   "source": [
    "s3.put_object(Bucket=bucket, Key='x', Body='hello world')"
   ]
  },
  {
   "cell_type": "code",
   "execution_count": 12,
   "id": "00128ba6",
   "metadata": {},
   "outputs": [
    {
     "data": {
      "text/plain": [
       "{'ResponseMetadata': {'RequestId': 'C628WMAQ55FZBPJ1',\n",
       "  'HostId': 'zjZe/QWI15jBMcs9SgG5kJ+mcjMv3rhLiBcq7ALXC3FMge2gYNLO0oaZQvxi9qEGoZ7q8Ont4M5epSEIef3GYB0MXjv+kTsa',\n",
       "  'HTTPStatusCode': 204,\n",
       "  'HTTPHeaders': {'x-amz-id-2': 'zjZe/QWI15jBMcs9SgG5kJ+mcjMv3rhLiBcq7ALXC3FMge2gYNLO0oaZQvxi9qEGoZ7q8Ont4M5epSEIef3GYB0MXjv+kTsa',\n",
       "   'x-amz-request-id': 'C628WMAQ55FZBPJ1',\n",
       "   'date': 'Thu, 13 Mar 2025 22:52:06 GMT',\n",
       "   'server': 'AmazonS3'},\n",
       "  'RetryAttempts': 0}}"
      ]
     },
     "execution_count": 12,
     "metadata": {},
     "output_type": "execute_result"
    }
   ],
   "source": [
    "s3.delete_object(Bucket=bucket, Key='x')"
   ]
  },
  {
   "cell_type": "code",
   "execution_count": 13,
   "id": "cedc10de",
   "metadata": {},
   "outputs": [
    {
     "data": {
      "text/plain": [
       "{'ResponseMetadata': {'RequestId': '7HA97S8W988RHCC4',\n",
       "  'HostId': '699MgkFv/2hF/YkkzbRaMdsO47rqGUdtkFN9Fbrey5bb3LErvIvwd+ojrIANn26L4EkOEMcL4BTn7rZtJO+bjACPAKBZUNgC',\n",
       "  'HTTPStatusCode': 204,\n",
       "  'HTTPHeaders': {'x-amz-id-2': '699MgkFv/2hF/YkkzbRaMdsO47rqGUdtkFN9Fbrey5bb3LErvIvwd+ojrIANn26L4EkOEMcL4BTn7rZtJO+bjACPAKBZUNgC',\n",
       "   'x-amz-request-id': '7HA97S8W988RHCC4',\n",
       "   'date': 'Thu, 13 Mar 2025 22:52:13 GMT',\n",
       "   'server': 'AmazonS3'},\n",
       "  'RetryAttempts': 0}}"
      ]
     },
     "execution_count": 13,
     "metadata": {},
     "output_type": "execute_result"
    }
   ],
   "source": [
    "s3.delete_object(Bucket=bucket, Key='x')"
   ]
  },
  {
   "cell_type": "code",
   "execution_count": null,
   "id": "159e3162",
   "metadata": {},
   "outputs": [],
   "source": []
  },
  {
   "cell_type": "code",
   "execution_count": null,
   "id": "1c1c740e",
   "metadata": {},
   "outputs": [],
   "source": [
    "import json"
   ]
  },
  {
   "cell_type": "code",
   "execution_count": null,
   "id": "54f86399",
   "metadata": {},
   "outputs": [],
   "source": [
    "json.loads(body.decode(\"utf-8\"))"
   ]
  },
  {
   "cell_type": "code",
   "execution_count": null,
   "id": "1d1f9d21",
   "metadata": {},
   "outputs": [],
   "source": [
    "body"
   ]
  },
  {
   "cell_type": "code",
   "execution_count": null,
   "id": "d812e492",
   "metadata": {},
   "outputs": [],
   "source": [
    "body.decode(\"utf-8\")"
   ]
  },
  {
   "cell_type": "code",
   "execution_count": null,
   "id": "d7575f19",
   "metadata": {},
   "outputs": [],
   "source": []
  },
  {
   "cell_type": "code",
   "execution_count": null,
   "id": "0bf2d2dc",
   "metadata": {},
   "outputs": [],
   "source": [
    "s3.exceptions."
   ]
  },
  {
   "cell_type": "code",
   "execution_count": null,
   "id": "b4503543",
   "metadata": {},
   "outputs": [],
   "source": []
  },
  {
   "cell_type": "code",
   "execution_count": null,
   "id": "2525b520",
   "metadata": {},
   "outputs": [],
   "source": []
  },
  {
   "cell_type": "code",
   "execution_count": null,
   "id": "3139b8fd",
   "metadata": {},
   "outputs": [],
   "source": []
  },
  {
   "cell_type": "code",
   "execution_count": null,
   "id": "8da25cf7",
   "metadata": {},
   "outputs": [],
   "source": []
  }
 ],
 "metadata": {
  "kernelspec": {
   "display_name": "Python 3 (ipykernel)",
   "language": "python",
   "name": "python3"
  },
  "language_info": {
   "codemirror_mode": {
    "name": "ipython",
    "version": 3
   },
   "file_extension": ".py",
   "mimetype": "text/x-python",
   "name": "python",
   "nbconvert_exporter": "python",
   "pygments_lexer": "ipython3",
   "version": "3.11.5"
  }
 },
 "nbformat": 4,
 "nbformat_minor": 5
}
