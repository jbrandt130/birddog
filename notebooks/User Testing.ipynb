{
 "cells": [
  {
   "cell_type": "code",
   "execution_count": 1,
   "id": "9baa8ab0-13da-445b-a8fd-b519dba6bf60",
   "metadata": {},
   "outputs": [
    {
     "data": {
      "text/plain": [
       "PosixPath('/Users/jbrandt/code/birddog')"
      ]
     },
     "execution_count": 1,
     "metadata": {},
     "output_type": "execute_result"
    }
   ],
   "source": [
    "import os\n",
    "from pathlib import Path\n",
    "# Change cwd to the project root (parent of 'notebooks/')\n",
    "os.chdir(Path.cwd().parent)\n",
    "Path.cwd()"
   ]
  },
  {
   "cell_type": "code",
   "execution_count": 2,
   "id": "9f947397-0260-4bb6-8c98-83b92a192434",
   "metadata": {},
   "outputs": [
    {
     "name": "stdout",
     "output_type": "stream",
     "text": [
      "2025-04-24 12:12:56,397 [INFO] Using Google Cloud translation API (credentials file:/Users/jbrandt/code/birddog/google-cloud-translate-key.json)\n",
      "2025-04-24 12:12:56,442 [INFO] Found credentials in environment variables.\n",
      "2025-04-24 12:12:56,490 [INFO] Using AWS S3 bucket birddog-data for storage.\n"
     ]
    }
   ],
   "source": [
    "from birddog.service import Users, User\n",
    "from birddog.cache import load_cached_object, save_cached_object"
   ]
  },
  {
   "cell_type": "code",
   "execution_count": 3,
   "id": "46b2d927-8777-454a-b120-b00227693ccb",
   "metadata": {},
   "outputs": [],
   "source": [
    "users = Users(None)"
   ]
  },
  {
   "cell_type": "code",
   "execution_count": 4,
   "id": "ac8156c5-77d5-449b-9835-2a0aeef033a0",
   "metadata": {},
   "outputs": [],
   "source": [
    "juliana = users.lookup(\"jberland@jewishgen.org\")"
   ]
  },
  {
   "cell_type": "code",
   "execution_count": 5,
   "id": "493752e4-090b-473e-b4d2-cd743b02fb9e",
   "metadata": {},
   "outputs": [
    {
     "data": {
      "text/plain": [
       "{'DAHMO-K': {'last_checked_date': '2025,04,23,10:07',\n",
       "  'cutoff_date': '2019,01,01'},\n",
       " 'DAPO-D': {'last_checked_date': '2025,04,23,10:07',\n",
       "  'cutoff_date': '2025,03,25'},\n",
       " 'DAKIRO-D': {'last_checked_date': '2025,04,23,10:38',\n",
       "  'cutoff_date': '2022,04,12'}}"
      ]
     },
     "execution_count": 5,
     "metadata": {},
     "output_type": "execute_result"
    }
   ],
   "source": [
    "juliana.watchlist"
   ]
  },
  {
   "cell_type": "code",
   "execution_count": null,
   "id": "5946c413-33a3-4bfd-ad31-2421f950502a",
   "metadata": {},
   "outputs": [],
   "source": [
    "wendy = users.lookup(\"wendyepms@gmail.com\")"
   ]
  },
  {
   "cell_type": "code",
   "execution_count": null,
   "id": "04244332-a52a-4a92-9221-d082b02f3724",
   "metadata": {},
   "outputs": [],
   "source": [
    "wendy.watchlist"
   ]
  },
  {
   "cell_type": "code",
   "execution_count": null,
   "id": "5d381228-eb09-45be-a7e2-b29a17e96f53",
   "metadata": {},
   "outputs": [],
   "source": [
    "def _watcher_cache_path(email, archive, subarchive):\n",
    "    return f'watchers/{email}/{archive}-{subarchive}.json'"
   ]
  },
  {
   "cell_type": "code",
   "execution_count": null,
   "id": "69cf8259-6dd7-463f-ace2-a0fed7601bfc",
   "metadata": {},
   "outputs": [],
   "source": [
    "def load_watcher(email, archive, subarchive):\n",
    "    path = _watcher_cache_path(email, archive, subarchive)\n",
    "    return load_cached_object(path)"
   ]
  },
  {
   "cell_type": "code",
   "execution_count": null,
   "id": "a6b84560-627b-4702-96bb-0a2ec6bd6a0e",
   "metadata": {},
   "outputs": [],
   "source": [
    "def save_watcher(data, email, archive, subarchive):\n",
    "    path = _watcher_cache_path(email, archive, subarchive)\n",
    "    save_cached_object(data, path)"
   ]
  },
  {
   "cell_type": "code",
   "execution_count": null,
   "id": "7fb2dca2-47dd-44af-bc77-411e4185b990",
   "metadata": {},
   "outputs": [],
   "source": [
    "watchers = [('DAHmO', 'K'), ('DAKrO', 'D')]\n",
    "watchers"
   ]
  },
  {
   "cell_type": "code",
   "execution_count": null,
   "id": "27552a9e-7fa1-467b-90a8-927beff108d5",
   "metadata": {},
   "outputs": [],
   "source": [
    "watcher = load_watcher(juliana.email, watchers[1][0], watchers[1][1])"
   ]
  },
  {
   "cell_type": "code",
   "execution_count": null,
   "id": "b6a44b25-ec2f-4a8a-a578-09d975f83e52",
   "metadata": {},
   "outputs": [],
   "source": [
    "def replace_substring_in_structure(data, old, new):\n",
    "    if isinstance(data, dict):\n",
    "        new_dict = {}\n",
    "        for key, value in data.items():\n",
    "            new_key = key.replace(old, new) if isinstance(key, str) else key\n",
    "            new_dict[new_key] = replace_substring_in_structure(value, old, new)\n",
    "        return new_dict\n",
    "\n",
    "    elif isinstance(data, list):\n",
    "        return [replace_substring_in_structure(item, old, new) for item in data]\n",
    "\n",
    "    elif isinstance(data, str):\n",
    "        return data.replace(old, new)\n",
    "\n",
    "    else:\n",
    "        return data"
   ]
  },
  {
   "cell_type": "code",
   "execution_count": null,
   "id": "c33f107a-b4ca-43dd-bcec-66a2c4f1b1c5",
   "metadata": {},
   "outputs": [],
   "source": [
    "new_watcher = replace_substring_in_structure(watcher, \"DAKrO\", \"DAKIRO\")\n",
    "print(new_watcher[\"archive\"], new_watcher[\"subarchive\"])"
   ]
  },
  {
   "cell_type": "code",
   "execution_count": null,
   "id": "78a8c53a-19e3-4fe8-bced-8730f691f948",
   "metadata": {},
   "outputs": [],
   "source": [
    "save_watcher(new_watcher, juliana.email, new_watcher[\"archive\"], new_watcher[\"subarchive\"])"
   ]
  },
  {
   "cell_type": "code",
   "execution_count": null,
   "id": "9a2a1b02-0d4d-426c-86d6-4b2545fd8848",
   "metadata": {},
   "outputs": [],
   "source": [
    "watcher = load_watcher(juliana.email, watchers[0][0], watchers[0][1])"
   ]
  },
  {
   "cell_type": "code",
   "execution_count": null,
   "id": "a639c913-340e-415f-b1d1-75bfb6ed8fc2",
   "metadata": {},
   "outputs": [],
   "source": [
    "watcher"
   ]
  },
  {
   "cell_type": "code",
   "execution_count": null,
   "id": "9c67e02a-8eb3-49b6-b597-bfc92bdef8f6",
   "metadata": {},
   "outputs": [],
   "source": [
    "new_watcher = replace_substring_in_structure(watcher, \"DAHmO\", \"DAHMO\")\n",
    "print(new_watcher[\"archive\"], new_watcher[\"subarchive\"])"
   ]
  },
  {
   "cell_type": "code",
   "execution_count": null,
   "id": "5323067d-8930-4e5b-ba29-cd548db5505a",
   "metadata": {},
   "outputs": [],
   "source": [
    "save_watcher(new_watcher, juliana.email, new_watcher[\"archive\"], new_watcher[\"subarchive\"])"
   ]
  },
  {
   "cell_type": "code",
   "execution_count": null,
   "id": "9d361857-8eb7-4251-99e2-9cc7b8bcb983",
   "metadata": {},
   "outputs": [],
   "source": [
    "juliana_data = juliana.to_dict()"
   ]
  },
  {
   "cell_type": "code",
   "execution_count": null,
   "id": "0cd895c7-c82f-4954-aef9-21d6269b1e45",
   "metadata": {},
   "outputs": [],
   "source": [
    "new_juliana_data = replace_substring_in_structure(juliana_data, \"DAHmO\", \"DAHMO\")\n",
    "new_juliana_data = replace_substring_in_structure(new_juliana_data, \"DAKrO\", \"DAKIRO\")\n",
    "new_juliana_data"
   ]
  },
  {
   "cell_type": "code",
   "execution_count": null,
   "id": "a9b691d5-2afc-41d2-aca7-f59c082e95ce",
   "metadata": {},
   "outputs": [],
   "source": [
    "save_cached_object(new_juliana_data, f'users/{juliana.email}.json')"
   ]
  },
  {
   "cell_type": "code",
   "execution_count": null,
   "id": "d3dba08b-5460-4133-97be-d5e734a9576c",
   "metadata": {},
   "outputs": [],
   "source": []
  }
 ],
 "metadata": {
  "kernelspec": {
   "display_name": "Python 3 (ipykernel)",
   "language": "python",
   "name": "python3"
  },
  "language_info": {
   "codemirror_mode": {
    "name": "ipython",
    "version": 3
   },
   "file_extension": ".py",
   "mimetype": "text/x-python",
   "name": "python",
   "nbconvert_exporter": "python",
   "pygments_lexer": "ipython3",
   "version": "3.12.9"
  }
 },
 "nbformat": 4,
 "nbformat_minor": 5
}
