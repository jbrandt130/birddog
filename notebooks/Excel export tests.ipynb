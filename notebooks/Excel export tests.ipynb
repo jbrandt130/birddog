{
 "cells": [
  {
   "cell_type": "code",
   "execution_count": 1,
   "id": "5287db05-d039-4f3f-b9de-125f907fc0fb",
   "metadata": {},
   "outputs": [
    {
     "data": {
      "text/plain": [
       "PosixPath('/Users/jbrandt/code/birddog')"
      ]
     },
     "execution_count": 1,
     "metadata": {},
     "output_type": "execute_result"
    }
   ],
   "source": [
    "import os\n",
    "from pathlib import Path\n",
    "# Change cwd to the project root (parent of 'notebooks/')\n",
    "os.chdir(Path.cwd().parent)\n",
    "Path.cwd()"
   ]
  },
  {
   "cell_type": "code",
   "execution_count": 2,
   "id": "50a4842b-59ba-41f5-b2ab-5edec3a8a67b",
   "metadata": {},
   "outputs": [
    {
     "name": "stdout",
     "output_type": "stream",
     "text": [
      "2025-03-31 21:23:45,904 [INFO] Using local folder /Users/jbrandt/code/birddog/.cache for storage.\n"
     ]
    }
   ],
   "source": [
    "import re\n",
    "from birddog.core import Archive, history_url, PageLRU\n",
    "from birddog.excel import export_page"
   ]
  },
  {
   "cell_type": "code",
   "execution_count": 3,
   "id": "4b12eba2-0bf4-4e23-a7f3-1fbb01944350",
   "metadata": {},
   "outputs": [],
   "source": [
    "lru = PageLRU()"
   ]
  },
  {
   "cell_type": "code",
   "execution_count": 4,
   "id": "cdf85fc7",
   "metadata": {},
   "outputs": [
    {
     "name": "stdout",
     "output_type": "stream",
     "text": [
      "2025-03-31 21:23:47,195 [INFO] PageLRU.lookup(('DAZHO', 'D', '', '', '')): miss\n",
      "2025-03-31 21:23:47,621 [INFO] Retrieved from cache: DAZHO-D[2025,01,19,12:47]: page_cache/DAZHO-D/2025,01,19,12:47.json\n",
      "archive,DAZHO-D,2025,01,19,12:47\n",
      "DAZHO-D\n"
     ]
    }
   ],
   "source": [
    "archive = lru.lookup('DAZHO', 'D')\n",
    "print(archive.report)\n",
    "print(archive.name)"
   ]
  },
  {
   "cell_type": "code",
   "execution_count": 5,
   "id": "8f881372-f97e-4588-aa2c-0b770df59a0a",
   "metadata": {},
   "outputs": [
    {
     "name": "stdout",
     "output_type": "stream",
     "text": [
      "2025-03-31 21:23:49,970 [INFO] PageLRU.lookup(('DAZHO', 'D', '115', '', '')): miss\n",
      "2025-03-31 21:23:49,971 [INFO] PageLRU.lookup(('DAZHO', 'D', '', '', '')): hit\n",
      "2025-03-31 21:23:50,428 [INFO] Retrieved from cache: DAZHO-D/115[2025,02,07,15:10]: page_cache/DAZHO-D/115/2025,02,07,15:10.json\n",
      "2025-03-31 21:23:50,429 [INFO] PageLRU.lookup(('DAZHO', 'D', '115', '1', '')): miss\n",
      "2025-03-31 21:23:50,430 [INFO] PageLRU.lookup(('DAZHO', 'D', '115', '', '')): hit\n",
      "2025-03-31 21:23:50,839 [INFO] Retrieved from cache: DAZHO-D/115/1[2025,03,16,20:23]: page_cache/DAZHO-D/115/1/2025,03,16,20:23.json\n",
      "2025-03-31 21:23:50,839 [INFO] PageLRU.lookup(('DAZHO', 'D', '115', '1', '2')): miss\n",
      "2025-03-31 21:23:50,840 [INFO] PageLRU.lookup(('DAZHO', 'D', '115', '1', '')): hit\n",
      "2025-03-31 21:23:51,258 [INFO] Retrieved from cache: DAZHO-D/115/1/2[2025,03,14,09:29]: page_cache/DAZHO-D/115/1/2/2025,03,14,09:29.json\n"
     ]
    },
    {
     "data": {
      "text/plain": [
       "'DAZHO-D/115/1/2'"
      ]
     },
     "execution_count": 5,
     "metadata": {},
     "output_type": "execute_result"
    }
   ],
   "source": [
    "fond = lru.lookup_child(archive, '115')\n",
    "opus = lru.lookup_child(fond, '1')\n",
    "case = lru.lookup_child(opus, '2')\n",
    "case.name\n",
    "#opus.child_ids"
   ]
  },
  {
   "cell_type": "code",
   "execution_count": 6,
   "id": "4260689f-7729-49e6-bd9d-52a3629c6fe0",
   "metadata": {},
   "outputs": [
    {
     "data": {
      "text/plain": [
       "'https://uk.wikisource.org/wiki/%D0%A4%D0%B0%D0%B9%D0%BB:%D0%94%D0%90%D0%96%D0%9E_115-1-2._1861-1862._%D0%9F%D1%80%D0%BE_%D1%81%D0%BA%D0%BB%D0%B0%D0%B4%D0%B5%D0%BD%D0%BD%D1%8F_%D0%BF%D0%BE%D0%BB%D0%BE%D0%B6%D0%B5%D0%BD%D0%BD%D1%8F_%D0%BF%D1%80%D0%BE_%D1%81%D0%B5%D0%B7%D0%BE%D0%BD%D0%BD%D1%96_%D1%81%D0%B5%D0%BB%D1%8F%D0%BD%D1%81%D1%8C%D0%BA%D1%96_%D1%80%D0%BE%D0%B1%D0%BE%D1%82%D0%B8_%D0%B2_%D0%92%D0%BE%D0%BB%D0%B8%D0%BD%D1%81%D1%8C%D0%BA%D1%96%D0%B9_%D0%B3%D1%83%D0%B1%D0%B5%D1%80%D0%BD%D1%96%D1%97.pdf'"
      ]
     },
     "execution_count": 6,
     "metadata": {},
     "output_type": "execute_result"
    }
   ],
   "source": [
    "case.doc_url"
   ]
  },
  {
   "cell_type": "code",
   "execution_count": 7,
   "id": "3408b154-2006-4c82-a1d8-d31593a79a1f",
   "metadata": {},
   "outputs": [
    {
     "data": {
      "text/plain": [
       "'https://uk.wikisource.org//upload.wikimedia.org/wikipedia/commons/thumb/0/01/%D0%94%D0%90%D0%96%D0%9E_115-1-2._1861-1862._%D0%9F%D1%80%D0%BE_%D1%81%D0%BA%D0%BB%D0%B0%D0%B4%D0%B5%D0%BD%D0%BD%D1%8F_%D0%BF%D0%BE%D0%BB%D0%BE%D0%B6%D0%B5%D0%BD%D0%BD%D1%8F_%D0%BF%D1%80%D0%BE_%D1%81%D0%B5%D0%B7%D0%BE%D0%BD%D0%BD%D1%96_%D1%81%D0%B5%D0%BB%D1%8F%D0%BD%D1%81%D1%8C%D0%BA%D1%96_%D1%80%D0%BE%D0%B1%D0%BE%D1%82%D0%B8_%D0%B2_%D0%92%D0%BE%D0%BB%D0%B8%D0%BD%D1%81%D1%8C%D0%BA%D1%96%D0%B9_%D0%B3%D1%83%D0%B1%D0%B5%D1%80%D0%BD%D1%96%D1%97.pdf/page1-220px-thumbnail.pdf.jpg'"
      ]
     },
     "execution_count": 7,
     "metadata": {},
     "output_type": "execute_result"
    }
   ],
   "source": [
    "case.thumb_url"
   ]
  },
  {
   "cell_type": "code",
   "execution_count": null,
   "id": "8a6a86d6-6eea-4465-adf5-491503a35c0e",
   "metadata": {},
   "outputs": [],
   "source": [
    "print(opus.name)\n",
    "export_page(opus, 'var/dazho_115_1.xlsx', lru)"
   ]
  },
  {
   "cell_type": "code",
   "execution_count": 12,
   "id": "704ab687-6619-4c15-8883-3cc92b66b288",
   "metadata": {},
   "outputs": [
    {
     "name": "stdout",
     "output_type": "stream",
     "text": [
      "2025-03-31 21:27:48,287 [INFO] PageLRU.lookup(('DAZHO', 'D', '1', '74', '')): hit\n",
      "2025-03-31 21:27:48,289 [INFO] opening template file /Users/jbrandt/code/birddog/resources/xlsx_templates/opus.xlsx...\n",
      "2025-03-31 21:27:48,403 [INFO] PageLRU.lookup(('DAZHO', 'D', '1', '74', '1')): hit\n",
      "2025-03-31 21:27:48,404 [INFO] PageLRU.lookup(('DAZHO', 'D', '1', '74', '2')): hit\n",
      "2025-03-31 21:27:48,404 [INFO] PageLRU.lookup(('DAZHO', 'D', '1', '74', '3')): hit\n",
      "2025-03-31 21:27:48,405 [INFO] PageLRU.lookup(('DAZHO', 'D', '1', '74', '4')): hit\n",
      "2025-03-31 21:27:48,405 [INFO] PageLRU.lookup(('DAZHO', 'D', '1', '74', '5')): hit\n",
      "2025-03-31 21:27:48,406 [INFO] PageLRU.lookup(('DAZHO', 'D', '1', '74', '6')): hit\n",
      "2025-03-31 21:27:48,406 [INFO] PageLRU.lookup(('DAZHO', 'D', '1', '74', '7')): hit\n",
      "2025-03-31 21:27:48,407 [INFO] PageLRU.lookup(('DAZHO', 'D', '1', '74', '8')): hit\n",
      "2025-03-31 21:27:48,407 [INFO] PageLRU.lookup(('DAZHO', 'D', '1', '74', '9')): hit\n",
      "2025-03-31 21:27:48,408 [INFO] PageLRU.lookup(('DAZHO', 'D', '1', '74', '10')): hit\n",
      "2025-03-31 21:27:48,408 [INFO] PageLRU.lookup(('DAZHO', 'D', '1', '74', '11')): hit\n",
      "2025-03-31 21:27:48,408 [INFO] PageLRU.lookup(('DAZHO', 'D', '1', '74', '13')): hit\n",
      "2025-03-31 21:27:48,409 [INFO] PageLRU.lookup(('DAZHO', 'D', '1', '74', '14')): hit\n",
      "2025-03-31 21:27:48,410 [INFO] PageLRU.lookup(('DAZHO', 'D', '1', '74', '18')): hit\n",
      "2025-03-31 21:27:48,410 [INFO] PageLRU.lookup(('DAZHO', 'D', '1', '74', '19')): hit\n",
      "2025-03-31 21:27:48,411 [INFO] PageLRU.lookup(('DAZHO', 'D', '1', '74', '23')): hit\n",
      "2025-03-31 21:27:48,412 [INFO] PageLRU.lookup(('DAZHO', 'D', '1', '74', '26')): hit\n",
      "2025-03-31 21:27:48,412 [INFO] PageLRU.lookup(('DAZHO', 'D', '1', '74', '27')): hit\n",
      "2025-03-31 21:27:48,412 [INFO] PageLRU.lookup(('DAZHO', 'D', '1', '74', '28')): hit\n",
      "2025-03-31 21:27:48,413 [INFO] PageLRU.lookup(('DAZHO', 'D', '1', '74', '29')): hit\n",
      "2025-03-31 21:27:48,413 [INFO] PageLRU.lookup(('DAZHO', 'D', '1', '74', '30')): hit\n",
      "2025-03-31 21:27:48,414 [INFO] PageLRU.lookup(('DAZHO', 'D', '1', '74', '31')): hit\n",
      "2025-03-31 21:27:48,414 [INFO] PageLRU.lookup(('DAZHO', 'D', '1', '74', '32')): hit\n",
      "2025-03-31 21:27:48,414 [INFO] PageLRU.lookup(('DAZHO', 'D', '1', '74', '33')): hit\n",
      "2025-03-31 21:27:48,415 [INFO] PageLRU.lookup(('DAZHO', 'D', '1', '74', '34')): hit\n",
      "2025-03-31 21:27:48,415 [INFO] PageLRU.lookup(('DAZHO', 'D', '1', '74', '35')): hit\n",
      "2025-03-31 21:27:48,415 [INFO] PageLRU.lookup(('DAZHO', 'D', '1', '74', '36')): hit\n",
      "2025-03-31 21:27:48,416 [INFO] PageLRU.lookup(('DAZHO', 'D', '1', '74', '37')): hit\n",
      "2025-03-31 21:27:48,416 [INFO] PageLRU.lookup(('DAZHO', 'D', '1', '74', '38')): hit\n",
      "2025-03-31 21:27:48,417 [INFO] PageLRU.lookup(('DAZHO', 'D', '1', '74', '39')): hit\n",
      "2025-03-31 21:27:48,417 [INFO] PageLRU.lookup(('DAZHO', 'D', '1', '74', '40')): hit\n",
      "2025-03-31 21:27:48,417 [INFO] PageLRU.lookup(('DAZHO', 'D', '1', '74', '41')): hit\n",
      "2025-03-31 21:27:48,418 [INFO] PageLRU.lookup(('DAZHO', 'D', '1', '74', '42')): hit\n",
      "2025-03-31 21:27:48,418 [INFO] PageLRU.lookup(('DAZHO', 'D', '1', '74', '43')): hit\n",
      "2025-03-31 21:27:48,418 [INFO] PageLRU.lookup(('DAZHO', 'D', '1', '74', '44')): hit\n",
      "2025-03-31 21:27:48,419 [INFO] PageLRU.lookup(('DAZHO', 'D', '1', '74', '45')): hit\n",
      "2025-03-31 21:27:48,419 [INFO] PageLRU.lookup(('DAZHO', 'D', '1', '74', '46')): hit\n",
      "2025-03-31 21:27:48,420 [INFO] PageLRU.lookup(('DAZHO', 'D', '1', '74', '47')): hit\n",
      "2025-03-31 21:27:48,420 [INFO] PageLRU.lookup(('DAZHO', 'D', '1', '74', '48')): hit\n",
      "2025-03-31 21:27:48,421 [INFO] PageLRU.lookup(('DAZHO', 'D', '1', '74', '49')): hit\n",
      "2025-03-31 21:27:48,421 [INFO] PageLRU.lookup(('DAZHO', 'D', '1', '74', '50')): hit\n",
      "2025-03-31 21:27:48,422 [INFO] PageLRU.lookup(('DAZHO', 'D', '1', '74', '52')): hit\n",
      "2025-03-31 21:27:48,422 [INFO] PageLRU.lookup(('DAZHO', 'D', '1', '74', '53')): hit\n",
      "2025-03-31 21:27:48,423 [INFO] PageLRU.lookup(('DAZHO', 'D', '1', '74', '55')): hit\n",
      "2025-03-31 21:27:48,423 [INFO] PageLRU.lookup(('DAZHO', 'D', '1', '74', '56')): hit\n",
      "2025-03-31 21:27:48,423 [INFO] PageLRU.lookup(('DAZHO', 'D', '1', '74', '57')): hit\n",
      "2025-03-31 21:27:48,424 [INFO] PageLRU.lookup(('DAZHO', 'D', '1', '74', '58')): hit\n",
      "2025-03-31 21:27:48,424 [INFO] PageLRU.lookup(('DAZHO', 'D', '1', '74', '59')): hit\n",
      "2025-03-31 21:27:48,425 [INFO] PageLRU.lookup(('DAZHO', 'D', '1', '74', '60')): hit\n",
      "2025-03-31 21:27:48,425 [INFO] PageLRU.lookup(('DAZHO', 'D', '1', '74', '61')): hit\n",
      "2025-03-31 21:27:48,425 [INFO] PageLRU.lookup(('DAZHO', 'D', '1', '74', '62')): hit\n",
      "2025-03-31 21:27:48,426 [INFO] PageLRU.lookup(('DAZHO', 'D', '1', '74', '63')): hit\n",
      "2025-03-31 21:27:48,426 [INFO] PageLRU.lookup(('DAZHO', 'D', '1', '74', '64')): hit\n",
      "2025-03-31 21:27:48,426 [INFO] PageLRU.lookup(('DAZHO', 'D', '1', '74', '65')): hit\n",
      "2025-03-31 21:27:48,427 [INFO] PageLRU.lookup(('DAZHO', 'D', '1', '74', '66')): hit\n",
      "2025-03-31 21:27:48,427 [INFO] PageLRU.lookup(('DAZHO', 'D', '1', '74', '67')): hit\n",
      "2025-03-31 21:27:48,427 [INFO] PageLRU.lookup(('DAZHO', 'D', '1', '74', '68')): hit\n",
      "2025-03-31 21:27:48,428 [INFO] PageLRU.lookup(('DAZHO', 'D', '1', '74', '70')): hit\n",
      "2025-03-31 21:27:48,428 [INFO] PageLRU.lookup(('DAZHO', 'D', '1', '74', '71')): hit\n",
      "2025-03-31 21:27:48,429 [INFO] PageLRU.lookup(('DAZHO', 'D', '1', '74', '72')): hit\n",
      "2025-03-31 21:27:48,429 [INFO] PageLRU.lookup(('DAZHO', 'D', '1', '74', '73')): hit\n",
      "2025-03-31 21:27:48,430 [INFO] PageLRU.lookup(('DAZHO', 'D', '1', '74', '80')): hit\n",
      "2025-03-31 21:27:48,431 [INFO] PageLRU.lookup(('DAZHO', 'D', '1', '74', '82')): hit\n",
      "2025-03-31 21:27:48,431 [INFO] PageLRU.lookup(('DAZHO', 'D', '1', '74', '83')): hit\n",
      "2025-03-31 21:27:48,432 [INFO] PageLRU.lookup(('DAZHO', 'D', '1', '74', '84')): hit\n",
      "2025-03-31 21:27:48,432 [INFO] PageLRU.lookup(('DAZHO', 'D', '1', '74', '87')): hit\n",
      "2025-03-31 21:27:48,433 [INFO] PageLRU.lookup(('DAZHO', 'D', '1', '74', '90')): hit\n",
      "2025-03-31 21:27:48,434 [INFO] PageLRU.lookup(('DAZHO', 'D', '1', '74', '90а')): hit\n",
      "2025-03-31 21:27:48,434 [INFO] PageLRU.lookup(('DAZHO', 'D', '1', '74', '92')): hit\n",
      "2025-03-31 21:27:48,435 [INFO] PageLRU.lookup(('DAZHO', 'D', '1', '74', '93')): hit\n",
      "2025-03-31 21:27:48,435 [INFO] PageLRU.lookup(('DAZHO', 'D', '1', '74', '94')): hit\n",
      "2025-03-31 21:27:48,435 [INFO] PageLRU.lookup(('DAZHO', 'D', '1', '74', '95')): hit\n",
      "2025-03-31 21:27:48,436 [INFO] PageLRU.lookup(('DAZHO', 'D', '1', '74', '98')): hit\n",
      "2025-03-31 21:27:48,437 [INFO] PageLRU.lookup(('DAZHO', 'D', '1', '74', '99')): hit\n",
      "2025-03-31 21:27:48,438 [INFO] PageLRU.lookup(('DAZHO', 'D', '1', '74', '103')): hit\n",
      "2025-03-31 21:27:48,438 [INFO] PageLRU.lookup(('DAZHO', 'D', '1', '74', '104')): hit\n",
      "2025-03-31 21:27:48,439 [INFO] PageLRU.lookup(('DAZHO', 'D', '1', '74', '107')): hit\n",
      "2025-03-31 21:27:48,440 [INFO] PageLRU.lookup(('DAZHO', 'D', '1', '74', '109')): hit\n",
      "2025-03-31 21:27:48,440 [INFO] PageLRU.lookup(('DAZHO', 'D', '1', '74', '110')): hit\n",
      "2025-03-31 21:27:48,441 [INFO] PageLRU.lookup(('DAZHO', 'D', '1', '74', '114')): hit\n",
      "2025-03-31 21:27:48,441 [INFO] PageLRU.lookup(('DAZHO', 'D', '1', '74', '115')): hit\n",
      "2025-03-31 21:27:48,442 [INFO] PageLRU.lookup(('DAZHO', 'D', '1', '74', '116')): hit\n",
      "2025-03-31 21:27:48,442 [INFO] PageLRU.lookup(('DAZHO', 'D', '1', '74', '117')): hit\n",
      "2025-03-31 21:27:48,442 [INFO] PageLRU.lookup(('DAZHO', 'D', '1', '74', '118')): hit\n",
      "2025-03-31 21:27:48,443 [INFO] PageLRU.lookup(('DAZHO', 'D', '1', '74', '119')): hit\n",
      "2025-03-31 21:27:48,443 [INFO] PageLRU.lookup(('DAZHO', 'D', '1', '74', '120')): hit\n",
      "2025-03-31 21:27:48,443 [INFO] PageLRU.lookup(('DAZHO', 'D', '1', '74', '121')): hit\n",
      "2025-03-31 21:27:48,444 [INFO] PageLRU.lookup(('DAZHO', 'D', '1', '74', '124')): hit\n",
      "2025-03-31 21:27:48,445 [INFO] PageLRU.lookup(('DAZHO', 'D', '1', '74', '125')): hit\n",
      "2025-03-31 21:27:48,445 [INFO] PageLRU.lookup(('DAZHO', 'D', '1', '74', '127')): hit\n",
      "2025-03-31 21:27:48,446 [INFO] PageLRU.lookup(('DAZHO', 'D', '1', '74', '128')): hit\n",
      "2025-03-31 21:27:48,447 [INFO] PageLRU.lookup(('DAZHO', 'D', '1', '74', '134')): hit\n",
      "2025-03-31 21:27:48,448 [INFO] PageLRU.lookup(('DAZHO', 'D', '1', '74', '136')): hit\n",
      "2025-03-31 21:27:48,449 [INFO] PageLRU.lookup(('DAZHO', 'D', '1', '74', '141')): hit\n",
      "2025-03-31 21:27:48,450 [INFO] PageLRU.lookup(('DAZHO', 'D', '1', '74', '144')): hit\n",
      "2025-03-31 21:27:48,450 [INFO] PageLRU.lookup(('DAZHO', 'D', '1', '74', '145')): hit\n",
      "2025-03-31 21:27:48,451 [INFO] PageLRU.lookup(('DAZHO', 'D', '1', '74', '149')): hit\n",
      "2025-03-31 21:27:48,452 [INFO] PageLRU.lookup(('DAZHO', 'D', '1', '74', '151')): hit\n",
      "2025-03-31 21:27:48,453 [INFO] PageLRU.lookup(('DAZHO', 'D', '1', '74', '155')): hit\n",
      "2025-03-31 21:27:48,453 [INFO] PageLRU.lookup(('DAZHO', 'D', '1', '74', '157')): hit\n",
      "2025-03-31 21:27:48,454 [INFO] PageLRU.lookup(('DAZHO', 'D', '1', '74', '159')): hit\n",
      "2025-03-31 21:27:48,454 [INFO] PageLRU.lookup(('DAZHO', 'D', '1', '74', '161')): hit\n",
      "2025-03-31 21:27:48,455 [INFO] PageLRU.lookup(('DAZHO', 'D', '1', '74', '162')): hit\n",
      "2025-03-31 21:27:48,455 [INFO] PageLRU.lookup(('DAZHO', 'D', '1', '74', '163')): hit\n",
      "2025-03-31 21:27:48,456 [INFO] PageLRU.lookup(('DAZHO', 'D', '1', '74', '166')): hit\n",
      "2025-03-31 21:27:48,457 [INFO] PageLRU.lookup(('DAZHO', 'D', '1', '74', '169')): hit\n",
      "2025-03-31 21:27:48,457 [INFO] PageLRU.lookup(('DAZHO', 'D', '1', '74', '170')): hit\n",
      "2025-03-31 21:27:48,457 [INFO] PageLRU.lookup(('DAZHO', 'D', '1', '74', '171')): hit\n",
      "2025-03-31 21:27:48,458 [INFO] PageLRU.lookup(('DAZHO', 'D', '1', '74', '172')): hit\n",
      "2025-03-31 21:27:48,458 [INFO] PageLRU.lookup(('DAZHO', 'D', '1', '74', '173')): hit\n",
      "2025-03-31 21:27:48,459 [INFO] PageLRU.lookup(('DAZHO', 'D', '1', '74', '174')): hit\n",
      "2025-03-31 21:27:48,459 [INFO] PageLRU.lookup(('DAZHO', 'D', '1', '74', '175')): hit\n",
      "2025-03-31 21:27:48,459 [INFO] PageLRU.lookup(('DAZHO', 'D', '1', '74', '176')): hit\n",
      "2025-03-31 21:27:48,460 [INFO] PageLRU.lookup(('DAZHO', 'D', '1', '74', '177')): hit\n",
      "2025-03-31 21:27:48,460 [INFO] PageLRU.lookup(('DAZHO', 'D', '1', '74', '178')): hit\n",
      "2025-03-31 21:27:48,461 [INFO] PageLRU.lookup(('DAZHO', 'D', '1', '74', '179')): hit\n",
      "2025-03-31 21:27:48,461 [INFO] PageLRU.lookup(('DAZHO', 'D', '1', '74', '180')): hit\n",
      "2025-03-31 21:27:48,461 [INFO] PageLRU.lookup(('DAZHO', 'D', '1', '74', '181')): hit\n",
      "2025-03-31 21:27:48,462 [INFO] PageLRU.lookup(('DAZHO', 'D', '1', '74', '182')): hit\n",
      "2025-03-31 21:27:48,462 [INFO] PageLRU.lookup(('DAZHO', 'D', '1', '74', '183')): hit\n",
      "2025-03-31 21:27:48,463 [INFO] PageLRU.lookup(('DAZHO', 'D', '1', '74', '184')): hit\n",
      "2025-03-31 21:27:48,463 [INFO] PageLRU.lookup(('DAZHO', 'D', '1', '74', '185')): hit\n",
      "2025-03-31 21:27:48,464 [INFO] PageLRU.lookup(('DAZHO', 'D', '1', '74', '186')): hit\n",
      "2025-03-31 21:27:48,464 [INFO] PageLRU.lookup(('DAZHO', 'D', '1', '74', '187')): hit\n",
      "2025-03-31 21:27:48,464 [INFO] PageLRU.lookup(('DAZHO', 'D', '1', '74', '188')): hit\n",
      "2025-03-31 21:27:48,465 [INFO] PageLRU.lookup(('DAZHO', 'D', '1', '74', '189')): hit\n",
      "2025-03-31 21:27:48,465 [INFO] PageLRU.lookup(('DAZHO', 'D', '1', '74', '190')): hit\n",
      "2025-03-31 21:27:48,466 [INFO] PageLRU.lookup(('DAZHO', 'D', '1', '74', '192')): hit\n",
      "2025-03-31 21:27:48,466 [INFO] PageLRU.lookup(('DAZHO', 'D', '1', '74', '193')): hit\n",
      "2025-03-31 21:27:48,466 [INFO] PageLRU.lookup(('DAZHO', 'D', '1', '74', '194')): hit\n",
      "2025-03-31 21:27:48,467 [INFO] PageLRU.lookup(('DAZHO', 'D', '1', '74', '195')): hit\n",
      "2025-03-31 21:27:48,468 [INFO] PageLRU.lookup(('DAZHO', 'D', '1', '74', '196')): hit\n",
      "2025-03-31 21:27:48,468 [INFO] PageLRU.lookup(('DAZHO', 'D', '1', '74', '197')): hit\n",
      "2025-03-31 21:27:48,468 [INFO] PageLRU.lookup(('DAZHO', 'D', '1', '74', '198')): hit\n",
      "2025-03-31 21:27:48,469 [INFO] PageLRU.lookup(('DAZHO', 'D', '1', '74', '199')): hit\n",
      "2025-03-31 21:27:48,469 [INFO] PageLRU.lookup(('DAZHO', 'D', '1', '74', '200')): hit\n",
      "2025-03-31 21:27:48,470 [INFO] PageLRU.lookup(('DAZHO', 'D', '1', '74', '201')): hit\n",
      "2025-03-31 21:27:48,470 [INFO] PageLRU.lookup(('DAZHO', 'D', '1', '74', '202')): hit\n",
      "2025-03-31 21:27:48,471 [INFO] PageLRU.lookup(('DAZHO', 'D', '1', '74', '203')): hit\n",
      "2025-03-31 21:27:48,471 [INFO] PageLRU.lookup(('DAZHO', 'D', '1', '74', '204')): hit\n",
      "2025-03-31 21:27:48,472 [INFO] PageLRU.lookup(('DAZHO', 'D', '1', '74', '205')): hit\n",
      "2025-03-31 21:27:48,472 [INFO] PageLRU.lookup(('DAZHO', 'D', '1', '74', '206')): hit\n",
      "2025-03-31 21:27:48,473 [INFO] PageLRU.lookup(('DAZHO', 'D', '1', '74', '207')): hit\n",
      "2025-03-31 21:27:48,474 [INFO] PageLRU.lookup(('DAZHO', 'D', '1', '74', '211')): hit\n",
      "2025-03-31 21:27:48,474 [INFO] PageLRU.lookup(('DAZHO', 'D', '1', '74', '212')): hit\n",
      "2025-03-31 21:27:48,475 [INFO] PageLRU.lookup(('DAZHO', 'D', '1', '74', '214')): hit\n",
      "2025-03-31 21:27:48,475 [INFO] PageLRU.lookup(('DAZHO', 'D', '1', '74', '215')): hit\n",
      "2025-03-31 21:27:48,475 [INFO] PageLRU.lookup(('DAZHO', 'D', '1', '74', '216')): hit\n",
      "2025-03-31 21:27:48,476 [INFO] PageLRU.lookup(('DAZHO', 'D', '1', '74', '217')): hit\n",
      "2025-03-31 21:27:48,476 [INFO] PageLRU.lookup(('DAZHO', 'D', '1', '74', '218')): hit\n",
      "2025-03-31 21:27:48,476 [INFO] PageLRU.lookup(('DAZHO', 'D', '1', '74', '219')): hit\n",
      "2025-03-31 21:27:48,477 [INFO] PageLRU.lookup(('DAZHO', 'D', '1', '74', '222')): hit\n",
      "2025-03-31 21:27:48,478 [INFO] PageLRU.lookup(('DAZHO', 'D', '1', '74', '224')): hit\n",
      "2025-03-31 21:27:48,478 [INFO] PageLRU.lookup(('DAZHO', 'D', '1', '74', '225')): hit\n",
      "2025-03-31 21:27:48,479 [INFO] PageLRU.lookup(('DAZHO', 'D', '1', '74', '228')): hit\n",
      "2025-03-31 21:27:48,479 [INFO] PageLRU.lookup(('DAZHO', 'D', '1', '74', '229')): hit\n",
      "2025-03-31 21:27:48,480 [INFO] PageLRU.lookup(('DAZHO', 'D', '1', '74', '233')): hit\n",
      "2025-03-31 21:27:48,480 [INFO] PageLRU.lookup(('DAZHO', 'D', '1', '74', '234')): hit\n",
      "2025-03-31 21:27:48,481 [INFO] PageLRU.lookup(('DAZHO', 'D', '1', '74', '235')): hit\n",
      "2025-03-31 21:27:48,481 [INFO] PageLRU.lookup(('DAZHO', 'D', '1', '74', '236')): hit\n",
      "2025-03-31 21:27:48,482 [INFO] PageLRU.lookup(('DAZHO', 'D', '1', '74', '241')): hit\n",
      "2025-03-31 21:27:48,483 [INFO] PageLRU.lookup(('DAZHO', 'D', '1', '74', '242')): hit\n",
      "2025-03-31 21:27:48,483 [INFO] PageLRU.lookup(('DAZHO', 'D', '1', '74', '244')): hit\n",
      "2025-03-31 21:27:48,484 [INFO] PageLRU.lookup(('DAZHO', 'D', '1', '74', '246')): hit\n",
      "2025-03-31 21:27:48,484 [INFO] PageLRU.lookup(('DAZHO', 'D', '1', '74', '247')): hit\n",
      "2025-03-31 21:27:48,485 [INFO] PageLRU.lookup(('DAZHO', 'D', '1', '74', '250')): hit\n",
      "2025-03-31 21:27:48,486 [INFO] PageLRU.lookup(('DAZHO', 'D', '1', '74', '252')): hit\n",
      "2025-03-31 21:27:48,487 [INFO] PageLRU.lookup(('DAZHO', 'D', '1', '74', '255')): hit\n",
      "2025-03-31 21:27:48,487 [INFO] PageLRU.lookup(('DAZHO', 'D', '1', '74', '256')): hit\n",
      "2025-03-31 21:27:48,488 [INFO] PageLRU.lookup(('DAZHO', 'D', '1', '74', '257')): hit\n",
      "2025-03-31 21:27:48,488 [INFO] PageLRU.lookup(('DAZHO', 'D', '1', '74', '258')): hit\n",
      "2025-03-31 21:27:48,488 [INFO] PageLRU.lookup(('DAZHO', 'D', '1', '74', '259')): hit\n",
      "2025-03-31 21:27:48,489 [INFO] PageLRU.lookup(('DAZHO', 'D', '1', '74', '260')): hit\n",
      "2025-03-31 21:27:48,489 [INFO] PageLRU.lookup(('DAZHO', 'D', '1', '74', '261')): hit\n",
      "2025-03-31 21:27:48,490 [INFO] PageLRU.lookup(('DAZHO', 'D', '1', '74', '263')): hit\n",
      "2025-03-31 21:27:48,490 [INFO] PageLRU.lookup(('DAZHO', 'D', '1', '74', '265')): hit\n",
      "2025-03-31 21:27:48,491 [INFO] PageLRU.lookup(('DAZHO', 'D', '1', '74', '267')): hit\n",
      "2025-03-31 21:27:48,492 [INFO] PageLRU.lookup(('DAZHO', 'D', '1', '74', '271')): hit\n",
      "2025-03-31 21:27:48,492 [INFO] PageLRU.lookup(('DAZHO', 'D', '1', '74', '272')): hit\n",
      "2025-03-31 21:27:48,493 [INFO] PageLRU.lookup(('DAZHO', 'D', '1', '74', '274')): hit\n",
      "2025-03-31 21:27:48,493 [INFO] PageLRU.lookup(('DAZHO', 'D', '1', '74', '275')): hit\n",
      "2025-03-31 21:27:48,493 [INFO] PageLRU.lookup(('DAZHO', 'D', '1', '74', '276')): hit\n",
      "2025-03-31 21:27:48,494 [INFO] PageLRU.lookup(('DAZHO', 'D', '1', '74', '281')): hit\n",
      "2025-03-31 21:27:48,495 [INFO] PageLRU.lookup(('DAZHO', 'D', '1', '74', '283')): hit\n",
      "2025-03-31 21:27:48,495 [INFO] PageLRU.lookup(('DAZHO', 'D', '1', '74', '284')): hit\n",
      "2025-03-31 21:27:48,496 [INFO] PageLRU.lookup(('DAZHO', 'D', '1', '74', '285')): hit\n",
      "2025-03-31 21:27:48,496 [INFO] PageLRU.lookup(('DAZHO', 'D', '1', '74', '286')): hit\n",
      "2025-03-31 21:27:48,496 [INFO] PageLRU.lookup(('DAZHO', 'D', '1', '74', '287')): hit\n",
      "2025-03-31 21:27:48,497 [INFO] PageLRU.lookup(('DAZHO', 'D', '1', '74', '288')): hit\n",
      "2025-03-31 21:27:48,497 [INFO] PageLRU.lookup(('DAZHO', 'D', '1', '74', '289')): hit\n",
      "2025-03-31 21:27:48,498 [INFO] PageLRU.lookup(('DAZHO', 'D', '1', '74', '290')): hit\n",
      "2025-03-31 21:27:48,498 [INFO] PageLRU.lookup(('DAZHO', 'D', '1', '74', '291')): hit\n",
      "2025-03-31 21:27:48,498 [INFO] PageLRU.lookup(('DAZHO', 'D', '1', '74', '292')): hit\n",
      "2025-03-31 21:27:48,499 [INFO] PageLRU.lookup(('DAZHO', 'D', '1', '74', '293')): hit\n",
      "2025-03-31 21:27:48,499 [INFO] PageLRU.lookup(('DAZHO', 'D', '1', '74', '294')): hit\n",
      "2025-03-31 21:27:48,500 [INFO] PageLRU.lookup(('DAZHO', 'D', '1', '74', '296')): hit\n",
      "2025-03-31 21:27:48,500 [INFO] PageLRU.lookup(('DAZHO', 'D', '1', '74', '297')): hit\n",
      "2025-03-31 21:27:48,500 [INFO] PageLRU.lookup(('DAZHO', 'D', '1', '74', '298')): hit\n",
      "2025-03-31 21:27:48,501 [INFO] PageLRU.lookup(('DAZHO', 'D', '1', '74', '299')): hit\n",
      "2025-03-31 21:27:48,501 [INFO] PageLRU.lookup(('DAZHO', 'D', '1', '74', '300')): hit\n",
      "2025-03-31 21:27:48,502 [INFO] PageLRU.lookup(('DAZHO', 'D', '1', '74', '301')): hit\n",
      "2025-03-31 21:27:48,502 [INFO] PageLRU.lookup(('DAZHO', 'D', '1', '74', '302')): hit\n",
      "2025-03-31 21:27:48,502 [INFO] PageLRU.lookup(('DAZHO', 'D', '1', '74', '303')): hit\n",
      "2025-03-31 21:27:48,503 [INFO] PageLRU.lookup(('DAZHO', 'D', '1', '74', '304')): hit\n",
      "2025-03-31 21:27:48,503 [INFO] PageLRU.lookup(('DAZHO', 'D', '1', '74', '305')): hit\n",
      "2025-03-31 21:27:48,504 [INFO] PageLRU.lookup(('DAZHO', 'D', '1', '74', '306')): hit\n",
      "2025-03-31 21:27:48,504 [INFO] PageLRU.lookup(('DAZHO', 'D', '1', '74', '307')): hit\n",
      "2025-03-31 21:27:48,504 [INFO] PageLRU.lookup(('DAZHO', 'D', '1', '74', '308')): hit\n",
      "2025-03-31 21:27:48,505 [INFO] PageLRU.lookup(('DAZHO', 'D', '1', '74', '309')): hit\n",
      "2025-03-31 21:27:48,505 [INFO] PageLRU.lookup(('DAZHO', 'D', '1', '74', '311')): hit\n",
      "2025-03-31 21:27:48,506 [INFO] PageLRU.lookup(('DAZHO', 'D', '1', '74', '312')): hit\n",
      "2025-03-31 21:27:48,506 [INFO] PageLRU.lookup(('DAZHO', 'D', '1', '74', '313')): hit\n",
      "2025-03-31 21:27:48,507 [INFO] PageLRU.lookup(('DAZHO', 'D', '1', '74', '314')): hit\n",
      "2025-03-31 21:27:48,507 [INFO] PageLRU.lookup(('DAZHO', 'D', '1', '74', '315')): hit\n",
      "2025-03-31 21:27:48,507 [INFO] PageLRU.lookup(('DAZHO', 'D', '1', '74', '316')): hit\n",
      "2025-03-31 21:27:48,508 [INFO] PageLRU.lookup(('DAZHO', 'D', '1', '74', '317')): hit\n",
      "2025-03-31 21:27:48,508 [INFO] PageLRU.lookup(('DAZHO', 'D', '1', '74', '318')): hit\n",
      "2025-03-31 21:27:48,508 [INFO] PageLRU.lookup(('DAZHO', 'D', '1', '74', '319')): hit\n",
      "2025-03-31 21:27:48,509 [INFO] PageLRU.lookup(('DAZHO', 'D', '1', '74', '320')): hit\n",
      "2025-03-31 21:27:48,509 [INFO] PageLRU.lookup(('DAZHO', 'D', '1', '74', '321')): hit\n",
      "2025-03-31 21:27:48,509 [INFO] PageLRU.lookup(('DAZHO', 'D', '1', '74', '322')): hit\n",
      "2025-03-31 21:27:48,510 [INFO] PageLRU.lookup(('DAZHO', 'D', '1', '74', '323')): hit\n",
      "2025-03-31 21:27:48,510 [INFO] PageLRU.lookup(('DAZHO', 'D', '1', '74', '324')): hit\n",
      "2025-03-31 21:27:48,511 [INFO] PageLRU.lookup(('DAZHO', 'D', '1', '74', '325')): hit\n",
      "2025-03-31 21:27:48,511 [INFO] PageLRU.lookup(('DAZHO', 'D', '1', '74', '326')): hit\n",
      "2025-03-31 21:27:48,511 [INFO] PageLRU.lookup(('DAZHO', 'D', '1', '74', '328')): hit\n",
      "2025-03-31 21:27:48,512 [INFO] PageLRU.lookup(('DAZHO', 'D', '1', '74', '329')): hit\n",
      "2025-03-31 21:27:48,512 [INFO] PageLRU.lookup(('DAZHO', 'D', '1', '74', '331')): hit\n",
      "2025-03-31 21:27:48,513 [INFO] PageLRU.lookup(('DAZHO', 'D', '1', '74', '332')): hit\n",
      "2025-03-31 21:27:48,513 [INFO] PageLRU.lookup(('DAZHO', 'D', '1', '74', '333')): hit\n",
      "2025-03-31 21:27:48,514 [INFO] PageLRU.lookup(('DAZHO', 'D', '1', '74', '334')): hit\n",
      "2025-03-31 21:27:48,514 [INFO] PageLRU.lookup(('DAZHO', 'D', '1', '74', '335')): hit\n",
      "2025-03-31 21:27:48,515 [INFO] PageLRU.lookup(('DAZHO', 'D', '1', '74', '339')): hit\n",
      "2025-03-31 21:27:48,515 [INFO] PageLRU.lookup(('DAZHO', 'D', '1', '74', '340')): hit\n",
      "2025-03-31 21:27:48,516 [INFO] PageLRU.lookup(('DAZHO', 'D', '1', '74', '344')): hit\n",
      "2025-03-31 21:27:48,516 [INFO] PageLRU.lookup(('DAZHO', 'D', '1', '74', '345')): hit\n",
      "2025-03-31 21:27:48,517 [INFO] PageLRU.lookup(('DAZHO', 'D', '1', '74', '346')): hit\n",
      "2025-03-31 21:27:48,517 [INFO] PageLRU.lookup(('DAZHO', 'D', '1', '74', '347')): hit\n",
      "2025-03-31 21:27:48,518 [INFO] PageLRU.lookup(('DAZHO', 'D', '1', '74', '350')): hit\n",
      "2025-03-31 21:27:48,518 [INFO] PageLRU.lookup(('DAZHO', 'D', '1', '74', '351')): hit\n",
      "2025-03-31 21:27:48,519 [INFO] PageLRU.lookup(('DAZHO', 'D', '1', '74', '352')): hit\n",
      "2025-03-31 21:27:48,519 [INFO] PageLRU.lookup(('DAZHO', 'D', '1', '74', '353')): hit\n",
      "2025-03-31 21:27:48,520 [INFO] PageLRU.lookup(('DAZHO', 'D', '1', '74', '354')): hit\n",
      "2025-03-31 21:27:48,520 [INFO] PageLRU.lookup(('DAZHO', 'D', '1', '74', '355')): hit\n",
      "2025-03-31 21:27:48,521 [INFO] PageLRU.lookup(('DAZHO', 'D', '1', '74', '356')): hit\n",
      "2025-03-31 21:27:48,521 [INFO] PageLRU.lookup(('DAZHO', 'D', '1', '74', '357')): hit\n",
      "2025-03-31 21:27:48,528 [INFO] PageLRU.lookup(('DAZHO', 'D', '1', '74', '397')): hit\n",
      "2025-03-31 21:27:48,529 [INFO] PageLRU.lookup(('DAZHO', 'D', '1', '74', '398')): hit\n",
      "2025-03-31 21:27:48,529 [INFO] PageLRU.lookup(('DAZHO', 'D', '1', '74', '399')): hit\n",
      "2025-03-31 21:27:48,530 [INFO] PageLRU.lookup(('DAZHO', 'D', '1', '74', '406')): hit\n",
      "2025-03-31 21:27:48,531 [INFO] PageLRU.lookup(('DAZHO', 'D', '1', '74', '407')): hit\n",
      "2025-03-31 21:27:48,531 [INFO] PageLRU.lookup(('DAZHO', 'D', '1', '74', '408')): hit\n",
      "2025-03-31 21:27:48,531 [INFO] PageLRU.lookup(('DAZHO', 'D', '1', '74', '409')): hit\n"
     ]
    },
    {
     "data": {
      "text/plain": [
       "<openpyxl.workbook.workbook.Workbook at 0x1148838c0>"
      ]
     },
     "execution_count": 12,
     "metadata": {},
     "output_type": "execute_result"
    }
   ],
   "source": [
    "page = lru.lookup('DAZHO', 'D', '1', '74')\n",
    "export_page(page, f'var/{page.name.replace('/','_')}.xlsx', lru=lru)"
   ]
  },
  {
   "cell_type": "code",
   "execution_count": 9,
   "id": "bc762b0e-521c-48d7-8bf2-14ba9d9cfc2b",
   "metadata": {},
   "outputs": [
    {
     "name": "stdout",
     "output_type": "stream",
     "text": [
      "2025-03-31 21:26:45,124 [INFO] PageLRU.lookup(('DAZHO', 'D', '1', '74', '167')): miss\n",
      "2025-03-31 21:26:45,126 [INFO] PageLRU.lookup(('DAZHO', 'D', '1', '74', '')): hit\n"
     ]
    }
   ],
   "source": [
    "case = lru.lookup_child(page, '167')"
   ]
  },
  {
   "cell_type": "code",
   "execution_count": 10,
   "id": "b9c4577d-e877-4ad7-8318-9ddf27f07085",
   "metadata": {},
   "outputs": [
    {
     "name": "stdout",
     "output_type": "stream",
     "text": [
      "2025-03-31 21:26:50,119 [INFO] PageLRU.lookup(('DAZHO', 'D', '1', '74', '167')): hit\n"
     ]
    }
   ],
   "source": [
    "lru.lookup_child(page, '167').default_url"
   ]
  },
  {
   "cell_type": "code",
   "execution_count": 11,
   "id": "c802648d-af73-42fd-bd2b-6188a96e0dd6",
   "metadata": {},
   "outputs": [
    {
     "data": {
      "text/plain": [
       "'DAZHO-D_1_74'"
      ]
     },
     "execution_count": 11,
     "metadata": {},
     "output_type": "execute_result"
    }
   ],
   "source": [
    "page.name.replace('/','_')"
   ]
  },
  {
   "cell_type": "code",
   "execution_count": null,
   "id": "c37c3d62-3300-4033-9529-34ff70f48445",
   "metadata": {},
   "outputs": [],
   "source": []
  },
  {
   "cell_type": "code",
   "execution_count": null,
   "id": "4198e3af-7266-4f49-b5cb-801a2cf7615a",
   "metadata": {},
   "outputs": [],
   "source": []
  },
  {
   "cell_type": "code",
   "execution_count": null,
   "id": "4e7315fa",
   "metadata": {},
   "outputs": [],
   "source": [
    "archive.history(limit=1)"
   ]
  },
  {
   "cell_type": "code",
   "execution_count": null,
   "id": "e34d53fb",
   "metadata": {},
   "outputs": [],
   "source": [
    "export_page(archive, 'var/dazho.xlsx')"
   ]
  },
  {
   "cell_type": "code",
   "execution_count": null,
   "id": "a0f3237f",
   "metadata": {},
   "outputs": [],
   "source": [
    "fond1 = archive.lookup('1')\n",
    "opus1_74 = fond1.lookup('74')"
   ]
  },
  {
   "cell_type": "code",
   "execution_count": null,
   "id": "0107b27d",
   "metadata": {},
   "outputs": [],
   "source": [
    "fond1.history(limit=1)"
   ]
  },
  {
   "cell_type": "code",
   "execution_count": null,
   "id": "96fb2e95",
   "metadata": {},
   "outputs": [],
   "source": [
    "history_url(fond1)"
   ]
  },
  {
   "cell_type": "code",
   "execution_count": null,
   "id": "1f2057e0",
   "metadata": {},
   "outputs": [],
   "source": [
    "opus1_74.id"
   ]
  },
  {
   "cell_type": "code",
   "execution_count": null,
   "id": "863f28fa",
   "metadata": {},
   "outputs": [],
   "source": [
    "opus1_74.parent.id"
   ]
  },
  {
   "cell_type": "code",
   "execution_count": null,
   "id": "c6a7b5d4",
   "metadata": {},
   "outputs": [],
   "source": [
    "opus1_74.parent.parent.id"
   ]
  },
  {
   "cell_type": "code",
   "execution_count": null,
   "id": "0246e161",
   "metadata": {},
   "outputs": [],
   "source": [
    "archive.description"
   ]
  },
  {
   "cell_type": "code",
   "execution_count": null,
   "id": "abc1568d",
   "metadata": {},
   "outputs": [],
   "source": [
    "opus1_74.description"
   ]
  },
  {
   "cell_type": "code",
   "execution_count": null,
   "id": "ab56f65e",
   "metadata": {},
   "outputs": [],
   "source": [
    "export_page(opus1_74, 'var/opus1_74.xlsx')"
   ]
  },
  {
   "cell_type": "code",
   "execution_count": null,
   "id": "b789f25d",
   "metadata": {},
   "outputs": [],
   "source": [
    "export_page(fond1, 'var/fond1.xlsx')"
   ]
  },
  {
   "cell_type": "code",
   "execution_count": null,
   "id": "99da67da",
   "metadata": {},
   "outputs": [],
   "source": [
    "opus1_74.description"
   ]
  },
  {
   "cell_type": "code",
   "execution_count": null,
   "id": "ecf5d558",
   "metadata": {},
   "outputs": [],
   "source": [
    "from openpyxl import Workbook, load_workbook\n",
    "from copy import copy"
   ]
  },
  {
   "cell_type": "code",
   "execution_count": null,
   "id": "e36e42bc",
   "metadata": {},
   "outputs": [],
   "source": [
    "wb = load_workbook('resources/templates/opus.xlsx')\n",
    "ws = wb.active"
   ]
  },
  {
   "cell_type": "code",
   "execution_count": null,
   "id": "5fc2af84",
   "metadata": {},
   "outputs": [],
   "source": []
  }
 ],
 "metadata": {
  "kernelspec": {
   "display_name": "Python 3 (ipykernel)",
   "language": "python",
   "name": "python3"
  },
  "language_info": {
   "codemirror_mode": {
    "name": "ipython",
    "version": 3
   },
   "file_extension": ".py",
   "mimetype": "text/x-python",
   "name": "python",
   "nbconvert_exporter": "python",
   "pygments_lexer": "ipython3",
   "version": "3.12.9"
  }
 },
 "nbformat": 4,
 "nbformat_minor": 5
}
