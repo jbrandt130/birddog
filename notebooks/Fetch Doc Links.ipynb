{
 "cells": [
  {
   "cell_type": "code",
   "execution_count": 1,
   "id": "190edf0f-8386-415f-babc-854a7c2ca29a",
   "metadata": {},
   "outputs": [
    {
     "data": {
      "text/plain": [
       "PosixPath('/Users/jbrandt/code/birddog')"
      ]
     },
     "execution_count": 1,
     "metadata": {},
     "output_type": "execute_result"
    }
   ],
   "source": [
    "import os\n",
    "from pathlib import Path\n",
    "# Change cwd to the project root (parent of 'notebooks/')\n",
    "os.chdir(Path.cwd().parent)\n",
    "Path.cwd()"
   ]
  },
  {
   "cell_type": "code",
   "execution_count": 2,
   "id": "6fdde274-03c6-4f16-b5b3-e4fa3be3e69e",
   "metadata": {},
   "outputs": [
    {
     "name": "stdout",
     "output_type": "stream",
     "text": [
      "2025-05-11 13:22:40,267 [INFO] Using Google Cloud translation API (credentials file:/Users/jbrandt/code/birddog/google-cloud-translate-key.json)\n"
     ]
    }
   ],
   "source": [
    "#import notebook_utils\n",
    "from birddog.utility import fetch_url\n",
    "from birddog.wiki import batch_fetch_document_links, _wiki_content_url"
   ]
  },
  {
   "cell_type": "code",
   "execution_count": 3,
   "id": "55078800-7963-4bcb-b6f6-309e9935a9c9",
   "metadata": {},
   "outputs": [],
   "source": [
    "titles = [ \"ДАЛуО/Р-303/12/4\" ]"
   ]
  },
  {
   "cell_type": "code",
   "execution_count": 4,
   "id": "20135cd5-4820-45e9-8822-822ba9273ab0",
   "metadata": {},
   "outputs": [
    {
     "name": "stdout",
     "output_type": "stream",
     "text": [
      "2025-05-11 13:22:43,471 [INFO] fetch_url: 1 requests in last 60s → 0.02 req/s\n"
     ]
    },
    {
     "data": {
      "text/plain": [
       "{'ДАЛуО/Р-303/12/4': ['/wiki/File:ДАЛуО_Р-303-12-4_Книга_реєстрації_актів_цивільного_стану_про_народження_(1939).pdf']}"
      ]
     },
     "execution_count": 4,
     "metadata": {},
     "output_type": "execute_result"
    }
   ],
   "source": [
    "batch_fetch_document_links(titles)"
   ]
  },
  {
   "cell_type": "code",
   "execution_count": null,
   "id": "2fbcfb72-64f6-4eb5-815c-99381cd3e7d8",
   "metadata": {},
   "outputs": [],
   "source": [
    "_wiki_content_url(titles)"
   ]
  },
  {
   "cell_type": "code",
   "execution_count": null,
   "id": "e573d3d4-8496-4e12-a50f-2ef28e89d6e1",
   "metadata": {},
   "outputs": [],
   "source": []
  },
  {
   "cell_type": "code",
   "execution_count": null,
   "id": "cceee792-c998-423a-8a7e-f49f7870c5fc",
   "metadata": {},
   "outputs": [],
   "source": [
    "fetch_url(_wiki_content_url(titles), json=True)"
   ]
  }
 ],
 "metadata": {
  "kernelspec": {
   "display_name": "Python 3 (ipykernel)",
   "language": "python",
   "name": "python3"
  },
  "language_info": {
   "codemirror_mode": {
    "name": "ipython",
    "version": 3
   },
   "file_extension": ".py",
   "mimetype": "text/x-python",
   "name": "python",
   "nbconvert_exporter": "python",
   "pygments_lexer": "ipython3",
   "version": "3.12.9"
  }
 },
 "nbformat": 4,
 "nbformat_minor": 5
}
