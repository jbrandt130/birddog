{
 "cells": [
  {
   "cell_type": "code",
   "execution_count": 1,
   "id": "c192c92c-29f0-40a5-9263-1b4616226baa",
   "metadata": {},
   "outputs": [
    {
     "data": {
      "text/plain": [
       "PosixPath('/Users/jbrandt/code/birddog')"
      ]
     },
     "execution_count": 1,
     "metadata": {},
     "output_type": "execute_result"
    }
   ],
   "source": [
    "import os\n",
    "from pathlib import Path\n",
    "# Change cwd to the project root (parent of 'notebooks/')\n",
    "os.chdir(Path.cwd().parent)\n",
    "Path.cwd()"
   ]
  },
  {
   "cell_type": "code",
   "execution_count": 2,
   "id": "53a1167a-1989-47fc-ae8a-18e1afb2606d",
   "metadata": {},
   "outputs": [
    {
     "name": "stdout",
     "output_type": "stream",
     "text": [
      "2025-06-07 16:49:41,121 [INFO] Using Google Cloud translation API (credentials file:/Users/jbrandt/code/birddog/google-cloud-translate-key.json)\n",
      "2025-06-07 16:49:41,125 [INFO] Using local folder /Users/jbrandt/code/birddog/.cache for storage.\n"
     ]
    }
   ],
   "source": [
    "import json\n",
    "from birddog.core import (\n",
    "    Archive, \n",
    "    )\n",
    "from birddog.wiki import (\n",
    "    read_page,\n",
    "    mw_read_page,\n",
    "    mw_page_doc_url,\n",
    "    get_title\n",
    "    )"
   ]
  },
  {
   "cell_type": "code",
   "execution_count": 3,
   "id": "fed97166-4a0a-4615-8f2d-0f569de94fff",
   "metadata": {},
   "outputs": [
    {
     "name": "stdout",
     "output_type": "stream",
     "text": [
      "2025-06-07 16:49:41,355 [INFO] HistoryLRU.lookup(ДАЖО/Д): cache miss\n",
      "2025-06-07 16:49:41,500 [INFO] fetch_url: 1 requests in last 60s → 0.02 req/s\n",
      "2025-06-07 16:49:41,501 [INFO] Fetching from cache: DAZHO-D[2025,01,19,12:47]: page_cache/DAZHO-D/2025,01,19,12:47.json\n",
      "2025-06-07 16:49:41,503 [INFO] Retrieved from cache: DAZHO-D[2025,01,19,12:47]: page_cache/DAZHO-D/2025,01,19,12:47.json\n",
      "2025-06-07 16:49:41,503 [INFO] HistoryLRU.lookup(ДАЖО/1): cache miss\n",
      "2025-06-07 16:49:41,656 [INFO] Fetching from cache: DAZHO-D/1[2025,04,21,21:06]: page_cache/DAZHO-D/1/2025,04,21,21:06.json\n",
      "2025-06-07 16:49:41,664 [INFO] Retrieved from cache: DAZHO-D/1[2025,04,21,21:06]: page_cache/DAZHO-D/1/2025,04,21,21:06.json\n",
      "2025-06-07 16:49:41,665 [INFO] HistoryLRU.lookup(ДАЖО/1/1): cache miss\n",
      "2025-06-07 16:49:41,815 [INFO] Fetching from cache: DAZHO-D/1/1[2025,04,29,19:30]: page_cache/DAZHO-D/1/1/2025,04,29,19:30.json\n",
      "2025-06-07 16:49:41,817 [INFO] Retrieved from cache: DAZHO-D/1/1[2025,04,29,19:30]: page_cache/DAZHO-D/1/1/2025,04,29,19:30.json\n",
      "2025-06-07 16:49:41,817 [INFO] HistoryLRU.lookup(ДАЖО/1/1/376): cache miss\n",
      "2025-06-07 16:49:41,965 [INFO] Fetching from cache: DAZHO-D/1/1/376[2025,01,18,18:51]: page_cache/DAZHO-D/1/1/376/2025,01,18,18:51.json\n",
      "2025-06-07 16:49:41,967 [INFO] Retrieved from cache: DAZHO-D/1/1/376[2025,01,18,18:51]: page_cache/DAZHO-D/1/1/376/2025,01,18,18:51.json\n"
     ]
    }
   ],
   "source": [
    "archive = Archive('DAZHO', 'D')\n",
    "fond = archive['1']\n",
    "opus = fond['1']\n",
    "case = opus['376']"
   ]
  },
  {
   "cell_type": "code",
   "execution_count": 4,
   "id": "bbc59716-f759-497c-96d1-80dced375457",
   "metadata": {},
   "outputs": [],
   "source": [
    "read_page(opus.url)"
   ]
  },
  {
   "cell_type": "code",
   "execution_count": 12,
   "id": "b9975ea0-d480-49fc-989b-d0380b0e463b",
   "metadata": {},
   "outputs": [
    {
     "name": "stdout",
     "output_type": "stream",
     "text": [
      "2025-06-07 16:52:52,757 [INFO] fetch_url: 4 requests in last 60s → 0.07 req/s\n"
     ]
    },
    {
     "data": {
      "text/plain": [
       "{'title': {'uk': 'ДАЖО/1/1'},\n",
       " 'template': {'uk': 'Архіви/опис'},\n",
       " 'revid': 908249,\n",
       " 'description': {'uk': \"Укази, рапорти, повідомлення, резолюції Синоду і Волинської духовної консисторії. Прохання, донесення, скарги селян та духовенства єпархії. Про захоплення поміщиками церковних земель. Справи про рукопокладення священиків та церковнослужителів. Про приєднання до православ'я греко-католиків Волинської єпархії\"},\n",
       " 'dates': {'uk': '1790–1799', 'en': '1790–1799'},\n",
       " 'notes': {'commons_links': ['https://commons.wikimedia.org/wiki/File:ДАЖО_Фонд_1_Опис_1.pdf'],\n",
       "  'category_links': [],\n",
       "  'internal_links': [],\n",
       "  'external_links': []},\n",
       " 'other_links': {'commons_links': [],\n",
       "  'category_links': ['Категорія:Волинська губернія'],\n",
       "  'internal_links': [],\n",
       "  'external_links': []},\n",
       " 'header': [{'uk': '№'},\n",
       "  {'uk': 'Назва'},\n",
       "  {'uk': 'Крайні\\xa0дати'},\n",
       "  {'uk': 'Аркуші'},\n",
       "  {'uk': 'Примітки'}],\n",
       " 'children': [[{'text': {'uk': '1', 'en': '1'},\n",
       "    'link': 'https://uk.wikisource.org/wiki/Архів:ДАЖО/1/1/1',\n",
       "    'exists': False},\n",
       "   {'text': {'uk': 'О браках в родствах духовных'}, 'link': None},\n",
       "   {'text': {'uk': '1790', 'en': '1790'}, 'link': None},\n",
       "   {'text': {'uk': '327', 'en': '327'}, 'link': None},\n",
       "   {'text': {'uk': '', 'en': ''}, 'link': None}],\n",
       "  [{'text': {'uk': '2', 'en': '2'},\n",
       "    'link': 'https://uk.wikisource.org/wiki/Архів:ДАЖО/1/1/2',\n",
       "    'exists': False},\n",
       "   {'text': {'uk': 'Рапорты вишедшия разных содержаний особливо заключающия в себе присоединение народа по благочинию и через то произошедшия возмущения. О присоединении к православию униатов'},\n",
       "    'link': None},\n",
       "   {'text': {'uk': '1794', 'en': '1794'}, 'link': None},\n",
       "   {'text': {'uk': '78', 'en': '78'}, 'link': None},\n",
       "   {'text': {'uk': '', 'en': ''}, 'link': None}],\n",
       "  [{'text': {'uk': '3', 'en': '3'},\n",
       "    'link': 'https://uk.wikisource.org/wiki/Архів:ДАЖО/1/1/3',\n",
       "    'exists': False},\n",
       "   {'text': {'uk': 'По донесению благочинного протоирея Радзивиловского о рукоположении губ. Изяславской округа Острожского с.Ресников церкви Покрова Пресвятыя Богоматери кандидата Василия Степки во священники'},\n",
       "    'link': None},\n",
       "   {'text': {'uk': '1795', 'en': '1795'}, 'link': None},\n",
       "   {'text': {'uk': '', 'en': ''}, 'link': None},\n",
       "   {'text': {'uk': '', 'en': ''}, 'link': None}],\n",
       "  [{'text': {'uk': '4', 'en': '4'},\n",
       "    'link': 'https://uk.wikisource.org/wiki/Архів:ДАЖО/1/1/4',\n",
       "    'exists': False},\n",
       "   {'text': {'uk': 'кандидата Данилы Васильева'}, 'link': None},\n",
       "   {'text': {'uk': '1795', 'en': '1795'}, 'link': None},\n",
       "   {'text': {'uk': '', 'en': ''}, 'link': None},\n",
       "   {'text': {'uk': '', 'en': ''}, 'link': None}],\n",
       "  [{'text': {'uk': '21', 'en': '21'},\n",
       "    'link': 'https://uk.wikisource.org/wiki/Архів:ДАЖО/1/1/21',\n",
       "    'exists': False},\n",
       "   {'text': {'uk': 'По указу Духовной консистории о подавании в округ ежегодно метрических ведомостей'},\n",
       "    'link': None},\n",
       "   {'text': {'uk': '1795', 'en': '1795'}, 'link': None},\n",
       "   {'text': {'uk': '', 'en': ''}, 'link': None},\n",
       "   {'text': {'uk': '', 'en': ''}, 'link': None}],\n",
       "  [{'text': {'uk': '22', 'en': '22'},\n",
       "    'link': 'https://uk.wikisource.org/wiki/Архів:ДАЖО/1/1/22',\n",
       "    'exists': False},\n",
       "   {'text': {'uk': 'По указу Житомирской Духовной консистории о избрании по всяким десяти церкям из священников десятиначальников'},\n",
       "    'link': None},\n",
       "   {'text': {'uk': '1795', 'en': '1795'}, 'link': None},\n",
       "   {'text': {'uk': '', 'en': ''}, 'link': None},\n",
       "   {'text': {'uk': '', 'en': ''}, 'link': None}],\n",
       "  [{'text': {'uk': '25', 'en': '25'},\n",
       "    'link': 'https://uk.wikisource.org/wiki/Архів:ДАЖО/1/1/25',\n",
       "    'exists': False},\n",
       "   {'text': {'uk': 'О присоединении жителей села Денишов из унии к православию'},\n",
       "    'link': None},\n",
       "   {'text': {'uk': '1795', 'en': '1795'}, 'link': None},\n",
       "   {'text': {'uk': '', 'en': ''}, 'link': None},\n",
       "   {'text': {'uk': '', 'en': ''}, 'link': None}],\n",
       "  [{'text': {'uk': '43', 'en': '43'},\n",
       "    'link': 'https://uk.wikisource.org/wiki/Архів:ДАЖО/1/1/43',\n",
       "    'exists': True},\n",
       "   {'text': {'uk': 'По донесению духовных правлений о умертвии священено- и церковнослужителей'},\n",
       "    'link': None},\n",
       "   {'text': {'uk': '1796', 'en': '1796'}, 'link': None},\n",
       "   {'text': {'uk': '64', 'en': '64'}, 'link': None},\n",
       "   {'text': {'uk': '', 'en': ''}, 'link': None}],\n",
       "  [{'text': {'uk': '111', 'en': '111'},\n",
       "    'link': 'https://uk.wikisource.org/wiki/Архів:ДАЖО/1/1/111',\n",
       "    'exists': True},\n",
       "   {'text': {'uk': 'По репорту Благочиннаго Протоиерея Иоанна Бочковскаго о худыхь поступкахь Староконстантиновскаго уезда села Баглаевь священника Григория Прокоповича вь блудодеянии сь служанкою его Феклою Ковалевою и о лишении его Прокоповича священства'},\n",
       "    'link': None},\n",
       "   {'text': {'uk': '1795', 'en': '1795'}, 'link': None},\n",
       "   {'text': {'uk': '96', 'en': '96'}, 'link': None},\n",
       "   {'text': {'uk': '', 'en': ''}, 'link': None}],\n",
       "  [{'text': {'uk': '119', 'en': '119'},\n",
       "    'link': 'https://uk.wikisource.org/wiki/Архів:ДАЖО/1/1/119',\n",
       "    'exists': True},\n",
       "   {'text': {'uk': 'По доношению Протоиерея Андрея Колтоновскаго о бытии ему на Воздвиженскомь города Полона приходе и о набдении на оной открытымь указом и о проч.'},\n",
       "    'link': None},\n",
       "   {'text': {'uk': '1795', 'en': '1795'}, 'link': None},\n",
       "   {'text': {'uk': '8', 'en': '8'}, 'link': None},\n",
       "   {'text': {'uk': '', 'en': ''}, 'link': None}],\n",
       "  [{'text': {'uk': '186', 'en': '186'},\n",
       "    'link': 'https://uk.wikisource.org/wiki/Архів:ДАЖО/1/1/186',\n",
       "    'exists': False},\n",
       "   {'text': {'uk': 'Про біглого ієромонаха Острозького Преображенського чоловічого монастиря Іннокентія'},\n",
       "    'link': None},\n",
       "   {'text': {'uk': '1796', 'en': '1796'}, 'link': None},\n",
       "   {'text': {'uk': '143', 'en': '143'}, 'link': None},\n",
       "   {'text': {'uk': '', 'en': ''}, 'link': None}],\n",
       "  [{'text': {'uk': '198', 'en': '198'},\n",
       "    'link': 'https://uk.wikisource.org/wiki/Архів:ДАЖО/1/1/198',\n",
       "    'exists': True},\n",
       "   {'text': {'uk': 'О дозволении священническому сыну Иоакиму Блонскому приискать праздное священническое место и о рукоположении его Ровенского повета в село Малые Селища в священника'},\n",
       "    'link': None},\n",
       "   {'text': {'uk': '1796', 'en': '1796'}, 'link': None},\n",
       "   {'text': {'uk': '16', 'en': '16'}, 'link': None},\n",
       "   {'text': {'uk': '', 'en': ''}, 'link': None}],\n",
       "  [{'text': {'uk': '376', 'en': '376'},\n",
       "    'link': 'https://uk.wikisource.org/wiki/Архів:ДАЖО/1/1/376',\n",
       "    'exists': True},\n",
       "   {'text': {'uk': 'О присоединении из Унии к православному греко-российскому исповедания закону, церквей и приходских людей в Владимирском уезде состоящих'},\n",
       "    'link': None},\n",
       "   {'text': {'uk': '1796', 'en': '1796'}, 'link': None},\n",
       "   {'text': {'uk': '352', 'en': '352'}, 'link': None},\n",
       "   {'text': {'uk': '', 'en': ''}, 'link': None}]],\n",
       " 'lastmod': '2025,04,29,19:30',\n",
       " 'link': 'https://uk.wikisource.org/wiki/Архів:ДАЖО/1/1'}"
      ]
     },
     "execution_count": 12,
     "metadata": {},
     "output_type": "execute_result"
    }
   ],
   "source": [
    "mw_read_page(get_title(opus.url))"
   ]
  },
  {
   "cell_type": "code",
   "execution_count": 6,
   "id": "3a4313d8-fb3a-44eb-8728-a148f7e4e151",
   "metadata": {},
   "outputs": [],
   "source": [
    "p1 = read_page(case.url)"
   ]
  },
  {
   "cell_type": "code",
   "execution_count": 7,
   "id": "5cc55eb9-d51a-428e-8c7b-a4c4d8838482",
   "metadata": {},
   "outputs": [
    {
     "data": {
      "text/plain": [
       "'https://uk.wikisource.org/wiki/%D0%A4%D0%B0%D0%B9%D0%BB:%D0%94%D0%90%D0%96%D0%9E_1-1-376._1796._%D0%9E_%D0%BF%D1%80%D0%B8%D1%81%D0%BE%D0%B5%D0%B4%D0%B8%D0%BD%D0%B5%D0%BD%D0%B8%D0%B8_%D0%BA_%D0%BF%D1%80%D0%B0%D0%B2%D0%BE%D1%81%D0%BB%D0%B0%D0%B2%D0%B8%D1%8E_%D1%86%D0%B5%D1%80%D0%BA%D0%B2%D0%B5%D0%B9_%D0%B8_%D0%BF%D1%80%D0%B8%D1%85%D0%BE%D0%B4%D1%81%D0%BA%D0%B8%D1%85_%D0%BB%D1%8E%D0%B4%D0%B5%D0%B9_%D0%B2_%D0%92%D0%BB%D0%B0%D0%B4%D0%B8%D0%BC%D0%B8%D1%80%D1%81%D0%BA%D0%BE%D0%BC_%D1%83%D0%B5%D0%B7%D0%B4%D0%B5.pdf'"
      ]
     },
     "execution_count": 7,
     "metadata": {},
     "output_type": "execute_result"
    }
   ],
   "source": [
    "case.doc_url"
   ]
  },
  {
   "cell_type": "code",
   "execution_count": 9,
   "id": "279585ab-ffb2-4e45-aac9-407782e133e0",
   "metadata": {},
   "outputs": [
    {
     "name": "stdout",
     "output_type": "stream",
     "text": [
      "2025-06-07 16:49:52,337 [INFO] fetch_url: 8 requests in last 60s → 0.13 req/s\n",
      "{'uk': 'ДАЖО/1/1/376'}\n"
     ]
    },
    {
     "data": {
      "text/plain": [
       "'https://uk.wikisource.org/wiki/File:ДАЖО_1-1-376._1796._О_присоединении_к_православию_церквей_и_приходских_людей_в_Владимирском_уезде.pdf'"
      ]
     },
     "execution_count": 9,
     "metadata": {},
     "output_type": "execute_result"
    }
   ],
   "source": [
    "p2 = mw_read_page(get_title(case.url))\n",
    "print(p2[\"title\"])\n",
    "doc_url = mw_page_doc_url(p2)\n",
    "doc_url"
   ]
  },
  {
   "cell_type": "code",
   "execution_count": 10,
   "id": "232c91ab-e615-4312-b9bf-02e2a0c514fc",
   "metadata": {},
   "outputs": [],
   "source": [
    "opus.doc_url"
   ]
  },
  {
   "cell_type": "code",
   "execution_count": 11,
   "id": "46c07208-93c6-472a-a451-4a198ddf5cf9",
   "metadata": {},
   "outputs": [
    {
     "name": "stdout",
     "output_type": "stream",
     "text": [
      "2025-06-07 16:52:25,331 [INFO] fetch_url: 1 requests in last 60s → 0.02 req/s\n"
     ]
    },
    {
     "data": {
      "text/plain": [
       "'https://commons.wikimedia.org/wiki/File:ДАЖО_Фонд_1_Опис_1.pdf'"
      ]
     },
     "execution_count": 11,
     "metadata": {},
     "output_type": "execute_result"
    }
   ],
   "source": [
    "mw_page_doc_url(mw_read_page(get_title(opus.url)))"
   ]
  },
  {
   "cell_type": "code",
   "execution_count": 13,
   "id": "102d704a-62b1-4f07-87d1-317cfbf13b4b",
   "metadata": {},
   "outputs": [
    {
     "data": {
      "text/plain": [
       "{'title': {'uk': 'ДАЖО/1/1/376'},\n",
       " 'template': {'uk': 'Архіви/справа'},\n",
       " 'revid': 871383,\n",
       " 'description': {'uk': 'О присоединении из Унии к православному греко-российскому исповедания закону, церквей и приходских людей в Владимирском уезде состоящих'},\n",
       " 'dates': {'uk': '1796', 'en': '1796'},\n",
       " 'notes': {'commons_links': ['https://commons.wikimedia.org/wiki/File:ДАЖО_1-1-376._1796._О_присоединении_к_православию_церквей_и_приходских_людей_в_Владимирском_уезде.pdf'],\n",
       "  'category_links': [],\n",
       "  'internal_links': [],\n",
       "  'external_links': []},\n",
       " 'other_links': {'commons_links': [],\n",
       "  'category_links': ['Категорія:Волинська губернія'],\n",
       "  'internal_links': ['File:ДАЖО 1-1-376. 1796. О присоединении к православию церквей и приходских людей в Владимирском уезде.pdf'],\n",
       "  'external_links': []},\n",
       " 'header': [],\n",
       " 'children': [],\n",
       " 'lastmod': '2025,01,18,18:51',\n",
       " 'link': 'https://uk.wikisource.org/wiki/Архів:ДАЖО/1/1/376'}"
      ]
     },
     "execution_count": 13,
     "metadata": {},
     "output_type": "execute_result"
    }
   ],
   "source": [
    "p2"
   ]
  },
  {
   "cell_type": "code",
   "execution_count": null,
   "id": "75e0351a-a8e8-4737-9c91-ce7066ebc088",
   "metadata": {},
   "outputs": [],
   "source": []
  },
  {
   "cell_type": "code",
   "execution_count": null,
   "id": "4a8967a5-5221-40e5-9c41-e5d84f739ed4",
   "metadata": {},
   "outputs": [],
   "source": [
    "mw_read_page(\"Архів:ДАДнО/Р-6478/2\")"
   ]
  },
  {
   "cell_type": "code",
   "execution_count": null,
   "id": "a92ab191-e396-4afe-8c5b-05db7b3172d9",
   "metadata": {},
   "outputs": [],
   "source": [
    "mw_read_page(\"Архів:ДАСО/Р\")"
   ]
  },
  {
   "cell_type": "code",
   "execution_count": null,
   "id": "3b15bea9-6b22-45b0-9330-5fb05b197c3d",
   "metadata": {},
   "outputs": [],
   "source": [
    "mw_read_page(\"Архів:ДАХмО/К\")"
   ]
  },
  {
   "cell_type": "code",
   "execution_count": null,
   "id": "3169107f-2381-413f-a5be-b9278d5b79f1",
   "metadata": {},
   "outputs": [],
   "source": [
    "mw_read_page(\"Архів:ДАКрО/225/1/144а\")"
   ]
  },
  {
   "cell_type": "code",
   "execution_count": null,
   "id": "1caf399b-dff8-4ecd-af7b-3f86292622be",
   "metadata": {},
   "outputs": [],
   "source": [
    "mw_read_page(\"Архів:ДАЖО/Д\")"
   ]
  },
  {
   "cell_type": "code",
   "execution_count": null,
   "id": "d1229a5b-21a0-4c5d-9d15-0b59efde003f",
   "metadata": {},
   "outputs": [],
   "source": [
    "mw_read_page(\"Архів:ДАЖО/1\")"
   ]
  },
  {
   "cell_type": "code",
   "execution_count": null,
   "id": "4606134b-10fc-4ed5-8cf5-3bed47f63913",
   "metadata": {},
   "outputs": [],
   "source": [
    "mw_read_page(\"Архів:ДАЖО/752\")"
   ]
  },
  {
   "cell_type": "code",
   "execution_count": null,
   "id": "909b2f1b-0120-4d93-9288-a0f78488764f",
   "metadata": {},
   "outputs": [],
   "source": [
    "mw_read_page(\"Архів:ДАКрО/225/1/25\")"
   ]
  },
  {
   "cell_type": "code",
   "execution_count": null,
   "id": "dd5fb04f-4a8c-41ff-b866-8bdf15a9bfc6",
   "metadata": {},
   "outputs": [],
   "source": [
    "mw_read_page(\"Архів:ДАКрО/225\")"
   ]
  },
  {
   "cell_type": "code",
   "execution_count": null,
   "id": "1c5cf80e-7cee-4877-9eb7-528d40fbd5e6",
   "metadata": {},
   "outputs": [],
   "source": [
    "mw_read_page(\"Архів:ДАКрО/225/1\")"
   ]
  },
  {
   "cell_type": "code",
   "execution_count": 14,
   "id": "c517bdac-0dd8-4d75-8e38-f2f2c29a8e29",
   "metadata": {},
   "outputs": [
    {
     "name": "stdout",
     "output_type": "stream",
     "text": [
      "2025-06-07 22:42:55,865 [INFO] fetch_url: 1 requests in last 60s → 0.02 req/s\n"
     ]
    },
    {
     "data": {
      "text/plain": [
       "{'title': {'uk': 'ДАПО/Р'},\n",
       " 'template': {'uk': None, 'en': None},\n",
       " 'revid': 428914,\n",
       " 'description': {'uk': None, 'en': None},\n",
       " 'dates': {'uk': None, 'en': None},\n",
       " 'notes': None,\n",
       " 'other_links': {'commons_links': [],\n",
       "  'category_links': [],\n",
       "  'internal_links': ['../', '../Д/', '../П/'],\n",
       "  'external_links': ['http://poltava.archives.gov.ua/']},\n",
       " 'header': [{'uk': '-', 'en': '-'}],\n",
       " 'children': [[{'text': {'uk': '1–1000', 'en': '1–1000'},\n",
       "    'link': 'https://uk.wikisource.org/wiki/Архів:ДАПО/Р/1–1000',\n",
       "    'exists': True}],\n",
       "  [{'text': {'uk': '1001–2000', 'en': '1001–2000'},\n",
       "    'link': 'https://uk.wikisource.org/wiki/Архів:ДАПО/Р/1001–2000',\n",
       "    'exists': True}],\n",
       "  [{'text': {'uk': '2001–3000', 'en': '2001–3000'},\n",
       "    'link': 'https://uk.wikisource.org/wiki/Архів:ДАПО/Р/2001–3000',\n",
       "    'exists': True}],\n",
       "  [{'text': {'uk': '3001–4000', 'en': '3001–4000'},\n",
       "    'link': 'https://uk.wikisource.org/wiki/Архів:ДАПО/Р/3001–4000',\n",
       "    'exists': True}],\n",
       "  [{'text': {'uk': '4001–5000', 'en': '4001–5000'},\n",
       "    'link': 'https://uk.wikisource.org/wiki/Архів:ДАПО/Р/4001–5000',\n",
       "    'exists': True}],\n",
       "  [{'text': {'uk': '5001–6000', 'en': '5001–6000'},\n",
       "    'link': 'https://uk.wikisource.org/wiki/Архів:ДАПО/Р/5001–6000',\n",
       "    'exists': True}],\n",
       "  [{'text': {'uk': '6001–7000', 'en': '6001–7000'},\n",
       "    'link': 'https://uk.wikisource.org/wiki/Архів:ДАПО/Р/6001–7000',\n",
       "    'exists': False}],\n",
       "  [{'text': {'uk': '7001–8000', 'en': '7001–8000'},\n",
       "    'link': 'https://uk.wikisource.org/wiki/Архів:ДАПО/Р/7001–8000',\n",
       "    'exists': False}],\n",
       "  [{'text': {'uk': '8001–9000', 'en': '8001–9000'},\n",
       "    'link': 'https://uk.wikisource.org/wiki/Архів:ДАПО/Р/8001–9000',\n",
       "    'exists': False}],\n",
       "  [{'text': {'uk': '9001–10000', 'en': '9001–10000'},\n",
       "    'link': 'https://uk.wikisource.org/wiki/Архів:ДАПО/Р/9001–10000',\n",
       "    'exists': True}]],\n",
       " 'lastmod': '2022,02,15,21:30',\n",
       " 'link': 'https://uk.wikisource.org/wiki/Архів:ДАПО/Р'}"
      ]
     },
     "execution_count": 14,
     "metadata": {},
     "output_type": "execute_result"
    }
   ],
   "source": [
    "mw_read_page(\"Архів:ДАПО/Р\")"
   ]
  },
  {
   "cell_type": "code",
   "execution_count": 15,
   "id": "6ad0fe71-09f6-467a-a408-a4dc3d9f432a",
   "metadata": {},
   "outputs": [
    {
     "name": "stdout",
     "output_type": "stream",
     "text": [
      "2025-06-07 22:43:38,407 [INFO] fetch_url: 4 requests in last 60s → 0.07 req/s\n"
     ]
    },
    {
     "data": {
      "text/plain": [
       "'https://uk.wikisource.org/wiki/ДАПО'"
      ]
     },
     "execution_count": 15,
     "metadata": {},
     "output_type": "execute_result"
    }
   ],
   "source": [
    "mw_page_doc_url(mw_read_page(\"Архів:ДАПО/Р\"))"
   ]
  },
  {
   "cell_type": "code",
   "execution_count": null,
   "id": "c26e1446-8d67-4e6f-9e1c-8d1dd9a48422",
   "metadata": {},
   "outputs": [],
   "source": []
  },
  {
   "cell_type": "code",
   "execution_count": null,
   "id": "7f249a59-fd5b-4261-bbdc-81dcb1c61509",
   "metadata": {},
   "outputs": [],
   "source": [
    "mw_read_page(\"Архів:ДАКрО/225/1\")"
   ]
  },
  {
   "cell_type": "code",
   "execution_count": null,
   "id": "5b6d5195-7e3c-4281-9369-b52e9bd47f88",
   "metadata": {},
   "outputs": [],
   "source": [
    "mw_read_page(\"Архів:ДАХмО/Р-6193\")"
   ]
  },
  {
   "cell_type": "code",
   "execution_count": null,
   "id": "c2ce5427-0ac6-455c-b853-9c52f589c4eb",
   "metadata": {},
   "outputs": [],
   "source": [
    "mw_read_page(\"Архів:ДАКрО/П-5907/2Р\")"
   ]
  },
  {
   "cell_type": "code",
   "execution_count": null,
   "id": "0e25f648-fc64-4b83-b895-d1956949a6fb",
   "metadata": {},
   "outputs": [],
   "source": [
    "mw_read_page(\"Архів:ДАДнО/Р-6478/2\")"
   ]
  },
  {
   "cell_type": "code",
   "execution_count": null,
   "id": "82b6c215-b26f-4c96-9de1-8af9eb65296a",
   "metadata": {},
   "outputs": [],
   "source": [
    "mw_read_page(\"Архів:ДАОО/Р-8085/1\")"
   ]
  },
  {
   "cell_type": "code",
   "execution_count": null,
   "id": "e5ff1b5d-b519-4697-aedd-ef1b087db620",
   "metadata": {},
   "outputs": [],
   "source": [
    "mw_read_page(\"Архів:ДАКрО/225/1\")"
   ]
  },
  {
   "cell_type": "code",
   "execution_count": null,
   "id": "bbf9bb3d-006f-4c8e-85e9-4547a1d76afb",
   "metadata": {},
   "outputs": [],
   "source": [
    "mw_read_page(\"Архів:ДАКрО/225/1/144а\")"
   ]
  },
  {
   "cell_type": "code",
   "execution_count": null,
   "id": "a7546d13-6762-4412-a697-8416ceca2b07",
   "metadata": {},
   "outputs": [],
   "source": []
  }
 ],
 "metadata": {
  "kernelspec": {
   "display_name": "Python 3 (ipykernel)",
   "language": "python",
   "name": "python3"
  },
  "language_info": {
   "codemirror_mode": {
    "name": "ipython",
    "version": 3
   },
   "file_extension": ".py",
   "mimetype": "text/x-python",
   "name": "python",
   "nbconvert_exporter": "python",
   "pygments_lexer": "ipython3",
   "version": "3.12.9"
  }
 },
 "nbformat": 4,
 "nbformat_minor": 5
}
