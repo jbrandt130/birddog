{
 "cells": [
  {
   "cell_type": "code",
   "execution_count": 1,
   "id": "741016ad-f05e-4ca4-adfa-4fbdd58d53c0",
   "metadata": {},
   "outputs": [
    {
     "data": {
      "text/plain": [
       "PosixPath('/Users/jbrandt/code/birddog')"
      ]
     },
     "execution_count": 1,
     "metadata": {},
     "output_type": "execute_result"
    }
   ],
   "source": [
    "import os\n",
    "from pathlib import Path\n",
    "# Change cwd to the project root (parent of 'notebooks/')\n",
    "os.chdir(Path.cwd().parent)\n",
    "Path.cwd()"
   ]
  },
  {
   "cell_type": "code",
   "execution_count": 2,
   "id": "53bd2000-b5b6-4194-ab0f-c7be5f028bf2",
   "metadata": {},
   "outputs": [
    {
     "name": "stdout",
     "output_type": "stream",
     "text": [
      "2025-04-11 18:32:09,431 [INFO] Using local folder /Users/jbrandt/code/birddog/.cache for storage.\n"
     ]
    }
   ],
   "source": [
    "from birddog.core import Archive, history_url, PageLRU\n",
    "from birddog.ai import classify_table_columns"
   ]
  },
  {
   "cell_type": "code",
   "execution_count": 3,
   "id": "49a9619a-1619-4f10-a5da-dead43ee4b20",
   "metadata": {},
   "outputs": [
    {
     "name": "stdout",
     "output_type": "stream",
     "text": [
      "2025-04-11 18:32:09,626 [INFO] get_page_history: https://uk.wikisource.org/w/index.php?action=history&title=%D0%90%D1%80%D1%85%D1%96%D0%B2%3A%D0%94%D0%90%D0%96%D0%9E/%D0%94&limit=1\n",
      "2025-04-11 18:32:10,014 [INFO] Retrieved from cache: DAZHO-D[2025,01,19,12:47]: page_cache/DAZHO-D/2025,01,19,12:47.json\n",
      "archive,DAZHO-D,2025,01,19,12:47\n",
      "DAZHO-D\n"
     ]
    }
   ],
   "source": [
    "archive=Archive('DAZHO','D')\n",
    "print(archive.report)\n",
    "print(archive.name)"
   ]
  },
  {
   "cell_type": "code",
   "execution_count": 4,
   "id": "20194792-ec0a-47d4-ab5a-932216ab1685",
   "metadata": {},
   "outputs": [
    {
     "name": "stdout",
     "output_type": "stream",
     "text": [
      "2025-04-11 18:32:10,983 [INFO] HTTP Request: POST https://api.openai.com/v1/chat/completions \"HTTP/1.1 200 OK\"\n",
      "2025-04-11 18:32:10,991 [INFO] table_column_classifier result: [\"ID\", \"DESCRIPTION\", \"DATE\", \"OTHER\"]\n"
     ]
    },
    {
     "data": {
      "text/plain": [
       "['ID', 'DESCRIPTION', 'DATE', 'OTHER']"
      ]
     },
     "execution_count": 4,
     "metadata": {},
     "output_type": "execute_result"
    }
   ],
   "source": [
    "classify_table_columns(archive)"
   ]
  },
  {
   "cell_type": "code",
   "execution_count": 5,
   "id": "f1f5f06f-45cf-4c11-9ef0-06c258303e2d",
   "metadata": {},
   "outputs": [
    {
     "name": "stdout",
     "output_type": "stream",
     "text": [
      "2025-04-11 18:32:10,998 [INFO] get_page_history: https://uk.wikisource.org/w/index.php?action=history&title=%D0%90%D1%80%D1%85%D1%96%D0%B2:%D0%94%D0%90%D0%96%D0%9E/1&limit=1\n",
      "2025-04-11 18:32:11,359 [INFO] Retrieved from cache: DAZHO-D/1[2024,09,12,08:41]: page_cache/DAZHO-D/1/2024,09,12,08:41.json\n",
      "2025-04-11 18:32:12,197 [INFO] HTTP Request: POST https://api.openai.com/v1/chat/completions \"HTTP/1.1 200 OK\"\n",
      "2025-04-11 18:32:12,213 [INFO] table_column_classifier result: ['ID', 'DESCRIPTION', 'DATE', 'OTHER']\n",
      "2025-04-11 18:32:12,214 [WARNING] ⚠️ Failed to parse GPT response: Expecting value: line 1 column 2 (char 1). Using fallback.\n"
     ]
    },
    {
     "data": {
      "text/plain": [
       "['OTHER', 'OTHER', 'OTHER', 'OTHER']"
      ]
     },
     "execution_count": 5,
     "metadata": {},
     "output_type": "execute_result"
    }
   ],
   "source": [
    "fond = archive.lookup('1')\n",
    "classify_table_columns(fond)"
   ]
  },
  {
   "cell_type": "code",
   "execution_count": 6,
   "id": "ead1afef-754b-4f90-b56f-093f27fc71f9",
   "metadata": {},
   "outputs": [
    {
     "name": "stdout",
     "output_type": "stream",
     "text": [
      "2025-04-11 18:32:12,221 [INFO] get_page_history: https://uk.wikisource.org/w/index.php?action=history&title=%D0%90%D1%80%D1%85%D1%96%D0%B2:%D0%94%D0%90%D0%96%D0%9E/1/1&limit=1\n",
      "2025-04-11 18:32:12,560 [INFO] Retrieved from cache: DAZHO-D/1/1[2025,01,18,17:20]: page_cache/DAZHO-D/1/1/2025,01,18,17:20.json\n",
      "2025-04-11 18:32:13,587 [INFO] HTTP Request: POST https://api.openai.com/v1/chat/completions \"HTTP/1.1 200 OK\"\n",
      "2025-04-11 18:32:13,592 [INFO] table_column_classifier result: [\"ID\", \"DESCRIPTION\", \"DATE\", \"OTHER\", \"OTHER\"]\n"
     ]
    },
    {
     "data": {
      "text/plain": [
       "['ID', 'DESCRIPTION', 'DATE', 'OTHER', 'OTHER']"
      ]
     },
     "execution_count": 6,
     "metadata": {},
     "output_type": "execute_result"
    }
   ],
   "source": [
    "opus = fond.lookup('1')\n",
    "#print(opus.header)\n",
    "classify_table_columns(opus)"
   ]
  },
  {
   "cell_type": "code",
   "execution_count": null,
   "id": "a4084215-dfd8-44d1-bba3-eaacbff76acb",
   "metadata": {},
   "outputs": [],
   "source": []
  }
 ],
 "metadata": {
  "kernelspec": {
   "display_name": "Python 3 (ipykernel)",
   "language": "python",
   "name": "python3"
  },
  "language_info": {
   "codemirror_mode": {
    "name": "ipython",
    "version": 3
   },
   "file_extension": ".py",
   "mimetype": "text/x-python",
   "name": "python",
   "nbconvert_exporter": "python",
   "pygments_lexer": "ipython3",
   "version": "3.12.9"
  }
 },
 "nbformat": 4,
 "nbformat_minor": 5
}
