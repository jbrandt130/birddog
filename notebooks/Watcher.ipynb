{
 "cells": [
  {
   "cell_type": "code",
   "execution_count": 1,
   "id": "2ea99e53",
   "metadata": {},
   "outputs": [
    {
     "name": "stdout",
     "output_type": "stream",
     "text": [
      "Using local folder ./cache for storage.\n"
     ]
    }
   ],
   "source": [
    "import json\n",
    "from birddog.core import (\n",
    "    Archive, \n",
    "    PageLRU,\n",
    "    ArchiveWatcher,\n",
    "    check_page_changes,\n",
    "    report_page_changes,\n",
    "    get_page_history,\n",
    "    check_page_updates\n",
    "    )\n",
    "from birddog.excel import export_page\n",
    "from birddog.utility import get_text"
   ]
  },
  {
   "cell_type": "code",
   "execution_count": null,
   "id": "2c803a32",
   "metadata": {},
   "outputs": [],
   "source": [
    "archive = Archive('DAZHO')\n",
    "print(archive.report)"
   ]
  },
  {
   "cell_type": "code",
   "execution_count": null,
   "id": "ab418ca6",
   "metadata": {},
   "outputs": [],
   "source": [
    "#check_page_updates(archive, '2025,02,01')"
   ]
  },
  {
   "cell_type": "code",
   "execution_count": null,
   "id": "ef4589a2",
   "metadata": {},
   "outputs": [],
   "source": [
    "watcher = ArchiveWatcher(archive, '2025,02,01')"
   ]
  },
  {
   "cell_type": "code",
   "execution_count": null,
   "id": "b85f22ec",
   "metadata": {},
   "outputs": [],
   "source": [
    "watcher.resolved"
   ]
  },
  {
   "cell_type": "code",
   "execution_count": null,
   "id": "685ca250",
   "metadata": {},
   "outputs": [],
   "source": [
    "watcher.unresolved"
   ]
  },
  {
   "cell_type": "code",
   "execution_count": null,
   "id": "04e0cf45",
   "metadata": {},
   "outputs": [],
   "source": [
    "watcher.check()"
   ]
  },
  {
   "cell_type": "code",
   "execution_count": null,
   "id": "4cbd8cc2",
   "metadata": {},
   "outputs": [],
   "source": [
    "watcher.unresolved_tree"
   ]
  },
  {
   "cell_type": "code",
   "execution_count": null,
   "id": "f3ef9862",
   "metadata": {},
   "outputs": [],
   "source": [
    "with open('static/tree_test.json','w') as file:\n",
    "    file.write(json.dumps(flatten_hierarchy(make_tree(watcher.unresolved))))"
   ]
  },
  {
   "cell_type": "code",
   "execution_count": 2,
   "id": "8ee2730e",
   "metadata": {},
   "outputs": [
    {
     "name": "stdout",
     "output_type": "stream",
     "text": [
      "Retrieved from cache: DACHGO-D[2025,02,02,13:53]: page_cache/DACHGO-D/2025,02,02,13:53.json\n"
     ]
    }
   ],
   "source": [
    "archive=Archive('DACHGO','D')"
   ]
  },
  {
   "cell_type": "code",
   "execution_count": null,
   "id": "df2a7087",
   "metadata": {},
   "outputs": [],
   "source": [
    "archive.history(limit=10)"
   ]
  },
  {
   "cell_type": "code",
   "execution_count": null,
   "id": "8909b501",
   "metadata": {},
   "outputs": [],
   "source": [
    "watcher = ArchiveWatcher(archive, '2025,01,01')"
   ]
  },
  {
   "cell_type": "code",
   "execution_count": null,
   "id": "26f41e64",
   "metadata": {},
   "outputs": [],
   "source": [
    "watcher.check()"
   ]
  },
  {
   "cell_type": "code",
   "execution_count": 8,
   "id": "2410a81e",
   "metadata": {},
   "outputs": [],
   "source": [
    "changes=check_page_updates(archive,cutoff_date='2024,12,31')"
   ]
  },
  {
   "cell_type": "code",
   "execution_count": 9,
   "id": "52abb0fd",
   "metadata": {},
   "outputs": [
    {
     "data": {
      "text/plain": [
       "{'DACHGO,D,674,2,4': '2025,02,02,13:58',\n",
       " 'DACHGO,D,674,2,': '2025,02,02,13:57',\n",
       " 'DACHGO,D,674,,': '2025,02,02,13:56',\n",
       " 'DACHGO,D,152,1,': '2025,01,19,12:42',\n",
       " 'DACHGO,D,152,,': '2025,01,19,12:41',\n",
       " 'DACHGO,D,127,17,457': '2025,01,11,20:02',\n",
       " 'DACHGO,D,127,17,': '2025,01,11,19:39',\n",
       " 'DACHGO,D,127,,': '2025,01,11,19:31',\n",
       " 'DACHGO,D,127,15,': '2025,01,10,08:57'}"
      ]
     },
     "execution_count": 9,
     "metadata": {},
     "output_type": "execute_result"
    }
   ],
   "source": [
    "changes"
   ]
  },
  {
   "cell_type": "code",
   "execution_count": 19,
   "id": "3b9e5606",
   "metadata": {},
   "outputs": [],
   "source": [
    "lru = PageLRU()"
   ]
  },
  {
   "cell_type": "code",
   "execution_count": 32,
   "id": "10549b2e",
   "metadata": {},
   "outputs": [],
   "source": [
    "def key_for(archive, subarchive, fond=None, opus=None, case=None):\n",
    "    return ','.join((archive, subarchive, fond or '', opus or '', case or ''))\n",
    "\n",
    "def _check_ancestors(changes):\n",
    "    def _add_result(kwargs):\n",
    "        page = lru.lookup(**kwargs)\n",
    "        key = key_for(**kwargs)\n",
    "        if key not in result:\n",
    "            result[key] = page.history(limit=1)[0]['modified']\n",
    "\n",
    "    def _merge_result(result, changes):\n",
    "        for key, value in changes.items():\n",
    "            if not key in result or value > result[key]:\n",
    "                result[key] = value\n",
    "        return result\n",
    "    \n",
    "    result = {}\n",
    "    for item in changes:\n",
    "        address = item.split(',')\n",
    "        kwargs = {\n",
    "            \"archive\": address[0],\n",
    "            \"subarchive\": address[1],\n",
    "        }\n",
    "        _add_result(kwargs)\n",
    "        kwargs[\"fond\"] = address[2]\n",
    "        _add_result(kwargs)\n",
    "        kwargs[\"opus\"] = address[3]\n",
    "        _add_result(kwargs)\n",
    "        kwargs[\"case\"] = address[4]\n",
    "        _add_result(kwargs)\n",
    "    return _merge_result(result, changes)"
   ]
  },
  {
   "cell_type": "code",
   "execution_count": 33,
   "id": "57eb5493",
   "metadata": {},
   "outputs": [
    {
     "name": "stdout",
     "output_type": "stream",
     "text": [
      "PageLRU.lookup(('DACHGO', 'D', '', '', '')): hit\n",
      "PageLRU.lookup(('DACHGO', 'D', '674', '', '')): hit\n",
      "PageLRU.lookup(('DACHGO', 'D', '674', '2', '')): hit\n",
      "PageLRU.lookup(('DACHGO', 'D', '674', '2', '4')): hit\n",
      "PageLRU.lookup(('DACHGO', 'D', '', '', '')): hit\n",
      "PageLRU.lookup(('DACHGO', 'D', '674', '', '')): hit\n",
      "PageLRU.lookup(('DACHGO', 'D', '674', '2', '')): hit\n",
      "PageLRU.lookup(('DACHGO', 'D', '674', '2', '')): hit\n",
      "PageLRU.lookup(('DACHGO', 'D', '', '', '')): hit\n",
      "PageLRU.lookup(('DACHGO', 'D', '674', '', '')): hit\n",
      "PageLRU.lookup(('DACHGO', 'D', '674', '', '')): hit\n",
      "PageLRU.lookup(('DACHGO', 'D', '674', '', '')): hit\n",
      "PageLRU.lookup(('DACHGO', 'D', '', '', '')): hit\n",
      "PageLRU.lookup(('DACHGO', 'D', '152', '', '')): hit\n",
      "PageLRU.lookup(('DACHGO', 'D', '152', '1', '')): hit\n",
      "PageLRU.lookup(('DACHGO', 'D', '152', '1', '')): hit\n",
      "PageLRU.lookup(('DACHGO', 'D', '', '', '')): hit\n",
      "PageLRU.lookup(('DACHGO', 'D', '152', '', '')): hit\n",
      "PageLRU.lookup(('DACHGO', 'D', '152', '', '')): hit\n",
      "PageLRU.lookup(('DACHGO', 'D', '152', '', '')): hit\n",
      "PageLRU.lookup(('DACHGO', 'D', '', '', '')): hit\n",
      "PageLRU.lookup(('DACHGO', 'D', '127', '', '')): hit\n",
      "PageLRU.lookup(('DACHGO', 'D', '127', '17', '')): hit\n",
      "PageLRU.lookup(('DACHGO', 'D', '127', '17', '457')): hit\n",
      "PageLRU.lookup(('DACHGO', 'D', '', '', '')): hit\n",
      "PageLRU.lookup(('DACHGO', 'D', '127', '', '')): hit\n",
      "PageLRU.lookup(('DACHGO', 'D', '127', '17', '')): hit\n",
      "PageLRU.lookup(('DACHGO', 'D', '127', '17', '')): hit\n",
      "PageLRU.lookup(('DACHGO', 'D', '', '', '')): hit\n",
      "PageLRU.lookup(('DACHGO', 'D', '127', '', '')): hit\n",
      "PageLRU.lookup(('DACHGO', 'D', '127', '', '')): hit\n",
      "PageLRU.lookup(('DACHGO', 'D', '127', '', '')): hit\n",
      "PageLRU.lookup(('DACHGO', 'D', '', '', '')): hit\n",
      "PageLRU.lookup(('DACHGO', 'D', '127', '', '')): hit\n",
      "PageLRU.lookup(('DACHGO', 'D', '127', '15', '')): hit\n",
      "PageLRU.lookup(('DACHGO', 'D', '127', '15', '')): hit\n"
     ]
    },
    {
     "data": {
      "text/plain": [
       "{'DACHGO,D,,,': '2025,02,02,13:53',\n",
       " 'DACHGO,D,674,,': '2025,02,02,13:56',\n",
       " 'DACHGO,D,674,2,': '2025,02,02,13:57',\n",
       " 'DACHGO,D,674,2,4': '2025,02,02,13:58',\n",
       " 'DACHGO,D,152,,': '2025,01,19,12:41',\n",
       " 'DACHGO,D,152,1,': '2025,01,19,12:42',\n",
       " 'DACHGO,D,127,,': '2025,01,11,19:31',\n",
       " 'DACHGO,D,127,17,': '2025,01,11,19:39',\n",
       " 'DACHGO,D,127,17,457': '2025,01,11,20:02',\n",
       " 'DACHGO,D,127,15,': '2025,01,10,08:57'}"
      ]
     },
     "execution_count": 33,
     "metadata": {},
     "output_type": "execute_result"
    }
   ],
   "source": [
    "_check_ancestors(changes)"
   ]
  },
  {
   "cell_type": "code",
   "execution_count": null,
   "id": "94ca8ccb",
   "metadata": {},
   "outputs": [],
   "source": []
  },
  {
   "cell_type": "code",
   "execution_count": 23,
   "id": "dba6546d",
   "metadata": {},
   "outputs": [
    {
     "data": {
      "text/plain": [
       "{'DACHGO,D,674,2,4': '2025,02,02,13:58',\n",
       " 'DACHGO,D,674,2,': '2025,02,02,13:57',\n",
       " 'DACHGO,D,674,,': '2025,02,02,13:56',\n",
       " 'DACHGO,D,152,1,': '2025,01,19,12:42',\n",
       " 'DACHGO,D,152,,': '2025,01,19,12:41',\n",
       " 'DACHGO,D,127,17,457': '2025,01,11,20:02',\n",
       " 'DACHGO,D,127,17,': '2025,01,11,19:39',\n",
       " 'DACHGO,D,127,,': '2025,01,11,19:31',\n",
       " 'DACHGO,D,127,15,': '2025,01,10,08:57'}"
      ]
     },
     "execution_count": 23,
     "metadata": {},
     "output_type": "execute_result"
    }
   ],
   "source": [
    "changes"
   ]
  },
  {
   "cell_type": "code",
   "execution_count": null,
   "id": "1808c2e8",
   "metadata": {},
   "outputs": [],
   "source": []
  },
  {
   "cell_type": "code",
   "execution_count": null,
   "id": "3f2564f4",
   "metadata": {},
   "outputs": [],
   "source": []
  },
  {
   "cell_type": "code",
   "execution_count": null,
   "id": "8ca2416b",
   "metadata": {},
   "outputs": [],
   "source": []
  },
  {
   "cell_type": "code",
   "execution_count": null,
   "id": "c3af89f1",
   "metadata": {},
   "outputs": [],
   "source": []
  },
  {
   "cell_type": "code",
   "execution_count": null,
   "id": "62eeafee",
   "metadata": {},
   "outputs": [],
   "source": []
  },
  {
   "cell_type": "code",
   "execution_count": null,
   "id": "daa55d19",
   "metadata": {},
   "outputs": [],
   "source": []
  },
  {
   "cell_type": "code",
   "execution_count": null,
   "id": "972d1f42",
   "metadata": {},
   "outputs": [],
   "source": []
  },
  {
   "cell_type": "code",
   "execution_count": null,
   "id": "fbdb5c3b",
   "metadata": {},
   "outputs": [],
   "source": []
  },
  {
   "cell_type": "code",
   "execution_count": null,
   "id": "3c2126e9",
   "metadata": {},
   "outputs": [],
   "source": []
  },
  {
   "cell_type": "code",
   "execution_count": null,
   "id": "2782b4b7",
   "metadata": {},
   "outputs": [],
   "source": []
  }
 ],
 "metadata": {
  "kernelspec": {
   "display_name": "Python 3 (ipykernel)",
   "language": "python",
   "name": "python3"
  },
  "language_info": {
   "codemirror_mode": {
    "name": "ipython",
    "version": 3
   },
   "file_extension": ".py",
   "mimetype": "text/x-python",
   "name": "python",
   "nbconvert_exporter": "python",
   "pygments_lexer": "ipython3",
   "version": "3.11.5"
  }
 },
 "nbformat": 4,
 "nbformat_minor": 5
}
