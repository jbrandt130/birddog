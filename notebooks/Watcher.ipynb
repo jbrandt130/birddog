{
 "cells": [
  {
   "cell_type": "code",
   "execution_count": 1,
   "id": "2ea99e53",
   "metadata": {},
   "outputs": [
    {
     "name": "stdout",
     "output_type": "stream",
     "text": [
      "current working dir: /Users/jbrandt/code/birddog\n",
      "Using AWS S3 bucket birddog-data for storage.\n"
     ]
    }
   ],
   "source": [
    "import notebook_utils\n",
    "import json\n",
    "from birddog.core import (\n",
    "    Archive, \n",
    "    PageLRU,\n",
    "    ArchiveWatcher,\n",
    "    check_page_changes,\n",
    "    report_page_changes,\n",
    "    get_page_history,\n",
    "    check_page_updates\n",
    "    )\n",
    "from birddog.excel import export_page\n",
    "from birddog.utility import get_text"
   ]
  },
  {
   "cell_type": "code",
   "execution_count": 2,
   "id": "8e736bc6",
   "metadata": {},
   "outputs": [],
   "source": [
    "lru = PageLRU()"
   ]
  },
  {
   "cell_type": "code",
   "execution_count": 3,
   "id": "2c803a32",
   "metadata": {},
   "outputs": [
    {
     "name": "stdout",
     "output_type": "stream",
     "text": [
      "Retrieved from cache: DAHmO-D[2025,01,26,10:59]: page_cache/DAHmO-D/2025,01,26,10:59.json\n",
      "archive,DAHmO-D,2025,01,26,10:59\n"
     ]
    }
   ],
   "source": [
    "archive = Archive('DAHmO', 'D')\n",
    "print(archive.report)"
   ]
  },
  {
   "cell_type": "code",
   "execution_count": 4,
   "id": "ef4589a2",
   "metadata": {},
   "outputs": [
    {
     "name": "stdout",
     "output_type": "stream",
     "text": [
      "PageLRU.lookup(('DAHmO', 'D', '', '', '')): miss\n",
      "Retrieved from cache: DAHmO-D[2025,01,26,10:59]: page_cache/DAHmO-D/2025,01,26,10:59.json\n"
     ]
    }
   ],
   "source": [
    "watcher = ArchiveWatcher('DAHmO', 'D', '2025,01,01', lru=lru)"
   ]
  },
  {
   "cell_type": "code",
   "execution_count": 5,
   "id": "04e0cf45",
   "metadata": {},
   "outputs": [
    {
     "name": "stdout",
     "output_type": "stream",
     "text": [
      "check_page_updates: DAHmO-D 50 0\n",
      "2025,03,26,08:53\n",
      "check_page_updates: DAHmO-D 100 50\n",
      "2025,03,09,10:13\n",
      "check_page_updates: DAHmO-D 200 150\n",
      "2025,02,18,08:11\n",
      "check_page_updates: DAHmO-D 400 350\n",
      "2025,02,16,18:24\n",
      "check_page_updates: DAHmO-D 800 750\n",
      "2025,02,01,18:36\n",
      "check_page_updates: DAHmO-D 1600 1550\n",
      "2025,01,02,15:14\n",
      "check_page_updates: DAHmO-D 3200 3150\n",
      "2024,12,31,11:35\n",
      "check_page_updates 4320 changes found\n"
     ]
    }
   ],
   "source": [
    "watcher.check()"
   ]
  },
  {
   "cell_type": "code",
   "execution_count": 6,
   "id": "4cbd8cc2",
   "metadata": {},
   "outputs": [],
   "source": [
    "tree = watcher.unresolved_tree"
   ]
  },
  {
   "cell_type": "code",
   "execution_count": 7,
   "id": "f3ef9862",
   "metadata": {},
   "outputs": [
    {
     "data": {
      "text/plain": [
       "2971"
      ]
     },
     "execution_count": 7,
     "metadata": {},
     "output_type": "execute_result"
    }
   ],
   "source": [
    "len(watcher.unresolved)"
   ]
  },
  {
   "cell_type": "code",
   "execution_count": null,
   "id": "a4d559f1",
   "metadata": {},
   "outputs": [],
   "source": []
  },
  {
   "cell_type": "code",
   "execution_count": null,
   "id": "8ee2730e",
   "metadata": {},
   "outputs": [],
   "source": [
    "archive=Archive('DACHGO','D')"
   ]
  },
  {
   "cell_type": "code",
   "execution_count": null,
   "id": "df2a7087",
   "metadata": {},
   "outputs": [],
   "source": [
    "archive.history(limit=10)"
   ]
  },
  {
   "cell_type": "code",
   "execution_count": null,
   "id": "8909b501",
   "metadata": {},
   "outputs": [],
   "source": [
    "watcher = ArchiveWatcher(archive, '2025,01,01')"
   ]
  },
  {
   "cell_type": "code",
   "execution_count": null,
   "id": "26f41e64",
   "metadata": {},
   "outputs": [],
   "source": [
    "watcher.check()"
   ]
  },
  {
   "cell_type": "code",
   "execution_count": null,
   "id": "2410a81e",
   "metadata": {},
   "outputs": [],
   "source": [
    "changes=check_page_updates(archive,cutoff_date='2024,12,31')"
   ]
  },
  {
   "cell_type": "code",
   "execution_count": null,
   "id": "52abb0fd",
   "metadata": {},
   "outputs": [],
   "source": [
    "changes"
   ]
  },
  {
   "cell_type": "code",
   "execution_count": null,
   "id": "3b9e5606",
   "metadata": {},
   "outputs": [],
   "source": [
    "lru = PageLRU()"
   ]
  },
  {
   "cell_type": "code",
   "execution_count": null,
   "id": "10549b2e",
   "metadata": {},
   "outputs": [],
   "source": [
    "def key_for(archive, subarchive, fond=None, opus=None, case=None):\n",
    "    return ','.join((archive, subarchive, fond or '', opus or '', case or ''))\n",
    "\n",
    "def _check_ancestors(changes):\n",
    "    def _add_result(kwargs):\n",
    "        page = lru.lookup(**kwargs)\n",
    "        key = key_for(**kwargs)\n",
    "        if key not in result:\n",
    "            result[key] = page.history(limit=1)[0]['modified']\n",
    "\n",
    "    def _merge_result(result, changes):\n",
    "        for key, value in changes.items():\n",
    "            if not key in result or value > result[key]:\n",
    "                result[key] = value\n",
    "        return result\n",
    "    \n",
    "    result = {}\n",
    "    for item in changes:\n",
    "        address = item.split(',')\n",
    "        kwargs = {\n",
    "            \"archive\": address[0],\n",
    "            \"subarchive\": address[1],\n",
    "        }\n",
    "        _add_result(kwargs)\n",
    "        kwargs[\"fond\"] = address[2]\n",
    "        _add_result(kwargs)\n",
    "        kwargs[\"opus\"] = address[3]\n",
    "        _add_result(kwargs)\n",
    "        kwargs[\"case\"] = address[4]\n",
    "        _add_result(kwargs)\n",
    "    return _merge_result(result, changes)"
   ]
  },
  {
   "cell_type": "code",
   "execution_count": null,
   "id": "57eb5493",
   "metadata": {},
   "outputs": [],
   "source": [
    "_check_ancestors(changes)"
   ]
  },
  {
   "cell_type": "code",
   "execution_count": null,
   "id": "94ca8ccb",
   "metadata": {},
   "outputs": [],
   "source": []
  },
  {
   "cell_type": "code",
   "execution_count": null,
   "id": "dba6546d",
   "metadata": {},
   "outputs": [],
   "source": [
    "changes"
   ]
  },
  {
   "cell_type": "code",
   "execution_count": null,
   "id": "1808c2e8",
   "metadata": {},
   "outputs": [],
   "source": []
  },
  {
   "cell_type": "code",
   "execution_count": null,
   "id": "3f2564f4",
   "metadata": {},
   "outputs": [],
   "source": []
  },
  {
   "cell_type": "code",
   "execution_count": null,
   "id": "8ca2416b",
   "metadata": {},
   "outputs": [],
   "source": []
  },
  {
   "cell_type": "code",
   "execution_count": null,
   "id": "c3af89f1",
   "metadata": {},
   "outputs": [],
   "source": []
  },
  {
   "cell_type": "code",
   "execution_count": null,
   "id": "62eeafee",
   "metadata": {},
   "outputs": [],
   "source": []
  },
  {
   "cell_type": "code",
   "execution_count": null,
   "id": "daa55d19",
   "metadata": {},
   "outputs": [],
   "source": []
  },
  {
   "cell_type": "code",
   "execution_count": null,
   "id": "972d1f42",
   "metadata": {},
   "outputs": [],
   "source": []
  },
  {
   "cell_type": "code",
   "execution_count": null,
   "id": "fbdb5c3b",
   "metadata": {},
   "outputs": [],
   "source": []
  },
  {
   "cell_type": "code",
   "execution_count": null,
   "id": "3c2126e9",
   "metadata": {},
   "outputs": [],
   "source": []
  },
  {
   "cell_type": "code",
   "execution_count": null,
   "id": "2782b4b7",
   "metadata": {},
   "outputs": [],
   "source": []
  }
 ],
 "metadata": {
  "kernelspec": {
   "display_name": "Python 3 (ipykernel)",
   "language": "python",
   "name": "python3"
  },
  "language_info": {
   "codemirror_mode": {
    "name": "ipython",
    "version": 3
   },
   "file_extension": ".py",
   "mimetype": "text/x-python",
   "name": "python",
   "nbconvert_exporter": "python",
   "pygments_lexer": "ipython3",
   "version": "3.11.5"
  }
 },
 "nbformat": 4,
 "nbformat_minor": 5
}
