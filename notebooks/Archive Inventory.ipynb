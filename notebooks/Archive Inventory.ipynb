{
 "cells": [
  {
   "cell_type": "code",
   "execution_count": 2,
   "id": "0a657b96",
   "metadata": {},
   "outputs": [
    {
     "data": {
      "text/plain": [
       "PosixPath('/Users/jbrandt/code/birddog')"
      ]
     },
     "execution_count": 2,
     "metadata": {},
     "output_type": "execute_result"
    }
   ],
   "source": [
    "import os\n",
    "from pathlib import Path\n",
    "# Change cwd to the project root (parent of 'notebooks/')\n",
    "os.chdir(Path.cwd().parent)\n",
    "Path.cwd()"
   ]
  },
  {
   "cell_type": "code",
   "execution_count": 3,
   "id": "57e7af0c-f17a-4852-85ad-6ada8048b7dd",
   "metadata": {},
   "outputs": [],
   "source": [
    "import json\n",
    "import requests\n",
    "from copy import copy, deepcopy\n",
    "import mwparserfromhell"
   ]
  },
  {
   "cell_type": "code",
   "execution_count": 4,
   "id": "8e355a1b-a7a3-486c-bba5-cb9bd9e434dd",
   "metadata": {},
   "outputs": [
    {
     "name": "stdout",
     "output_type": "stream",
     "text": [
      "2025-04-25 08:39:57,518 [INFO] Using Google Cloud translation API (credentials file:/Users/jbrandt/code/birddog/google-cloud-translate-key.json)\n",
      "2025-04-25 08:39:57,556 [INFO] Found credentials in environment variables.\n",
      "2025-04-25 08:39:57,598 [INFO] Using AWS S3 bucket birddog-data for storage.\n"
     ]
    }
   ],
   "source": [
    "from birddog.wiki import (\n",
    "    ARCHIVE_BASE, ARCHIVE_LIST, ARCHIVES, SUBARCHIVES, \n",
    "    update_master_archive_list, find_archive, all_archives\n",
    "    )\n",
    "from birddog.utility import translate_page, get_text, form_text_item, fetch_url \n",
    "from birddog.core import Archive\n",
    "from birddog.translate import translation"
   ]
  },
  {
   "cell_type": "code",
   "execution_count": 5,
   "id": "707c7eca-6dd2-42ce-90d1-be417de45c76",
   "metadata": {},
   "outputs": [
    {
     "data": {
      "text/plain": [
       "{'DAARK': 'Архів:ДААРК',\n",
       " 'DACHGO': 'Архів:ДАЧгО',\n",
       " 'DACHKO': 'Архів:ДАЧкО',\n",
       " 'DACHVO': 'Архів:ДАЧвО',\n",
       " 'DADNO': 'Архів:ДАДнО',\n",
       " 'DADO': 'Архів:ДАДоО',\n",
       " 'DAHEO': 'Архів:ДАХеО',\n",
       " 'DAHMO': 'Архів:ДАХмО',\n",
       " 'DAHO': 'Архів:ДАХО',\n",
       " 'DAIFO': 'Архів:ДАІФО',\n",
       " 'DAK': 'Архів:ДАК',\n",
       " 'DAKIRO': 'Архів:ДАКрО',\n",
       " 'DAKO': 'Архів:ДАКО',\n",
       " 'DAKRE': 'Архів:Архівний_відділ_виконавчого_комітету_Кременчуцької_міської_ради',\n",
       " 'DALO': 'Архів:ДАЛО',\n",
       " 'DALUO': 'Архів:ДАЛуО',\n",
       " 'DAMO': 'Архів:ДАМО',\n",
       " 'DAOO': 'Архів:ДАОО',\n",
       " 'DAPO': 'Архів:ДАПО',\n",
       " 'DARO': 'Архів:ДАРО',\n",
       " 'DAS': 'Архів:ДАС',\n",
       " 'DASO': 'Архів:ДАСО',\n",
       " 'DATO': 'Архів:ДАТО',\n",
       " 'DAVIO': 'Архів:ДАВіО',\n",
       " 'DAVOO': 'Архів:ДАВоО',\n",
       " 'DAZHO': 'Архів:ДАЖО',\n",
       " 'DAZKO': 'Архів:ДАЗкО',\n",
       " 'DAZPO': 'Архів:ДАЗпО',\n",
       " 'DISZMO': 'Архів:ДІСЗМО'}"
      ]
     },
     "execution_count": 5,
     "metadata": {},
     "output_type": "execute_result"
    }
   ],
   "source": [
    "ARCHIVE_LIST"
   ]
  },
  {
   "cell_type": "code",
   "execution_count": 6,
   "id": "f788d3eb-1fdd-40c1-a9c1-efb8030fac25",
   "metadata": {},
   "outputs": [
    {
     "data": {
      "text/plain": [
       "[['DAARK', 'D'],\n",
       " ['DACHGO', 'D'],\n",
       " ['DACHGO', 'R'],\n",
       " ['DACHKO', 'D'],\n",
       " ['DACHKO', 'R'],\n",
       " ['DACHVO', 'D'],\n",
       " ['DACHVO', 'R'],\n",
       " ['DADNO', 'D'],\n",
       " ['DADNO', 'R'],\n",
       " ['DADO', 'D'],\n",
       " ['DAHEO', 'D'],\n",
       " ['DAHEO', 'R'],\n",
       " ['DAHEO', 'P'],\n",
       " ['DAHMO', 'D'],\n",
       " ['DAHMO', 'R'],\n",
       " ['DAHMO', 'P'],\n",
       " ['DAHMO', 'K'],\n",
       " ['DAHO', 'D'],\n",
       " ['DAHO', 'R'],\n",
       " ['DAIFO', 'D'],\n",
       " ['DAK', 'D'],\n",
       " ['DAK', 'R'],\n",
       " ['DAKIRO', 'D'],\n",
       " ['DAKIRO', 'R'],\n",
       " ['DAKIRO', 'P'],\n",
       " ['DAKO', 'D'],\n",
       " ['DAKO', 'R'],\n",
       " ['DAKO', 'P'],\n",
       " ['DAKRE', 'R'],\n",
       " ['DAKRE', 'OS'],\n",
       " ['DALO', 'D'],\n",
       " ['DALO', 'R'],\n",
       " ['DALO', 'P'],\n",
       " ['DALUO', 'D'],\n",
       " ['DALUO', 'R'],\n",
       " ['DAMO', 'D'],\n",
       " ['DAMO', 'R'],\n",
       " ['DAMO', 'P'],\n",
       " ['DAMO', 'A'],\n",
       " ['DAOO', 'D'],\n",
       " ['DAOO', 'R'],\n",
       " ['DAPO', 'D'],\n",
       " ['DAPO', 'R'],\n",
       " ['DAPO', 'P'],\n",
       " ['DARO', 'D'],\n",
       " ['DARO', 'R'],\n",
       " ['DAS', 'D'],\n",
       " ['DAS', 'P'],\n",
       " ['DASO', 'D'],\n",
       " ['DASO', 'R'],\n",
       " ['DATO', 'D'],\n",
       " ['DAVIO', 'D'],\n",
       " ['DAVIO', 'R'],\n",
       " ['DAVIO', 'P'],\n",
       " ['DAVOO', 'D'],\n",
       " ['DAVOO', 'R'],\n",
       " ['DAVOO', 'P'],\n",
       " ['DAZHO', 'D'],\n",
       " ['DAZHO', 'R'],\n",
       " ['DAZPO', 'D'],\n",
       " ['DAZPO', 'R'],\n",
       " ['DISZMO', 'Digital collections']]"
      ]
     },
     "execution_count": 6,
     "metadata": {},
     "output_type": "execute_result"
    }
   ],
   "source": [
    "all_archives()"
   ]
  },
  {
   "cell_type": "code",
   "execution_count": 13,
   "id": "01c73afc-f763-45f5-bbcf-ebc1201f67a6",
   "metadata": {},
   "outputs": [
    {
     "data": {
      "text/plain": [
       "{'title': {'uk': 'Архів:Архівний відділ виконавчого комітету Кременчуцької міської ради/ОС',\n",
       "  'en': 'Archive:Archive Department of the Executive Committee of the Kremenchuk City Council/OS'},\n",
       " 'subarchive': {'uk': 'ОС', 'en': 'OS'}}"
      ]
     },
     "execution_count": 13,
     "metadata": {},
     "output_type": "execute_result"
    }
   ],
   "source": [
    "find_archive('DAKRE', 'OS')"
   ]
  },
  {
   "cell_type": "code",
   "execution_count": 14,
   "id": "5fba4a62-1a44-4f9d-833b-4cb7bce41853",
   "metadata": {},
   "outputs": [
    {
     "data": {
      "text/plain": [
       "'Архів:ДАЖО'"
      ]
     },
     "execution_count": 14,
     "metadata": {},
     "output_type": "execute_result"
    }
   ],
   "source": [
    "ARCHIVE_LIST[\"DAZHO\"]"
   ]
  },
  {
   "cell_type": "code",
   "execution_count": null,
   "id": "5b1e6c21-c82d-450e-97f2-695057a1109a",
   "metadata": {},
   "outputs": [],
   "source": []
  },
  {
   "cell_type": "code",
   "execution_count": null,
   "id": "96f2e266-2795-41dc-a6e6-bbe066f2e095",
   "metadata": {},
   "outputs": [],
   "source": []
  },
  {
   "cell_type": "code",
   "execution_count": null,
   "id": "29d75179-18a7-4378-81ad-aea82e4e5937",
   "metadata": {},
   "outputs": [],
   "source": []
  },
  {
   "cell_type": "code",
   "execution_count": null,
   "id": "ce99f238-8995-479a-a799-9d089c7ba920",
   "metadata": {},
   "outputs": [],
   "source": []
  },
  {
   "cell_type": "code",
   "execution_count": null,
   "id": "08a5745d-a127-4248-aeb9-0043f3ec7804",
   "metadata": {},
   "outputs": [],
   "source": []
  },
  {
   "cell_type": "code",
   "execution_count": null,
   "id": "7f927568-1afa-4533-831a-6bdebef25b0e",
   "metadata": {},
   "outputs": [],
   "source": []
  },
  {
   "cell_type": "code",
   "execution_count": null,
   "id": "604a906f-8507-45b0-bb9f-ddce07f4ef73",
   "metadata": {},
   "outputs": [],
   "source": []
  },
  {
   "cell_type": "code",
   "execution_count": null,
   "id": "1321c5d0-fd10-40a3-b0f3-45dc3974efd3",
   "metadata": {},
   "outputs": [],
   "source": [
    "\"\"\"\n",
    "these have no subarchive:\n",
    " \"CDIAK\":    \"Архів:ЦДІАК\",\n",
    " \"CSDAG\":    \"Архів:ЦДАГО\",\n",
    "     \"TSDAVO\":   \"Архів:ЦДАВО\",\n",
    " \"TSDIAL\":   \"Архів:ЦДІАЛ\"    \n",
    "     \"GDA-MO\":   \"Архів:ГДА_МО\",\n",
    "    \"GDA-MVS\":  \"Архів:ГДА_МВС\",\n",
    "    \"GDA-SBU\":  \"Архів:ГДА_СБУ\",\n",
    "    \"GDA-SZRU\": \"Архів:ГДА_СЗРУ\",\n",
    "        \"IMFE\":     \"Архів:АНФРФ_ІМФЕ\",\n",
    "    \"OMELNIK\":  \"Архів:Трудовий_архів_виконавчого_комітету_Омельницької_сільської_ради_Кременчуцького_району_Полтавської_області\"\n",
    "\n",
    "\n",
    "\"\"\""
   ]
  },
  {
   "cell_type": "code",
   "execution_count": null,
   "id": "eea2a610",
   "metadata": {},
   "outputs": [],
   "source": [
    "#update_master_archive_list()"
   ]
  },
  {
   "cell_type": "code",
   "execution_count": null,
   "id": "bc6f8d63-7776-4e73-a2d7-4e390f5e1e34",
   "metadata": {},
   "outputs": [],
   "source": [
    "archive_master_list = [(arc, sub['subarchive']['en']) for arc, archive in ARCHIVES.items() for sub in archive.values()]\n",
    "archive_master_list"
   ]
  },
  {
   "cell_type": "code",
   "execution_count": null,
   "id": "f8ca45a7-3873-47aa-a8c4-4b23a5b7edfe",
   "metadata": {},
   "outputs": [],
   "source": [
    "SUBARCHIVES"
   ]
  },
  {
   "cell_type": "code",
   "execution_count": null,
   "id": "a8d61ddf-95bb-49eb-bcc7-20861b4933e6",
   "metadata": {},
   "outputs": [],
   "source": [
    "archive_master_list = [(arc, sub['subarchive']['en']) for arc, archive in ARCHIVES.items() for sub in archive.values()]\n",
    "for item in archive_master_list:\n",
    "    print(f'{item[0]}-{item[1]}')"
   ]
  },
  {
   "cell_type": "code",
   "execution_count": null,
   "id": "d1f70360-e6fd-4c5b-9c99-eae09ce868ec",
   "metadata": {},
   "outputs": [],
   "source": [
    "def get_archive_links():\n",
    "    # Define the API endpoint and parameters\n",
    "    api_url = \"https://uk.wikisource.org/w/api.php\"\n",
    "    params = {\n",
    "        \"action\": \"parse\",\n",
    "        \"page\": \"Архів:Архіви\",\n",
    "        \"prop\": \"wikitext\",\n",
    "        \"format\": \"json\"\n",
    "    }\n",
    "\n",
    "    # Send a GET request to the MediaWiki API\n",
    "    data = fetch_url(api_url, params=params, json=True)\n",
    "    wikitext = data['parse']['wikitext']['*']\n",
    "\n",
    "    # Parse wikitext using mwparserfromhell\n",
    "    wikicode = mwparserfromhell.parse(wikitext)\n",
    "\n",
    "    # Extract archive links with descriptions\n",
    "    archive_links = []\n",
    "    for link in wikicode.filter_wikilinks():\n",
    "        target = str(link.title).strip()\n",
    "        if target.startswith(\"Архів:\"):\n",
    "            description = str(link.text).strip() if link.text else target\n",
    "            archive_links.append({\n",
    "                \"link\": form_text_item(target),\n",
    "                \"description\": form_text_item(description)\n",
    "            })\n",
    "\n",
    "    return archive_links"
   ]
  },
  {
   "cell_type": "code",
   "execution_count": null,
   "id": "d94c8ff6-856c-46c0-942e-66afc30fbbc7",
   "metadata": {},
   "outputs": [],
   "source": [
    "links = get_archive_links()\n",
    "links"
   ]
  },
  {
   "cell_type": "code",
   "execution_count": null,
   "id": "ad078865-2a4e-4a33-bd97-9ed306c824bc",
   "metadata": {},
   "outputs": [],
   "source": [
    "trans_links = deepcopy(links)\n",
    "translate_page(trans_links)\n",
    "trans_links"
   ]
  },
  {
   "cell_type": "code",
   "execution_count": null,
   "id": "fb6360ac-7fe1-4ad9-b7d2-bfa3de0a710d",
   "metadata": {},
   "outputs": [],
   "source": [
    "sorted([get_text(item[\"link\"]).split(\":\")[1] for item in trans_links])"
   ]
  },
  {
   "cell_type": "code",
   "execution_count": null,
   "id": "70020aba-7e31-4d33-a996-1b5ca43701be",
   "metadata": {},
   "outputs": [],
   "source": [
    "def invert_dict(x):\n",
    "    return {v: k for k, v in x.items()}"
   ]
  },
  {
   "cell_type": "code",
   "execution_count": null,
   "id": "dfc8c17b-8450-40a4-9244-d2411060aee4",
   "metadata": {},
   "outputs": [],
   "source": [
    "invert_dict(ARCHIVE_LIST)"
   ]
  },
  {
   "cell_type": "code",
   "execution_count": null,
   "id": "606eebc3-52e7-42d9-9cbe-d6a5c94ba157",
   "metadata": {},
   "outputs": [],
   "source": [
    "def form_archive_list():\n",
    "    links = get_archive_links()\n",
    "    trans_links = deepcopy(links)\n",
    "    translate_page(trans_links)\n",
    "    return {get_text(item[\"link\"]).split(\":\")[1]:item[\"link\"][\"uk\"] for item in trans_links}"
   ]
  },
  {
   "cell_type": "code",
   "execution_count": null,
   "id": "9fd59ad3-919b-4e5c-99d2-14d076af5c63",
   "metadata": {},
   "outputs": [],
   "source": [
    "archive_list = form_archive_list()"
   ]
  },
  {
   "cell_type": "code",
   "execution_count": null,
   "id": "d7929b9f-0f9a-4325-8468-4cdc1cad31ab",
   "metadata": {},
   "outputs": [],
   "source": [
    "archive_list"
   ]
  },
  {
   "cell_type": "code",
   "execution_count": null,
   "id": "4caabce6-94c0-422b-829c-ae19f846af93",
   "metadata": {},
   "outputs": [],
   "source": [
    "inv_archive_list = invert_dict(archive_list)\n",
    "inv_archive_list"
   ]
  },
  {
   "cell_type": "code",
   "execution_count": null,
   "id": "9b1d5ea4-c788-4425-b8f6-4ed07ccf8377",
   "metadata": {},
   "outputs": [],
   "source": [
    "update_mapping = { key: inv_archive_list[value] for key, value in ARCHIVE_LIST.items()}\n",
    "update_mapping"
   ]
  }
 ],
 "metadata": {
  "kernelspec": {
   "display_name": "Python 3 (ipykernel)",
   "language": "python",
   "name": "python3"
  },
  "language_info": {
   "codemirror_mode": {
    "name": "ipython",
    "version": 3
   },
   "file_extension": ".py",
   "mimetype": "text/x-python",
   "name": "python",
   "nbconvert_exporter": "python",
   "pygments_lexer": "ipython3",
   "version": "3.12.9"
  }
 },
 "nbformat": 4,
 "nbformat_minor": 5
}
