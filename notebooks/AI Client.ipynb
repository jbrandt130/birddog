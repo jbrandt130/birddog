{
 "cells": [
  {
   "cell_type": "code",
   "execution_count": 1,
   "id": "8a45896c-7443-4f64-b51d-b0b953941a2e",
   "metadata": {},
   "outputs": [
    {
     "data": {
      "text/plain": [
       "PosixPath('/Users/jbrandt/code/birddog')"
      ]
     },
     "execution_count": 1,
     "metadata": {},
     "output_type": "execute_result"
    }
   ],
   "source": [
    "import os\n",
    "from pathlib import Path\n",
    "# Change cwd to the project root (parent of 'notebooks/')\n",
    "os.chdir(Path.cwd().parent)\n",
    "Path.cwd()"
   ]
  },
  {
   "cell_type": "code",
   "execution_count": 2,
   "id": "f3d9b69c-d61d-4146-a08c-83b83e07dfa7",
   "metadata": {},
   "outputs": [
    {
     "name": "stdout",
     "output_type": "stream",
     "text": [
      "2025-04-22 22:00:45,587 [INFO] Using Google Cloud translation API (credentials file:/Users/jbrandt/code/birddog/google-cloud-translate-key.json)\n",
      "2025-04-22 22:00:45,621 [INFO] Found credentials in environment variables.\n",
      "2025-04-22 22:00:45,681 [INFO] Using AWS S3 bucket birddog-data for storage.\n"
     ]
    }
   ],
   "source": [
    "from birddog.core import Archive"
   ]
  },
  {
   "cell_type": "code",
   "execution_count": 3,
   "id": "b61efd7c-3edb-488f-9312-f946f02c1c7e",
   "metadata": {},
   "outputs": [
    {
     "name": "stdout",
     "output_type": "stream",
     "text": [
      "2025-04-22 22:00:45,903 [INFO] HistoryLRU.lookup(ДАЖО/Д): cache miss\n",
      "2025-04-22 22:00:46,098 [INFO] fetch_url: 1 requests in last 60s → 0.02 req/s\n",
      "2025-04-22 22:00:46,774 [INFO] Retrieved from cache: DAZHO-D[2025,01,19,12:47]: page_cache/DAZHO-D/2025,01,19,12:47.json\n",
      "2025-04-22 22:00:46,775 [INFO] HistoryLRU.lookup(ДАЖО/1): cache miss\n",
      "2025-04-22 22:00:47,066 [INFO] Retrieved from cache: DAZHO-D/1[2025,04,21,21:06]: page_cache/DAZHO-D/1/2025,04,21,21:06.json\n",
      "2025-04-22 22:00:47,067 [INFO] HistoryLRU.lookup(ДАЖО/1/74): cache miss\n",
      "2025-04-22 22:00:47,271 [INFO] Loading page: DAZHO-D/1/74 from https://uk.wikisource.org/wiki/%D0%90%D1%80%D1%85%D1%96%D0%B2:%D0%94%D0%90%D0%96%D0%9E/1/74\n",
      "2025-04-22 22:00:47,516 [INFO] saving page_cache/DAZHO-D/1/74/2025,04,22,20:17.json: 280741\n"
     ]
    }
   ],
   "source": [
    "page = Archive(\"DAZHO\")\n",
    "page = page.lookup('1').lookup('74')"
   ]
  },
  {
   "cell_type": "code",
   "execution_count": 4,
   "id": "ba20f431-4e17-4df8-818e-3835fda4d215",
   "metadata": {},
   "outputs": [],
   "source": [
    "from birddog.ai import AWSBedrockClient, classify_table_columns, _form_table_column_classifier_prompt"
   ]
  },
  {
   "cell_type": "code",
   "execution_count": 5,
   "id": "a6b4455a-2efa-4aeb-985a-d62a68f6a143",
   "metadata": {},
   "outputs": [],
   "source": [
    "client = AWSBedrockClient()"
   ]
  },
  {
   "cell_type": "code",
   "execution_count": 6,
   "id": "2af90cb1-e7d6-4e39-9e3e-fcb2529fe7e9",
   "metadata": {},
   "outputs": [],
   "source": [
    "#client.write(\"Why is the sky blue?\")"
   ]
  },
  {
   "cell_type": "code",
   "execution_count": 7,
   "id": "7e7c6290-3214-4148-87cc-7ea9375a828b",
   "metadata": {},
   "outputs": [],
   "source": [
    "classes = {\n",
    "    \"DATE\": \"A column indicating a single date or a date range\",\n",
    "    \"DESCRIPTION\": \"A column containing a textual description of the item\",\n",
    "    \"ID\": \"A unique row identifier, number, or code\"\n",
    "}"
   ]
  },
  {
   "cell_type": "code",
   "execution_count": 8,
   "id": "d1b3bdec-b37b-4768-a7a7-bc60dd62c496",
   "metadata": {},
   "outputs": [
    {
     "name": "stdout",
     "output_type": "stream",
     "text": [
      "['№', 'Назва', 'Повіт', 'Роки', 'Аркушів', 'Посилання на FamilySearch']\n",
      "[['1', 'Метричні книги Кашогродського уніатського деканату Ковельського і Луцького повітів', 'Ковельський, Луцький', '1798, 1802–1803, 1813', '319', ''], ['2', 'Сповідні розписи Ратинського уніатського деканату Ковельського повіту', 'Ковельський', '1804', '189', ''], ['3', 'Метричні книги уніатських церков Ковельського повіту', 'Ковельський', '1804', '138', ''], ['4', 'Метричні книги Кашогродського уніатського деканату Ковельського і Луцького повітів', 'Ковельський, Луцький', '1820', '127', ''], ['5', 'Метричні книги уніатських церков Ковельського та Луцького повітів', 'Ковельський, Луцький', '1821, 1822', '148', '']]\n"
     ]
    }
   ],
   "source": [
    "headers = [col['uk'] for col in page.header]\n",
    "print(headers)\n",
    "max_rows = 5\n",
    "rows = [ [ item['text']['uk'] for item in row ] for row in page.children[:max_rows] ]\n",
    "print(rows)"
   ]
  },
  {
   "cell_type": "code",
   "execution_count": 9,
   "id": "5b99f94c-3077-44d3-8753-da9de2e8a9fa",
   "metadata": {},
   "outputs": [
    {
     "name": "stdout",
     "output_type": "stream",
     "text": [
      "You are given a list of table column headers in Ukranian and their indices:\n",
      "0: №\n",
      "1: Назва\n",
      "2: Повіт\n",
      "3: Роки\n",
      "4: Аркушів\n",
      "5: Посилання на FamilySearch\n",
      "\n",
      "Classify each header into one of the following types based on the descriptions below:\n",
      "- DATE: A column indicating a single date or a date range\n",
      "- DESCRIPTION: A column containing a textual description of the item\n",
      "- ID: A unique row identifier, number, or code\n",
      "\n",
      "Here are some sample rows of the table:\n",
      "Row 1: ['1', 'Метричні книги Кашогродського уніатського деканату Ковельського і Луцького повітів', 'Ковельський, Луцький', '1798, 1802–1803, 1813', '319', '']\n",
      "Row 2: ['2', 'Сповідні розписи Ратинського уніатського деканату Ковельського повіту', 'Ковельський', '1804', '189', '']\n",
      "Row 3: ['3', 'Метричні книги уніатських церков Ковельського повіту', 'Ковельський', '1804', '138', '']\n",
      "Row 4: ['4', 'Метричні книги Кашогродського уніатського деканату Ковельського і Луцького повітів', 'Ковельський, Луцький', '1820', '127', '']\n",
      "Row 5: ['5', 'Метричні книги уніатських церков Ковельського та Луцького повітів', 'Ковельський, Луцький', '1821, 1822', '148', '']\n",
      "\n",
      "Rules:\n",
      "- Assign exactly one type to each header.\n",
      "- Use each type at most once, except for 'OTHER', which can be reused.\n",
      "- If a header does not clearly fit any type, classify it as 'OTHER'.\n",
      "\n",
      "Respond with a JSON list of strings (no objects), where the i-th element is the classification of the i-th header.\n",
      "Example: [\"SEQUENCE\", \"DESCRIPTION\", \"OTHER\", \"DATE\"]\n",
      "Include no other text in your response. Include only the JSON list of strings. The strings must be double-quoted.\n"
     ]
    }
   ],
   "source": [
    "full_prompt = _form_table_column_classifier_prompt(headers, classes, rows, max_rows=len(rows))\n",
    "print(full_prompt)"
   ]
  },
  {
   "cell_type": "code",
   "execution_count": 10,
   "id": "557d6269-cca2-4580-acc8-5b32d29da26e",
   "metadata": {},
   "outputs": [
    {
     "name": "stdout",
     "output_type": "stream",
     "text": [
      "2025-04-22 22:00:48,679 [INFO] Found credentials in environment variables.\n"
     ]
    },
    {
     "data": {
      "text/plain": [
       "'[\"ID\",\"DESCRIPTION\",\"OTHER\",\"DATE\",\"OTHER\",\"OTHER\"]'"
      ]
     },
     "execution_count": 10,
     "metadata": {},
     "output_type": "execute_result"
    }
   ],
   "source": [
    "client.write(full_prompt)"
   ]
  },
  {
   "cell_type": "code",
   "execution_count": 11,
   "id": "2b13680a-55e9-4a7f-81fb-f1ab62efa985",
   "metadata": {},
   "outputs": [
    {
     "data": {
      "text/plain": [
       "['ID', 'DESCRIPTION', 'OTHER', 'DATE', 'OTHER', 'OTHER']"
      ]
     },
     "execution_count": 11,
     "metadata": {},
     "output_type": "execute_result"
    }
   ],
   "source": [
    "import json\n",
    "json.loads(client.write(full_prompt))"
   ]
  },
  {
   "cell_type": "code",
   "execution_count": 12,
   "id": "d6b96eab-3c3e-46d1-b016-b04e01863bf8",
   "metadata": {},
   "outputs": [
    {
     "name": "stdout",
     "output_type": "stream",
     "text": [
      "2025-04-22 22:00:52,417 [INFO] Creating AWS Bedrock client\n",
      "2025-04-22 22:00:52,430 [INFO] Found credentials in environment variables.\n",
      "2025-04-22 22:00:53,632 [INFO] table_column_classifier result: [\"ID\",\"DESCRIPTION\",\"OTHER\",\"DATE\",\"OTHER\",\"OTHER\"]\n"
     ]
    },
    {
     "data": {
      "text/plain": [
       "{'mapping': ['ID', 'DESCRIPTION', 'OTHER', 'DATE', 'OTHER', 'OTHER'],\n",
       " 'success': True}"
      ]
     },
     "execution_count": 12,
     "metadata": {},
     "output_type": "execute_result"
    }
   ],
   "source": [
    "classify_table_columns(page)"
   ]
  },
  {
   "cell_type": "code",
   "execution_count": null,
   "id": "b8ca8d85-1645-43ed-86e6-31ad83362c4c",
   "metadata": {},
   "outputs": [],
   "source": []
  }
 ],
 "metadata": {
  "kernelspec": {
   "display_name": "Python 3 (ipykernel)",
   "language": "python",
   "name": "python3"
  },
  "language_info": {
   "codemirror_mode": {
    "name": "ipython",
    "version": 3
   },
   "file_extension": ".py",
   "mimetype": "text/x-python",
   "name": "python",
   "nbconvert_exporter": "python",
   "pygments_lexer": "ipython3",
   "version": "3.12.9"
  }
 },
 "nbformat": 4,
 "nbformat_minor": 5
}
