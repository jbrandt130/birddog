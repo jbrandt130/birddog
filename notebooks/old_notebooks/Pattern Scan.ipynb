{
 "cells": [
  {
   "cell_type": "code",
   "execution_count": 1,
   "metadata": {},
   "outputs": [
    {
     "name": "stderr",
     "output_type": "stream",
     "text": [
      "/usr/local/anaconda3/lib/python3.8/site-packages/pandas/core/computation/expressions.py:20: UserWarning: Pandas requires version '2.7.3' or newer of 'numexpr' (version '2.7.1' currently installed).\n",
      "  from pandas.core.computation.check import NUMEXPR_INSTALLED\n"
     ]
    }
   ],
   "source": [
    "import requests\n",
    "import json\n",
    "from bs4 import BeautifulSoup\n",
    "from openpyxl import Workbook, load_workbook\n",
    "import re"
   ]
  },
  {
   "cell_type": "code",
   "execution_count": 2,
   "metadata": {},
   "outputs": [],
   "source": [
    "from tsdavo import FondCollection, base, load_fond, index_fonds, OpusTable, translation"
   ]
  },
  {
   "cell_type": "code",
   "execution_count": 3,
   "metadata": {},
   "outputs": [],
   "source": [
    "fonds = FondCollection().load()"
   ]
  },
  {
   "cell_type": "code",
   "execution_count": 12,
   "metadata": {},
   "outputs": [],
   "source": [
    "fond_index = index_fonds(fonds)"
   ]
  },
  {
   "cell_type": "code",
   "execution_count": null,
   "metadata": {},
   "outputs": [],
   "source": []
  },
  {
   "cell_type": "code",
   "execution_count": 10,
   "metadata": {},
   "outputs": [],
   "source": [
    "fonds.sort(key=lambda x: int(x['number']))"
   ]
  },
  {
   "cell_type": "code",
   "execution_count": 22,
   "metadata": {},
   "outputs": [
    {
     "data": {
      "text/plain": [
       "3429"
      ]
     },
     "execution_count": 22,
     "metadata": {},
     "output_type": "execute_result"
    }
   ],
   "source": [
    "len(fonds)"
   ]
  },
  {
   "cell_type": "code",
   "execution_count": 25,
   "metadata": {},
   "outputs": [
    {
     "data": {
      "text/plain": [
       "[{'number': '5335',\n",
       "  'link': '/fonds/5334/',\n",
       "  'title': 'Ukrainian Research Institute of Fire Safety of the Ministry of Emergency Situations and Protection of the Population from the Consequences of the Chernobyl Disaster, Kyiv',\n",
       "  'date': '1967-2003',\n",
       "  'pages': '822'},\n",
       " {'number': '5336',\n",
       "  'link': '/fonds/5335/',\n",
       "  'title': 'National Expert Commission of Ukraine on Protection of Public Morals, Kyiv',\n",
       "  'date': '2005-2016',\n",
       "  'pages': '330'},\n",
       " {'number': '5337',\n",
       "  'link': '/fonds/5336/',\n",
       "  'title': 'Joint-stock commercial bank for social development \"Ukrsotsbank\"',\n",
       "  'date': '1987-2000',\n",
       "  'pages': '1004'},\n",
       " {'number': '5338',\n",
       "  'link': '/fonds/5337/',\n",
       "  'title': 'The State Fund for the Promotion of Local Self-Government in Ukraine, Kyiv',\n",
       "  'date': '1992-2016',\n",
       "  'pages': '541'},\n",
       " {'number': '5339',\n",
       "  'link': '/fonds/5338/',\n",
       "  'title': 'State service for the disabled and veterans of Ukraine',\n",
       "  'date': '2007-2016',\n",
       "  'pages': '382'},\n",
       " {'number': '5340',\n",
       "  'link': '/fonds/5339/',\n",
       "  'title': 'State Committee of Ukraine on Regulatory Policy and Entrepreneurship, Kyiv',\n",
       "  'date': '1997-2014',\n",
       "  'pages': '1768'},\n",
       " {'number': '5341',\n",
       "  'link': '/fonds/5340/',\n",
       "  'title': 'Research Financial Institute under the Ministry of Finance of Ukraine',\n",
       "  'date': '1995-2002',\n",
       "  'pages': '272'},\n",
       " {'number': '5342',\n",
       "  'link': '/fonds/5341/',\n",
       "  'title': 'Territorial body \"Department of State Supervision of Maritime Safety of the Fisheries Fleet\" of the State Fisheries Agency of Ukraine, Kyiv',\n",
       "  'date': '2011-2017',\n",
       "  'pages': '76'},\n",
       " {'number': '5343',\n",
       "  'link': '/fonds/5342/',\n",
       "  'title': 'National Agency of Environmental Investments of Ukraine, Kyiv',\n",
       "  'date': '2007-2016',\n",
       "  'pages': '385'},\n",
       " {'number': '5344',\n",
       "  'link': '/fonds/5343/',\n",
       "  'title': 'National Radio Company of Ukraine',\n",
       "  'date': '1995-2015',\n",
       "  'pages': '274'},\n",
       " {'number': '5345',\n",
       "  'link': '/fonds/5344/',\n",
       "  'title': 'Ukrainian industrial association for the production of special and work clothes \"Ukrpromspetsodyag\" of the Ministry of Light Industry of the Ukrainian SSR, Kyiv',\n",
       "  'date': '1975-1988',\n",
       "  'pages': '53'},\n",
       " {'number': '5346',\n",
       "  'link': '/fonds/5345/',\n",
       "  'title': 'State Inspection for the Quality of Textile, Leather, and Fur Raw Materials of the State Committee of Ukraine for Light and Textile Industry, Kyiv',\n",
       "  'date': '1953-1994',\n",
       "  'pages': '116'},\n",
       " {'number': '5347',\n",
       "  'link': '/fonds/5346/',\n",
       "  'title': 'Accounting Chamber',\n",
       "  'date': '1997-2005',\n",
       "  'pages': '1500'},\n",
       " {'number': '5348',\n",
       "  'link': '/fonds/5348/',\n",
       "  'title': 'State Sanitary and Epidemiological Service of Ukraine, Kyiv',\n",
       "  'date': '2011-2018',\n",
       "  'pages': '1435'},\n",
       " {'number': '5349',\n",
       "  'link': '/fonds/5349/',\n",
       "  'title': 'State Intellectual Property Service of the Ministry of Economic Development and Trade of Ukraine and its predecessors, Kyiv (joint fund)',\n",
       "  'date': '1992-2017',\n",
       "  'pages': '745'},\n",
       " {'number': '5350',\n",
       "  'link': '/fonds/5350/',\n",
       "  'title': 'State Department of Financial Monitoring of the Ministry of Finance of Ukraine',\n",
       "  'date': '2003-2004',\n",
       "  'pages': '5'},\n",
       " {'number': '5351',\n",
       "  'link': '/fonds/5351/',\n",
       "  'title': 'The National Commission for State Regulation in the Field of Communal Services, Kyiv',\n",
       "  'date': '2011-2018',\n",
       "  'pages': '385'},\n",
       " {'number': '5352',\n",
       "  'link': '/fonds/5352/',\n",
       "  'title': 'The Supreme Administrative Court of Ukraine (SACU) in Kyiv',\n",
       "  'date': '2004-2015',\n",
       "  'pages': '2088'},\n",
       " {'number': '5353',\n",
       "  'link': '/fonds/5359/',\n",
       "  'title': 'Center for design and implementation of labor organization and management \"Proektlegpromorganizatsia\" of the State Corporation of Light Industry Manufacturers \"Legtex\", Kyiv',\n",
       "  'date': '1962-1992',\n",
       "  'pages': '85'},\n",
       " {'number': '5354',\n",
       "  'link': '/fonds/5353/',\n",
       "  'title': 'Ukrainian Construction and Assembly Trust \"Ukrremlegbud\" of the State Corporation of Light Industry Manufacturers \"Legtex\" and its subordinate organizations, Kyiv (joint fund)',\n",
       "  'date': '1967-1993',\n",
       "  'pages': '156'},\n",
       " {'number': '5355',\n",
       "  'link': '/fonds/5358/',\n",
       "  'title': 'The State Architectural and Construction Inspection of Ukraine and its predecessors: the State Architectural and Construction Inspection of the Ministry of Regional Development and Construction of Ukraine and the State Housing and Communal Inspection of the Ministry of Housing and Communal Affairs of Ukraine, Kyiv (joint fund)',\n",
       "  'date': '2006-2021',\n",
       "  'pages': '2287'},\n",
       " {'number': '5356',\n",
       "  'link': '/fonds/5357/',\n",
       "  'title': 'The Ministry of Emergency Situations and Protection of the Population from the Consequences of the Chernobyl Disaster and its predecessor: the Civil Defense Headquarters of Ukraine (joint fund), Kyiv',\n",
       "  'date': '1960-2005',\n",
       "  'pages': '505'},\n",
       " {'number': '5357',\n",
       "  'link': '/fonds/5355/',\n",
       "  'title': 'Financial Control Office, Kyiv',\n",
       "  'date': '2020-2020',\n",
       "  'pages': '19'},\n",
       " {'number': '5358',\n",
       "  'link': '/fonds/5356/',\n",
       "  'title': 'State Agency of Ukraine on Art Education',\n",
       "  'date': '2019-2020',\n",
       "  'pages': '6'},\n",
       " {'number': '5359',\n",
       "  'link': '/fonds/5360/',\n",
       "  'title': 'State Urban Planning Inspection of Ukraine, Kyiv',\n",
       "  'date': '2020-2021',\n",
       "  'pages': '38'},\n",
       " {'number': '5360',\n",
       "  'link': '/fonds/5361/',\n",
       "  'title': 'State Urban Planning Service of Ukraine of the Ministry of Development of Communities and Territories of Ukraine, Kyiv',\n",
       "  'date': '2020-2021',\n",
       "  'pages': '31'},\n",
       " {'number': '5361',\n",
       "  'link': '/fonds/5362/',\n",
       "  'title': 'State Fiscal Service of Ukraine and its predecessor: Ministry of Revenue and Duties of Ukraine, Kyiv (joint fund)',\n",
       "  'date': '2013-2020',\n",
       "  'pages': '107'},\n",
       " {'number': '5362',\n",
       "  'link': '/fonds/5364/',\n",
       "  'title': 'Center for Comprehensive Research on Antimonopoly Policy, Kyiv',\n",
       "  'date': '1996-2021',\n",
       "  'pages': '81'},\n",
       " {'number': '5363',\n",
       "  'link': '/fonds/5365/',\n",
       "  'title': 'State Committee for Nuclear Regulation of Ukraine (State Nuclear Regulation), Kyiv',\n",
       "  'date': '1984-2004',\n",
       "  'pages': '351'}]"
      ]
     },
     "execution_count": 25,
     "metadata": {},
     "output_type": "execute_result"
    }
   ],
   "source": [
    "fonds[3400:]"
   ]
  },
  {
   "cell_type": "code",
   "execution_count": null,
   "metadata": {},
   "outputs": [],
   "source": []
  },
  {
   "cell_type": "code",
   "execution_count": null,
   "metadata": {},
   "outputs": [],
   "source": []
  },
  {
   "cell_type": "code",
   "execution_count": null,
   "metadata": {},
   "outputs": [],
   "source": []
  },
  {
   "cell_type": "code",
   "execution_count": 13,
   "metadata": {},
   "outputs": [],
   "source": [
    "o, d = load_fond(base + fond_index['3']['link'])"
   ]
  },
  {
   "cell_type": "code",
   "execution_count": 14,
   "metadata": {},
   "outputs": [
    {
     "data": {
      "text/plain": [
       "4"
      ]
     },
     "execution_count": 14,
     "metadata": {},
     "output_type": "execute_result"
    }
   ],
   "source": [
    "len(o)"
   ]
  },
  {
   "cell_type": "code",
   "execution_count": 15,
   "metadata": {},
   "outputs": [
    {
     "data": {
      "text/plain": [
       "\"Renaming:\\n09/14/1921-07/06/1923 Commissioner of the Ukrainian SSR in matters of economic construction at the Workers' and Peasants' Government of the RSFSR, Moscow; 07/06/1923-1931 Permanent Representation of the USSR to the Government of the USSR, Moscow;\\n1931-1946 Permanent Representation of the RSC of the Ukrainian SSR at the Government of the RSC of the USSR, Moscow;\\n1946- Permanent representation of the RM of the Ukrainian SSR at the RM of the USSR\""
      ]
     },
     "execution_count": 15,
     "metadata": {},
     "output_type": "execute_result"
    }
   ],
   "source": [
    "d"
   ]
  },
  {
   "cell_type": "code",
   "execution_count": 20,
   "metadata": {},
   "outputs": [],
   "source": [
    "t = OpusTable('3', 2)"
   ]
  },
  {
   "cell_type": "code",
   "execution_count": null,
   "metadata": {},
   "outputs": [],
   "source": []
  },
  {
   "cell_type": "code",
   "execution_count": 17,
   "metadata": {},
   "outputs": [
    {
     "data": {
      "text/plain": [
       "<tsdavo.OpusTable at 0x7fe4304071f0>"
      ]
     },
     "execution_count": 17,
     "metadata": {},
     "output_type": "execute_result"
    }
   ],
   "source": [
    "t"
   ]
  },
  {
   "cell_type": "code",
   "execution_count": 21,
   "metadata": {},
   "outputs": [],
   "source": [
    "t._cases"
   ]
  },
  {
   "cell_type": "code",
   "execution_count": null,
   "metadata": {},
   "outputs": [],
   "source": []
  },
  {
   "cell_type": "code",
   "execution_count": 19,
   "metadata": {},
   "outputs": [
    {
     "data": {
      "text/plain": [
       "{'number': '3',\n",
       " 'link': '/fonds/3/',\n",
       " 'title': 'Permanent representation of the RM of the Ukrainian SSR at the RM of the USSR, Moscow',\n",
       " 'date': '1921-1980',\n",
       " 'pages': '8898'}"
      ]
     },
     "execution_count": 19,
     "metadata": {},
     "output_type": "execute_result"
    }
   ],
   "source": [
    "fond_index['3']"
   ]
  },
  {
   "cell_type": "code",
   "execution_count": null,
   "metadata": {},
   "outputs": [],
   "source": []
  },
  {
   "cell_type": "code",
   "execution_count": null,
   "metadata": {},
   "outputs": [],
   "source": []
  },
  {
   "cell_type": "code",
   "execution_count": null,
   "metadata": {},
   "outputs": [],
   "source": []
  },
  {
   "cell_type": "code",
   "execution_count": 5,
   "metadata": {},
   "outputs": [
    {
     "data": {
      "text/plain": [
       "{'number': '1',\n",
       " 'link': '/fonds/1/',\n",
       " 'title': 'Verkhovna Rada of Ukraine, Kyiv',\n",
       " 'date': '1917-2017',\n",
       " 'pages': '59606'}"
      ]
     },
     "execution_count": 5,
     "metadata": {},
     "output_type": "execute_result"
    }
   ],
   "source": [
    "fonds[0]"
   ]
  },
  {
   "cell_type": "code",
   "execution_count": null,
   "metadata": {},
   "outputs": [],
   "source": []
  },
  {
   "cell_type": "code",
   "execution_count": null,
   "metadata": {},
   "outputs": [],
   "source": [
    "keywords = ['pogrom', 'jewish', 'anti-semitism', 'hebrew', 'camps', 'judaic', 'judaism']\n",
    "pattern = '|'.join(keywords)\n",
    "exp = re.compile(pattern, re.IGNORECASE)"
   ]
  },
  {
   "cell_type": "code",
   "execution_count": null,
   "metadata": {},
   "outputs": [],
   "source": [
    "if re.search(exp, 'dfskfhdskjlfdsjfkl sdfkljfds Hebrew fg jsdfklgjfd slgkj sdfkglj fdsjkg df'):\n",
    "    print('found')"
   ]
  },
  {
   "cell_type": "code",
   "execution_count": null,
   "metadata": {},
   "outputs": [],
   "source": [
    "t = OpusTable('1', 1)\n",
    "t.load()"
   ]
  },
  {
   "cell_type": "code",
   "execution_count": null,
   "metadata": {},
   "outputs": [],
   "source": [
    "t.scan_for_keywords(keywords)"
   ]
  },
  {
   "cell_type": "code",
   "execution_count": null,
   "metadata": {},
   "outputs": [],
   "source": [
    "t = OpusTable('1123', 1)\n",
    "o, c = t.scan_for_keywords(keywords)\n",
    "any(c)"
   ]
  },
  {
   "cell_type": "code",
   "execution_count": 1,
   "metadata": {},
   "outputs": [],
   "source": [
    "from google.cloud import translate_v2 as translate"
   ]
  },
  {
   "cell_type": "code",
   "execution_count": 2,
   "metadata": {},
   "outputs": [
    {
     "ename": "DefaultCredentialsError",
     "evalue": "Your default credentials were not found. To set up Application Default Credentials, see https://cloud.google.com/docs/authentication/external/set-up-adc for more information.",
     "output_type": "error",
     "traceback": [
      "\u001b[0;31m---------------------------------------------------------------------------\u001b[0m",
      "\u001b[0;31mDefaultCredentialsError\u001b[0m                   Traceback (most recent call last)",
      "\u001b[0;32m<ipython-input-2-d26da2bf8f46>\u001b[0m in \u001b[0;36m<module>\u001b[0;34m\u001b[0m\n\u001b[0;32m----> 1\u001b[0;31m \u001b[0mtranslate_client\u001b[0m \u001b[0;34m=\u001b[0m \u001b[0mtranslate\u001b[0m\u001b[0;34m.\u001b[0m\u001b[0mClient\u001b[0m\u001b[0;34m(\u001b[0m\u001b[0;34m)\u001b[0m\u001b[0;34m\u001b[0m\u001b[0;34m\u001b[0m\u001b[0m\n\u001b[0m",
      "\u001b[0;32m/usr/local/anaconda3/lib/python3.8/site-packages/google/cloud/translate_v2/client.py\u001b[0m in \u001b[0;36m__init__\u001b[0;34m(self, target_language, credentials, _http, client_info, client_options)\u001b[0m\n\u001b[1;32m     80\u001b[0m     ):\n\u001b[1;32m     81\u001b[0m         \u001b[0mself\u001b[0m\u001b[0;34m.\u001b[0m\u001b[0mtarget_language\u001b[0m \u001b[0;34m=\u001b[0m \u001b[0mtarget_language\u001b[0m\u001b[0;34m\u001b[0m\u001b[0;34m\u001b[0m\u001b[0m\n\u001b[0;32m---> 82\u001b[0;31m         \u001b[0msuper\u001b[0m\u001b[0;34m(\u001b[0m\u001b[0mClient\u001b[0m\u001b[0;34m,\u001b[0m \u001b[0mself\u001b[0m\u001b[0;34m)\u001b[0m\u001b[0;34m.\u001b[0m\u001b[0m__init__\u001b[0m\u001b[0;34m(\u001b[0m\u001b[0mcredentials\u001b[0m\u001b[0;34m=\u001b[0m\u001b[0mcredentials\u001b[0m\u001b[0;34m,\u001b[0m \u001b[0m_http\u001b[0m\u001b[0;34m=\u001b[0m\u001b[0m_http\u001b[0m\u001b[0;34m)\u001b[0m\u001b[0;34m\u001b[0m\u001b[0;34m\u001b[0m\u001b[0m\n\u001b[0m\u001b[1;32m     83\u001b[0m \u001b[0;34m\u001b[0m\u001b[0m\n\u001b[1;32m     84\u001b[0m         \u001b[0mkw_args\u001b[0m \u001b[0;34m=\u001b[0m \u001b[0;34m{\u001b[0m\u001b[0;34m\"client_info\"\u001b[0m\u001b[0;34m:\u001b[0m \u001b[0mclient_info\u001b[0m\u001b[0;34m}\u001b[0m\u001b[0;34m\u001b[0m\u001b[0;34m\u001b[0m\u001b[0m\n",
      "\u001b[0;32m/usr/local/anaconda3/lib/python3.8/site-packages/google/cloud/client.py\u001b[0m in \u001b[0;36m__init__\u001b[0;34m(self, credentials, _http, client_options)\u001b[0m\n\u001b[1;32m    176\u001b[0m                 )\n\u001b[1;32m    177\u001b[0m             \u001b[0;32melse\u001b[0m\u001b[0;34m:\u001b[0m\u001b[0;34m\u001b[0m\u001b[0;34m\u001b[0m\u001b[0m\n\u001b[0;32m--> 178\u001b[0;31m                 \u001b[0mcredentials\u001b[0m\u001b[0;34m,\u001b[0m \u001b[0m_\u001b[0m \u001b[0;34m=\u001b[0m \u001b[0mgoogle\u001b[0m\u001b[0;34m.\u001b[0m\u001b[0mauth\u001b[0m\u001b[0;34m.\u001b[0m\u001b[0mdefault\u001b[0m\u001b[0;34m(\u001b[0m\u001b[0mscopes\u001b[0m\u001b[0;34m=\u001b[0m\u001b[0mscopes\u001b[0m\u001b[0;34m)\u001b[0m\u001b[0;34m\u001b[0m\u001b[0;34m\u001b[0m\u001b[0m\n\u001b[0m\u001b[1;32m    179\u001b[0m \u001b[0;34m\u001b[0m\u001b[0m\n\u001b[1;32m    180\u001b[0m         self._credentials = google.auth.credentials.with_scopes_if_required(\n",
      "\u001b[0;32m/usr/local/anaconda3/lib/python3.8/site-packages/google/auth/_default.py\u001b[0m in \u001b[0;36mdefault\u001b[0;34m(scopes, request, quota_project_id, default_scopes)\u001b[0m\n\u001b[1;32m    689\u001b[0m             \u001b[0;32mreturn\u001b[0m \u001b[0mcredentials\u001b[0m\u001b[0;34m,\u001b[0m \u001b[0meffective_project_id\u001b[0m\u001b[0;34m\u001b[0m\u001b[0;34m\u001b[0m\u001b[0m\n\u001b[1;32m    690\u001b[0m \u001b[0;34m\u001b[0m\u001b[0m\n\u001b[0;32m--> 691\u001b[0;31m     \u001b[0;32mraise\u001b[0m \u001b[0mexceptions\u001b[0m\u001b[0;34m.\u001b[0m\u001b[0mDefaultCredentialsError\u001b[0m\u001b[0;34m(\u001b[0m\u001b[0m_CLOUD_SDK_MISSING_CREDENTIALS\u001b[0m\u001b[0;34m)\u001b[0m\u001b[0;34m\u001b[0m\u001b[0;34m\u001b[0m\u001b[0m\n\u001b[0m",
      "\u001b[0;31mDefaultCredentialsError\u001b[0m: Your default credentials were not found. To set up Application Default Credentials, see https://cloud.google.com/docs/authentication/external/set-up-adc for more information."
     ]
    }
   ],
   "source": [
    "translate_client = translate.Client()"
   ]
  },
  {
   "cell_type": "code",
   "execution_count": null,
   "metadata": {},
   "outputs": [],
   "source": []
  },
  {
   "cell_type": "code",
   "execution_count": null,
   "metadata": {},
   "outputs": [],
   "source": []
  },
  {
   "cell_type": "code",
   "execution_count": null,
   "metadata": {},
   "outputs": [],
   "source": []
  },
  {
   "cell_type": "code",
   "execution_count": null,
   "metadata": {},
   "outputs": [],
   "source": []
  },
  {
   "cell_type": "code",
   "execution_count": null,
   "metadata": {},
   "outputs": [],
   "source": []
  },
  {
   "cell_type": "code",
   "execution_count": null,
   "metadata": {},
   "outputs": [],
   "source": [
    "t = OpusTable('1688', 1)\n",
    "t.scan_for_keywords(keywords)"
   ]
  },
  {
   "cell_type": "code",
   "execution_count": null,
   "metadata": {},
   "outputs": [],
   "source": [
    "for fond in fonds[:3]:\n",
    "    print('Scanning fond:', fond['number'], fond['title'])\n",
    "    opi, description = load_fond(base + fond['link'])\n",
    "    print('    ', len(opi), 'opi')\n",
    "    for i in range(len(opi)):\n",
    "        opus = OpusTable(fond['number'], i + 1)\n",
    "        opus_match, case_match = opus.scan_for_keywords(keywords)\n",
    "        if opus_match:\n",
    "            print('        match opus:', opus._opus_id)\n",
    "            for i, match in enumerate(case_match):\n",
    "                if match:\n",
    "                    print('        match case:', case_match[i]['title'], case_match[i]['link'])"
   ]
  },
  {
   "cell_type": "code",
   "execution_count": null,
   "metadata": {},
   "outputs": [],
   "source": []
  },
  {
   "cell_type": "code",
   "execution_count": null,
   "metadata": {},
   "outputs": [],
   "source": []
  },
  {
   "cell_type": "code",
   "execution_count": null,
   "metadata": {},
   "outputs": [],
   "source": []
  }
 ],
 "metadata": {
  "kernelspec": {
   "display_name": "Python 3 (ipykernel)",
   "language": "python",
   "name": "python3"
  },
  "language_info": {
   "codemirror_mode": {
    "name": "ipython",
    "version": 3
   },
   "file_extension": ".py",
   "mimetype": "text/x-python",
   "name": "python",
   "nbconvert_exporter": "python",
   "pygments_lexer": "ipython3",
   "version": "3.11.5"
  }
 },
 "nbformat": 4,
 "nbformat_minor": 4
}
