{
 "cells": [
  {
   "cell_type": "code",
   "execution_count": 1,
   "metadata": {},
   "outputs": [
    {
     "data": {
      "text/plain": [
       "PosixPath('/Users/jbrandt/code/birddog')"
      ]
     },
     "execution_count": 1,
     "metadata": {},
     "output_type": "execute_result"
    }
   ],
   "source": [
    "import os\n",
    "from pathlib import Path\n",
    "# Change cwd to the project root (parent of 'notebooks/')\n",
    "os.chdir(Path.cwd().parent)\n",
    "Path.cwd()"
   ]
  },
  {
   "cell_type": "code",
   "execution_count": 2,
   "metadata": {},
   "outputs": [
    {
     "name": "stdout",
     "output_type": "stream",
     "text": [
      "2025-04-09 21:54:14,197 [INFO] Using local folder /Users/jbrandt/code/birddog/.cache for storage.\n"
     ]
    }
   ],
   "source": [
    "from birddog.core import Archive, Fond, Opus, ARCHIVE_LIST"
   ]
  },
  {
   "cell_type": "code",
   "execution_count": 3,
   "metadata": {},
   "outputs": [
    {
     "data": {
      "text/plain": [
       "{'DAARC': 'Архів:ДААРК',\n",
       " 'DACHGO': 'Архів:ДАЧгО',\n",
       " 'DACHkO': 'Архів:ДАЧкО',\n",
       " 'DADNO': 'Архів:ДАДнО',\n",
       " 'DAHO': 'Архів:ДАХО',\n",
       " 'DAHeO': 'Архів:ДАХеО',\n",
       " 'DAHmO': 'Архів:ДАХмО',\n",
       " 'DAIFO': 'Архів:ДАІФО',\n",
       " 'DAK': 'Архів:ДАК',\n",
       " 'DAKO': 'Архів:ДАКО',\n",
       " 'DAKrO': 'Архів:ДАКрО',\n",
       " 'DALO': 'Архів:ДАЛО',\n",
       " 'DALuO': 'Архів:ДАЛуО',\n",
       " 'DAMO': 'Архів:ДАМО',\n",
       " 'DAOO': 'Архів:ДАОО',\n",
       " 'DAPO': 'Архів:ДАПО',\n",
       " 'DARO': 'Архів:ДАРО',\n",
       " 'DAS': 'Архів:ДАС',\n",
       " 'DASO': 'Архів:ДАСО',\n",
       " 'DAVIO': 'Архів:ДАВіО',\n",
       " 'DAVOO': 'Архів:ДАВоО',\n",
       " 'DAZHO': 'Архів:ДАЖО',\n",
       " 'DAZKO': 'Архів:ДАЗкО',\n",
       " 'DAZpO': 'Архів:ДАЗпО'}"
      ]
     },
     "execution_count": 3,
     "metadata": {},
     "output_type": "execute_result"
    }
   ],
   "source": [
    "ARCHIVE_LIST"
   ]
  },
  {
   "cell_type": "code",
   "execution_count": 4,
   "metadata": {},
   "outputs": [
    {
     "name": "stdout",
     "output_type": "stream",
     "text": [
      "2025-04-09 21:54:15,256 [INFO] get_page_history: https://uk.wikisource.org/w/index.php?action=history&title=%D0%90%D1%80%D1%85%D1%96%D0%B2%3A%D0%94%D0%90%D0%96%D0%9E/%D0%94&limit=1\n",
      "2025-04-09 21:54:15,657 [INFO] Retrieved from cache: DAZHO-D[2025,01,19,12:47]: page_cache/DAZHO-D/2025,01,19,12:47.json\n",
      "archive,DAZHO-D,2025,01,19,12:47\n",
      "DAZHO-D\n",
      "https://uk.wikisource.org/wiki/%D0%90%D1%80%D1%85%D1%96%D0%B2%3A%D0%94%D0%90%D0%96%D0%9E/%D0%94\n"
     ]
    }
   ],
   "source": [
    "a=Archive('DAZHO','D')\n",
    "print(a.report)\n",
    "print(a.name)\n",
    "print(a.default_url)"
   ]
  },
  {
   "cell_type": "code",
   "execution_count": 5,
   "metadata": {},
   "outputs": [
    {
     "name": "stdout",
     "output_type": "stream",
     "text": [
      "DAZHO-D\n"
     ]
    }
   ],
   "source": [
    "print(a.name)"
   ]
  },
  {
   "cell_type": "code",
   "execution_count": 6,
   "metadata": {},
   "outputs": [
    {
     "name": "stdout",
     "output_type": "stream",
     "text": [
      "2025-04-09 21:54:18,263 [INFO] get_page_history: https://uk.wikisource.org/w/index.php?action=history&title=%D0%90%D1%80%D1%85%D1%96%D0%B2:%D0%94%D0%90%D0%96%D0%9E/146&limit=1\n",
      "2025-04-09 21:54:18,649 [INFO] Retrieved from cache: DAZHO-D/146[2024,11,17,11:33]: page_cache/DAZHO-D/146/2024,11,17,11:33.json\n",
      "2025-04-09 21:54:18,650 [INFO] get_page_history: https://uk.wikisource.org/w/index.php?action=history&title=%D0%90%D1%80%D1%85%D1%96%D0%B2:%D0%94%D0%90%D0%96%D0%9E/146/1&limit=1\n",
      "2025-04-09 21:54:18,997 [INFO] Loading page: DAZHO-D/146/1 from https://uk.wikisource.org/wiki/%D0%90%D1%80%D1%85%D1%96%D0%B2:%D0%94%D0%90%D0%96%D0%9E/146/1\n"
     ]
    }
   ],
   "source": [
    "opus = a.lookup('146').lookup('1')"
   ]
  },
  {
   "cell_type": "code",
   "execution_count": 7,
   "metadata": {},
   "outputs": [
    {
     "name": "stdout",
     "output_type": "stream",
     "text": [
      "2025-04-09 21:54:19,971 [INFO] get_page_history: https://commons.wikimedia.org/w/index.php?action=history&title=File:%D0%94%D0%90%D0%96%D0%9E_146-1-630_%D0%90%D0%BB%D0%B5%D0%BA%D1%81%D0%B5%D0%B5%D0%B2%D0%B8%D1%85.pdf&limit=1\n",
      "2025-04-09 21:54:20,568 [INFO] Loading page: DAZHO-D/146/1/630 from https://commons.wikimedia.org/wiki/File:%D0%94%D0%90%D0%96%D0%9E_146-1-630_%D0%90%D0%BB%D0%B5%D0%BA%D1%81%D0%B5%D0%B5%D0%B2%D0%B8%D1%85.pdf\n"
     ]
    }
   ],
   "source": [
    "c630 = opus.lookup('630')"
   ]
  },
  {
   "cell_type": "code",
   "execution_count": 8,
   "metadata": {},
   "outputs": [
    {
     "data": {
      "text/plain": [
       "'https://commons.wikimedia.org/wiki/File:%D0%94%D0%90%D0%96%D0%9E_146-1-630_%D0%90%D0%BB%D0%B5%D0%BA%D1%81%D0%B5%D0%B5%D0%B2%D0%B8%D1%85.pdf'"
      ]
     },
     "execution_count": 8,
     "metadata": {},
     "output_type": "execute_result"
    }
   ],
   "source": [
    "c630.default_url"
   ]
  },
  {
   "cell_type": "code",
   "execution_count": 9,
   "metadata": {},
   "outputs": [
    {
     "data": {
      "text/plain": [
       "[[{'text': {'uk': 'current', 'en': 'current'}, 'link': None},\n",
       "  {'text': {'uk': '12:40, 25 October 2024', 'en': '12:40, 25 October 2024'},\n",
       "   'link': 'https://upload.wikimedia.org/wikipedia/commons/f/f8/%D0%94%D0%90%D0%96%D0%9E_146-1-630_%D0%90%D0%BB%D0%B5%D0%BA%D1%81%D0%B5%D0%B5%D0%B2%D0%B8%D1%85.pdf'},\n",
       "  {'text': {'uk': '', 'en': ''},\n",
       "   'link': 'https://upload.wikimedia.org/wikipedia/commons/f/f8/%D0%94%D0%90%D0%96%D0%9E_146-1-630_%D0%90%D0%BB%D0%B5%D0%BA%D1%81%D0%B5%D0%B5%D0%B2%D0%B8%D1%85.pdf'},\n",
       "  {'text': {'uk': '1,239 × 1,645, 5 pages (14.56 MB)'}, 'link': None},\n",
       "  {'text': {'uk': 'VolodymyrKuch (talk | contribs)',\n",
       "    'en': 'VolodymyrKuch (talk | contribs)'},\n",
       "   'link': '/w/index.php?title=User:VolodymyrKuch&action=edit&redlink=1'},\n",
       "  {'text': {'uk': 'Uploaded own work with UploadWizard',\n",
       "    'en': 'Uploaded own work with UploadWizard'},\n",
       "   'link': None}]]"
      ]
     },
     "execution_count": 9,
     "metadata": {},
     "output_type": "execute_result"
    }
   ],
   "source": [
    "c630.children"
   ]
  },
  {
   "cell_type": "code",
   "execution_count": null,
   "metadata": {},
   "outputs": [],
   "source": []
  },
  {
   "cell_type": "code",
   "execution_count": null,
   "metadata": {},
   "outputs": [],
   "source": [
    "import re"
   ]
  },
  {
   "cell_type": "code",
   "execution_count": null,
   "metadata": {},
   "outputs": [],
   "source": []
  },
  {
   "cell_type": "code",
   "execution_count": null,
   "metadata": {},
   "outputs": [],
   "source": []
  },
  {
   "cell_type": "code",
   "execution_count": null,
   "metadata": {},
   "outputs": [],
   "source": []
  },
  {
   "cell_type": "code",
   "execution_count": null,
   "metadata": {},
   "outputs": [],
   "source": [
    "f=a.lookup('Р-1303')"
   ]
  },
  {
   "cell_type": "code",
   "execution_count": null,
   "metadata": {},
   "outputs": [],
   "source": [
    "f.name"
   ]
  },
  {
   "cell_type": "code",
   "execution_count": null,
   "metadata": {},
   "outputs": [],
   "source": [
    "a.children"
   ]
  },
  {
   "cell_type": "code",
   "execution_count": null,
   "metadata": {},
   "outputs": [],
   "source": []
  },
  {
   "cell_type": "code",
   "execution_count": null,
   "metadata": {},
   "outputs": [],
   "source": [
    "f._page"
   ]
  },
  {
   "cell_type": "code",
   "execution_count": null,
   "metadata": {},
   "outputs": [],
   "source": []
  },
  {
   "cell_type": "code",
   "execution_count": null,
   "metadata": {},
   "outputs": [],
   "source": [
    "a.page['description']"
   ]
  },
  {
   "cell_type": "code",
   "execution_count": null,
   "metadata": {},
   "outputs": [],
   "source": [
    "a._page"
   ]
  },
  {
   "cell_type": "code",
   "execution_count": null,
   "metadata": {},
   "outputs": [],
   "source": [
    "a.default_url"
   ]
  },
  {
   "cell_type": "code",
   "execution_count": null,
   "metadata": {},
   "outputs": [],
   "source": [
    "f = a.lookup('1')\n",
    "print(f.report)\n",
    "print(f.name)"
   ]
  },
  {
   "cell_type": "code",
   "execution_count": null,
   "metadata": {},
   "outputs": [],
   "source": [
    "o = f.lookup('74')\n",
    "print(o.report)\n",
    "print(len(o.children))\n",
    "print(o.name)"
   ]
  },
  {
   "cell_type": "code",
   "execution_count": null,
   "metadata": {},
   "outputs": [],
   "source": [
    "c = o.lookup('1')\n",
    "print(c.report)"
   ]
  },
  {
   "cell_type": "code",
   "execution_count": null,
   "metadata": {},
   "outputs": [],
   "source": [
    "c.id"
   ]
  },
  {
   "cell_type": "code",
   "execution_count": null,
   "metadata": {},
   "outputs": [],
   "source": [
    "c.name"
   ]
  },
  {
   "cell_type": "code",
   "execution_count": null,
   "metadata": {},
   "outputs": [],
   "source": [
    "c.lastmod"
   ]
  },
  {
   "cell_type": "code",
   "execution_count": null,
   "metadata": {},
   "outputs": [],
   "source": [
    "c.description"
   ]
  },
  {
   "cell_type": "code",
   "execution_count": null,
   "metadata": {},
   "outputs": [],
   "source": [
    "c.translate()"
   ]
  },
  {
   "cell_type": "code",
   "execution_count": null,
   "metadata": {},
   "outputs": [],
   "source": [
    "f.translate()"
   ]
  },
  {
   "cell_type": "code",
   "execution_count": null,
   "metadata": {},
   "outputs": [],
   "source": [
    "f.description"
   ]
  },
  {
   "cell_type": "code",
   "execution_count": null,
   "metadata": {},
   "outputs": [],
   "source": [
    "a.lookup('1').description"
   ]
  },
  {
   "cell_type": "code",
   "execution_count": null,
   "metadata": {},
   "outputs": [],
   "source": [
    "a.lookup('1').lookup('75').lastmod"
   ]
  },
  {
   "cell_type": "code",
   "execution_count": null,
   "metadata": {},
   "outputs": [],
   "source": [
    "a.lastmod"
   ]
  },
  {
   "cell_type": "code",
   "execution_count": null,
   "metadata": {},
   "outputs": [],
   "source": [
    "c._page"
   ]
  },
  {
   "cell_type": "code",
   "execution_count": null,
   "metadata": {},
   "outputs": [],
   "source": [
    "o.lookup('1').description"
   ]
  },
  {
   "cell_type": "code",
   "execution_count": null,
   "metadata": {},
   "outputs": [],
   "source": [
    "c.description"
   ]
  },
  {
   "cell_type": "code",
   "execution_count": null,
   "metadata": {},
   "outputs": [],
   "source": [
    "f.latest()"
   ]
  },
  {
   "cell_type": "code",
   "execution_count": null,
   "metadata": {},
   "outputs": [],
   "source": [
    "opus1_74 = a.lookup('1').lookup('74')"
   ]
  },
  {
   "cell_type": "code",
   "execution_count": null,
   "metadata": {},
   "outputs": [],
   "source": [
    "opus1_74.translate()"
   ]
  },
  {
   "cell_type": "code",
   "execution_count": null,
   "metadata": {},
   "outputs": [],
   "source": [
    "opus1_74.latest()"
   ]
  },
  {
   "cell_type": "code",
   "execution_count": null,
   "metadata": {},
   "outputs": [],
   "source": [
    "fonds = ['1', '2', '9', '17', '27', '58', '62']"
   ]
  },
  {
   "cell_type": "code",
   "execution_count": null,
   "metadata": {},
   "outputs": [],
   "source": [
    "for f in fonds:\n",
    "    fond = a.lookup(f)\n",
    "    print(fond.report)\n",
    "    print(fond.name)"
   ]
  },
  {
   "cell_type": "code",
   "execution_count": null,
   "metadata": {},
   "outputs": [],
   "source": [
    "for f in fonds:\n",
    "    fond = a.lookup(f)\n",
    "    fond.translate()\n",
    "    print(fond.report, fond.description)"
   ]
  },
  {
   "cell_type": "code",
   "execution_count": null,
   "metadata": {},
   "outputs": [],
   "source": [
    "opi = [('1', '74'), \n",
    "       ('1', '75'),\n",
    "       ('1', '77'),\n",
    "       ('2', '1'),\n",
    "       ('9', '1'),\n",
    "       ('17', '2'),\n",
    "       ('27', '1'),\n",
    "       ('58', '1'),\n",
    "       ('62', '1')\n",
    "       ]"
   ]
  },
  {
   "cell_type": "code",
   "execution_count": null,
   "metadata": {},
   "outputs": [],
   "source": [
    "for o in opi:\n",
    "    print(a.lookup(o[0]).lookup(o[1]).report)"
   ]
  },
  {
   "cell_type": "code",
   "execution_count": null,
   "metadata": {},
   "outputs": [],
   "source": [
    "for o in opi:\n",
    "    opus = a.lookup(o[0]).lookup(o[1])\n",
    "    #opus.translate()\n",
    "    print(opus.name, opus.report, opus.description)"
   ]
  },
  {
   "cell_type": "code",
   "execution_count": null,
   "metadata": {},
   "outputs": [],
   "source": [
    "a.subarchive"
   ]
  },
  {
   "cell_type": "code",
   "execution_count": null,
   "metadata": {},
   "outputs": [],
   "source": [
    "a.name"
   ]
  },
  {
   "cell_type": "code",
   "execution_count": null,
   "metadata": {},
   "outputs": [],
   "source": [
    "opus_115_1 = Archive('DAZHO', 'D').lookup('115').lookup('1')"
   ]
  },
  {
   "cell_type": "code",
   "execution_count": null,
   "metadata": {},
   "outputs": [],
   "source": [
    "history = opus_115_1.history(cutoff_date='2023')"
   ]
  },
  {
   "cell_type": "code",
   "execution_count": null,
   "metadata": {},
   "outputs": [],
   "source": [
    "len(history)"
   ]
  },
  {
   "cell_type": "code",
   "execution_count": null,
   "metadata": {},
   "outputs": [],
   "source": [
    "hist_by_day = {}\n",
    "for h in history:\n",
    "    day = h['modified'][:10]\n",
    "    if day not in hist_by_day:\n",
    "        hist_by_day[day] = h\n",
    "hist_by_day = sorted(hist_by_day.values(), key=lambda x: x['modified'], reverse=True)\n",
    "hist_by_day"
   ]
  },
  {
   "cell_type": "code",
   "execution_count": null,
   "metadata": {},
   "outputs": [],
   "source": [
    "not 0"
   ]
  },
  {
   "cell_type": "code",
   "execution_count": null,
   "metadata": {},
   "outputs": [],
   "source": [
    "opus_115_1.page.get('title', False)"
   ]
  },
  {
   "cell_type": "code",
   "execution_count": null,
   "metadata": {},
   "outputs": [],
   "source": []
  },
  {
   "cell_type": "code",
   "execution_count": null,
   "metadata": {},
   "outputs": [],
   "source": [
    "opus_115_1.page.keys()"
   ]
  },
  {
   "cell_type": "code",
   "execution_count": null,
   "metadata": {},
   "outputs": [],
   "source": [
    "opus_115_1.page.get(None)"
   ]
  },
  {
   "cell_type": "code",
   "execution_count": null,
   "metadata": {},
   "outputs": [],
   "source": []
  },
  {
   "cell_type": "code",
   "execution_count": null,
   "metadata": {},
   "outputs": [],
   "source": []
  },
  {
   "cell_type": "code",
   "execution_count": null,
   "metadata": {},
   "outputs": [],
   "source": []
  },
  {
   "cell_type": "code",
   "execution_count": null,
   "metadata": {},
   "outputs": [],
   "source": []
  },
  {
   "cell_type": "code",
   "execution_count": null,
   "metadata": {},
   "outputs": [],
   "source": []
  },
  {
   "cell_type": "code",
   "execution_count": null,
   "metadata": {},
   "outputs": [],
   "source": []
  },
  {
   "cell_type": "code",
   "execution_count": null,
   "metadata": {},
   "outputs": [],
   "source": []
  },
  {
   "cell_type": "code",
   "execution_count": null,
   "metadata": {},
   "outputs": [],
   "source": []
  },
  {
   "cell_type": "code",
   "execution_count": null,
   "metadata": {},
   "outputs": [],
   "source": []
  },
  {
   "cell_type": "code",
   "execution_count": null,
   "metadata": {},
   "outputs": [],
   "source": []
  },
  {
   "cell_type": "code",
   "execution_count": null,
   "metadata": {},
   "outputs": [],
   "source": []
  },
  {
   "cell_type": "code",
   "execution_count": null,
   "metadata": {},
   "outputs": [],
   "source": []
  },
  {
   "cell_type": "code",
   "execution_count": null,
   "metadata": {},
   "outputs": [],
   "source": []
  }
 ],
 "metadata": {
  "kernelspec": {
   "display_name": "Python 3 (ipykernel)",
   "language": "python",
   "name": "python3"
  },
  "language_info": {
   "codemirror_mode": {
    "name": "ipython",
    "version": 3
   },
   "file_extension": ".py",
   "mimetype": "text/x-python",
   "name": "python",
   "nbconvert_exporter": "python",
   "pygments_lexer": "ipython3",
   "version": "3.12.9"
  }
 },
 "nbformat": 4,
 "nbformat_minor": 4
}
