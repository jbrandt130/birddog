{
 "cells": [
  {
   "cell_type": "code",
   "execution_count": 1,
   "id": "4c151408-a3be-4bd5-a572-1803ee7d01fa",
   "metadata": {},
   "outputs": [
    {
     "data": {
      "text/plain": [
       "PosixPath('/Users/jbrandt/code/birddog')"
      ]
     },
     "execution_count": 1,
     "metadata": {},
     "output_type": "execute_result"
    }
   ],
   "source": [
    "import os\n",
    "from pathlib import Path\n",
    "# Change cwd to the project root (parent of 'notebooks/')\n",
    "os.chdir(Path.cwd().parent)\n",
    "Path.cwd()"
   ]
  },
  {
   "cell_type": "code",
   "execution_count": 2,
   "id": "56ae7a21-2eb8-47a4-9891-c1937c189b64",
   "metadata": {},
   "outputs": [
    {
     "name": "stdout",
     "output_type": "stream",
     "text": [
      "2025-04-18 11:59:26,640 [INFO] Using local folder /Users/jbrandt/code/birddog/.cache for storage.\n"
     ]
    }
   ],
   "source": [
    "from birddog.core import Archive, form_element_text\n",
    "from birddog.utility import fetch_url, form_text_item, convert_utc_time, get_text\n",
    "from birddog.wiki import (\n",
    "    history_url, \n",
    "    get_page_history, \n",
    "    get_page_history_from_cutoff, \n",
    "    HistoryLRU, ARCHIVES, \n",
    "    ARCHIVE_LIST, \n",
    "    batch_fetch_document_links)\n",
    "from urllib.parse import quote\n",
    "#import mwclient\n",
    "from bs4 import BeautifulSoup"
   ]
  },
  {
   "cell_type": "code",
   "execution_count": 3,
   "id": "3297a63e-cd1b-4979-8451-c3d119c3ab6b",
   "metadata": {},
   "outputs": [
    {
     "name": "stdout",
     "output_type": "stream",
     "text": [
      "2025-04-18 11:59:26,647 [INFO] HistoryLRU.lookup(ДАЖО/Д): cache miss\n",
      "2025-04-18 11:59:26,788 [INFO] fetch_url: 1 requests in last 60s → 0.02 req/s\n",
      "2025-04-18 11:59:26,792 [INFO] Retrieved from cache: DAZHO-D[2025,01,19,12:47]: page_cache/DAZHO-D/2025,01,19,12:47.json\n"
     ]
    },
    {
     "data": {
      "text/plain": [
       "'https://uk.wikisource.org/wiki/%D0%90%D1%80%D1%85%D1%96%D0%B2%3A%D0%94%D0%90%D0%96%D0%9E/%D0%94'"
      ]
     },
     "execution_count": 3,
     "metadata": {},
     "output_type": "execute_result"
    }
   ],
   "source": [
    "archive = Archive('DAZHO')\n",
    "archive.default_url"
   ]
  },
  {
   "cell_type": "code",
   "execution_count": 4,
   "id": "3d2f724e-d8ae-4735-9a99-be3b89ea3f92",
   "metadata": {},
   "outputs": [
    {
     "data": {
      "text/plain": [
       "'https://uk.wikisource.org/wiki/%D0%90%D1%80%D1%85%D1%96%D0%B2%3A%D0%94%D0%90%D0%96%D0%9E/%D0%94'"
      ]
     },
     "execution_count": 4,
     "metadata": {},
     "output_type": "execute_result"
    }
   ],
   "source": [
    "archive.url"
   ]
  },
  {
   "cell_type": "code",
   "execution_count": 5,
   "id": "b3c01f12-49ba-4f86-a2b2-43d0f2eb0dbe",
   "metadata": {},
   "outputs": [
    {
     "data": {
      "text/plain": [
       "'https://uk.wikisource.org/wiki/Архів:ДАЖО/Д'"
      ]
     },
     "execution_count": 5,
     "metadata": {},
     "output_type": "execute_result"
    }
   ],
   "source": [
    "archive.unquoted_url"
   ]
  },
  {
   "cell_type": "code",
   "execution_count": 6,
   "id": "e67eeac2-36be-4c47-916b-428cd63a611b",
   "metadata": {},
   "outputs": [
    {
     "data": {
      "text/plain": [
       "[{'revid': 871572,\n",
       "  'modified': '2025,01,19,12:47',\n",
       "  'link': 'https://uk.wikisource.org/w/index.php?title=%D0%90%D1%80%D1%85%D1%96%D0%B2%3A%D0%94%D0%90%D0%96%D0%9E/%D0%94&oldid=871572'},\n",
       " {'revid': 819407,\n",
       "  'modified': '2024,11,20,15:03',\n",
       "  'link': 'https://uk.wikisource.org/w/index.php?title=%D0%90%D1%80%D1%85%D1%96%D0%B2%3A%D0%94%D0%90%D0%96%D0%9E/%D0%94&oldid=819407'},\n",
       " {'revid': 634322,\n",
       "  'modified': '2023,09,11,21:31',\n",
       "  'link': 'https://uk.wikisource.org/w/index.php?title=%D0%90%D1%80%D1%85%D1%96%D0%B2%3A%D0%94%D0%90%D0%96%D0%9E/%D0%94&oldid=634322'},\n",
       " {'revid': 632048,\n",
       "  'modified': '2023,09,02,21:34',\n",
       "  'link': 'https://uk.wikisource.org/w/index.php?title=%D0%90%D1%80%D1%85%D1%96%D0%B2%3A%D0%94%D0%90%D0%96%D0%9E/%D0%94&oldid=632048'},\n",
       " {'revid': 632022,\n",
       "  'modified': '2023,09,02,21:09',\n",
       "  'link': 'https://uk.wikisource.org/w/index.php?title=%D0%90%D1%80%D1%85%D1%96%D0%B2%3A%D0%94%D0%90%D0%96%D0%9E/%D0%94&oldid=632022'}]"
      ]
     },
     "execution_count": 6,
     "metadata": {},
     "output_type": "execute_result"
    }
   ],
   "source": [
    "get_page_history(archive.title, limit=5)"
   ]
  },
  {
   "cell_type": "code",
   "execution_count": 7,
   "id": "004c189b-b5fe-4ce4-8149-3da5c18e6ceb",
   "metadata": {},
   "outputs": [
    {
     "name": "stdout",
     "output_type": "stream",
     "text": [
      "2025-04-18 11:59:26,970 [INFO] HistoryLRU.lookup(ДАЖО/1): cache miss\n",
      "2025-04-18 11:59:27,125 [INFO] Loading page: DAZHO-D/1 from https://uk.wikisource.org/wiki/%D0%90%D1%80%D1%85%D1%96%D0%B2:%D0%94%D0%90%D0%96%D0%9E/1\n"
     ]
    },
    {
     "data": {
      "text/plain": [
       "'ДАЖО/1'"
      ]
     },
     "execution_count": 7,
     "metadata": {},
     "output_type": "execute_result"
    }
   ],
   "source": [
    "fond = archive.lookup('1')\n",
    "fond.title"
   ]
  },
  {
   "cell_type": "code",
   "execution_count": 8,
   "id": "70de44b2-b97e-48c1-af29-cb7779240b1b",
   "metadata": {},
   "outputs": [
    {
     "data": {
      "text/plain": [
       "[{'revid': 771001,\n",
       "  'modified': '2024,09,12,08:41',\n",
       "  'link': 'https://uk.wikisource.org/w/index.php?title=%D0%90%D1%80%D1%85%D1%96%D0%B2%3A%D0%94%D0%90%D0%96%D0%9E/1&oldid=771001'},\n",
       " {'revid': 769635,\n",
       "  'modified': '2024,09,09,14:03',\n",
       "  'link': 'https://uk.wikisource.org/w/index.php?title=%D0%90%D1%80%D1%85%D1%96%D0%B2%3A%D0%94%D0%90%D0%96%D0%9E/1&oldid=769635'},\n",
       " {'revid': 767861,\n",
       "  'modified': '2024,09,06,09:10',\n",
       "  'link': 'https://uk.wikisource.org/w/index.php?title=%D0%90%D1%80%D1%85%D1%96%D0%B2%3A%D0%94%D0%90%D0%96%D0%9E/1&oldid=767861'},\n",
       " {'revid': 767857,\n",
       "  'modified': '2024,09,06,09:04',\n",
       "  'link': 'https://uk.wikisource.org/w/index.php?title=%D0%90%D1%80%D1%85%D1%96%D0%B2%3A%D0%94%D0%90%D0%96%D0%9E/1&oldid=767857'},\n",
       " {'revid': 691693,\n",
       "  'modified': '2024,03,17,21:33',\n",
       "  'link': 'https://uk.wikisource.org/w/index.php?title=%D0%90%D1%80%D1%85%D1%96%D0%B2%3A%D0%94%D0%90%D0%96%D0%9E/1&oldid=691693'}]"
      ]
     },
     "execution_count": 8,
     "metadata": {},
     "output_type": "execute_result"
    }
   ],
   "source": [
    "get_page_history(fond.title, limit=5)"
   ]
  },
  {
   "cell_type": "code",
   "execution_count": 9,
   "id": "99c30915-b7cd-4aae-a085-947d79b92303",
   "metadata": {},
   "outputs": [],
   "source": [
    "from urllib.parse import unquote"
   ]
  },
  {
   "cell_type": "code",
   "execution_count": 10,
   "id": "1885fc34-c1dd-4542-9d37-04179238bec8",
   "metadata": {},
   "outputs": [
    {
     "name": "stdout",
     "output_type": "stream",
     "text": [
      "2025-04-18 11:59:27,665 [ERROR] get_page_history(xyz, limit=10): unrecognized page name\n"
     ]
    },
    {
     "data": {
      "text/plain": [
       "[]"
      ]
     },
     "execution_count": 10,
     "metadata": {},
     "output_type": "execute_result"
    }
   ],
   "source": [
    "get_page_history('xyz')"
   ]
  },
  {
   "cell_type": "code",
   "execution_count": 11,
   "id": "ebd9be8d-c3c5-4826-b1e2-038e624d6c1a",
   "metadata": {},
   "outputs": [
    {
     "name": "stdout",
     "output_type": "stream",
     "text": [
      "2025-04-18 11:59:27,678 [INFO] HistoryLRU.lookup(ДАЖО/1): cache hit\n",
      "2025-04-18 11:59:27,683 [INFO] Retrieved from cache: DAZHO-D/1[2024,09,12,08:41]: page_cache/DAZHO-D/1/2024,09,12,08:41.json\n",
      "2025-04-18 11:59:27,683 [INFO] HistoryLRU.lookup(ДАЖО/1/1): cache miss\n",
      "2025-04-18 11:59:27,835 [INFO] Loading page: DAZHO-D/1/1 from https://uk.wikisource.org/wiki/%D0%90%D1%80%D1%85%D1%96%D0%B2:%D0%94%D0%90%D0%96%D0%9E/1/1\n"
     ]
    }
   ],
   "source": [
    "opus = archive.lookup('1').lookup('1')"
   ]
  },
  {
   "cell_type": "code",
   "execution_count": 12,
   "id": "49a12b5c-ec52-4c26-983e-cfbe1770f912",
   "metadata": {},
   "outputs": [],
   "source": [
    "kids = [f\"{opus.title}/{get_text(child[0]['text'])}\" for child in opus.children if 'redlink' not in child[0]['link']]"
   ]
  },
  {
   "cell_type": "code",
   "execution_count": 13,
   "id": "7277ff0f-4d21-4281-b43d-d9326af8c2f0",
   "metadata": {},
   "outputs": [
    {
     "data": {
      "text/plain": [
       "{'ДАЖО/1/1/43': ['/wiki/File:ДАЖО_1-1-43._1796._По_донесению_духовных_правлений_о_умертвии_священено-_и_церковнослужителей.pdf']}"
      ]
     },
     "execution_count": 13,
     "metadata": {},
     "output_type": "execute_result"
    }
   ],
   "source": [
    "batch_fetch_document_links(kids[:1])"
   ]
  },
  {
   "cell_type": "code",
   "execution_count": 14,
   "id": "a4e32df1-b63b-404f-ab31-82ea0e5d6d15",
   "metadata": {},
   "outputs": [
    {
     "data": {
      "text/plain": [
       "{'ДАЖО/1/1/111': ['/wiki/File:ДАЖО_1-1-111._1795_По_репорту_Благочиннаго_Протоиерея_Иоанна_Бочковскаго_о_худыхь_поступкахь_Староконстантиновскаго_уезда_села_Багл.pdf'],\n",
       " 'ДАЖО/1/1/119': ['/wiki/File:ДАЖО_1-1-119._1795_По_доношению_Протоиерея_Андрея_Колтоновскаго_о_бытии_ему_на_Воздвиженскомь_города_Полона.pdf'],\n",
       " 'ДАЖО/1/1/198': ['/wiki/File:ДАЖО_1-1-198._1796._О_дозволении_священническому_сыну_Иоакиму_Блонскому_приискать_праздное_священническое_место.pdf'],\n",
       " 'ДАЖО/1/1/376': ['/wiki/File:ДАЖО_1-1-376._1796._О_присоединении_к_православию_церквей_и_приходских_людей_в_Владимирском_уезде.pdf'],\n",
       " 'ДАЖО/1/1/43': ['/wiki/File:ДАЖО_1-1-43._1796._По_донесению_духовных_правлений_о_умертвии_священено-_и_церковнослужителей.pdf']}"
      ]
     },
     "execution_count": 14,
     "metadata": {},
     "output_type": "execute_result"
    }
   ],
   "source": [
    "batch_fetch_document_links(kids * 10)"
   ]
  },
  {
   "cell_type": "code",
   "execution_count": 15,
   "id": "fe083ba2-4b4a-4fcf-8da5-9f0b71a6fb55",
   "metadata": {},
   "outputs": [],
   "source": [
    "for child in opus.children:\n",
    "    if child[1].get('link'):\n",
    "        print(child[0]['text']['uk'], child[1])"
   ]
  },
  {
   "cell_type": "code",
   "execution_count": 16,
   "id": "f0f9d1ae-7bad-4230-9f4f-927a2743ba2f",
   "metadata": {},
   "outputs": [
    {
     "name": "stdout",
     "output_type": "stream",
     "text": [
      "2025-04-18 11:59:28,835 [INFO] load_child_document_links(DAZHO-D/1/1) updating cache\n"
     ]
    }
   ],
   "source": [
    "opus.load_child_document_links()"
   ]
  },
  {
   "cell_type": "code",
   "execution_count": 17,
   "id": "6ce2636d-8783-4cb5-a706-04ac45fc79ca",
   "metadata": {},
   "outputs": [
    {
     "name": "stdout",
     "output_type": "stream",
     "text": [
      "43 {'text': {'uk': 'По донесению духовных правлений о умертвии священено- и церковнослужителей'}, 'link': '/wiki/File:ДАЖО_1-1-43._1796._По_донесению_духовных_правлений_о_умертвии_священено-_и_церковнослужителей.pdf'}\n",
      "111 {'text': {'uk': 'По репорту Благочиннаго Протоиерея Иоанна Бочковскаго о худыхь поступкахь Староконстантиновскаго уезда села Баглаевь священника Григория Прокоповича вь блудодеянии сь служанкою его Феклою Ковалевою и о лишении его Прокоповича священства'}, 'link': '/wiki/File:ДАЖО_1-1-111._1795_По_репорту_Благочиннаго_Протоиерея_Иоанна_Бочковскаго_о_худыхь_поступкахь_Староконстантиновскаго_уезда_села_Багл.pdf'}\n",
      "119 {'text': {'uk': 'По доношению Протоиерея Андрея Колтоновскаго о бытии ему на Воздвиженскомь города Полона приходе и о набдении на оной открытымь указом и о проч.'}, 'link': '/wiki/File:ДАЖО_1-1-119._1795_По_доношению_Протоиерея_Андрея_Колтоновскаго_о_бытии_ему_на_Воздвиженскомь_города_Полона.pdf'}\n",
      "198 {'text': {'uk': 'О дозволении священническому сыну Иоакиму Блонскому приискать праздное священническое место и о рукоположении его Ровенского повета в село Малые Селища в священника'}, 'link': '/wiki/File:ДАЖО_1-1-198._1796._О_дозволении_священническому_сыну_Иоакиму_Блонскому_приискать_праздное_священническое_место.pdf'}\n",
      "376 {'text': {'uk': 'О присоединении из Унии к православному греко-российскому исповедания закону, церквей и приходских людей в Владимирском уезде состоящих'}, 'link': '/wiki/File:ДАЖО_1-1-376._1796._О_присоединении_к_православию_церквей_и_приходских_людей_в_Владимирском_уезде.pdf'}\n"
     ]
    }
   ],
   "source": [
    "for child in opus.children:\n",
    "    if child[1].get('link'):\n",
    "        print(child[0]['text']['uk'], child[1])"
   ]
  },
  {
   "cell_type": "code",
   "execution_count": 18,
   "id": "5593b6c0-1b35-4672-9287-ee4489f256f7",
   "metadata": {},
   "outputs": [
    {
     "name": "stdout",
     "output_type": "stream",
     "text": [
      "2025-04-18 11:59:28,853 [INFO] HistoryLRU.lookup(ДАЖО/393): cache miss\n",
      "2025-04-18 11:59:28,992 [INFO] Loading page: DAZHO-D/393 from https://uk.wikisource.org/wiki/%D0%90%D1%80%D1%85%D1%96%D0%B2:%D0%94%D0%90%D0%96%D0%9E/393\n",
      "2025-04-18 11:59:29,129 [INFO] HistoryLRU.lookup(ДАЖО/393/1): cache miss\n",
      "2025-04-18 11:59:29,274 [INFO] Loading page: DAZHO-D/393/1 from https://uk.wikisource.org/wiki/%D0%90%D1%80%D1%85%D1%96%D0%B2:%D0%94%D0%90%D0%96%D0%9E/393/1\n"
     ]
    }
   ],
   "source": [
    "opus = archive.lookup('393').lookup('1')"
   ]
  },
  {
   "cell_type": "code",
   "execution_count": 19,
   "id": "7880a982-5418-46a9-8372-433d4dcbe318",
   "metadata": {},
   "outputs": [
    {
     "name": "stdout",
     "output_type": "stream",
     "text": [
      "2025-04-18 11:59:30,021 [INFO] load_child_document_links(DAZHO-D/393/1) updating cache\n"
     ]
    }
   ],
   "source": [
    "opus.load_child_document_links()"
   ]
  },
  {
   "cell_type": "code",
   "execution_count": 20,
   "id": "4c321021-1537-408a-b911-1db8affd031f",
   "metadata": {},
   "outputs": [
    {
     "name": "stdout",
     "output_type": "stream",
     "text": [
      "1 {'text': {'uk': 'Аржанцев Тимофей'}, 'link': '/wiki/File:ДАЖО_393-1-1_Аржанцев_Тимофей_(1851).pdf'}\n",
      "2 {'text': {'uk': 'Каливарский Янкель'}, 'link': '/wiki/File:ДАЖО_393-1-2_Каливарский_Янкель_(1852).pdf'}\n",
      "3 {'text': {'uk': 'Малятер Зельман'}, 'link': '/wiki/File:ДАЖО_393-1-3_Малятер_Зельман_(1850).pdf'}\n",
      "4 {'text': {'uk': 'Спектор Хаим'}, 'link': '/wiki/File:ДАЖО_393-1-4_Спектор_Хаим_(1851).pdf'}\n",
      "5 {'text': {'uk': 'Годовой отчет Житомирского казенного училища 1-го разряда училища'}, 'link': '/wiki/File:ДАЖО_393-1-5_Годовой_отчет_Житомирского_казенного_училища_1-го_разряда_училища_(1850).pdf'}\n",
      "6 {'text': {'uk': 'Программы и штаты в училищах 1-го разряда'}, 'link': '/wiki/File:ДАЖО_393-1-6_Программы_и_штаты_в_училищах_1-го_разряда_(1850).pdf'}\n",
      "7 {'text': {'uk': 'О перемене директоров в училищах Волынской губ.'}, 'link': '/wiki/File:ДАЖО_393-1-7_О_перемене_директоров_в_училищах_Волынской_губ._(1850).pdf'}\n",
      "8 {'text': {'uk': 'Ведомости о поведении и успеваемости учеников 1-го класса'}, 'link': '/wiki/File:ДАЖО_393-1-8_Ведомости_о_поведении_и_успеваемости_учеников_1-го_класса_(1850).pdf'}\n",
      "9 {'text': {'uk': 'О принятии учеников'}, 'link': '/wiki/File:ДАЖО_393-1-9_О_принятии_учеников_(1851).pdf'}\n",
      "10 {'text': {'uk': 'О выдаче свидетельств ученикам об их увольнении'}, 'link': '/wiki/File:ДАЖО_393-1-10_О_выдаче_свидетельств_ученикам_об_их_увольнении_(1852).pdf'}\n",
      "11 {'text': {'uk': 'Ведомости о поведении и успеваемости учеников 1-го класса'}, 'link': '/wiki/File:ДАЖО_393-1-11_Ведомости_о_поведении_и_успеваемости_учеников_1-го_класса_(1855).pdf'}\n",
      "12 {'text': {'uk': 'Ведомости о поведении и успеваемости учеников 1-го класса'}, 'link': '/wiki/File:ДАЖО_393-1-12_Ведомости_о_поведении_и_успеваемости_учеников_1-го_класса_(1857).pdf'}\n",
      "13 {'text': {'uk': 'Кассовая книга о расходе денежных сумм'}, 'link': '/wiki/File:ДАЖО_393-1-13_Кассовая_книга_о_расходе_денежных_сумм_(1858).pdf'}\n",
      "14 {'text': {'uk': 'Годовой отчёт'}, 'link': '/wiki/File:ДАЖО_393-1-14_Годовой_отчёт_(1859).pdf'}\n",
      "15 {'text': {'uk': 'Кассовая книга о расходе денежных сумм'}, 'link': '/wiki/File:ДАЖО_393-1-15_Кассовая_книга_о_расходе_денежных_сумм_(1859).pdf'}\n",
      "16 {'text': {'uk': 'Кассовая книга о расходе денежных сумм'}, 'link': '/wiki/File:ДАЖО_393-1-16_Кассовая_книга_о_расходе_денежных_сумм_(1860).pdf'}\n",
      "17 {'text': {'uk': 'Кассовая книга о приходе денежных сумм'}, 'link': '/wiki/File:ДАЖО_393-1-17_Кассовая_книга_о_приходе_денежных_сумм_(1860).pdf'}\n",
      "18 {'text': {'uk': 'Ведомости о поведении и успеваемости учеников 1-го класса'}, 'link': '/wiki/File:ДАЖО_393-1-18_Ведомости_о_поведении_и_успеваемости_учеников_1-го_класса_(1861).pdf'}\n",
      "19 {'text': {'uk': 'Кассовая книга о приходе денежных сумм'}, 'link': '/wiki/File:ДАЖО_393-1-19_Кассовая_книга_о_приходе_денежных_сумм_(1861).pdf'}\n",
      "20 {'text': {'uk': 'Кассовая книга о приходе денежных сумм'}, 'link': '/wiki/File:ДАЖО_393-1-20_Кассовая_книга_о_приходе_денежных_сумм_(1862).pdf'}\n",
      "21 {'text': {'uk': 'Кассовая книга о приходе денежных сумм'}, 'link': '/wiki/File:ДАЖО_393-1-21_Кассовая_книга_о_приходе_денежных_сумм_(1862).pdf'}\n",
      "22 {'text': {'uk': 'Кассовая книга о приходе денежных сумм'}, 'link': '/wiki/File:ДАЖО_393-1-22_Кассовая_книга_о_приходе_денежных_сумм_(1863).pdf'}\n",
      "23 {'text': {'uk': 'Кассовая книга о приходе денежных сумм'}, 'link': '/wiki/File:ДАЖО_393-1-23_Кассовая_книга_о_приходе_денежных_сумм_(1863).pdf'}\n",
      "24 {'text': {'uk': 'Кассовая книга о приходе денежных сумм'}, 'link': '/wiki/File:ДАЖО_393-1-24_Кассовая_книга_о_приходе_денежных_сумм_(1864).pdf'}\n",
      "25 {'text': {'uk': 'Кассовая книга о приходе денежных сумм'}, 'link': '/wiki/File:ДАЖО_393-1-25_Кассовая_книга_о_приходе_денежных_сумм_(1864).pdf'}\n",
      "26 {'text': {'uk': 'Кассовая книга о приходе денежных сумм'}, 'link': '/wiki/File:ДАЖО_393-1-26_Кассовая_книга_о_приходе_денежных_сумм_(1865).pdf'}\n",
      "27 {'text': {'uk': 'Кассовая книга о движении денежных сумм'}, 'link': '/wiki/File:ДАЖО_393-1-27_Кассовая_книга_о_движении_денежных_сумм_(1865).pdf'}\n",
      "28 {'text': {'uk': 'Годовой отчёт'}, 'link': '/wiki/File:ДАЖО_393-1-28_Годовой_отчёт_(1867).pdf'}\n",
      "29 {'text': {'uk': 'Ведомости о поведении и успеваемости учеников 1-го класса'}, 'link': '/wiki/File:ДАЖО_393-1-29_Ведомости_о_поведении_и_успеваемости_учеников_1-го_класса_(1868).pdf'}\n",
      "30 {'text': {'uk': 'Годовой отчет училища'}, 'link': '/wiki/File:ДАЖО_393-1-30_Годовой_отчет_училища_(1872).pdf'}\n",
      "31 {'text': {'uk': 'Ведомости о поведении и успеваемости учеников 1-го класса'}, 'link': '/wiki/File:ДАЖО_393-1-31_Ведомости_о_поведении_и_успеваемости_учеников_1-го_класса_(1863).pdf'}\n",
      "32 {'text': {'uk': 'Ведомость о поведении и успеваемости учеников 1-го класса'}, 'link': '/wiki/File:ДАЖО_393-1-32_Ведомость_о_поведении_и_успеваемости_учеников_1-го_класса_(1863).pdf'}\n",
      "33 {'text': {'uk': 'Ведомость о поведении и успеваемости учеников 1-го класса'}, 'link': '/wiki/File:ДАЖО_393-1-33_Ведомость_о_поведении_и_успеваемости_учеников_1-го_класса_(1870).pdf'}\n",
      "34 {'text': {'uk': 'Ведомость о поведении и успеваемости учеников 2-го класса'}, 'link': '/wiki/File:ДАЖО_393-1-34_Ведомость_о_поведении_и_успеваемости_учеников_2-го_класса_(1851-1852).pdf'}\n",
      "35 {'text': {'uk': 'Ведомость о поведении и успеваемости учеников 2-го класса'}, 'link': '/wiki/File:ДАЖО_393-1-35_Ведомость_о_поведении_и_успеваемости_учеников_2-го_класса_(1851-1852).pdf'}\n",
      "36 {'text': {'uk': 'Ведомость о поведении и успеваемости учеников 2-го класса'}, 'link': '/wiki/File:ДАЖО_393-1-36_Ведомость_о_поведении_и_успеваемости_учеников_2-го_класса_(1852-1853).pdf'}\n",
      "37 {'text': {'uk': 'Ведомости о поведении и успеваемости учеников 1-го класса'}, 'link': '/wiki/File:ДАЖО_393-1-37_Ведомости_о_поведении_и_успеваемости_учеников_1-го_класса_(1853-1854).pdf'}\n",
      "38 {'text': {'uk': 'Книга прихода и расхода денежных сумм'}, 'link': '/wiki/File:ДАЖО_393-1-38_Книга_прихода_и_расхода_денежных_сумм_(1856).pdf'}\n",
      "39 {'text': {'uk': 'Книга прихода и расхода денежных сумм'}, 'link': '/wiki/File:ДАЖО_393-1-39_Книга_прихода_и_расхода_денежных_сумм_(1857).pdf'}\n",
      "40 {'text': {'uk': 'Книга прихода и расхода денежных сумм'}, 'link': '/wiki/File:ДАЖО_393-1-40_Книга_прихода_и_расхода_денежных_сумм_(1858).pdf'}\n",
      "41 {'text': {'uk': 'Книга прихода и расхода денежных сумм'}, 'link': '/wiki/File:ДАЖО_393-1-41_Книга_прихода_и_расхода_денежных_сумм_(1859).pdf'}\n",
      "42 {'text': {'uk': 'Книга прихода и расхода денежных сумм'}, 'link': '/wiki/File:ДАЖО_393-1-42_Книга_прихода_и_расхода_денежных_сумм_(1860).pdf'}\n",
      "43 {'text': {'uk': 'Протоколы заседаний педагогического совета'}, 'link': '/wiki/File:ДАЖО_393-1-43_Протоколы_заседаний_педагогического_совета_(1861-1873).pdf'}\n",
      "44 {'text': {'uk': 'Книга прихода и расхода денежных сумм'}, 'link': '/wiki/File:ДАЖО_393-1-44_Книга_прихода_и_расхода_денежных_сумм_(1961).pdf'}\n",
      "45 {'text': {'uk': 'Книга прихода и расхода денежных сумм'}, 'link': '/wiki/File:ДАЖО_393-1-45_Книга_прихода_и_расхода_денежных_сумм_(1862).pdf'}\n",
      "46 {'text': {'uk': 'Книга прихода и расхода денежных сумм'}, 'link': '/wiki/File:ДАЖО_393-1-46_Книга_прихода_и_расхода_денежных_сумм_(1863).pdf'}\n",
      "47 {'text': {'uk': 'Классный журнал I класса'}, 'link': '/wiki/File:ДАЖО_393-1-47_Классный_журнал_I_класса_(1866).pdf'}\n",
      "48 {'text': {'uk': 'Классный журнал I класса'}, 'link': '/wiki/File:ДАЖО_393-1-48_Классный_журнал_I_класса_(1871-1872).pdf'}\n",
      "49 {'text': {'uk': 'Классный журнал I класса'}, 'link': '/wiki/File:ДАЖО_393-1-49_Классный_журнал_I_класса_(1872-1873).pdf'}\n"
     ]
    }
   ],
   "source": [
    "for child in opus.children:\n",
    "    if child[1].get('link'):\n",
    "        print(child[0]['text']['uk'], child[1])"
   ]
  },
  {
   "cell_type": "code",
   "execution_count": 21,
   "id": "f507778b-2bba-4510-bf64-6232b3ee4700",
   "metadata": {},
   "outputs": [],
   "source": [
    "opus.load_child_document_links()"
   ]
  },
  {
   "cell_type": "code",
   "execution_count": null,
   "id": "f3e5c624-2baf-48e5-9ada-882180a8908d",
   "metadata": {},
   "outputs": [],
   "source": []
  }
 ],
 "metadata": {
  "kernelspec": {
   "display_name": "Python 3 (ipykernel)",
   "language": "python",
   "name": "python3"
  },
  "language_info": {
   "codemirror_mode": {
    "name": "ipython",
    "version": 3
   },
   "file_extension": ".py",
   "mimetype": "text/x-python",
   "name": "python",
   "nbconvert_exporter": "python",
   "pygments_lexer": "ipython3",
   "version": "3.12.9"
  }
 },
 "nbformat": 4,
 "nbformat_minor": 5
}
