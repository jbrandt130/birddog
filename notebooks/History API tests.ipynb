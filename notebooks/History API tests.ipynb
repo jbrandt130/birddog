{
 "cells": [
  {
   "cell_type": "code",
   "execution_count": 1,
   "id": "4c151408-a3be-4bd5-a572-1803ee7d01fa",
   "metadata": {},
   "outputs": [
    {
     "data": {
      "text/plain": [
       "PosixPath('/Users/jbrandt/code/birddog')"
      ]
     },
     "execution_count": 1,
     "metadata": {},
     "output_type": "execute_result"
    }
   ],
   "source": [
    "import os\n",
    "from pathlib import Path\n",
    "# Change cwd to the project root (parent of 'notebooks/')\n",
    "os.chdir(Path.cwd().parent)\n",
    "Path.cwd()"
   ]
  },
  {
   "cell_type": "code",
   "execution_count": 2,
   "id": "56ae7a21-2eb8-47a4-9891-c1937c189b64",
   "metadata": {},
   "outputs": [
    {
     "name": "stdout",
     "output_type": "stream",
     "text": [
      "2025-04-17 17:45:51,533 [INFO] Found credentials in environment variables.\n",
      "2025-04-17 17:45:51,618 [INFO] Using AWS S3 bucket birddog-data for storage.\n"
     ]
    },
    {
     "ename": "ImportError",
     "evalue": "cannot import name 'get_pages_history' from 'birddog.wiki' (/Users/jbrandt/code/birddog/birddog/wiki.py)",
     "output_type": "error",
     "traceback": [
      "\u001b[31m---------------------------------------------------------------------------\u001b[39m",
      "\u001b[31mImportError\u001b[39m                               Traceback (most recent call last)",
      "\u001b[36mCell\u001b[39m\u001b[36m \u001b[39m\u001b[32mIn[2]\u001b[39m\u001b[32m, line 3\u001b[39m\n\u001b[32m      1\u001b[39m \u001b[38;5;28;01mfrom\u001b[39;00m\u001b[38;5;250m \u001b[39m\u001b[34;01mbirddog\u001b[39;00m\u001b[34;01m.\u001b[39;00m\u001b[34;01mcore\u001b[39;00m\u001b[38;5;250m \u001b[39m\u001b[38;5;28;01mimport\u001b[39;00m Archive, form_element_text\n\u001b[32m      2\u001b[39m \u001b[38;5;28;01mfrom\u001b[39;00m\u001b[38;5;250m \u001b[39m\u001b[34;01mbirddog\u001b[39;00m\u001b[34;01m.\u001b[39;00m\u001b[34;01mutility\u001b[39;00m\u001b[38;5;250m \u001b[39m\u001b[38;5;28;01mimport\u001b[39;00m fetch_url, form_text_item, convert_utc_time\n\u001b[32m----> \u001b[39m\u001b[32m3\u001b[39m \u001b[38;5;28;01mfrom\u001b[39;00m\u001b[38;5;250m \u001b[39m\u001b[34;01mbirddog\u001b[39;00m\u001b[34;01m.\u001b[39;00m\u001b[34;01mwiki\u001b[39;00m\u001b[38;5;250m \u001b[39m\u001b[38;5;28;01mimport\u001b[39;00m history_url, get_pages_history, get_page_history, get_page_history_from_cutoff, HistoryLRU, ARCHIVES, ARCHIVE_LIST\n\u001b[32m      4\u001b[39m \u001b[38;5;28;01mfrom\u001b[39;00m\u001b[38;5;250m \u001b[39m\u001b[34;01murllib\u001b[39;00m\u001b[34;01m.\u001b[39;00m\u001b[34;01mparse\u001b[39;00m\u001b[38;5;250m \u001b[39m\u001b[38;5;28;01mimport\u001b[39;00m quote\n\u001b[32m      5\u001b[39m \u001b[38;5;66;03m#import mwclient\u001b[39;00m\n",
      "\u001b[31mImportError\u001b[39m: cannot import name 'get_pages_history' from 'birddog.wiki' (/Users/jbrandt/code/birddog/birddog/wiki.py)"
     ]
    }
   ],
   "source": [
    "from birddog.core import Archive, form_element_text\n",
    "from birddog.utility import fetch_url, form_text_item, convert_utc_time\n",
    "from birddog.wiki import history_url, get_pages_history, get_page_history, get_page_history_from_cutoff, HistoryLRU, ARCHIVES, ARCHIVE_LIST\n",
    "from urllib.parse import quote\n",
    "#import mwclient\n",
    "from bs4 import BeautifulSoup"
   ]
  },
  {
   "cell_type": "code",
   "execution_count": 3,
   "id": "3297a63e-cd1b-4979-8451-c3d119c3ab6b",
   "metadata": {},
   "outputs": [
    {
     "name": "stdout",
     "output_type": "stream",
     "text": [
      "2025-04-17 17:45:52,744 [INFO] HistoryLRU.lookup(ДАЖО/Д): cache miss\n",
      "2025-04-17 17:45:52,985 [INFO] fetch_url: 1 requests in last 60s → 0.02 req/s\n",
      "2025-04-17 17:45:53,667 [INFO] Retrieved from cache: DAZHO-D[2025,01,19,12:47]: page_cache/DAZHO-D/2025,01,19,12:47.json\n"
     ]
    },
    {
     "data": {
      "text/plain": [
       "'https://uk.wikisource.org/wiki/%D0%90%D1%80%D1%85%D1%96%D0%B2%3A%D0%94%D0%90%D0%96%D0%9E/%D0%94'"
      ]
     },
     "execution_count": 3,
     "metadata": {},
     "output_type": "execute_result"
    }
   ],
   "source": [
    "archive = Archive('DAZHO')\n",
    "archive.default_url"
   ]
  },
  {
   "cell_type": "code",
   "execution_count": 4,
   "id": "3d2f724e-d8ae-4735-9a99-be3b89ea3f92",
   "metadata": {},
   "outputs": [
    {
     "data": {
      "text/plain": [
       "'https://uk.wikisource.org/wiki/%D0%90%D1%80%D1%85%D1%96%D0%B2%3A%D0%94%D0%90%D0%96%D0%9E/%D0%94'"
      ]
     },
     "execution_count": 4,
     "metadata": {},
     "output_type": "execute_result"
    }
   ],
   "source": [
    "archive.url"
   ]
  },
  {
   "cell_type": "code",
   "execution_count": 5,
   "id": "b3c01f12-49ba-4f86-a2b2-43d0f2eb0dbe",
   "metadata": {},
   "outputs": [
    {
     "data": {
      "text/plain": [
       "'https://uk.wikisource.org/wiki/Архів:ДАЖО/Д'"
      ]
     },
     "execution_count": 5,
     "metadata": {},
     "output_type": "execute_result"
    }
   ],
   "source": [
    "archive.unquoted_url"
   ]
  },
  {
   "cell_type": "code",
   "execution_count": null,
   "id": "f93b9f1b-5f28-4b41-b075-1bcb3d3220fa",
   "metadata": {},
   "outputs": [],
   "source": []
  },
  {
   "cell_type": "code",
   "execution_count": null,
   "id": "e67eeac2-36be-4c47-916b-428cd63a611b",
   "metadata": {},
   "outputs": [],
   "source": [
    "get_pages_history([archive.title], limit=5)"
   ]
  },
  {
   "cell_type": "code",
   "execution_count": null,
   "id": "004c189b-b5fe-4ce4-8149-3da5c18e6ceb",
   "metadata": {},
   "outputs": [],
   "source": [
    "fond = archive.lookup('1')\n",
    "fond.title"
   ]
  },
  {
   "cell_type": "code",
   "execution_count": null,
   "id": "70de44b2-b97e-48c1-af29-cb7779240b1b",
   "metadata": {},
   "outputs": [],
   "source": [
    "get_pages_history([fond.title], limit=5)"
   ]
  },
  {
   "cell_type": "code",
   "execution_count": null,
   "id": "b43fd04b-120d-4f82-9dc0-ee2188bd54d5",
   "metadata": {},
   "outputs": [],
   "source": [
    "get_pages_history([fond.title, archive.title], limit=5)"
   ]
  },
  {
   "cell_type": "code",
   "execution_count": null,
   "id": "99c30915-b7cd-4aae-a085-947d79b92303",
   "metadata": {},
   "outputs": [],
   "source": [
    "from urllib.parse import unquote"
   ]
  },
  {
   "cell_type": "code",
   "execution_count": null,
   "id": "a5a23978-b544-42e3-8943-f09b0985cf72",
   "metadata": {},
   "outputs": [],
   "source": [
    "unquote(fond._spec[1].split(\":\")[1])"
   ]
  },
  {
   "cell_type": "code",
   "execution_count": null,
   "id": "b153e7ae-428c-4e17-aa38-42eeda88ee21",
   "metadata": {},
   "outputs": [],
   "source": [
    "archive.title"
   ]
  },
  {
   "cell_type": "code",
   "execution_count": null,
   "id": "35af079d-e607-47a6-a871-89d1d2a885db",
   "metadata": {},
   "outputs": [],
   "source": [
    "[archive.title, fond.title]"
   ]
  },
  {
   "cell_type": "code",
   "execution_count": null,
   "id": "6d59484a-a062-4977-8d04-08450147b1f0",
   "metadata": {},
   "outputs": [],
   "source": [
    "history_url([archive.title, fond.title])"
   ]
  },
  {
   "cell_type": "code",
   "execution_count": null,
   "id": "531bc21e-5e5f-41f6-9791-7f68584efe22",
   "metadata": {},
   "outputs": [],
   "source": [
    "WIKI_NAMESPACE  = 'Архів'\n",
    "def wiki_title(page_title):\n",
    "    return f'{WIKI_NAMESPACE}:{page_title}'\n",
    "\n",
    "def history_url2(page_titles, limit=1):\n",
    "    if isinstance(page_titles, str):\n",
    "        titles_param = quote(wiki_title(page_titles))\n",
    "    else:\n",
    "        titles_param = '|'.join([quote(wiki_title(title)) for title in page_titles])\n",
    "\n",
    "    return (\n",
    "        'https://uk.wikisource.org/w/api.php?action=query&format=json'\n",
    "        '&prop=revisions&rvprop=ids|timestamp'\n",
    "        f'&titles={titles_param}'\n",
    "    )\n"
   ]
  },
  {
   "cell_type": "code",
   "execution_count": null,
   "id": "da3fd94e-de0a-4124-8415-d6bfc3835065",
   "metadata": {},
   "outputs": [],
   "source": [
    "history_url2([fond.title, archive.title])"
   ]
  },
  {
   "cell_type": "code",
   "execution_count": null,
   "id": "ccc689d2-3786-43af-b323-46590abd52f0",
   "metadata": {},
   "outputs": [],
   "source": [
    "s='https://uk.wikisource.org/wiki/%D0%90%D1%80%D1%85%D1%96%D0%B2%3A%D0%94%D0%90%D0%96%D0%9E/%D0%94'"
   ]
  },
  {
   "cell_type": "code",
   "execution_count": null,
   "id": "2e91bf07-c498-410e-a4c8-bb676699ad26",
   "metadata": {},
   "outputs": [],
   "source": [
    "unquote(s)"
   ]
  },
  {
   "cell_type": "code",
   "execution_count": null,
   "id": "6cb49ae2-fa17-4d6a-81e3-4a8c5310679c",
   "metadata": {},
   "outputs": [],
   "source": []
  },
  {
   "cell_type": "code",
   "execution_count": null,
   "id": "2ba6669d-6f26-4e4a-a98f-e0e34fcda05b",
   "metadata": {},
   "outputs": [],
   "source": [
    "fond.history(limit=10)"
   ]
  },
  {
   "cell_type": "code",
   "execution_count": null,
   "id": "24a7f100-dfc1-4d73-8c78-802ace63f595",
   "metadata": {},
   "outputs": [],
   "source": [
    "fond.id"
   ]
  },
  {
   "cell_type": "code",
   "execution_count": null,
   "id": "37451111-ac9a-477c-813c-277a46e3959f",
   "metadata": {},
   "outputs": [],
   "source": []
  },
  {
   "cell_type": "code",
   "execution_count": null,
   "id": "ec71763d-5e07-4209-8d00-8d6b15ee06bb",
   "metadata": {},
   "outputs": [],
   "source": [
    "archive.parent"
   ]
  },
  {
   "cell_type": "code",
   "execution_count": null,
   "id": "e6150fbd-6e94-4223-8d17-10f374faa6fc",
   "metadata": {},
   "outputs": [],
   "source": [
    "archive._archive_name"
   ]
  },
  {
   "cell_type": "code",
   "execution_count": null,
   "id": "10c86c08-9d63-45e3-9fd4-cdba7130dcd5",
   "metadata": {},
   "outputs": [],
   "source": [
    "p = Archive('DAZHO', subarchive='P')"
   ]
  },
  {
   "cell_type": "code",
   "execution_count": null,
   "id": "423673dd-7a4d-4e1d-a5f0-78573ddbe069",
   "metadata": {},
   "outputs": [],
   "source": [
    "p._archive_name"
   ]
  },
  {
   "cell_type": "code",
   "execution_count": null,
   "id": "854b0723-4fcc-4b58-9390-131f1c018d8b",
   "metadata": {},
   "outputs": [],
   "source": []
  },
  {
   "cell_type": "code",
   "execution_count": null,
   "id": "9fc1a723-5e63-4a46-9568-9a4dda9e5e61",
   "metadata": {},
   "outputs": [],
   "source": []
  },
  {
   "cell_type": "code",
   "execution_count": null,
   "id": "1885fc34-c1dd-4542-9d37-04179238bec8",
   "metadata": {},
   "outputs": [],
   "source": [
    "get_page_history('xyz')"
   ]
  },
  {
   "cell_type": "code",
   "execution_count": null,
   "id": "940af4bc-284d-42cd-be6f-777f575fbfc7",
   "metadata": {},
   "outputs": [],
   "source": [
    "get_page_history_from_cutoff(archive.title, cutoff_date='2025,03,01')"
   ]
  },
  {
   "cell_type": "code",
   "execution_count": null,
   "id": "7dcc7c09-0532-40d0-aba6-7341ef6cc160",
   "metadata": {},
   "outputs": [],
   "source": [
    "lru=HistoryLRU()"
   ]
  },
  {
   "cell_type": "code",
   "execution_count": null,
   "id": "9640624f-e5c8-4793-a6cb-3ecbfec9a3f0",
   "metadata": {},
   "outputs": [],
   "source": [
    "lru.lookup(archive.title, limit=5)"
   ]
  },
  {
   "cell_type": "code",
   "execution_count": null,
   "id": "92f2e3db-7320-487f-8928-1bc3d1aafda2",
   "metadata": {},
   "outputs": [],
   "source": [
    "lru.lookup(archive.title, limit=5)"
   ]
  },
  {
   "cell_type": "code",
   "execution_count": null,
   "id": "fa277a9d-85fd-47f9-a183-b5dafd8e622f",
   "metadata": {},
   "outputs": [],
   "source": [
    "lru.lookup(archive.title, limit=3)"
   ]
  },
  {
   "cell_type": "code",
   "execution_count": null,
   "id": "f308625e-f299-4be0-9db2-7e439e4ec1b4",
   "metadata": {},
   "outputs": [],
   "source": [
    "lru.lookup(archive.title, limit=15)"
   ]
  },
  {
   "cell_type": "code",
   "execution_count": null,
   "id": "393d0565-7641-4c63-901e-29db641e5fa2",
   "metadata": {},
   "outputs": [],
   "source": [
    "lru.lookup_by_cutoff(archive.title, cutoff_date='2024')"
   ]
  },
  {
   "cell_type": "code",
   "execution_count": null,
   "id": "af8c3f3c-5cfd-4dfc-b456-09073cb62cd5",
   "metadata": {},
   "outputs": [],
   "source": [
    "ARCHIVE_LIST[\"DAZHO\"]"
   ]
  },
  {
   "cell_type": "code",
   "execution_count": null,
   "id": "67acb788-37a6-43e2-be8a-0795bb38cd87",
   "metadata": {},
   "outputs": [],
   "source": [
    "ARCHIVES[\"DAZHO\"]"
   ]
  },
  {
   "cell_type": "code",
   "execution_count": null,
   "id": "54f59179-458f-4d34-99e0-aac67dda15cd",
   "metadata": {},
   "outputs": [],
   "source": [
    "archive.title"
   ]
  },
  {
   "cell_type": "code",
   "execution_count": null,
   "id": "902316df-d343-4eb2-84c0-a2fc3777c086",
   "metadata": {},
   "outputs": [],
   "source": [
    "p = Archive('DAZHO','Р')"
   ]
  },
  {
   "cell_type": "code",
   "execution_count": null,
   "id": "432374a6-5d19-4750-a9dd-309c5a69a867",
   "metadata": {},
   "outputs": [],
   "source": [
    "p.title"
   ]
  },
  {
   "cell_type": "code",
   "execution_count": null,
   "id": "918a58cc-1ce8-42a5-9e24-442dfcd9589e",
   "metadata": {},
   "outputs": [],
   "source": [
    "p._archive_name"
   ]
  },
  {
   "cell_type": "code",
   "execution_count": null,
   "id": "703174a1-e4f8-4612-ab32-aeda9d2bf652",
   "metadata": {},
   "outputs": [],
   "source": []
  },
  {
   "cell_type": "code",
   "execution_count": null,
   "id": "b2d8cc4b-adeb-4d22-af4f-1353de8d6850",
   "metadata": {},
   "outputs": [],
   "source": []
  },
  {
   "cell_type": "code",
   "execution_count": null,
   "id": "22b27315-7469-4e6e-a273-d37c801e0208",
   "metadata": {},
   "outputs": [],
   "source": []
  },
  {
   "cell_type": "code",
   "execution_count": null,
   "id": "a2622e9b-2020-433a-b60b-450aadb6f0ce",
   "metadata": {},
   "outputs": [],
   "source": []
  },
  {
   "cell_type": "code",
   "execution_count": null,
   "id": "dc17c8e7-c23c-4b07-8934-1f06403440bc",
   "metadata": {},
   "outputs": [],
   "source": []
  },
  {
   "cell_type": "code",
   "execution_count": null,
   "id": "7791edfe-f663-4be3-85f4-e4389cfc916b",
   "metadata": {},
   "outputs": [],
   "source": [
    "def content_url(page):\n",
    "    title = 'Архів:' + page.title.replace('/', '%2F')\n",
    "    print(title)\n",
    "    return f'https://en.wikisource.org/w/api.php?action=parse&format=json&page={title}&prop=text'"
   ]
  },
  {
   "cell_type": "code",
   "execution_count": null,
   "id": "88f0142c-3843-4751-910f-7dc6514a74d4",
   "metadata": {},
   "outputs": [],
   "source": [
    "def content_url(revid):\n",
    "    return f'https://uk.wikisource.org/w/api.php?action=parse&format=json&oldid={revid}'"
   ]
  },
  {
   "cell_type": "code",
   "execution_count": null,
   "id": "09b2b2da-1077-4035-904d-0bedfe272bb3",
   "metadata": {},
   "outputs": [],
   "source": [
    "pg = fetch_url(content_url(871572), json=True)\n",
    "pg = pg['parse']\n",
    "print(f'{pg[\"title\"]}: revid={pg[\"revid\"]}')\n",
    "soup = BeautifulSoup(pg['text']['*'])\n",
    "print(archive.title)"
   ]
  },
  {
   "cell_type": "code",
   "execution_count": null,
   "id": "148dda7e-82c7-4b10-ab1a-87f0c2107ac7",
   "metadata": {},
   "outputs": [],
   "source": [
    "def read_page(soup):\n",
    "    \"\"\"\n",
    "    Extract archive information for given page using HTTP get.\n",
    "    Return struct with page:\n",
    "        title,\n",
    "        description,\n",
    "        table header,\n",
    "        table contents,\n",
    "        lastmod date,\n",
    "        doc_link [only for case pages],\n",
    "        thumb_link [only for case pages],\n",
    "    \"\"\"\n",
    "    title_text = soup.find('span', attrs = {'id': 'header_title_text'}).split(':')\n",
    "    namespace = title_text[0]\n",
    "    title = title_text[1]\n",
    "    desc = soup.find('span', attrs = {'id': 'header_section_text'})\n",
    "    table = soup.find('table', attrs = {'class': 'wikitable'})\n",
    "    children = []\n",
    "    header = []\n",
    "    if table:\n",
    "        for tr_elem in table.find_all('tr'):\n",
    "            if not header:\n",
    "                for th_elem in tr_elem.find_all('th'):\n",
    "                    header.append(form_element_text(th_elem))\n",
    "            item = []\n",
    "            for td_elem in tr_elem.find_all('td'):\n",
    "                a_elem = td_elem.find('a')\n",
    "                child_url = a_elem.get('href') if a_elem else None\n",
    "                text = form_text_item(td_elem.text.strip())\n",
    "                item.append({'text': text, 'link': child_url})\n",
    "            if item:\n",
    "                children.append(item)\n",
    "\n",
    "    # check for document thumbnail\n",
    "    doc_info = soup.find('figure', attrs = {'typeof': 'mw:File/Thumb'})\n",
    "    doc_url = None\n",
    "    thumb_url = None\n",
    "    if doc_info:\n",
    "        a_tag = doc_info.find('a')\n",
    "        doc_url = a_tag.get('href')\n",
    "        thumb_elem = a_tag.find('img')\n",
    "        thumb_url = thumb_elem.get('src') if thumb_elem else None\n",
    "    footer = soup.find('li', attrs={'id': 'footer-info-lastmod'})\n",
    "    last_modified = lastmod(footer.text) if footer else None\n",
    "\n",
    "    return {\n",
    "        'title': form_element_text(title),\n",
    "        'namespace': form_element_text(namespace),\n",
    "        'description': form_element_text(desc),\n",
    "        'header': header,\n",
    "        'children': children,\n",
    "        'lastmod': last_modified,\n",
    "        #'link': url,\n",
    "        'doc_link': doc_url,\n",
    "        'thumb_link': thumb_url,\n",
    "    }\n"
   ]
  },
  {
   "cell_type": "code",
   "execution_count": null,
   "id": "d73e3b48-decb-42c6-9dc9-fbf67c35e167",
   "metadata": {},
   "outputs": [],
   "source": [
    "archive._page['title']"
   ]
  },
  {
   "cell_type": "code",
   "execution_count": null,
   "id": "f850839a-e8ef-4b4e-b8ac-29af7a6b9db1",
   "metadata": {},
   "outputs": [],
   "source": [
    "with open('tmp.html','w') as file:\n",
    "    file.write(str(soup))"
   ]
  },
  {
   "cell_type": "code",
   "execution_count": null,
   "id": "4b6cd9d9-2237-417b-b9b3-0a7b7b9a3a35",
   "metadata": {},
   "outputs": [],
   "source": []
  },
  {
   "cell_type": "code",
   "execution_count": null,
   "id": "8c12d35c-3d08-4fd0-a085-4a2aabf7d2e5",
   "metadata": {},
   "outputs": [],
   "source": []
  },
  {
   "cell_type": "code",
   "execution_count": null,
   "id": "ebd9be8d-c3c5-4826-b1e2-038e624d6c1a",
   "metadata": {},
   "outputs": [],
   "source": []
  },
  {
   "cell_type": "code",
   "execution_count": null,
   "id": "d98d91e9-5c2f-4e29-9e1a-dc451949eebc",
   "metadata": {},
   "outputs": [],
   "source": [
    "title = soup.find('span', attrs = {'id': 'header_title_text'})"
   ]
  },
  {
   "cell_type": "code",
   "execution_count": null,
   "id": "d9b707df-b241-4dcf-95af-db8473a8b634",
   "metadata": {},
   "outputs": [],
   "source": [
    "title.text"
   ]
  },
  {
   "cell_type": "code",
   "execution_count": null,
   "id": "ce3068ce-5e52-434f-9977-a5f425d5efd7",
   "metadata": {},
   "outputs": [],
   "source": []
  },
  {
   "cell_type": "code",
   "execution_count": null,
   "id": "d977f3c5-ab98-4614-82b5-d7e367699da3",
   "metadata": {},
   "outputs": [],
   "source": [
    "desc = soup.find('span', attrs = {'id': 'header_section_text'})\n",
    "desc"
   ]
  },
  {
   "cell_type": "code",
   "execution_count": null,
   "id": "e6119107-3645-41b8-a58e-f58e20728b6a",
   "metadata": {},
   "outputs": [],
   "source": [
    "page = read_page(soup)"
   ]
  },
  {
   "cell_type": "code",
   "execution_count": null,
   "id": "8672a434-d572-49e2-8d86-5698016de92a",
   "metadata": {},
   "outputs": [],
   "source": [
    "page.keys()"
   ]
  },
  {
   "cell_type": "code",
   "execution_count": null,
   "id": "2a4d5133-7237-49eb-aa27-84cec443c163",
   "metadata": {},
   "outputs": [],
   "source": []
  },
  {
   "cell_type": "code",
   "execution_count": null,
   "id": "5db9b866-2303-4fac-abb1-81683ee2ee5c",
   "metadata": {},
   "outputs": [],
   "source": []
  },
  {
   "cell_type": "code",
   "execution_count": null,
   "id": "6d8b8f3c-893b-462d-b0c9-7d586f4a4def",
   "metadata": {},
   "outputs": [],
   "source": []
  },
  {
   "cell_type": "code",
   "execution_count": null,
   "id": "6fa72494-f859-42bb-8478-753059951b2d",
   "metadata": {},
   "outputs": [],
   "source": [
    "soup"
   ]
  },
  {
   "cell_type": "code",
   "execution_count": null,
   "id": "69faf993-9244-4f6a-9cd8-66810071162d",
   "metadata": {},
   "outputs": [],
   "source": []
  },
  {
   "cell_type": "code",
   "execution_count": null,
   "id": "cb5f2db8-d7d8-4550-bf60-e7752dc301fc",
   "metadata": {},
   "outputs": [],
   "source": []
  },
  {
   "cell_type": "code",
   "execution_count": null,
   "id": "070a0924-1197-489d-b80f-2a2041124a89",
   "metadata": {},
   "outputs": [],
   "source": [
    "archive.title.replace('/','%2F')"
   ]
  },
  {
   "cell_type": "code",
   "execution_count": null,
   "id": "abb067f0-7274-4ee9-9a1e-b0fe96d6aedb",
   "metadata": {},
   "outputs": [],
   "source": [
    "site = mwclient.Site('uk.wikisource.org')"
   ]
  },
  {
   "cell_type": "code",
   "execution_count": null,
   "id": "193389c9-57dd-463b-b551-59c8e85d11aa",
   "metadata": {},
   "outputs": [],
   "source": [
    "page = site.pages['Архів:ДАЖО/Д']\n",
    "text = page.text()"
   ]
  },
  {
   "cell_type": "code",
   "execution_count": null,
   "id": "e6f90108-d471-42b1-88e3-efc0885ad5f8",
   "metadata": {},
   "outputs": [],
   "source": [
    "page.revisions()"
   ]
  },
  {
   "cell_type": "code",
   "execution_count": null,
   "id": "ebc13cc8-24dc-457c-a688-14bd5eaa7c39",
   "metadata": {},
   "outputs": [],
   "source": [
    "for r in page.revisions():\n",
    "    print(r)"
   ]
  },
  {
   "cell_type": "code",
   "execution_count": null,
   "id": "6e2482cd-43be-4c6f-805f-90df5d8d1073",
   "metadata": {},
   "outputs": [],
   "source": [
    "for rev in page.revisions(limit=5, api_chunk_size=None):\n",
    "    print(rev)"
   ]
  },
  {
   "cell_type": "code",
   "execution_count": null,
   "id": "c81d13fd-f3c3-40d8-8887-32ee1da9b43d",
   "metadata": {},
   "outputs": [],
   "source": [
    "p2 = site.pages['624167']"
   ]
  },
  {
   "cell_type": "code",
   "execution_count": null,
   "id": "563d4bb5-8f47-4734-969a-fea9f1554ff4",
   "metadata": {},
   "outputs": [],
   "source": [
    "all_titles = [p.page_title for p in site.allpages(max_items=8000)]"
   ]
  },
  {
   "cell_type": "code",
   "execution_count": null,
   "id": "f668e29d-d3a4-4671-9742-992f97b385c9",
   "metadata": {},
   "outputs": [],
   "source": []
  },
  {
   "cell_type": "code",
   "execution_count": null,
   "id": "9a340f53-e116-4602-b832-a87ae34049ab",
   "metadata": {},
   "outputs": [],
   "source": []
  },
  {
   "cell_type": "code",
   "execution_count": null,
   "id": "ad7c768e-0bbe-4ffa-9654-c168a1c64faf",
   "metadata": {},
   "outputs": [],
   "source": [
    "all_titles[-1]"
   ]
  },
  {
   "cell_type": "code",
   "execution_count": null,
   "id": "21e89187-f758-4403-ac63-723ca3866cb8",
   "metadata": {},
   "outputs": [],
   "source": []
  },
  {
   "cell_type": "code",
   "execution_count": null,
   "id": "42ba7899-6711-462c-9627-c69a6b493d22",
   "metadata": {},
   "outputs": [],
   "source": [
    "https://uk.wikisource.org/w/api.php?action=parse&format=json&oldid=622582"
   ]
  },
  {
   "cell_type": "code",
   "execution_count": null,
   "id": "63696225-caf2-4041-9a70-c711e9d2cc6d",
   "metadata": {},
   "outputs": [],
   "source": []
  },
  {
   "cell_type": "code",
   "execution_count": null,
   "id": "f5631c7f-e2d1-4874-9c16-19d282eef92e",
   "metadata": {},
   "outputs": [],
   "source": []
  },
  {
   "cell_type": "code",
   "execution_count": null,
   "id": "ca72f4db-4722-48a3-8d8f-e0eae5e16805",
   "metadata": {},
   "outputs": [],
   "source": []
  },
  {
   "cell_type": "code",
   "execution_count": null,
   "id": "79777843-9b1a-49d6-9639-dc0f40a47e96",
   "metadata": {},
   "outputs": [],
   "source": []
  },
  {
   "cell_type": "code",
   "execution_count": null,
   "id": "c2e824bf-bfcc-43ac-b6f2-cf96b1a1f91e",
   "metadata": {},
   "outputs": [],
   "source": [
    "page."
   ]
  },
  {
   "cell_type": "code",
   "execution_count": null,
   "id": "61534eaf-e52b-44b3-a8d4-95096817fefc",
   "metadata": {},
   "outputs": [],
   "source": []
  },
  {
   "cell_type": "code",
   "execution_count": null,
   "id": "8704272a-a909-4ff9-93a2-c04e800c5be9",
   "metadata": {},
   "outputs": [],
   "source": []
  },
  {
   "cell_type": "code",
   "execution_count": null,
   "id": "60167cd7-9ea9-4c1c-aba3-59f804b2e3b8",
   "metadata": {},
   "outputs": [],
   "source": []
  },
  {
   "cell_type": "code",
   "execution_count": null,
   "id": "deed3975-84b6-4976-a8b6-14471895c3be",
   "metadata": {},
   "outputs": [],
   "source": []
  },
  {
   "cell_type": "code",
   "execution_count": null,
   "id": "6fa9190d-bd60-4e39-90d3-e908970ad43b",
   "metadata": {},
   "outputs": [],
   "source": []
  },
  {
   "cell_type": "code",
   "execution_count": null,
   "id": "a8f3d445-8462-4004-aa61-7ac89cfa5970",
   "metadata": {},
   "outputs": [],
   "source": []
  },
  {
   "cell_type": "code",
   "execution_count": null,
   "id": "66916dd5-9fcd-4bf0-9ea4-410355ecf598",
   "metadata": {},
   "outputs": [],
   "source": []
  }
 ],
 "metadata": {
  "kernelspec": {
   "display_name": "Python 3 (ipykernel)",
   "language": "python",
   "name": "python3"
  },
  "language_info": {
   "codemirror_mode": {
    "name": "ipython",
    "version": 3
   },
   "file_extension": ".py",
   "mimetype": "text/x-python",
   "name": "python",
   "nbconvert_exporter": "python",
   "pygments_lexer": "ipython3",
   "version": "3.12.9"
  }
 },
 "nbformat": 4,
 "nbformat_minor": 5
}
