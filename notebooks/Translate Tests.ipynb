{
 "cells": [
  {
   "cell_type": "code",
   "execution_count": 1,
   "id": "d91b2073-11a7-4f9c-aec5-deb2bc1c9435",
   "metadata": {},
   "outputs": [
    {
     "data": {
      "text/plain": [
       "PosixPath('/Users/jbrandt/code/birddog')"
      ]
     },
     "execution_count": 1,
     "metadata": {},
     "output_type": "execute_result"
    }
   ],
   "source": [
    "import os\n",
    "from pathlib import Path\n",
    "# Change cwd to the project root (parent of 'notebooks/')\n",
    "os.chdir(Path.cwd().parent)\n",
    "Path.cwd()"
   ]
  },
  {
   "cell_type": "code",
   "execution_count": 2,
   "id": "f7047993-25a3-4e10-a475-55888fabc63e",
   "metadata": {},
   "outputs": [
    {
     "name": "stdout",
     "output_type": "stream",
     "text": [
      "2025-05-11 11:30:15,579 [INFO] Using Google Cloud translation API (credentials file:/Users/jbrandt/code/birddog/google-cloud-translate-key.json)\n",
      "2025-05-11 11:30:15,595 [INFO] Using local folder /Users/jbrandt/code/birddog/.cache for storage.\n"
     ]
    }
   ],
   "source": [
    "#import notebook_utils\n",
    "from time import sleep\n",
    "import json\n",
    "from birddog.translate import (\n",
    "    is_english, \n",
    "    translation,\n",
    "    queue_translation,\n",
    "    cancel_translation,\n",
    "    is_translation_running,\n",
    "    GoogleCloudTranslator)\n",
    "from birddog.core import Archive"
   ]
  },
  {
   "cell_type": "code",
   "execution_count": 3,
   "id": "78aa529e",
   "metadata": {},
   "outputs": [],
   "source": [
    "text = 'Перейменування: 1941-1945 Рейхскомісаріат України, м. Рівне.'"
   ]
  },
  {
   "cell_type": "code",
   "execution_count": 4,
   "id": "2e23c49a",
   "metadata": {},
   "outputs": [
    {
     "data": {
      "text/plain": [
       "'Renaming: 1941-1945 Reich Commissariat of Ukraine, Rivne.'"
      ]
     },
     "execution_count": 4,
     "metadata": {},
     "output_type": "execute_result"
    }
   ],
   "source": [
    "translation(text)"
   ]
  },
  {
   "cell_type": "code",
   "execution_count": 5,
   "id": "9620b071",
   "metadata": {},
   "outputs": [
    {
     "data": {
      "text/plain": [
       "False"
      ]
     },
     "execution_count": 5,
     "metadata": {},
     "output_type": "execute_result"
    }
   ],
   "source": [
    "is_english(text)"
   ]
  },
  {
   "cell_type": "code",
   "execution_count": 6,
   "id": "b15a03f7",
   "metadata": {},
   "outputs": [
    {
     "data": {
      "text/plain": [
       "True"
      ]
     },
     "execution_count": 6,
     "metadata": {},
     "output_type": "execute_result"
    }
   ],
   "source": [
    "is_english(translation(text))"
   ]
  },
  {
   "cell_type": "code",
   "execution_count": 7,
   "id": "ca356235",
   "metadata": {},
   "outputs": [
    {
     "data": {
      "text/plain": [
       "['Renaming: 1941-1945 Reich Commissariat of Ukraine, Rivne.',\n",
       " 'Renaming: 1941-1945 Reich Commissariat of Ukraine, Rivne.',\n",
       " 'Renaming: 1941-1945 Reich Commissariat of Ukraine, Rivne.',\n",
       " 'Renaming: 1941-1945 Reich Commissariat of Ukraine, Rivne.']"
      ]
     },
     "execution_count": 7,
     "metadata": {},
     "output_type": "execute_result"
    }
   ],
   "source": [
    "translation([text, text, text, text])"
   ]
  },
  {
   "cell_type": "code",
   "execution_count": 8,
   "id": "a3156651",
   "metadata": {},
   "outputs": [
    {
     "name": "stdout",
     "output_type": "stream",
     "text": [
      "loading 475 items.\n"
     ]
    }
   ],
   "source": [
    "gen_batch = False\n",
    "file_name = 'test/resources/dazho_d_descriptions.json'\n",
    "if gen_batch:\n",
    "    archive = Archive('DAZHO', 'D')\n",
    "    translation_batch = [child[1]['text']['uk'] for child in archive.children]\n",
    "    print('saving', len(translation_batch), 'items.')\n",
    "    with open(file_name, 'w', encoding=\"utf8\") as file:\n",
    "        file.write(json.dumps(translation_batch))\n",
    "else:\n",
    "    with open(file_name, 'r', encoding=\"utf8\") as file:\n",
    "        translation_batch = json.loads(file.read())\n",
    "        print('loading', len(translation_batch), 'items.')"
   ]
  },
  {
   "cell_type": "code",
   "execution_count": 9,
   "id": "603a10ea",
   "metadata": {},
   "outputs": [],
   "source": [
    "def progress_cb(task_id, progress, total):\n",
    "    print(f'progress[{task_id}]: {progress}/{total} {float(progress)/float(total)*100.:.1f}%')"
   ]
  },
  {
   "cell_type": "code",
   "execution_count": 10,
   "id": "57bd2c29",
   "metadata": {},
   "outputs": [],
   "source": [
    "def completion_cb(task_id, results):\n",
    "    print(f'completed[{task_id}]:')\n",
    "    for item in results[:10]:\n",
    "        print('    ', item)"
   ]
  },
  {
   "cell_type": "code",
   "execution_count": 11,
   "id": "ae0257d0",
   "metadata": {},
   "outputs": [
    {
     "name": "stdout",
     "output_type": "stream",
     "text": [
      "Queued 4e61429d-1dc3-41a7-9d00-e6684bb89b60\n"
     ]
    }
   ],
   "source": [
    "task_id = queue_translation(translation_batch[:80], progress_cb, completion_cb)\n",
    "print('Queued', task_id)"
   ]
  },
  {
   "cell_type": "code",
   "execution_count": 12,
   "id": "4c81fdc4",
   "metadata": {},
   "outputs": [
    {
     "name": "stdout",
     "output_type": "stream",
     "text": [
      "Queued: ['b5171b3d-073d-43f3-8814-ebb0f4b5dc88', 'ca45bd28-0fac-46f6-ac6d-62c8bd82b859', 'cb172175-7333-4135-b0fd-6f7adb940221', '3b4ff4d5-5ee1-4fba-b298-be441c632cac']\n"
     ]
    }
   ],
   "source": [
    "tasks = [\n",
    "    queue_translation(translation_batch[batch[0]:batch[1]], progress_cb, completion_cb)\n",
    "    for batch in ((0, 100), (100, 150), (150, 350), (350, 500)) ]\n",
    "print('Queued:', tasks)"
   ]
  },
  {
   "cell_type": "code",
   "execution_count": 13,
   "id": "e859cb36",
   "metadata": {},
   "outputs": [
    {
     "data": {
      "text/plain": [
       "False"
      ]
     },
     "execution_count": 13,
     "metadata": {},
     "output_type": "execute_result"
    }
   ],
   "source": [
    "#sleep(10)\n",
    "cancel_translation(tasks[3])"
   ]
  },
  {
   "cell_type": "code",
   "execution_count": 14,
   "id": "278e88fd",
   "metadata": {},
   "outputs": [
    {
     "data": {
      "text/plain": [
       "False"
      ]
     },
     "execution_count": 14,
     "metadata": {},
     "output_type": "execute_result"
    }
   ],
   "source": [
    "is_translation_running(tasks[3])"
   ]
  },
  {
   "cell_type": "code",
   "execution_count": 15,
   "id": "c9638a8a",
   "metadata": {},
   "outputs": [
    {
     "data": {
      "text/plain": [
       "False"
      ]
     },
     "execution_count": 15,
     "metadata": {},
     "output_type": "execute_result"
    }
   ],
   "source": [
    "is_translation_running()"
   ]
  },
  {
   "cell_type": "code",
   "execution_count": 16,
   "id": "4bf4256b",
   "metadata": {},
   "outputs": [
    {
     "data": {
      "text/plain": [
       "False"
      ]
     },
     "execution_count": 16,
     "metadata": {},
     "output_type": "execute_result"
    }
   ],
   "source": [
    "is_translation_running()"
   ]
  },
  {
   "cell_type": "code",
   "execution_count": 3,
   "id": "1b884076",
   "metadata": {},
   "outputs": [],
   "source": [
    "sample = [\n",
    "    \"Р-1\",\n",
    "    \"Р-2\",\n",
    "    \"Р-3\",\n",
    "    \"Р-4\",\n",
    "    \"Р-5\",\n",
    "    \"Р-6\",\n",
    "    \"Р-7\",\n",
    "    \"Р-10\"\n",
    "    ]"
   ]
  },
  {
   "cell_type": "code",
   "execution_count": 4,
   "id": "b9ddd037-8d1d-4215-9c7c-06bf5f7712ef",
   "metadata": {},
   "outputs": [
    {
     "data": {
      "text/plain": [
       "['P-1', 'R-2', 'R-3', 'R-4', 'P-5', 'R-6', 'R-7', 'P-10']"
      ]
     },
     "execution_count": 4,
     "metadata": {},
     "output_type": "execute_result"
    }
   ],
   "source": [
    "translation(sample)"
   ]
  },
  {
   "cell_type": "code",
   "execution_count": 9,
   "id": "edbe9c99-b459-46af-8e74-29e3a96c2cc3",
   "metadata": {},
   "outputs": [
    {
     "data": {
      "text/plain": [
       "['Р-1', 'Р-2', 'Р-3', 'Р-4', 'Р-5', 'Р-6', 'Р-7', 'Р-1']"
      ]
     },
     "execution_count": 9,
     "metadata": {},
     "output_type": "execute_result"
    }
   ],
   "source": [
    "sample2 = [text[:3] for text in sample]\n",
    "sample2"
   ]
  },
  {
   "cell_type": "code",
   "execution_count": null,
   "id": "1a058b02-637d-4512-b430-a57ba667a7f6",
   "metadata": {},
   "outputs": [],
   "source": []
  },
  {
   "cell_type": "code",
   "execution_count": 10,
   "id": "3e926836-553b-4cc8-af4f-453bd99dcff5",
   "metadata": {},
   "outputs": [
    {
     "data": {
      "text/plain": [
       "['P-1', 'R-2', 'R-3', 'R-4', 'P-5', 'R-6', 'R-7', 'P-1']"
      ]
     },
     "execution_count": 10,
     "metadata": {},
     "output_type": "execute_result"
    }
   ],
   "source": [
    "translation(sample2)"
   ]
  },
  {
   "cell_type": "code",
   "execution_count": 11,
   "id": "81ddafd9-2e78-4438-815e-c62abe7a7b10",
   "metadata": {},
   "outputs": [
    {
     "data": {
      "text/plain": [
       "'Р'"
      ]
     },
     "execution_count": 11,
     "metadata": {},
     "output_type": "execute_result"
    }
   ],
   "source": [
    "cyP = sample[0][:1]\n",
    "cyP"
   ]
  },
  {
   "cell_type": "code",
   "execution_count": 19,
   "id": "a787fc2e-f3cb-41dc-9763-35b6c6102cea",
   "metadata": {},
   "outputs": [],
   "source": [
    "sample3 = [f'{cyP}-{i}' for i in range(100)]"
   ]
  },
  {
   "cell_type": "code",
   "execution_count": 20,
   "id": "6bdb725d-55a3-49ac-8c94-08503814315f",
   "metadata": {},
   "outputs": [
    {
     "name": "stdout",
     "output_type": "stream",
     "text": [
      "P-0\n",
      "P-1\n",
      "P-5\n",
      "P-8\n",
      "P-10\n"
     ]
    }
   ],
   "source": [
    "trans3 = translation(sample3)\n",
    "for trans in trans3:\n",
    "    if trans[0] == 'P':\n",
    "        print(trans)"
   ]
  },
  {
   "cell_type": "code",
   "execution_count": null,
   "id": "36db0d9e-1ecb-4def-a26d-73c6f0f337bd",
   "metadata": {},
   "outputs": [],
   "source": []
  },
  {
   "cell_type": "code",
   "execution_count": null,
   "id": "c72eb013-e33a-4317-bd23-3edffc8102b4",
   "metadata": {},
   "outputs": [],
   "source": []
  },
  {
   "cell_type": "code",
   "execution_count": null,
   "id": "380ca9fc-61c7-44fd-9639-f7d91eb35797",
   "metadata": {},
   "outputs": [],
   "source": []
  }
 ],
 "metadata": {
  "kernelspec": {
   "display_name": "Python 3 (ipykernel)",
   "language": "python",
   "name": "python3"
  },
  "language_info": {
   "codemirror_mode": {
    "name": "ipython",
    "version": 3
   },
   "file_extension": ".py",
   "mimetype": "text/x-python",
   "name": "python",
   "nbconvert_exporter": "python",
   "pygments_lexer": "ipython3",
   "version": "3.12.9"
  }
 },
 "nbformat": 4,
 "nbformat_minor": 5
}
