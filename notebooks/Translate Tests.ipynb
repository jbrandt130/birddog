{
 "cells": [
  {
   "cell_type": "code",
   "execution_count": 1,
   "id": "d91b2073-11a7-4f9c-aec5-deb2bc1c9435",
   "metadata": {},
   "outputs": [
    {
     "data": {
      "text/plain": [
       "PosixPath('/Users/jbrandt/code/birddog')"
      ]
     },
     "execution_count": 1,
     "metadata": {},
     "output_type": "execute_result"
    }
   ],
   "source": [
    "import os\n",
    "from pathlib import Path\n",
    "# Change cwd to the project root (parent of 'notebooks/')\n",
    "os.chdir(Path.cwd().parent)\n",
    "Path.cwd()"
   ]
  },
  {
   "cell_type": "code",
   "execution_count": 2,
   "id": "f7047993-25a3-4e10-a475-55888fabc63e",
   "metadata": {},
   "outputs": [
    {
     "name": "stdout",
     "output_type": "stream",
     "text": [
      "2025-04-18 16:00:01,114 [INFO] Using Google Cloud translation API\n",
      "2025-04-18 16:00:01,125 [INFO] Using local folder /Users/jbrandt/code/birddog/.cache for storage.\n",
      "progress[4e61429d-1dc3-41a7-9d00-e6684bb89b60]: 5/80 6.2%\n",
      "progress[4e61429d-1dc3-41a7-9d00-e6684bb89b60]: 10/80 12.5%\n",
      "progress[4e61429d-1dc3-41a7-9d00-e6684bb89b60]: 15/80 18.8%\n",
      "progress[4e61429d-1dc3-41a7-9d00-e6684bb89b60]: 20/80 25.0%\n",
      "progress[4e61429d-1dc3-41a7-9d00-e6684bb89b60]: 25/80 31.2%\n",
      "progress[4e61429d-1dc3-41a7-9d00-e6684bb89b60]: 30/80 37.5%\n",
      "progress[4e61429d-1dc3-41a7-9d00-e6684bb89b60]: 35/80 43.8%\n",
      "progress[4e61429d-1dc3-41a7-9d00-e6684bb89b60]: 40/80 50.0%\n",
      "progress[ca45bd28-0fac-46f6-ac6d-62c8bd82b859]: 5/50 10.0%\n",
      "progress[b5171b3d-073d-43f3-8814-ebb0f4b5dc88]: 5/100 5.0%\n",
      "progress[ca45bd28-0fac-46f6-ac6d-62c8bd82b859]: 10/50 20.0%progress[cb172175-7333-4135-b0fd-6f7adb940221]: 5/200 2.5%\n",
      "progress[3b4ff4d5-5ee1-4fba-b298-be441c632cac]: 5/125 4.0%\n",
      "\n",
      "progress[4e61429d-1dc3-41a7-9d00-e6684bb89b60]: 45/80 56.2%\n",
      "progress[b5171b3d-073d-43f3-8814-ebb0f4b5dc88]: 10/100 10.0%\n",
      "progress[b5171b3d-073d-43f3-8814-ebb0f4b5dc88]: 15/100 15.0%\n",
      "progress[3b4ff4d5-5ee1-4fba-b298-be441c632cac]: 10/125 8.0%\n",
      "progress[ca45bd28-0fac-46f6-ac6d-62c8bd82b859]: 15/50 30.0%\n",
      "progress[4e61429d-1dc3-41a7-9d00-e6684bb89b60]: 50/80 62.5%\n",
      "progress[b5171b3d-073d-43f3-8814-ebb0f4b5dc88]: 20/100 20.0%\n",
      "progress[cb172175-7333-4135-b0fd-6f7adb940221]: 10/200 5.0%\n",
      "progress[4e61429d-1dc3-41a7-9d00-e6684bb89b60]: 55/80 68.8%\n",
      "progress[b5171b3d-073d-43f3-8814-ebb0f4b5dc88]: 25/100 25.0%progress[cb172175-7333-4135-b0fd-6f7adb940221]: 15/200 7.5%\n",
      "\n",
      "progress[ca45bd28-0fac-46f6-ac6d-62c8bd82b859]: 20/50 40.0%\n",
      "progress[3b4ff4d5-5ee1-4fba-b298-be441c632cac]: 15/125 12.0%\n",
      "progress[cb172175-7333-4135-b0fd-6f7adb940221]: 20/200 10.0%\n",
      "progress[b5171b3d-073d-43f3-8814-ebb0f4b5dc88]: 30/100 30.0%\n",
      "progress[4e61429d-1dc3-41a7-9d00-e6684bb89b60]: 60/80 75.0%\n",
      "progress[3b4ff4d5-5ee1-4fba-b298-be441c632cac]: 20/125 16.0%\n",
      "progress[cb172175-7333-4135-b0fd-6f7adb940221]: 25/200 12.5%\n",
      "progress[cb172175-7333-4135-b0fd-6f7adb940221]: 30/200 15.0%\n",
      "progress[b5171b3d-073d-43f3-8814-ebb0f4b5dc88]: 35/100 35.0%\n",
      "progress[ca45bd28-0fac-46f6-ac6d-62c8bd82b859]: 25/50 50.0%\n",
      "progress[cb172175-7333-4135-b0fd-6f7adb940221]: 35/200 17.5%progress[4e61429d-1dc3-41a7-9d00-e6684bb89b60]: 65/80 81.2%\n",
      "\n",
      "progress[3b4ff4d5-5ee1-4fba-b298-be441c632cac]: 25/125 20.0%\n",
      "progress[cb172175-7333-4135-b0fd-6f7adb940221]: 40/200 20.0%\n",
      "progress[ca45bd28-0fac-46f6-ac6d-62c8bd82b859]: 30/50 60.0%\n",
      "progress[3b4ff4d5-5ee1-4fba-b298-be441c632cac]: 30/125 24.0%\n",
      "progress[b5171b3d-073d-43f3-8814-ebb0f4b5dc88]: 40/100 40.0%\n",
      "progress[cb172175-7333-4135-b0fd-6f7adb940221]: 45/200 22.5%progress[4e61429d-1dc3-41a7-9d00-e6684bb89b60]: 70/80 87.5%\n",
      "\n",
      "progress[ca45bd28-0fac-46f6-ac6d-62c8bd82b859]: 35/50 70.0%\n",
      "progress[b5171b3d-073d-43f3-8814-ebb0f4b5dc88]: 45/100 45.0%progress[3b4ff4d5-5ee1-4fba-b298-be441c632cac]: 35/125 28.0%\n",
      "\n",
      "progress[cb172175-7333-4135-b0fd-6f7adb940221]: 50/200 25.0%\n",
      "progress[b5171b3d-073d-43f3-8814-ebb0f4b5dc88]: 50/100 50.0%\n",
      "progress[4e61429d-1dc3-41a7-9d00-e6684bb89b60]: 75/80 93.8%\n",
      "progress[cb172175-7333-4135-b0fd-6f7adb940221]: 55/200 27.5%\n",
      "progress[ca45bd28-0fac-46f6-ac6d-62c8bd82b859]: 40/50 80.0%\n",
      "progress[3b4ff4d5-5ee1-4fba-b298-be441c632cac]: 40/125 32.0%\n",
      "progress[b5171b3d-073d-43f3-8814-ebb0f4b5dc88]: 55/100 55.0%\n",
      "progress[cb172175-7333-4135-b0fd-6f7adb940221]: 60/200 30.0%\n",
      "progress[ca45bd28-0fac-46f6-ac6d-62c8bd82b859]: 45/50 90.0%\n",
      "progress[4e61429d-1dc3-41a7-9d00-e6684bb89b60]: 80/80 100.0%\n",
      "completed[4e61429d-1dc3-41a7-9d00-e6684bb89b60]:\n",
      "     Volyn Spiritual Consistory, Zhytomyr, Volyn Province\n",
      "     Zhytomyr County Court, Zhytomyr, Volyn Province\n",
      "     Zhytomyr City Magistrate&#39;s Office, Zhytomyr, Volyn Province\n",
      "     Zhytomyr Nobility Guardianship of the city of Zhytomyr, Volyn province\n",
      "     Novograd-Volynskyi City Magistrate&#39;s Office, Novy-Volynskyi, Volyn Province\n",
      "     Novograd-Volynskyi District Court, Novy-Volynskyi, Volyn Province\n",
      "     Ovruch County Court, Ovruch, Volyn Province\n",
      "     Ovruch City Magistrate&#39;s Office, Ovruch, Volyn Province\n",
      "     Volyn Main Court, Zhytomyr, Volyn Province\n",
      "     Volyn Chamber of the Civil Court of Zhytomyr, Volyn Province\n",
      "progress[cb172175-7333-4135-b0fd-6f7adb940221]: 65/200 32.5%\n",
      "progress[b5171b3d-073d-43f3-8814-ebb0f4b5dc88]: 60/100 60.0%\n",
      "progress[3b4ff4d5-5ee1-4fba-b298-be441c632cac]: 45/125 36.0%\n",
      "progress[ca45bd28-0fac-46f6-ac6d-62c8bd82b859]: 50/50 100.0%\n",
      "completed[ca45bd28-0fac-46f6-ac6d-62c8bd82b859]:\n",
      "     Volyn provincial representative in zemstvo and city affairs Zhytomyr city, Volyn province\n",
      "     Baron de Chaudoire Ivan Maximilianovich\n",
      "     Merchants Zhuravlevs: Mykola Alekseevich, Volodymyr Alekseevich, Nadiya Volodymyrivna\n",
      "     Congress of Justices of the Peace of the Zhytomyr Judicial and Peace District, Zhytomyr\n",
      "     Justice of the Peace of the 1st precinct of the Zhytomyr Judicial and Peace District\n",
      "     Justice of the Peace of the 2nd precinct of the Zhytomyr Judicial and Peace District\n",
      "     Justice of the Peace of the 3rd precinct of the Zhytomyr Judicial and Peace District\n",
      "     Justice of the Peace of the 4th precinct of the Judicial and Peace District\n",
      "     Justice of the Peace of the 5th precinct of the judicial and peace district of the city of Horoshky, Zhytomyr county\n",
      "     Justice of the Peace of the 6th precinct of the Zhytomyr Judicial and Peace District, Chudniv town, Zhytomyr county\n",
      "progress[cb172175-7333-4135-b0fd-6f7adb940221]: 70/200 35.0%\n",
      "progress[3b4ff4d5-5ee1-4fba-b298-be441c632cac]: 50/125 40.0%progress[b5171b3d-073d-43f3-8814-ebb0f4b5dc88]: 65/100 65.0%\n",
      "\n",
      "progress[cb172175-7333-4135-b0fd-6f7adb940221]: 75/200 37.5%\n",
      "progress[3b4ff4d5-5ee1-4fba-b298-be441c632cac]: 55/125 44.0%\n",
      "progress[b5171b3d-073d-43f3-8814-ebb0f4b5dc88]: 70/100 70.0%\n",
      "progress[cb172175-7333-4135-b0fd-6f7adb940221]: 80/200 40.0%\n",
      "progress[cb172175-7333-4135-b0fd-6f7adb940221]: 85/200 42.5%\n",
      "progress[cb172175-7333-4135-b0fd-6f7adb940221]: 90/200 45.0%\n",
      "progress[3b4ff4d5-5ee1-4fba-b298-be441c632cac]: 60/125 48.0%\n",
      "progress[b5171b3d-073d-43f3-8814-ebb0f4b5dc88]: 75/100 75.0%\n",
      "progress[cb172175-7333-4135-b0fd-6f7adb940221]: 95/200 47.5%\n",
      "progress[cb172175-7333-4135-b0fd-6f7adb940221]: 100/200 50.0%\n",
      "progress[b5171b3d-073d-43f3-8814-ebb0f4b5dc88]: 80/100 80.0%\n",
      "progress[3b4ff4d5-5ee1-4fba-b298-be441c632cac]: 65/125 52.0%\n",
      "progress[3b4ff4d5-5ee1-4fba-b298-be441c632cac]: 70/125 56.0%progress[b5171b3d-073d-43f3-8814-ebb0f4b5dc88]: 85/100 85.0%\n",
      "\n",
      "progress[cb172175-7333-4135-b0fd-6f7adb940221]: 105/200 52.5%\n",
      "progress[cb172175-7333-4135-b0fd-6f7adb940221]: 110/200 55.0%\n",
      "progress[b5171b3d-073d-43f3-8814-ebb0f4b5dc88]: 90/100 90.0%\n",
      "progress[cb172175-7333-4135-b0fd-6f7adb940221]: 115/200 57.5%\n",
      "progress[cb172175-7333-4135-b0fd-6f7adb940221]: 120/200 60.0%\n",
      "progress[b5171b3d-073d-43f3-8814-ebb0f4b5dc88]: 95/100 95.0%\n",
      "progress[cb172175-7333-4135-b0fd-6f7adb940221]: 125/200 62.5%\n",
      "progress[b5171b3d-073d-43f3-8814-ebb0f4b5dc88]: 100/100 100.0%\n",
      "completed[b5171b3d-073d-43f3-8814-ebb0f4b5dc88]:\n",
      "     Volyn Spiritual Consistory, Zhytomyr, Volyn Province\n",
      "     Zhytomyr County Court, Zhytomyr, Volyn Province\n",
      "     Zhytomyr City Magistrate&#39;s Office, Zhytomyr, Volyn Province\n",
      "     Zhytomyr Nobility Guardianship of the city of Zhytomyr, Volyn province\n",
      "     Novograd-Volynskyi City Magistrate&#39;s Office, Novy-Volynskyi, Volyn Province\n",
      "     Novograd-Volynskyi District Court, Novy-Volynskyi, Volyn Province\n",
      "     Ovruch County Court, Ovruch, Volyn Province\n",
      "     Ovruch City Magistrate&#39;s Office, Ovruch, Volyn Province\n",
      "     Volyn Main Court, Zhytomyr, Volyn Province\n",
      "     Volyn Chamber of the Civil Court of Zhytomyr, Volyn Province\n",
      "progress[3b4ff4d5-5ee1-4fba-b298-be441c632cac]: 75/125 60.0%\n",
      "progress[cb172175-7333-4135-b0fd-6f7adb940221]: 130/200 65.0%\n",
      "progress[cb172175-7333-4135-b0fd-6f7adb940221]: 135/200 67.5%\n",
      "progress[3b4ff4d5-5ee1-4fba-b298-be441c632cac]: 80/125 64.0%\n",
      "progress[cb172175-7333-4135-b0fd-6f7adb940221]: 140/200 70.0%\n",
      "progress[3b4ff4d5-5ee1-4fba-b298-be441c632cac]: 85/125 68.0%\n",
      "progress[cb172175-7333-4135-b0fd-6f7adb940221]: 145/200 72.5%\n",
      "progress[3b4ff4d5-5ee1-4fba-b298-be441c632cac]: 90/125 72.0%\n",
      "progress[cb172175-7333-4135-b0fd-6f7adb940221]: 150/200 75.0%\n",
      "progress[3b4ff4d5-5ee1-4fba-b298-be441c632cac]: 95/125 76.0%\n",
      "progress[cb172175-7333-4135-b0fd-6f7adb940221]: 155/200 77.5%\n",
      "progress[3b4ff4d5-5ee1-4fba-b298-be441c632cac]: 100/125 80.0%\n",
      "progress[cb172175-7333-4135-b0fd-6f7adb940221]: 160/200 80.0%\n",
      "progress[3b4ff4d5-5ee1-4fba-b298-be441c632cac]: 105/125 84.0%\n",
      "progress[cb172175-7333-4135-b0fd-6f7adb940221]: 165/200 82.5%\n",
      "progress[cb172175-7333-4135-b0fd-6f7adb940221]: 170/200 85.0%\n",
      "progress[3b4ff4d5-5ee1-4fba-b298-be441c632cac]: 110/125 88.0%\n",
      "progress[cb172175-7333-4135-b0fd-6f7adb940221]: 175/200 87.5%progress[3b4ff4d5-5ee1-4fba-b298-be441c632cac]: 115/125 92.0%\n",
      "\n",
      "progress[cb172175-7333-4135-b0fd-6f7adb940221]: 180/200 90.0%\n",
      "progress[3b4ff4d5-5ee1-4fba-b298-be441c632cac]: 120/125 96.0%\n",
      "progress[cb172175-7333-4135-b0fd-6f7adb940221]: 185/200 92.5%\n",
      "progress[3b4ff4d5-5ee1-4fba-b298-be441c632cac]: 125/125 100.0%\n",
      "completed[3b4ff4d5-5ee1-4fba-b298-be441c632cac]:\n",
      "     Berdychiv District Police, Berdychiv, Kyiv Province.\n",
      "     Bailiff of the 3rd estate of Berdychiv district\n",
      "     Bilylivka Post and Telegraph Office of the Kyiv Post and Telegraph District, Bilylivka, Berdychiv County\n",
      "     Berdychiv Police Department, Berdychiv city, Kyiv region.\n",
      "     Berdychiv City Police, Berdychiv, Kyiv Province.\n",
      "     Berdychiv Post and Telegraph Office, Berdychiv, Kyiv Province.\n",
      "     Berdychiv district leader of the nobility of the city of Berdychiv, Kyiv province.\n",
      "     World average of the 2nd district of Berdychiv district.\n",
      "     Berdychiv Rear Evacuation Commission, Berdychiv, Kyiv Province.\n",
      "     The 2nd Berdychiv district industrial tax office is located in the city of Berdychiv, Kyiv province.\n",
      "progress[cb172175-7333-4135-b0fd-6f7adb940221]: 190/200 95.0%\n",
      "progress[cb172175-7333-4135-b0fd-6f7adb940221]: 195/200 97.5%\n",
      "progress[cb172175-7333-4135-b0fd-6f7adb940221]: 200/200 100.0%\n",
      "completed[cb172175-7333-4135-b0fd-6f7adb940221]:\n",
      "     Zhytomyr Women&#39;s Gymnasium named after N. V. Ovsyannikova, Zhytomyr, Volyn province\n",
      "     Novograd-Volynsk Men&#39;s Gymnasium, Novograd-Volynskyi, Volyn province\n",
      "     Zhytomyr 1st Higher Primary Boys&#39; School, Zhytomyr, Volyn Province\n",
      "     Zhytomyr two-year pedagogical courses at the Zhytomyr First Higher Primary Men&#39;s School, Zhytomyr, Volyn province\n",
      "     Volyn Provincial Land Surveyor, Zhytomyr, Volyn Province\n",
      "     Zhytomyr State-owned Purification Warehouse No. 1 of the Volyn Provincial Excise Department, Zhytomyr, Volyn Province\n",
      "     Lyubar state-owned cleaning warehouse No. 2 of the Volyn Provincial Excise Department, Lyubar town, Novy Volyn district\n",
      "     Dean of the monasteries of the Volyn diocese, Zhytomyr city, Volyn province\n",
      "     Volyn provincial real estate tax office in Zhytomyr, Volyn province\n",
      "     Kodnya Post and Telegraph State Savings Bank No. 14, Kodnya village, Zhytomyr county\n"
     ]
    }
   ],
   "source": [
    "#import notebook_utils\n",
    "from time import sleep\n",
    "import json\n",
    "from birddog.translate import (\n",
    "    is_english, \n",
    "    translation,\n",
    "    queue_translation,\n",
    "    cancel_translation,\n",
    "    is_translation_running,\n",
    "    GoogleCloudTranslator)\n",
    "from birddog.core import Archive"
   ]
  },
  {
   "cell_type": "code",
   "execution_count": 3,
   "id": "78aa529e",
   "metadata": {},
   "outputs": [],
   "source": [
    "text = 'Перейменування: 1941-1945 Рейхскомісаріат України, м. Рівне.'"
   ]
  },
  {
   "cell_type": "code",
   "execution_count": 4,
   "id": "2e23c49a",
   "metadata": {},
   "outputs": [
    {
     "data": {
      "text/plain": [
       "'Renaming: 1941-1945 Reich Commissariat of Ukraine, Rivne.'"
      ]
     },
     "execution_count": 4,
     "metadata": {},
     "output_type": "execute_result"
    }
   ],
   "source": [
    "translation(text)"
   ]
  },
  {
   "cell_type": "code",
   "execution_count": 5,
   "id": "9620b071",
   "metadata": {},
   "outputs": [
    {
     "data": {
      "text/plain": [
       "False"
      ]
     },
     "execution_count": 5,
     "metadata": {},
     "output_type": "execute_result"
    }
   ],
   "source": [
    "is_english(text)"
   ]
  },
  {
   "cell_type": "code",
   "execution_count": 6,
   "id": "b15a03f7",
   "metadata": {},
   "outputs": [
    {
     "data": {
      "text/plain": [
       "True"
      ]
     },
     "execution_count": 6,
     "metadata": {},
     "output_type": "execute_result"
    }
   ],
   "source": [
    "is_english(translation(text))"
   ]
  },
  {
   "cell_type": "code",
   "execution_count": 7,
   "id": "ca356235",
   "metadata": {},
   "outputs": [
    {
     "data": {
      "text/plain": [
       "['Renaming: 1941-1945 Reich Commissariat of Ukraine, Rivne.',\n",
       " 'Renaming: 1941-1945 Reich Commissariat of Ukraine, Rivne.',\n",
       " 'Renaming: 1941-1945 Reich Commissariat of Ukraine, Rivne.',\n",
       " 'Renaming: 1941-1945 Reich Commissariat of Ukraine, Rivne.']"
      ]
     },
     "execution_count": 7,
     "metadata": {},
     "output_type": "execute_result"
    }
   ],
   "source": [
    "translation([text, text, text, text])"
   ]
  },
  {
   "cell_type": "code",
   "execution_count": 8,
   "id": "a3156651",
   "metadata": {},
   "outputs": [
    {
     "name": "stdout",
     "output_type": "stream",
     "text": [
      "loading 475 items.\n"
     ]
    }
   ],
   "source": [
    "gen_batch = False\n",
    "file_name = 'test/resources/dazho_d_descriptions.json'\n",
    "if gen_batch:\n",
    "    archive = Archive('DAZHO', 'D')\n",
    "    translation_batch = [child[1]['text']['uk'] for child in archive.children]\n",
    "    print('saving', len(translation_batch), 'items.')\n",
    "    with open(file_name, 'w', encoding=\"utf8\") as file:\n",
    "        file.write(json.dumps(translation_batch))\n",
    "else:\n",
    "    with open(file_name, 'r', encoding=\"utf8\") as file:\n",
    "        translation_batch = json.loads(file.read())\n",
    "        print('loading', len(translation_batch), 'items.')"
   ]
  },
  {
   "cell_type": "code",
   "execution_count": 9,
   "id": "603a10ea",
   "metadata": {},
   "outputs": [],
   "source": [
    "def progress_cb(task_id, progress, total):\n",
    "    print(f'progress[{task_id}]: {progress}/{total} {float(progress)/float(total)*100.:.1f}%')"
   ]
  },
  {
   "cell_type": "code",
   "execution_count": 10,
   "id": "57bd2c29",
   "metadata": {},
   "outputs": [],
   "source": [
    "def completion_cb(task_id, results):\n",
    "    print(f'completed[{task_id}]:')\n",
    "    for item in results[:10]:\n",
    "        print('    ', item)"
   ]
  },
  {
   "cell_type": "code",
   "execution_count": 11,
   "id": "ae0257d0",
   "metadata": {},
   "outputs": [
    {
     "name": "stdout",
     "output_type": "stream",
     "text": [
      "Queued 4e61429d-1dc3-41a7-9d00-e6684bb89b60\n"
     ]
    }
   ],
   "source": [
    "task_id = queue_translation(translation_batch[:80], progress_cb, completion_cb)\n",
    "print('Queued', task_id)"
   ]
  },
  {
   "cell_type": "code",
   "execution_count": 12,
   "id": "4c81fdc4",
   "metadata": {},
   "outputs": [
    {
     "name": "stdout",
     "output_type": "stream",
     "text": [
      "Queued: ['b5171b3d-073d-43f3-8814-ebb0f4b5dc88', 'ca45bd28-0fac-46f6-ac6d-62c8bd82b859', 'cb172175-7333-4135-b0fd-6f7adb940221', '3b4ff4d5-5ee1-4fba-b298-be441c632cac']\n"
     ]
    }
   ],
   "source": [
    "tasks = [\n",
    "    queue_translation(translation_batch[batch[0]:batch[1]], progress_cb, completion_cb)\n",
    "    for batch in ((0, 100), (100, 150), (150, 350), (350, 500)) ]\n",
    "print('Queued:', tasks)"
   ]
  },
  {
   "cell_type": "code",
   "execution_count": 13,
   "id": "e859cb36",
   "metadata": {},
   "outputs": [
    {
     "data": {
      "text/plain": [
       "False"
      ]
     },
     "execution_count": 13,
     "metadata": {},
     "output_type": "execute_result"
    }
   ],
   "source": [
    "#sleep(10)\n",
    "cancel_translation(tasks[3])"
   ]
  },
  {
   "cell_type": "code",
   "execution_count": 14,
   "id": "278e88fd",
   "metadata": {},
   "outputs": [
    {
     "data": {
      "text/plain": [
       "False"
      ]
     },
     "execution_count": 14,
     "metadata": {},
     "output_type": "execute_result"
    }
   ],
   "source": [
    "is_translation_running(tasks[3])"
   ]
  },
  {
   "cell_type": "code",
   "execution_count": 15,
   "id": "c9638a8a",
   "metadata": {},
   "outputs": [
    {
     "data": {
      "text/plain": [
       "False"
      ]
     },
     "execution_count": 15,
     "metadata": {},
     "output_type": "execute_result"
    }
   ],
   "source": [
    "is_translation_running()"
   ]
  },
  {
   "cell_type": "code",
   "execution_count": 16,
   "id": "4bf4256b",
   "metadata": {},
   "outputs": [
    {
     "data": {
      "text/plain": [
       "False"
      ]
     },
     "execution_count": 16,
     "metadata": {},
     "output_type": "execute_result"
    }
   ],
   "source": [
    "is_translation_running()"
   ]
  },
  {
   "cell_type": "code",
   "execution_count": null,
   "id": "1b884076",
   "metadata": {},
   "outputs": [],
   "source": []
  }
 ],
 "metadata": {
  "kernelspec": {
   "display_name": "Python 3 (ipykernel)",
   "language": "python",
   "name": "python3"
  },
  "language_info": {
   "codemirror_mode": {
    "name": "ipython",
    "version": 3
   },
   "file_extension": ".py",
   "mimetype": "text/x-python",
   "name": "python",
   "nbconvert_exporter": "python",
   "pygments_lexer": "ipython3",
   "version": "3.12.9"
  }
 },
 "nbformat": 4,
 "nbformat_minor": 5
}
