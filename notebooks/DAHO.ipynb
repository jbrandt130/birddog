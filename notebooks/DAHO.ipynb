{
 "cells": [
  {
   "cell_type": "code",
   "execution_count": 1,
   "id": "381ea033-ac02-4db2-be57-8fd6644998b2",
   "metadata": {},
   "outputs": [
    {
     "data": {
      "text/plain": [
       "PosixPath('/Users/jbrandt/code/birddog')"
      ]
     },
     "execution_count": 1,
     "metadata": {},
     "output_type": "execute_result"
    }
   ],
   "source": [
    "import os\n",
    "from pathlib import Path\n",
    "# Change cwd to the project root (parent of 'notebooks/')\n",
    "os.chdir(Path.cwd().parent)\n",
    "Path.cwd()"
   ]
  },
  {
   "cell_type": "code",
   "execution_count": 2,
   "id": "0d269653-f763-4daa-93c8-eabf08a8fd5f",
   "metadata": {},
   "outputs": [
    {
     "name": "stdout",
     "output_type": "stream",
     "text": [
      "2025-06-09 18:28:01,014 [INFO] Using Google Cloud translation API (credentials file:/Users/jbrandt/code/birddog/google-cloud-translate-key.json)\n",
      "2025-06-09 18:28:01,019 [INFO] Using local folder /Users/jbrandt/code/birddog/.cache for storage.\n"
     ]
    }
   ],
   "source": [
    "from birddog.core import (\n",
    "    Archive, \n",
    "    )"
   ]
  },
  {
   "cell_type": "code",
   "execution_count": 3,
   "id": "cdd4cf10-b574-4bf4-971f-8fd64b943556",
   "metadata": {},
   "outputs": [
    {
     "name": "stdout",
     "output_type": "stream",
     "text": [
      "2025-06-09 18:28:01,640 [INFO] HistoryLRU.lookup(ДАХО/Д): cache miss\n",
      "2025-06-09 18:28:01,871 [INFO] fetch_url: 1 requests in last 60s → 0.02 req/s\n",
      "2025-06-09 18:28:01,873 [INFO] Fetching from cache: DAHO-D[2024,07,27,20:24]: page_cache/DAHO-D/2024,07,27,20:24.json\n",
      "2025-06-09 18:28:01,887 [INFO] Retrieved from cache: DAHO-D[2024,07,27,20:24]: page_cache/DAHO-D/2024,07,27,20:24.json\n"
     ]
    }
   ],
   "source": [
    "daho = Archive(\"DAHO\")"
   ]
  },
  {
   "cell_type": "code",
   "execution_count": 4,
   "id": "cd029865-7005-4c3e-9d53-2e576500945f",
   "metadata": {},
   "outputs": [
    {
     "name": "stdout",
     "output_type": "stream",
     "text": [
      "2025-06-09 18:28:02,460 [INFO] HistoryLRU.lookup(ДАХО/40): cache miss\n",
      "2025-06-09 18:28:02,631 [INFO] Fetching from cache: DAHO-D/40[2025,04,20,16:34]: page_cache/DAHO-D/40/2025,04,20,16:34.json\n",
      "2025-06-09 18:28:02,633 [INFO] Loading page: DAHO-D/40 from https://uk.wikisource.org/wiki/%D0%90%D1%80%D1%85%D1%96%D0%B2:%D0%94%D0%90%D0%A5%D0%9E/40\n",
      "2025-06-09 18:28:02,907 [INFO] HistoryLRU.lookup(ДАХО/40): cache hit\n",
      "2025-06-09 18:28:02,908 [INFO] Saving page to cache: DAHO-D/40[2025,04,20,16:34]\n"
     ]
    },
    {
     "data": {
      "text/plain": [
       "<birddog.core.Fond at 0x11338fd10>"
      ]
     },
     "execution_count": 4,
     "metadata": {},
     "output_type": "execute_result"
    }
   ],
   "source": [
    "daho[\"40\"]"
   ]
  },
  {
   "cell_type": "code",
   "execution_count": null,
   "id": "a9eb3846-d47b-4a63-8223-5166cec75b3f",
   "metadata": {},
   "outputs": [],
   "source": [
    "daho.report"
   ]
  },
  {
   "cell_type": "code",
   "execution_count": null,
   "id": "2ae13da0-ba1d-4440-a768-2f8431c520dc",
   "metadata": {},
   "outputs": [],
   "source": [
    "[child[0][0][\"text\"][\"uk\"] for child in daho.children]"
   ]
  },
  {
   "cell_type": "code",
   "execution_count": null,
   "id": "4666d6b2-8b53-40ba-b74e-f2e08256f220",
   "metadata": {},
   "outputs": [],
   "source": [
    "daho._find_child_row(daho.child_ids[39])"
   ]
  },
  {
   "cell_type": "code",
   "execution_count": null,
   "id": "34820dba-af28-4ddf-a85e-78c39dd1082b",
   "metadata": {},
   "outputs": [],
   "source": [
    "[x for x in daho.children if x[0][\"link\"] is None]"
   ]
  },
  {
   "cell_type": "code",
   "execution_count": null,
   "id": "c054f44e-3f7e-4673-a98a-4e1e2c8a28ad",
   "metadata": {},
   "outputs": [],
   "source": []
  },
  {
   "cell_type": "code",
   "execution_count": null,
   "id": "aec5ffdd-2b68-481c-ad9e-b34e39e1a116",
   "metadata": {},
   "outputs": [],
   "source": []
  },
  {
   "cell_type": "code",
   "execution_count": null,
   "id": "e8306d7c-e38b-4eb8-b810-85789a3c7674",
   "metadata": {},
   "outputs": [],
   "source": []
  },
  {
   "cell_type": "code",
   "execution_count": null,
   "id": "202f7850-8219-4ab1-bcb4-15366ae051ba",
   "metadata": {},
   "outputs": [],
   "source": [
    "daho.child_ids[39]"
   ]
  },
  {
   "cell_type": "code",
   "execution_count": null,
   "id": "ea208df7-6302-4050-8400-f0ef2b0fb016",
   "metadata": {},
   "outputs": [],
   "source": []
  },
  {
   "cell_type": "code",
   "execution_count": null,
   "id": "724fb1d7-0cd7-4fab-8954-a80662849c8a",
   "metadata": {},
   "outputs": [],
   "source": []
  },
  {
   "cell_type": "code",
   "execution_count": null,
   "id": "5c933d83-0929-49e7-a31b-24bd44e98c13",
   "metadata": {},
   "outputs": [],
   "source": []
  },
  {
   "cell_type": "code",
   "execution_count": null,
   "id": "97bf7290-6d2d-4866-b432-6ace629d7a34",
   "metadata": {},
   "outputs": [],
   "source": [
    "len(daho.children)"
   ]
  },
  {
   "cell_type": "code",
   "execution_count": null,
   "id": "1bf23847-94f3-452c-81b4-ca1526c40085",
   "metadata": {},
   "outputs": [],
   "source": []
  },
  {
   "cell_type": "code",
   "execution_count": null,
   "id": "38e830e4-4a6e-479b-9d29-6f04167bff03",
   "metadata": {},
   "outputs": [],
   "source": []
  },
  {
   "cell_type": "code",
   "execution_count": null,
   "id": "874521b5-b241-4207-b20f-69ba794f1aad",
   "metadata": {},
   "outputs": [],
   "source": []
  },
  {
   "cell_type": "code",
   "execution_count": null,
   "id": "11fb1ab2-7939-4820-9e41-5f358b21a51c",
   "metadata": {},
   "outputs": [],
   "source": []
  },
  {
   "cell_type": "code",
   "execution_count": null,
   "id": "f2eaa008-d0e4-43d4-abd4-34fcd2b4c8e4",
   "metadata": {},
   "outputs": [],
   "source": []
  }
 ],
 "metadata": {
  "kernelspec": {
   "display_name": "Python 3 (ipykernel)",
   "language": "python",
   "name": "python3"
  },
  "language_info": {
   "codemirror_mode": {
    "name": "ipython",
    "version": 3
   },
   "file_extension": ".py",
   "mimetype": "text/x-python",
   "name": "python",
   "nbconvert_exporter": "python",
   "pygments_lexer": "ipython3",
   "version": "3.12.9"
  }
 },
 "nbformat": 4,
 "nbformat_minor": 5
}
