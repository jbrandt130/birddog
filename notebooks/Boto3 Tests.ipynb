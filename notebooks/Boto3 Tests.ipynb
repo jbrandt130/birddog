{
 "cells": [
  {
   "cell_type": "code",
   "execution_count": 1,
   "id": "be63af98-17a9-4223-a5e1-0ad04ebde20c",
   "metadata": {},
   "outputs": [
    {
     "data": {
      "text/plain": [
       "PosixPath('/Users/jbrandt/code/birddog')"
      ]
     },
     "execution_count": 1,
     "metadata": {},
     "output_type": "execute_result"
    }
   ],
   "source": [
    "import os\n",
    "from pathlib import Path\n",
    "# Change cwd to the project root (parent of 'notebooks/')\n",
    "os.chdir(Path.cwd().parent)\n",
    "Path.cwd()"
   ]
  },
  {
   "cell_type": "code",
   "execution_count": 2,
   "id": "a5a9e814-c71a-482e-9799-385c2debd047",
   "metadata": {},
   "outputs": [],
   "source": [
    "import boto3\n",
    "#from botocore.exceptions import ClientError\n",
    "#from botocore.exceptions import BucketAlreadyOwnedByYou, BucketAlreadyExists\n",
    "import json"
   ]
  },
  {
   "cell_type": "code",
   "execution_count": 3,
   "id": "6f6a709d-da97-4b0d-8913-f14f0a568455",
   "metadata": {},
   "outputs": [
    {
     "name": "stdout",
     "output_type": "stream",
     "text": [
      "2025-04-22 21:37:49,165 [INFO] Using Google Cloud translation API (credentials file:/Users/jbrandt/code/birddog/google-cloud-translate-key.json)\n",
      "2025-04-22 21:37:49,175 [INFO] Found credentials in environment variables.\n",
      "2025-04-22 21:37:49,218 [INFO] Using AWS S3 bucket birddog-data for storage.\n"
     ]
    }
   ],
   "source": [
    "from birddog.core import Archive\n",
    "from birddog.ai import _form_table_column_classifier_prompt"
   ]
  },
  {
   "cell_type": "code",
   "execution_count": 4,
   "id": "b4503543",
   "metadata": {},
   "outputs": [],
   "source": [
    "client = boto3.client(\"bedrock-runtime\", region_name=\"us-east-1\")"
   ]
  },
  {
   "cell_type": "code",
   "execution_count": 5,
   "id": "ed422d3c-b85c-4d98-a1d8-6470f0f5f3b9",
   "metadata": {},
   "outputs": [
    {
     "name": "stdout",
     "output_type": "stream",
     "text": [
      "2025-04-22 21:37:50,367 [INFO] HistoryLRU.lookup(ДАЖО/Д): cache miss\n",
      "2025-04-22 21:37:50,522 [INFO] fetch_url: 1 requests in last 60s → 0.02 req/s\n",
      "2025-04-22 21:37:51,218 [INFO] Retrieved from cache: DAZHO-D[2025,01,19,12:47]: page_cache/DAZHO-D/2025,01,19,12:47.json\n"
     ]
    }
   ],
   "source": [
    "page = Archive('DAZHO')"
   ]
  },
  {
   "cell_type": "code",
   "execution_count": 6,
   "id": "3465be4b-a5ec-4251-9ee5-785103131861",
   "metadata": {},
   "outputs": [],
   "source": [
    "classes = {\n",
    "    \"DATE\": \"A column indicating a single date or a date range\",\n",
    "    \"DESCRIPTION\": \"A column containing a textual description of the item\",\n",
    "    \"ID\": \"A unique row identifier, number, or code\"\n",
    "}\n"
   ]
  },
  {
   "cell_type": "code",
   "execution_count": 7,
   "id": "7d4c9f8e-c282-485b-90d7-4339fc723167",
   "metadata": {},
   "outputs": [
    {
     "name": "stdout",
     "output_type": "stream",
     "text": [
      "['№', 'Назва фонду', 'Крайні дати', 'Справ']\n",
      "[['1', 'Волинська духовна консисторія м. Житомир, Волинської губернії', '1741–1921', ''], ['2', 'Житомирський повітовий суд м. Житомир, Волинської губернії', '1795-1872', '1280'], ['3', 'Житомирський городовий магістрат м. Житомир, Волинської губернії', '1800–1849', '201']]\n"
     ]
    }
   ],
   "source": [
    "headers = [col['uk'] for col in page.header]\n",
    "print(headers)\n",
    "max_rows = 3\n",
    "rows = [ [ item['text']['uk'] for item in row ] for row in page.children[:max_rows] ]\n",
    "print(rows)"
   ]
  },
  {
   "cell_type": "code",
   "execution_count": 8,
   "id": "1b1f7e41-4fce-4e84-8379-890f4fe35a4b",
   "metadata": {},
   "outputs": [
    {
     "name": "stdout",
     "output_type": "stream",
     "text": [
      "You are given a list of table column headers in Ukranian and their indices:\n",
      "0: №\n",
      "1: Назва фонду\n",
      "2: Крайні дати\n",
      "3: Справ\n",
      "\n",
      "Classify each header into one of the following types based on the descriptions below:\n",
      "- DATE: A column indicating a single date or a date range\n",
      "- DESCRIPTION: A column containing a textual description of the item\n",
      "- ID: A unique row identifier, number, or code\n",
      "\n",
      "Here are some sample rows of the table:\n",
      "Row 1: ['1', 'Волинська духовна консисторія м. Житомир, Волинської губернії', '1741–1921', '']\n",
      "Row 2: ['2', 'Житомирський повітовий суд м. Житомир, Волинської губернії', '1795-1872', '1280']\n",
      "Row 3: ['3', 'Житомирський городовий магістрат м. Житомир, Волинської губернії', '1800–1849', '201']\n",
      "\n",
      "Rules:\n",
      "- Assign exactly one type to each header.\n",
      "- Use each type at most once, except for 'Other', which can be reused.\n",
      "- If a header does not clearly fit any type, classify it as 'OTHER'.\n",
      "\n",
      "Respond with a JSON list of strings (no objects), where the i-th element is the classification of the i-th header.\n",
      "Example: [\"SEQUENCE\", \"DESCRIPTION\", \"OTHER\", \"DATE\"]\n",
      "Include no other text in your response. Include only the JSON list of strings. The strings must be double-quoted.\n"
     ]
    }
   ],
   "source": [
    "full_prompt = _form_table_column_classifier_prompt(headers, classes, rows)\n",
    "print(full_prompt)"
   ]
  },
  {
   "cell_type": "code",
   "execution_count": 10,
   "id": "665ad2a7-0f5e-4719-aa06-5499b970c838",
   "metadata": {},
   "outputs": [],
   "source": [
    "def message_body(prompt):\n",
    "    return {\n",
    "        \"anthropic_version\": \"bedrock-2023-05-31\",\n",
    "        \"max_tokens\": 1000,\n",
    "        \"messages\": [\n",
    "          {\n",
    "            \"role\": \"user\",\n",
    "            \"content\": [\n",
    "              {\n",
    "                \"type\": \"text\",\n",
    "                \"text\": prompt\n",
    "              }\n",
    "            ]\n",
    "          }\n",
    "        ]\n",
    "      }\n"
   ]
  },
  {
   "cell_type": "code",
   "execution_count": 11,
   "id": "3139b8fd",
   "metadata": {},
   "outputs": [],
   "source": [
    "response = client.invoke_model(\n",
    "    modelId=\"anthropic.claude-3-sonnet-20240229-v1:0\",\n",
    "    contentType=\"application/json\",\n",
    "    accept=\"application/json\",\n",
    "    body=json.dumps(message_body(full_prompt)))"
   ]
  },
  {
   "cell_type": "code",
   "execution_count": 12,
   "id": "a45391b2-f09a-4a91-947d-105871f3ff0b",
   "metadata": {},
   "outputs": [
    {
     "name": "stdout",
     "output_type": "stream",
     "text": [
      "{'ResponseMetadata': {'RequestId': 'afc13671-a522-4cec-94a8-a6d71d65adfb', 'HTTPStatusCode': 200, 'HTTPHeaders': {'date': 'Wed, 23 Apr 2025 03:38:06 GMT', 'content-type': 'application/json', 'content-length': '285', 'connection': 'keep-alive', 'x-amzn-requestid': 'afc13671-a522-4cec-94a8-a6d71d65adfb', 'x-amzn-bedrock-invocation-latency': '735', 'x-amzn-bedrock-output-token-count': '13', 'x-amzn-bedrock-input-token-count': '386'}, 'RetryAttempts': 0}, 'contentType': 'application/json', 'body': <botocore.response.StreamingBody object at 0x1076358d0>}\n"
     ]
    }
   ],
   "source": [
    "print(response)"
   ]
  },
  {
   "cell_type": "code",
   "execution_count": 13,
   "id": "2b250212-c3ef-4542-868a-f4ee53cbf0ce",
   "metadata": {},
   "outputs": [],
   "source": [
    "content = json.loads(response['body'].read())"
   ]
  },
  {
   "cell_type": "code",
   "execution_count": 14,
   "id": "8da25cf7",
   "metadata": {},
   "outputs": [
    {
     "name": "stdout",
     "output_type": "stream",
     "text": [
      "{'id': 'msg_bdrk_01Pji6QR5ArUYaoGE36E8efE', 'type': 'message', 'role': 'assistant', 'model': 'claude-3-sonnet-20240229', 'content': [{'type': 'text', 'text': '[\"ID\",\"DESCRIPTION\",\"DATE\",\"ID\"]'}], 'stop_reason': 'end_turn', 'stop_sequence': None, 'usage': {'input_tokens': 386, 'output_tokens': 13}}\n"
     ]
    }
   ],
   "source": [
    "print(content)"
   ]
  },
  {
   "cell_type": "code",
   "execution_count": 15,
   "id": "a5c80188-a4c3-4021-9034-d66058ddc19a",
   "metadata": {},
   "outputs": [
    {
     "name": "stdout",
     "output_type": "stream",
     "text": [
      "id msg_bdrk_01Pji6QR5ArUYaoGE36E8efE\n",
      "type message\n",
      "role assistant\n",
      "model claude-3-sonnet-20240229\n",
      "content [{'type': 'text', 'text': '[\"ID\",\"DESCRIPTION\",\"DATE\",\"ID\"]'}]\n",
      "stop_reason end_turn\n",
      "stop_sequence None\n",
      "usage {'input_tokens': 386, 'output_tokens': 13}\n"
     ]
    }
   ],
   "source": [
    "for key in content:\n",
    "    print(key, content[key])"
   ]
  },
  {
   "cell_type": "code",
   "execution_count": 16,
   "id": "66328e57-f93a-406c-ab0c-915950d28690",
   "metadata": {},
   "outputs": [
    {
     "name": "stdout",
     "output_type": "stream",
     "text": [
      "[\"ID\",\"DESCRIPTION\",\"DATE\",\"ID\"]\n"
     ]
    }
   ],
   "source": [
    "print(content[\"content\"][0]['text'])"
   ]
  },
  {
   "cell_type": "code",
   "execution_count": null,
   "id": "777a81fb-8b51-49c8-945b-4014d633b650",
   "metadata": {},
   "outputs": [],
   "source": [
    "mapping = json.loads(content[\"content\"][0]['text'])"
   ]
  },
  {
   "cell_type": "code",
   "execution_count": null,
   "id": "b59b7388-50c1-474e-b1aa-d1cb99ce94fd",
   "metadata": {},
   "outputs": [],
   "source": [
    "mapping"
   ]
  },
  {
   "cell_type": "code",
   "execution_count": null,
   "id": "f1549c11-9383-4e64-bb2b-0e692e287dc8",
   "metadata": {},
   "outputs": [],
   "source": []
  },
  {
   "cell_type": "code",
   "execution_count": null,
   "id": "58b96656-45bb-4b2c-8c61-7993d26ccb2d",
   "metadata": {},
   "outputs": [],
   "source": []
  },
  {
   "cell_type": "code",
   "execution_count": null,
   "id": "784e241b-7237-4d3a-867a-4c18d024f36c",
   "metadata": {},
   "outputs": [],
   "source": []
  },
  {
   "cell_type": "code",
   "execution_count": null,
   "id": "914c2946-147f-43db-aab4-31016d3a6b28",
   "metadata": {},
   "outputs": [],
   "source": []
  },
  {
   "cell_type": "code",
   "execution_count": null,
   "id": "b1f0940b-e885-4c44-b292-5fc44ff81610",
   "metadata": {},
   "outputs": [],
   "source": []
  },
  {
   "cell_type": "code",
   "execution_count": null,
   "id": "5d5db5cd-d622-4358-af80-c1bd7acb581d",
   "metadata": {},
   "outputs": [],
   "source": []
  },
  {
   "cell_type": "code",
   "execution_count": null,
   "id": "01c0b4f5-0128-4e47-96a5-15dae4a14d85",
   "metadata": {},
   "outputs": [],
   "source": []
  }
 ],
 "metadata": {
  "kernelspec": {
   "display_name": "Python 3 (ipykernel)",
   "language": "python",
   "name": "python3"
  },
  "language_info": {
   "codemirror_mode": {
    "name": "ipython",
    "version": 3
   },
   "file_extension": ".py",
   "mimetype": "text/x-python",
   "name": "python",
   "nbconvert_exporter": "python",
   "pygments_lexer": "ipython3",
   "version": "3.12.9"
  }
 },
 "nbformat": 4,
 "nbformat_minor": 5
}
