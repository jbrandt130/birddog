{
 "cells": [
  {
   "cell_type": "code",
   "execution_count": 1,
   "id": "b1af7f1c-c7d3-4698-ade2-7cd96fce221e",
   "metadata": {},
   "outputs": [
    {
     "data": {
      "text/plain": [
       "PosixPath('/Users/jbrandt/code/birddog')"
      ]
     },
     "execution_count": 1,
     "metadata": {},
     "output_type": "execute_result"
    }
   ],
   "source": [
    "import os\n",
    "from pathlib import Path\n",
    "# Change cwd to the project root (parent of 'notebooks/')\n",
    "os.chdir(Path.cwd().parent)\n",
    "Path.cwd()"
   ]
  },
  {
   "cell_type": "code",
   "execution_count": 16,
   "id": "c0f98dc6-254c-49b2-bc5a-848a7dc559ca",
   "metadata": {},
   "outputs": [],
   "source": [
    "import os\n",
    "from google.cloud import translate_v2 as translate\n",
    "\n",
    "# Set the environment variable to your credentials file\n",
    "os.environ[\"GOOGLE_APPLICATION_CREDENTIALS\"] = \"./keys/google-cloud-translate-key.json\"\n",
    "\n",
    "def translate_text(text, target='en', source='uk'):\n",
    "    client = translate.Client()\n",
    "    result = client.translate(text, source_language=source, target_language=target)\n",
    "    return result #['translatedText']"
   ]
  },
  {
   "cell_type": "code",
   "execution_count": 17,
   "id": "7eba12cc-8f6f-4558-a9a2-067a8e7134c3",
   "metadata": {},
   "outputs": [
    {
     "data": {
      "text/plain": [
       "{'translatedText': 'Hello, how are you?', 'input': 'Привіт, як справи?'}"
      ]
     },
     "execution_count": 17,
     "metadata": {},
     "output_type": "execute_result"
    }
   ],
   "source": [
    "translate_text(\"Привіт, як справи?\")"
   ]
  },
  {
   "cell_type": "code",
   "execution_count": 13,
   "id": "67f66972-a763-4d17-a933-fa9d3340e9f5",
   "metadata": {},
   "outputs": [],
   "source": [
    "items = [\"Привіт, як справи?\"] * 5"
   ]
  },
  {
   "cell_type": "code",
   "execution_count": 14,
   "id": "5f7eb8ca-dad0-4d98-a664-b998c269f92d",
   "metadata": {},
   "outputs": [
    {
     "data": {
      "text/plain": [
       "['Привіт, як справи?',\n",
       " 'Привіт, як справи?',\n",
       " 'Привіт, як справи?',\n",
       " 'Привіт, як справи?',\n",
       " 'Привіт, як справи?']"
      ]
     },
     "execution_count": 14,
     "metadata": {},
     "output_type": "execute_result"
    }
   ],
   "source": [
    "items"
   ]
  },
  {
   "cell_type": "code",
   "execution_count": 18,
   "id": "9f298711-8e6e-43fe-8e8d-a531ad0b49a1",
   "metadata": {},
   "outputs": [
    {
     "data": {
      "text/plain": [
       "[{'translatedText': 'Hello, how are you?', 'input': 'Привіт, як справи?'},\n",
       " {'translatedText': 'Hello, how are you?', 'input': 'Привіт, як справи?'},\n",
       " {'translatedText': 'Hello, how are you?', 'input': 'Привіт, як справи?'},\n",
       " {'translatedText': 'Hello, how are you?', 'input': 'Привіт, як справи?'},\n",
       " {'translatedText': 'Hello, how are you?', 'input': 'Привіт, як справи?'}]"
      ]
     },
     "execution_count": 18,
     "metadata": {},
     "output_type": "execute_result"
    }
   ],
   "source": [
    "translate_text(items)"
   ]
  },
  {
   "cell_type": "code",
   "execution_count": null,
   "id": "9f3c0e6a-1bba-47c7-bc35-6f32bcccebdc",
   "metadata": {},
   "outputs": [],
   "source": []
  },
  {
   "cell_type": "code",
   "execution_count": null,
   "id": "b09dee58-cdfc-4470-8a8a-71b1750bc61a",
   "metadata": {},
   "outputs": [],
   "source": []
  }
 ],
 "metadata": {
  "kernelspec": {
   "display_name": "Python 3 (ipykernel)",
   "language": "python",
   "name": "python3"
  },
  "language_info": {
   "codemirror_mode": {
    "name": "ipython",
    "version": 3
   },
   "file_extension": ".py",
   "mimetype": "text/x-python",
   "name": "python",
   "nbconvert_exporter": "python",
   "pygments_lexer": "ipython3",
   "version": "3.12.9"
  }
 },
 "nbformat": 4,
 "nbformat_minor": 5
}
