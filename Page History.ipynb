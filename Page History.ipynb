{
 "cells": [
  {
   "cell_type": "code",
   "execution_count": 1,
   "id": "2ea99e53",
   "metadata": {},
   "outputs": [],
   "source": [
    "from birddog.core import (\n",
    "    Table, \n",
    "    Archive, \n",
    "    Fond, \n",
    "    Opus,\n",
    "    read_page,\n",
    "    check_page_changes,\n",
    "    report_page_changes,\n",
    "    )\n",
    "from birddog.excel import export_page"
   ]
  },
  {
   "cell_type": "code",
   "execution_count": 2,
   "id": "2c803a32",
   "metadata": {},
   "outputs": [
    {
     "name": "stdout",
     "output_type": "stream",
     "text": [
      "Retrieving from cache: Архів:ДАЖО/Д\n",
      "archive,DAZHO/Д,2025,01,19,12:47\n"
     ]
    }
   ],
   "source": [
    "archive = Archive('DAZHO')\n",
    "print(archive.report)"
   ]
  },
  {
   "cell_type": "code",
   "execution_count": 3,
   "id": "6f878cca",
   "metadata": {},
   "outputs": [
    {
     "name": "stdout",
     "output_type": "stream",
     "text": [
      "Retrieving from cache: Архів:ДАЖО/Д/1\n",
      "Retrieving from cache: Архів:ДАЖО/Д/1/74\n"
     ]
    }
   ],
   "source": [
    "fond1 = archive.lookup('1')\n",
    "opus1_74 = fond1.lookup('74')"
   ]
  },
  {
   "cell_type": "code",
   "execution_count": 4,
   "id": "8b537d41",
   "metadata": {},
   "outputs": [
    {
     "name": "stdout",
     "output_type": "stream",
     "text": [
      "2025,02,22,17:32 https://uk.wikisource.org/wiki/%D0%90%D1%80%D1%85%D1%96%D0%B2:%D0%94%D0%90%D0%96%D0%9E/1/74\n"
     ]
    }
   ],
   "source": [
    "print(opus1_74.lastmod, opus1_74.url)"
   ]
  },
  {
   "cell_type": "code",
   "execution_count": 5,
   "id": "ffed2f8e",
   "metadata": {},
   "outputs": [
    {
     "name": "stdout",
     "output_type": "stream",
     "text": [
      "Retrieving from cache: Архів:ДАЖО/Д/1/74, modified: 2023,12,21,14:14\n"
     ]
    },
    {
     "data": {
      "text/plain": [
       "<birddog.core.Opus at 0x10f2b47d0>"
      ]
     },
     "execution_count": 5,
     "metadata": {},
     "output_type": "execute_result"
    }
   ],
   "source": [
    "opus1_74.revert_to('2024')"
   ]
  },
  {
   "cell_type": "code",
   "execution_count": 6,
   "id": "94bab660",
   "metadata": {},
   "outputs": [
    {
     "name": "stdout",
     "output_type": "stream",
     "text": [
      "2023,12,21,14:14 https://uk.wikisource.org/w/index.php?title=%D0%90%D1%80%D1%85%D1%96%D0%B2:%D0%94%D0%90%D0%96%D0%9E/1/74&oldid=660058\n"
     ]
    }
   ],
   "source": [
    "print(opus1_74.lastmod, opus1_74.url)"
   ]
  },
  {
   "cell_type": "code",
   "execution_count": 7,
   "id": "766fe0d7",
   "metadata": {},
   "outputs": [
    {
     "name": "stdout",
     "output_type": "stream",
     "text": [
      "Nothing new.\n"
     ]
    },
    {
     "data": {
      "text/plain": [
       "<birddog.core.Opus at 0x10f2b47d0>"
      ]
     },
     "execution_count": 7,
     "metadata": {},
     "output_type": "execute_result"
    }
   ],
   "source": [
    "opus1_74.latest()"
   ]
  },
  {
   "cell_type": "code",
   "execution_count": 8,
   "id": "7a93803d",
   "metadata": {},
   "outputs": [
    {
     "name": "stdout",
     "output_type": "stream",
     "text": [
      "2025,02,22,17:32 https://uk.wikisource.org/wiki/%D0%90%D1%80%D1%85%D1%96%D0%B2:%D0%94%D0%90%D0%96%D0%9E/1/74\n"
     ]
    }
   ],
   "source": [
    "print(opus1_74.lastmod, opus1_74.url)"
   ]
  },
  {
   "cell_type": "code",
   "execution_count": 9,
   "id": "d17b5a21",
   "metadata": {},
   "outputs": [
    {
     "name": "stdout",
     "output_type": "stream",
     "text": [
      "Retrieving from cache: Архів:ДАЖО/Д/1/74, modified: 2020,11,30,18:57\n"
     ]
    },
    {
     "data": {
      "text/plain": [
       "<birddog.core.Opus at 0x10f2b47d0>"
      ]
     },
     "execution_count": 9,
     "metadata": {},
     "output_type": "execute_result"
    }
   ],
   "source": [
    "opus1_74.revert_to('2021')"
   ]
  },
  {
   "cell_type": "code",
   "execution_count": 10,
   "id": "fb782101",
   "metadata": {},
   "outputs": [
    {
     "data": {
      "text/plain": [
       "'https://uk.wikisource.org'"
      ]
     },
     "execution_count": 10,
     "metadata": {},
     "output_type": "execute_result"
    }
   ],
   "source": [
    "opus1_74.base"
   ]
  },
  {
   "cell_type": "code",
   "execution_count": 11,
   "id": "5b742d67",
   "metadata": {},
   "outputs": [
    {
     "name": "stdout",
     "output_type": "stream",
     "text": [
      "2020,11,30,18:57 https://uk.wikisource.org/w/index.php?title=%D0%90%D1%80%D1%85%D1%96%D0%B2:%D0%94%D0%90%D0%96%D0%9E/1/74&oldid=250286\n"
     ]
    }
   ],
   "source": [
    "print(opus1_74.lastmod, opus1_74.url)"
   ]
  },
  {
   "cell_type": "code",
   "execution_count": 12,
   "id": "acff4267",
   "metadata": {},
   "outputs": [
    {
     "name": "stdout",
     "output_type": "stream",
     "text": [
      "Retrieving from cache: Архів:ДАЖО/Д/1/75\n"
     ]
    }
   ],
   "source": [
    "o1_75 = fond1.lookup('75')"
   ]
  },
  {
   "cell_type": "code",
   "execution_count": 13,
   "id": "79c71276",
   "metadata": {},
   "outputs": [
    {
     "name": "stdout",
     "output_type": "stream",
     "text": [
      "Retrieving from cache: Архів:ДАЖО/Д/1/75, modified: 2020,07,04,22:03\n"
     ]
    },
    {
     "data": {
      "text/plain": [
       "<birddog.core.Opus at 0x11f57dbd0>"
      ]
     },
     "execution_count": 13,
     "metadata": {},
     "output_type": "execute_result"
    }
   ],
   "source": [
    "o1_75.revert_to('2021')"
   ]
  },
  {
   "cell_type": "code",
   "execution_count": 14,
   "id": "ffbcfb3a",
   "metadata": {},
   "outputs": [
    {
     "name": "stdout",
     "output_type": "stream",
     "text": [
      "2020,07,04,22:03 https://uk.wikisource.org/w/index.php?title=%D0%90%D1%80%D1%85%D1%96%D0%B2:%D0%94%D0%90%D0%96%D0%9E/1/75&oldid=213745\n"
     ]
    }
   ],
   "source": [
    "print(o1_75.lastmod, o1_75.url)"
   ]
  },
  {
   "cell_type": "code",
   "execution_count": 15,
   "id": "c2e26e7d",
   "metadata": {},
   "outputs": [
    {
     "name": "stdout",
     "output_type": "stream",
     "text": [
      "Retrieving from cache: Архів:ДАЖО/Д/1/75, modified: 2019,11,23,19:39\n"
     ]
    },
    {
     "data": {
      "text/plain": [
       "<birddog.core.Opus at 0x11f57dbd0>"
      ]
     },
     "execution_count": 15,
     "metadata": {},
     "output_type": "execute_result"
    }
   ],
   "source": [
    "o1_75.revert_to('2020')"
   ]
  },
  {
   "cell_type": "code",
   "execution_count": 16,
   "id": "d483cf20",
   "metadata": {},
   "outputs": [
    {
     "name": "stdout",
     "output_type": "stream",
     "text": [
      "2019,11,23,19:39 https://uk.wikisource.org/w/index.php?title=%D0%90%D1%80%D1%85%D1%96%D0%B2:%D0%94%D0%90%D0%96%D0%9E/1/75&oldid=141022\n"
     ]
    }
   ],
   "source": [
    "print(o1_75.lastmod, o1_75.url)"
   ]
  },
  {
   "cell_type": "code",
   "execution_count": 17,
   "id": "7b908a6e",
   "metadata": {},
   "outputs": [
    {
     "name": "stdout",
     "output_type": "stream",
     "text": [
      "opening template file templates/opus.xlsx...\n",
      "sheet title: DAZHO 1-75\n"
     ]
    },
    {
     "data": {
      "text/plain": [
       "<openpyxl.workbook.workbook.Workbook at 0x11eca4d50>"
      ]
     },
     "execution_count": 17,
     "metadata": {},
     "output_type": "execute_result"
    }
   ],
   "source": [
    "export_page(o1_75, 'var/01_75_2019.xlsx')"
   ]
  },
  {
   "cell_type": "code",
   "execution_count": 18,
   "id": "1dbd2fa9",
   "metadata": {},
   "outputs": [
    {
     "name": "stdout",
     "output_type": "stream",
     "text": [
      "Nothing new.\n"
     ]
    },
    {
     "data": {
      "text/plain": [
       "<birddog.core.Opus at 0x11f57dbd0>"
      ]
     },
     "execution_count": 18,
     "metadata": {},
     "output_type": "execute_result"
    }
   ],
   "source": [
    "o1_75.latest()"
   ]
  },
  {
   "cell_type": "code",
   "execution_count": 19,
   "id": "9ad3fa48",
   "metadata": {},
   "outputs": [
    {
     "name": "stdout",
     "output_type": "stream",
     "text": [
      "opening template file templates/opus.xlsx...\n",
      "sheet title: DAZHO 1-75\n"
     ]
    },
    {
     "data": {
      "text/plain": [
       "<openpyxl.workbook.workbook.Workbook at 0x11e880250>"
      ]
     },
     "execution_count": 19,
     "metadata": {},
     "output_type": "execute_result"
    }
   ],
   "source": [
    "export_page(o1_75, 'var/01_75_2025.xlsx')"
   ]
  },
  {
   "cell_type": "code",
   "execution_count": 20,
   "id": "ea779716",
   "metadata": {},
   "outputs": [
    {
     "data": {
      "text/plain": [
       "'2025,02,28,10:14'"
      ]
     },
     "execution_count": 20,
     "metadata": {},
     "output_type": "execute_result"
    }
   ],
   "source": [
    "o1_75.lastmod"
   ]
  },
  {
   "cell_type": "code",
   "execution_count": 21,
   "id": "ad625f64",
   "metadata": {},
   "outputs": [
    {
     "name": "stdout",
     "output_type": "stream",
     "text": [
      "2020,11,30,18:57 https://uk.wikisource.org/w/index.php?title=%D0%90%D1%80%D1%85%D1%96%D0%B2:%D0%94%D0%90%D0%96%D0%9E/1/74&oldid=250286\n"
     ]
    }
   ],
   "source": [
    "print(opus1_74.lastmod, opus1_74.url)"
   ]
  },
  {
   "cell_type": "code",
   "execution_count": 22,
   "id": "e1ef400e",
   "metadata": {},
   "outputs": [
    {
     "name": "stdout",
     "output_type": "stream",
     "text": [
      "Nothing new.\n",
      "Retrieving from cache: Архів:ДАЖО/Д/1/74\n",
      "Retrieving from cache: Архів:ДАЖО/Д/1/74, modified: 2022,10,13,13:15\n"
     ]
    },
    {
     "data": {
      "text/plain": [
       "False"
      ]
     },
     "execution_count": 22,
     "metadata": {},
     "output_type": "execute_result"
    }
   ],
   "source": [
    "opus1_74.latest()\n",
    "opus1_74_old = fond1.lookup('74').revert_to('2023')\n",
    "opus1_74_old.translate()"
   ]
  },
  {
   "cell_type": "code",
   "execution_count": 23,
   "id": "02423079",
   "metadata": {},
   "outputs": [
    {
     "data": {
      "text/plain": [
       "[{'modified': '2025,02,22,17:32',\n",
       "  'link': 'https://uk.wikisource.org/w/index.php?title=%D0%90%D1%80%D1%85%D1%96%D0%B2:%D0%94%D0%90%D0%96%D0%9E/1/74&oldid=883639'},\n",
       " {'modified': '2025,02,22,17:31',\n",
       "  'link': 'https://uk.wikisource.org/w/index.php?title=%D0%90%D1%80%D1%85%D1%96%D0%B2:%D0%94%D0%90%D0%96%D0%9E/1/74&oldid=883638'},\n",
       " {'modified': '2025,02,22,17:29',\n",
       "  'link': 'https://uk.wikisource.org/w/index.php?title=%D0%90%D1%80%D1%85%D1%96%D0%B2:%D0%94%D0%90%D0%96%D0%9E/1/74&oldid=883637'},\n",
       " {'modified': '2025,02,22,16:50',\n",
       "  'link': 'https://uk.wikisource.org/w/index.php?title=%D0%90%D1%80%D1%85%D1%96%D0%B2:%D0%94%D0%90%D0%96%D0%9E/1/74&oldid=883463'},\n",
       " {'modified': '2025,02,22,16:50',\n",
       "  'link': 'https://uk.wikisource.org/w/index.php?title=%D0%90%D1%80%D1%85%D1%96%D0%B2:%D0%94%D0%90%D0%96%D0%9E/1/74&oldid=883462'},\n",
       " {'modified': '2025,02,03,10:48',\n",
       "  'link': 'https://uk.wikisource.org/w/index.php?title=%D0%90%D1%80%D1%85%D1%96%D0%B2:%D0%94%D0%90%D0%96%D0%9E/1/74&oldid=875788'},\n",
       " {'modified': '2025,02,01,16:30',\n",
       "  'link': 'https://uk.wikisource.org/w/index.php?title=%D0%90%D1%80%D1%85%D1%96%D0%B2:%D0%94%D0%90%D0%96%D0%9E/1/74&oldid=875367'},\n",
       " {'modified': '2025,02,01,10:58',\n",
       "  'link': 'https://uk.wikisource.org/w/index.php?title=%D0%90%D1%80%D1%85%D1%96%D0%B2:%D0%94%D0%90%D0%96%D0%9E/1/74&oldid=875295'},\n",
       " {'modified': '2025,02,01,10:37',\n",
       "  'link': 'https://uk.wikisource.org/w/index.php?title=%D0%90%D1%80%D1%85%D1%96%D0%B2:%D0%94%D0%90%D0%96%D0%9E/1/74&oldid=875288'},\n",
       " {'modified': '2025,01,12,21:50',\n",
       "  'link': 'https://uk.wikisource.org/w/index.php?title=%D0%90%D1%80%D1%85%D1%96%D0%B2:%D0%94%D0%90%D0%96%D0%9E/1/74&oldid=860297'},\n",
       " {'modified': '2025,01,12,21:41',\n",
       "  'link': 'https://uk.wikisource.org/w/index.php?title=%D0%90%D1%80%D1%85%D1%96%D0%B2:%D0%94%D0%90%D0%96%D0%9E/1/74&oldid=860295'},\n",
       " {'modified': '2025,01,12,21:39',\n",
       "  'link': 'https://uk.wikisource.org/w/index.php?title=%D0%90%D1%80%D1%85%D1%96%D0%B2:%D0%94%D0%90%D0%96%D0%9E/1/74&oldid=860294'},\n",
       " {'modified': '2025,01,12,13:16',\n",
       "  'link': 'https://uk.wikisource.org/w/index.php?title=%D0%90%D1%80%D1%85%D1%96%D0%B2:%D0%94%D0%90%D0%96%D0%9E/1/74&oldid=860154'},\n",
       " {'modified': '2025,01,12,13:02',\n",
       "  'link': 'https://uk.wikisource.org/w/index.php?title=%D0%90%D1%80%D1%85%D1%96%D0%B2:%D0%94%D0%90%D0%96%D0%9E/1/74&oldid=860139'},\n",
       " {'modified': '2025,01,12,13:01',\n",
       "  'link': 'https://uk.wikisource.org/w/index.php?title=%D0%90%D1%80%D1%85%D1%96%D0%B2:%D0%94%D0%90%D0%96%D0%9E/1/74&oldid=860138'},\n",
       " {'modified': '2025,01,12,12:58',\n",
       "  'link': 'https://uk.wikisource.org/w/index.php?title=%D0%90%D1%80%D1%85%D1%96%D0%B2:%D0%94%D0%90%D0%96%D0%9E/1/74&oldid=860137'},\n",
       " {'modified': '2025,01,12,12:58',\n",
       "  'link': 'https://uk.wikisource.org/w/index.php?title=%D0%90%D1%80%D1%85%D1%96%D0%B2:%D0%94%D0%90%D0%96%D0%9E/1/74&oldid=860136'},\n",
       " {'modified': '2025,01,12,12:56',\n",
       "  'link': 'https://uk.wikisource.org/w/index.php?title=%D0%90%D1%80%D1%85%D1%96%D0%B2:%D0%94%D0%90%D0%96%D0%9E/1/74&oldid=860134'},\n",
       " {'modified': '2025,01,12,12:44',\n",
       "  'link': 'https://uk.wikisource.org/w/index.php?title=%D0%90%D1%80%D1%85%D1%96%D0%B2:%D0%94%D0%90%D0%96%D0%9E/1/74&oldid=860131'},\n",
       " {'modified': '2025,01,12,12:42',\n",
       "  'link': 'https://uk.wikisource.org/w/index.php?title=%D0%90%D1%80%D1%85%D1%96%D0%B2:%D0%94%D0%90%D0%96%D0%9E/1/74&oldid=860130'},\n",
       " {'modified': '2025,01,05,13:22',\n",
       "  'link': 'https://uk.wikisource.org/w/index.php?title=%D0%90%D1%80%D1%85%D1%96%D0%B2:%D0%94%D0%90%D0%96%D0%9E/1/74&oldid=857862'},\n",
       " {'modified': '2025,01,04,10:13',\n",
       "  'link': 'https://uk.wikisource.org/w/index.php?title=%D0%90%D1%80%D1%85%D1%96%D0%B2:%D0%94%D0%90%D0%96%D0%9E/1/74&oldid=857532'},\n",
       " {'modified': '2025,01,04,09:27',\n",
       "  'link': 'https://uk.wikisource.org/w/index.php?title=%D0%90%D1%80%D1%85%D1%96%D0%B2:%D0%94%D0%90%D0%96%D0%9E/1/74&oldid=857522'},\n",
       " {'modified': '2025,01,04,09:22',\n",
       "  'link': 'https://uk.wikisource.org/w/index.php?title=%D0%90%D1%80%D1%85%D1%96%D0%B2:%D0%94%D0%90%D0%96%D0%9E/1/74&oldid=857520'},\n",
       " {'modified': '2024,12,05,20:31',\n",
       "  'link': 'https://uk.wikisource.org/w/index.php?title=%D0%90%D1%80%D1%85%D1%96%D0%B2:%D0%94%D0%90%D0%96%D0%9E/1/74&oldid=830141'},\n",
       " {'modified': '2024,12,05,20:26',\n",
       "  'link': 'https://uk.wikisource.org/w/index.php?title=%D0%90%D1%80%D1%85%D1%96%D0%B2:%D0%94%D0%90%D0%96%D0%9E/1/74&oldid=830139'},\n",
       " {'modified': '2024,12,04,05:30',\n",
       "  'link': 'https://uk.wikisource.org/w/index.php?title=%D0%90%D1%80%D1%85%D1%96%D0%B2:%D0%94%D0%90%D0%96%D0%9E/1/74&oldid=829287'},\n",
       " {'modified': '2024,11,30,20:26',\n",
       "  'link': 'https://uk.wikisource.org/w/index.php?title=%D0%90%D1%80%D1%85%D1%96%D0%B2:%D0%94%D0%90%D0%96%D0%9E/1/74&oldid=827944'},\n",
       " {'modified': '2024,11,30,19:09',\n",
       "  'link': 'https://uk.wikisource.org/w/index.php?title=%D0%90%D1%80%D1%85%D1%96%D0%B2:%D0%94%D0%90%D0%96%D0%9E/1/74&oldid=827918'},\n",
       " {'modified': '2024,11,30,18:44',\n",
       "  'link': 'https://uk.wikisource.org/w/index.php?title=%D0%90%D1%80%D1%85%D1%96%D0%B2:%D0%94%D0%90%D0%96%D0%9E/1/74&oldid=827909'},\n",
       " {'modified': '2024,11,30,18:11',\n",
       "  'link': 'https://uk.wikisource.org/w/index.php?title=%D0%90%D1%80%D1%85%D1%96%D0%B2:%D0%94%D0%90%D0%96%D0%9E/1/74&oldid=827901'},\n",
       " {'modified': '2024,11,30,17:57',\n",
       "  'link': 'https://uk.wikisource.org/w/index.php?title=%D0%90%D1%80%D1%85%D1%96%D0%B2:%D0%94%D0%90%D0%96%D0%9E/1/74&oldid=827900'},\n",
       " {'modified': '2024,11,30,14:57',\n",
       "  'link': 'https://uk.wikisource.org/w/index.php?title=%D0%90%D1%80%D1%85%D1%96%D0%B2:%D0%94%D0%90%D0%96%D0%9E/1/74&oldid=827786'},\n",
       " {'modified': '2024,11,30,14:23',\n",
       "  'link': 'https://uk.wikisource.org/w/index.php?title=%D0%90%D1%80%D1%85%D1%96%D0%B2:%D0%94%D0%90%D0%96%D0%9E/1/74&oldid=827774'},\n",
       " {'modified': '2024,11,30,14:21',\n",
       "  'link': 'https://uk.wikisource.org/w/index.php?title=%D0%90%D1%80%D1%85%D1%96%D0%B2:%D0%94%D0%90%D0%96%D0%9E/1/74&oldid=827765'},\n",
       " {'modified': '2024,11,30,14:15',\n",
       "  'link': 'https://uk.wikisource.org/w/index.php?title=%D0%90%D1%80%D1%85%D1%96%D0%B2:%D0%94%D0%90%D0%96%D0%9E/1/74&oldid=827761'},\n",
       " {'modified': '2024,11,30,14:12',\n",
       "  'link': 'https://uk.wikisource.org/w/index.php?title=%D0%90%D1%80%D1%85%D1%96%D0%B2:%D0%94%D0%90%D0%96%D0%9E/1/74&oldid=827760'},\n",
       " {'modified': '2024,11,30,14:10',\n",
       "  'link': 'https://uk.wikisource.org/w/index.php?title=%D0%90%D1%80%D1%85%D1%96%D0%B2:%D0%94%D0%90%D0%96%D0%9E/1/74&oldid=827759'},\n",
       " {'modified': '2024,11,30,14:09',\n",
       "  'link': 'https://uk.wikisource.org/w/index.php?title=%D0%90%D1%80%D1%85%D1%96%D0%B2:%D0%94%D0%90%D0%96%D0%9E/1/74&oldid=827758'},\n",
       " {'modified': '2024,11,29,13:40',\n",
       "  'link': 'https://uk.wikisource.org/w/index.php?title=%D0%90%D1%80%D1%85%D1%96%D0%B2:%D0%94%D0%90%D0%96%D0%9E/1/74&oldid=827399'},\n",
       " {'modified': '2024,11,29,13:22',\n",
       "  'link': 'https://uk.wikisource.org/w/index.php?title=%D0%90%D1%80%D1%85%D1%96%D0%B2:%D0%94%D0%90%D0%96%D0%9E/1/74&oldid=827396'},\n",
       " {'modified': '2024,11,29,13:12',\n",
       "  'link': 'https://uk.wikisource.org/w/index.php?title=%D0%90%D1%80%D1%85%D1%96%D0%B2:%D0%94%D0%90%D0%96%D0%9E/1/74&oldid=827395'},\n",
       " {'modified': '2024,11,18,21:13',\n",
       "  'link': 'https://uk.wikisource.org/w/index.php?title=%D0%90%D1%80%D1%85%D1%96%D0%B2:%D0%94%D0%90%D0%96%D0%9E/1/74&oldid=818868'},\n",
       " {'modified': '2024,11,15,14:33',\n",
       "  'link': 'https://uk.wikisource.org/w/index.php?title=%D0%90%D1%80%D1%85%D1%96%D0%B2:%D0%94%D0%90%D0%96%D0%9E/1/74&oldid=814906'},\n",
       " {'modified': '2024,11,15,14:23',\n",
       "  'link': 'https://uk.wikisource.org/w/index.php?title=%D0%90%D1%80%D1%85%D1%96%D0%B2:%D0%94%D0%90%D0%96%D0%9E/1/74&oldid=814905'},\n",
       " {'modified': '2024,11,15,13:27',\n",
       "  'link': 'https://uk.wikisource.org/w/index.php?title=%D0%90%D1%80%D1%85%D1%96%D0%B2:%D0%94%D0%90%D0%96%D0%9E/1/74&oldid=814898'},\n",
       " {'modified': '2024,11,12,22:16',\n",
       "  'link': 'https://uk.wikisource.org/w/index.php?title=%D0%90%D1%80%D1%85%D1%96%D0%B2:%D0%94%D0%90%D0%96%D0%9E/1/74&oldid=812443'},\n",
       " {'modified': '2024,11,08,08:42',\n",
       "  'link': 'https://uk.wikisource.org/w/index.php?title=%D0%90%D1%80%D1%85%D1%96%D0%B2:%D0%94%D0%90%D0%96%D0%9E/1/74&oldid=804729'},\n",
       " {'modified': '2024,11,04,21:33',\n",
       "  'link': 'https://uk.wikisource.org/w/index.php?title=%D0%90%D1%80%D1%85%D1%96%D0%B2:%D0%94%D0%90%D0%96%D0%9E/1/74&oldid=800815'},\n",
       " {'modified': '2024,11,04,21:30',\n",
       "  'link': 'https://uk.wikisource.org/w/index.php?title=%D0%90%D1%80%D1%85%D1%96%D0%B2:%D0%94%D0%90%D0%96%D0%9E/1/74&oldid=800814'},\n",
       " {'modified': '2024,11,04,21:20',\n",
       "  'link': 'https://uk.wikisource.org/w/index.php?title=%D0%90%D1%80%D1%85%D1%96%D0%B2:%D0%94%D0%90%D0%96%D0%9E/1/74&oldid=800812'},\n",
       " {'modified': '2024,11,04,21:10',\n",
       "  'link': 'https://uk.wikisource.org/w/index.php?title=%D0%90%D1%80%D1%85%D1%96%D0%B2:%D0%94%D0%90%D0%96%D0%9E/1/74&oldid=800808'},\n",
       " {'modified': '2024,11,04,20:53',\n",
       "  'link': 'https://uk.wikisource.org/w/index.php?title=%D0%90%D1%80%D1%85%D1%96%D0%B2:%D0%94%D0%90%D0%96%D0%9E/1/74&oldid=800806'},\n",
       " {'modified': '2024,11,04,16:02',\n",
       "  'link': 'https://uk.wikisource.org/w/index.php?title=%D0%90%D1%80%D1%85%D1%96%D0%B2:%D0%94%D0%90%D0%96%D0%9E/1/74&oldid=800346'},\n",
       " {'modified': '2024,10,31,09:00',\n",
       "  'link': 'https://uk.wikisource.org/w/index.php?title=%D0%90%D1%80%D1%85%D1%96%D0%B2:%D0%94%D0%90%D0%96%D0%9E/1/74&oldid=797706'},\n",
       " {'modified': '2024,10,30,20:15',\n",
       "  'link': 'https://uk.wikisource.org/w/index.php?title=%D0%90%D1%80%D1%85%D1%96%D0%B2:%D0%94%D0%90%D0%96%D0%9E/1/74&oldid=797547'},\n",
       " {'modified': '2024,10,29,18:51',\n",
       "  'link': 'https://uk.wikisource.org/w/index.php?title=%D0%90%D1%80%D1%85%D1%96%D0%B2:%D0%94%D0%90%D0%96%D0%9E/1/74&oldid=795695'},\n",
       " {'modified': '2024,10,25,13:24',\n",
       "  'link': 'https://uk.wikisource.org/w/index.php?title=%D0%90%D1%80%D1%85%D1%96%D0%B2:%D0%94%D0%90%D0%96%D0%9E/1/74&oldid=793288'},\n",
       " {'modified': '2024,10,25,13:17',\n",
       "  'link': 'https://uk.wikisource.org/w/index.php?title=%D0%90%D1%80%D1%85%D1%96%D0%B2:%D0%94%D0%90%D0%96%D0%9E/1/74&oldid=793286'},\n",
       " {'modified': '2024,10,25,11:24',\n",
       "  'link': 'https://uk.wikisource.org/w/index.php?title=%D0%90%D1%80%D1%85%D1%96%D0%B2:%D0%94%D0%90%D0%96%D0%9E/1/74&oldid=792751'},\n",
       " {'modified': '2024,10,09,14:46',\n",
       "  'link': 'https://uk.wikisource.org/w/index.php?title=%D0%90%D1%80%D1%85%D1%96%D0%B2:%D0%94%D0%90%D0%96%D0%9E/1/74&oldid=785089'},\n",
       " {'modified': '2024,10,08,15:39',\n",
       "  'link': 'https://uk.wikisource.org/w/index.php?title=%D0%90%D1%80%D1%85%D1%96%D0%B2:%D0%94%D0%90%D0%96%D0%9E/1/74&oldid=784712'},\n",
       " {'modified': '2024,10,07,16:38',\n",
       "  'link': 'https://uk.wikisource.org/w/index.php?title=%D0%90%D1%80%D1%85%D1%96%D0%B2:%D0%94%D0%90%D0%96%D0%9E/1/74&oldid=784300'},\n",
       " {'modified': '2024,10,07,16:36',\n",
       "  'link': 'https://uk.wikisource.org/w/index.php?title=%D0%90%D1%80%D1%85%D1%96%D0%B2:%D0%94%D0%90%D0%96%D0%9E/1/74&oldid=784296'},\n",
       " {'modified': '2024,10,07,07:35',\n",
       "  'link': 'https://uk.wikisource.org/w/index.php?title=%D0%90%D1%80%D1%85%D1%96%D0%B2:%D0%94%D0%90%D0%96%D0%9E/1/74&oldid=783949'},\n",
       " {'modified': '2024,10,07,07:25',\n",
       "  'link': 'https://uk.wikisource.org/w/index.php?title=%D0%90%D1%80%D1%85%D1%96%D0%B2:%D0%94%D0%90%D0%96%D0%9E/1/74&oldid=783947'},\n",
       " {'modified': '2024,10,07,06:51',\n",
       "  'link': 'https://uk.wikisource.org/w/index.php?title=%D0%90%D1%80%D1%85%D1%96%D0%B2:%D0%94%D0%90%D0%96%D0%9E/1/74&oldid=783944'},\n",
       " {'modified': '2024,10,07,06:45',\n",
       "  'link': 'https://uk.wikisource.org/w/index.php?title=%D0%90%D1%80%D1%85%D1%96%D0%B2:%D0%94%D0%90%D0%96%D0%9E/1/74&oldid=783941'},\n",
       " {'modified': '2024,10,07,06:27',\n",
       "  'link': 'https://uk.wikisource.org/w/index.php?title=%D0%90%D1%80%D1%85%D1%96%D0%B2:%D0%94%D0%90%D0%96%D0%9E/1/74&oldid=783938'},\n",
       " {'modified': '2024,10,06,18:23',\n",
       "  'link': 'https://uk.wikisource.org/w/index.php?title=%D0%90%D1%80%D1%85%D1%96%D0%B2:%D0%94%D0%90%D0%96%D0%9E/1/74&oldid=783816'},\n",
       " {'modified': '2024,10,06,18:22',\n",
       "  'link': 'https://uk.wikisource.org/w/index.php?title=%D0%90%D1%80%D1%85%D1%96%D0%B2:%D0%94%D0%90%D0%96%D0%9E/1/74&oldid=783813'},\n",
       " {'modified': '2024,10,06,18:12',\n",
       "  'link': 'https://uk.wikisource.org/w/index.php?title=%D0%90%D1%80%D1%85%D1%96%D0%B2:%D0%94%D0%90%D0%96%D0%9E/1/74&oldid=783812'},\n",
       " {'modified': '2024,10,05,20:26',\n",
       "  'link': 'https://uk.wikisource.org/w/index.php?title=%D0%90%D1%80%D1%85%D1%96%D0%B2:%D0%94%D0%90%D0%96%D0%9E/1/74&oldid=783226'},\n",
       " {'modified': '2024,10,05,19:45',\n",
       "  'link': 'https://uk.wikisource.org/w/index.php?title=%D0%90%D1%80%D1%85%D1%96%D0%B2:%D0%94%D0%90%D0%96%D0%9E/1/74&oldid=783201'},\n",
       " {'modified': '2024,10,04,21:19',\n",
       "  'link': 'https://uk.wikisource.org/w/index.php?title=%D0%90%D1%80%D1%85%D1%96%D0%B2:%D0%94%D0%90%D0%96%D0%9E/1/74&oldid=782248'},\n",
       " {'modified': '2024,10,03,20:41',\n",
       "  'link': 'https://uk.wikisource.org/w/index.php?title=%D0%90%D1%80%D1%85%D1%96%D0%B2:%D0%94%D0%90%D0%96%D0%9E/1/74&oldid=781991'},\n",
       " {'modified': '2024,10,03,19:37',\n",
       "  'link': 'https://uk.wikisource.org/w/index.php?title=%D0%90%D1%80%D1%85%D1%96%D0%B2:%D0%94%D0%90%D0%96%D0%9E/1/74&oldid=781966'},\n",
       " {'modified': '2024,10,03,18:49',\n",
       "  'link': 'https://uk.wikisource.org/w/index.php?title=%D0%90%D1%80%D1%85%D1%96%D0%B2:%D0%94%D0%90%D0%96%D0%9E/1/74&oldid=781962'},\n",
       " {'modified': '2024,10,03,17:54',\n",
       "  'link': 'https://uk.wikisource.org/w/index.php?title=%D0%90%D1%80%D1%85%D1%96%D0%B2:%D0%94%D0%90%D0%96%D0%9E/1/74&oldid=781942'},\n",
       " {'modified': '2024,10,03,17:09',\n",
       "  'link': 'https://uk.wikisource.org/w/index.php?title=%D0%90%D1%80%D1%85%D1%96%D0%B2:%D0%94%D0%90%D0%96%D0%9E/1/74&oldid=781914'},\n",
       " {'modified': '2024,10,03,16:45',\n",
       "  'link': 'https://uk.wikisource.org/w/index.php?title=%D0%90%D1%80%D1%85%D1%96%D0%B2:%D0%94%D0%90%D0%96%D0%9E/1/74&oldid=781900'},\n",
       " {'modified': '2024,10,02,13:46',\n",
       "  'link': 'https://uk.wikisource.org/w/index.php?title=%D0%90%D1%80%D1%85%D1%96%D0%B2:%D0%94%D0%90%D0%96%D0%9E/1/74&oldid=781314'},\n",
       " {'modified': '2024,09,28,14:49',\n",
       "  'link': 'https://uk.wikisource.org/w/index.php?title=%D0%90%D1%80%D1%85%D1%96%D0%B2:%D0%94%D0%90%D0%96%D0%9E/1/74&oldid=779733'},\n",
       " {'modified': '2024,09,28,14:13',\n",
       "  'link': 'https://uk.wikisource.org/w/index.php?title=%D0%90%D1%80%D1%85%D1%96%D0%B2:%D0%94%D0%90%D0%96%D0%9E/1/74&oldid=779727'},\n",
       " {'modified': '2024,09,28,14:13',\n",
       "  'link': 'https://uk.wikisource.org/w/index.php?title=%D0%90%D1%80%D1%85%D1%96%D0%B2:%D0%94%D0%90%D0%96%D0%9E/1/74&oldid=779726'},\n",
       " {'modified': '2024,09,28,12:46',\n",
       "  'link': 'https://uk.wikisource.org/w/index.php?title=%D0%90%D1%80%D1%85%D1%96%D0%B2:%D0%94%D0%90%D0%96%D0%9E/1/74&oldid=779719'},\n",
       " {'modified': '2024,09,12,19:11',\n",
       "  'link': 'https://uk.wikisource.org/w/index.php?title=%D0%90%D1%80%D1%85%D1%96%D0%B2:%D0%94%D0%90%D0%96%D0%9E/1/74&oldid=771121'},\n",
       " {'modified': '2024,09,12,18:41',\n",
       "  'link': 'https://uk.wikisource.org/w/index.php?title=%D0%90%D1%80%D1%85%D1%96%D0%B2:%D0%94%D0%90%D0%96%D0%9E/1/74&oldid=771120'},\n",
       " {'modified': '2024,09,12,15:53',\n",
       "  'link': 'https://uk.wikisource.org/w/index.php?title=%D0%90%D1%80%D1%85%D1%96%D0%B2:%D0%94%D0%90%D0%96%D0%9E/1/74&oldid=771093'},\n",
       " {'modified': '2024,09,12,12:26',\n",
       "  'link': 'https://uk.wikisource.org/w/index.php?title=%D0%90%D1%80%D1%85%D1%96%D0%B2:%D0%94%D0%90%D0%96%D0%9E/1/74&oldid=771025'},\n",
       " {'modified': '2024,09,12,12:25',\n",
       "  'link': 'https://uk.wikisource.org/w/index.php?title=%D0%90%D1%80%D1%85%D1%96%D0%B2:%D0%94%D0%90%D0%96%D0%9E/1/74&oldid=771024'},\n",
       " {'modified': '2024,09,12,08:43',\n",
       "  'link': 'https://uk.wikisource.org/w/index.php?title=%D0%90%D1%80%D1%85%D1%96%D0%B2:%D0%94%D0%90%D0%96%D0%9E/1/74&oldid=771003'},\n",
       " {'modified': '2024,09,12,08:34',\n",
       "  'link': 'https://uk.wikisource.org/w/index.php?title=%D0%90%D1%80%D1%85%D1%96%D0%B2:%D0%94%D0%90%D0%96%D0%9E/1/74&oldid=770995'},\n",
       " {'modified': '2024,09,12,08:33',\n",
       "  'link': 'https://uk.wikisource.org/w/index.php?title=%D0%90%D1%80%D1%85%D1%96%D0%B2:%D0%94%D0%90%D0%96%D0%9E/1/74&oldid=770994'},\n",
       " {'modified': '2024,09,12,08:32',\n",
       "  'link': 'https://uk.wikisource.org/w/index.php?title=%D0%90%D1%80%D1%85%D1%96%D0%B2:%D0%94%D0%90%D0%96%D0%9E/1/74&oldid=770993'},\n",
       " {'modified': '2024,09,12,08:32',\n",
       "  'link': 'https://uk.wikisource.org/w/index.php?title=%D0%90%D1%80%D1%85%D1%96%D0%B2:%D0%94%D0%90%D0%96%D0%9E/1/74&oldid=770992'},\n",
       " {'modified': '2024,09,09,19:30',\n",
       "  'link': 'https://uk.wikisource.org/w/index.php?title=%D0%90%D1%80%D1%85%D1%96%D0%B2:%D0%94%D0%90%D0%96%D0%9E/1/74&oldid=769692'},\n",
       " {'modified': '2024,09,06,09:19',\n",
       "  'link': 'https://uk.wikisource.org/w/index.php?title=%D0%90%D1%80%D1%85%D1%96%D0%B2:%D0%94%D0%90%D0%96%D0%9E/1/74&oldid=767865'},\n",
       " {'modified': '2024,09,06,09:18',\n",
       "  'link': 'https://uk.wikisource.org/w/index.php?title=%D0%90%D1%80%D1%85%D1%96%D0%B2:%D0%94%D0%90%D0%96%D0%9E/1/74&oldid=767864'},\n",
       " {'modified': '2024,08,30,04:38',\n",
       "  'link': 'https://uk.wikisource.org/w/index.php?title=%D0%90%D1%80%D1%85%D1%96%D0%B2:%D0%94%D0%90%D0%96%D0%9E/1/74&oldid=764542'},\n",
       " {'modified': '2024,07,27,22:08',\n",
       "  'link': 'https://uk.wikisource.org/w/index.php?title=%D0%90%D1%80%D1%85%D1%96%D0%B2:%D0%94%D0%90%D0%96%D0%9E/1/74&oldid=750184'},\n",
       " {'modified': '2024,06,21,21:09',\n",
       "  'link': 'https://uk.wikisource.org/w/index.php?title=%D0%90%D1%80%D1%85%D1%96%D0%B2:%D0%94%D0%90%D0%96%D0%9E/1/74&oldid=736316'},\n",
       " {'modified': '2024,06,21,21:00',\n",
       "  'link': 'https://uk.wikisource.org/w/index.php?title=%D0%90%D1%80%D1%85%D1%96%D0%B2:%D0%94%D0%90%D0%96%D0%9E/1/74&oldid=736313'},\n",
       " {'modified': '2024,05,16,07:37',\n",
       "  'link': 'https://uk.wikisource.org/w/index.php?title=%D0%90%D1%80%D1%85%D1%96%D0%B2:%D0%94%D0%90%D0%96%D0%9E/1/74&oldid=726879'},\n",
       " {'modified': '2024,05,09,23:22',\n",
       "  'link': 'https://uk.wikisource.org/w/index.php?title=%D0%90%D1%80%D1%85%D1%96%D0%B2:%D0%94%D0%90%D0%96%D0%9E/1/74&oldid=724608'},\n",
       " {'modified': '2024,04,24,12:44',\n",
       "  'link': 'https://uk.wikisource.org/w/index.php?title=%D0%90%D1%80%D1%85%D1%96%D0%B2:%D0%94%D0%90%D0%96%D0%9E/1/74&oldid=718600'},\n",
       " {'modified': '2024,02,18,09:41',\n",
       "  'link': 'https://uk.wikisource.org/w/index.php?title=%D0%90%D1%80%D1%85%D1%96%D0%B2:%D0%94%D0%90%D0%96%D0%9E/1/74&oldid=679975'},\n",
       " {'modified': '2024,01,16,20:44',\n",
       "  'link': 'https://uk.wikisource.org/w/index.php?title=%D0%90%D1%80%D1%85%D1%96%D0%B2:%D0%94%D0%90%D0%96%D0%9E/1/74&oldid=672203'},\n",
       " {'modified': '2024,01,13,19:47',\n",
       "  'link': 'https://uk.wikisource.org/w/index.php?title=%D0%90%D1%80%D1%85%D1%96%D0%B2:%D0%94%D0%90%D0%96%D0%9E/1/74&oldid=670799'},\n",
       " {'modified': '2024,01,13,19:11',\n",
       "  'link': 'https://uk.wikisource.org/w/index.php?title=%D0%90%D1%80%D1%85%D1%96%D0%B2:%D0%94%D0%90%D0%96%D0%9E/1/74&oldid=670786'},\n",
       " {'modified': '2024,01,13,17:37',\n",
       "  'link': 'https://uk.wikisource.org/w/index.php?title=%D0%90%D1%80%D1%85%D1%96%D0%B2:%D0%94%D0%90%D0%96%D0%9E/1/74&oldid=670777'},\n",
       " {'modified': '2024,01,13,17:23',\n",
       "  'link': 'https://uk.wikisource.org/w/index.php?title=%D0%90%D1%80%D1%85%D1%96%D0%B2:%D0%94%D0%90%D0%96%D0%9E/1/74&oldid=670774'},\n",
       " {'modified': '2024,01,13,16:38',\n",
       "  'link': 'https://uk.wikisource.org/w/index.php?title=%D0%90%D1%80%D1%85%D1%96%D0%B2:%D0%94%D0%90%D0%96%D0%9E/1/74&oldid=670771'},\n",
       " {'modified': '2024,01,12,09:12',\n",
       "  'link': 'https://uk.wikisource.org/w/index.php?title=%D0%90%D1%80%D1%85%D1%96%D0%B2:%D0%94%D0%90%D0%96%D0%9E/1/74&oldid=670417'},\n",
       " {'modified': '2024,01,12,08:24',\n",
       "  'link': 'https://uk.wikisource.org/w/index.php?title=%D0%90%D1%80%D1%85%D1%96%D0%B2:%D0%94%D0%90%D0%96%D0%9E/1/74&oldid=670404'},\n",
       " {'modified': '2023,12,21,14:14',\n",
       "  'link': 'https://uk.wikisource.org/w/index.php?title=%D0%90%D1%80%D1%85%D1%96%D0%B2:%D0%94%D0%90%D0%96%D0%9E/1/74&oldid=660058'},\n",
       " {'modified': '2023,10,28,16:00',\n",
       "  'link': 'https://uk.wikisource.org/w/index.php?title=%D0%90%D1%80%D1%85%D1%96%D0%B2:%D0%94%D0%90%D0%96%D0%9E/1/74&oldid=645522'},\n",
       " {'modified': '2023,10,27,11:02',\n",
       "  'link': 'https://uk.wikisource.org/w/index.php?title=%D0%90%D1%80%D1%85%D1%96%D0%B2:%D0%94%D0%90%D0%96%D0%9E/1/74&oldid=645327'},\n",
       " {'modified': '2023,10,25,17:09',\n",
       "  'link': 'https://uk.wikisource.org/w/index.php?title=%D0%90%D1%80%D1%85%D1%96%D0%B2:%D0%94%D0%90%D0%96%D0%9E/1/74&oldid=644974'},\n",
       " {'modified': '2023,10,25,17:07',\n",
       "  'link': 'https://uk.wikisource.org/w/index.php?title=%D0%90%D1%80%D1%85%D1%96%D0%B2:%D0%94%D0%90%D0%96%D0%9E/1/74&oldid=644973'},\n",
       " {'modified': '2023,10,25,16:18',\n",
       "  'link': 'https://uk.wikisource.org/w/index.php?title=%D0%90%D1%80%D1%85%D1%96%D0%B2:%D0%94%D0%90%D0%96%D0%9E/1/74&oldid=644972'},\n",
       " {'modified': '2023,10,25,15:51',\n",
       "  'link': 'https://uk.wikisource.org/w/index.php?title=%D0%90%D1%80%D1%85%D1%96%D0%B2:%D0%94%D0%90%D0%96%D0%9E/1/74&oldid=644877'},\n",
       " {'modified': '2023,10,20,09:48',\n",
       "  'link': 'https://uk.wikisource.org/w/index.php?title=%D0%90%D1%80%D1%85%D1%96%D0%B2:%D0%94%D0%90%D0%96%D0%9E/1/74&oldid=643490'},\n",
       " {'modified': '2023,10,06,19:24',\n",
       "  'link': 'https://uk.wikisource.org/w/index.php?title=%D0%90%D1%80%D1%85%D1%96%D0%B2:%D0%94%D0%90%D0%96%D0%9E/1/74&oldid=640647'},\n",
       " {'modified': '2023,10,06,09:42',\n",
       "  'link': 'https://uk.wikisource.org/w/index.php?title=%D0%90%D1%80%D1%85%D1%96%D0%B2:%D0%94%D0%90%D0%96%D0%9E/1/74&oldid=640606'},\n",
       " {'modified': '2023,10,05,12:27',\n",
       "  'link': 'https://uk.wikisource.org/w/index.php?title=%D0%90%D1%80%D1%85%D1%96%D0%B2:%D0%94%D0%90%D0%96%D0%9E/1/74&oldid=640335'},\n",
       " {'modified': '2023,09,28,17:52',\n",
       "  'link': 'https://uk.wikisource.org/w/index.php?title=%D0%90%D1%80%D1%85%D1%96%D0%B2:%D0%94%D0%90%D0%96%D0%9E/1/74&oldid=638286'},\n",
       " {'modified': '2023,09,26,21:51',\n",
       "  'link': 'https://uk.wikisource.org/w/index.php?title=%D0%90%D1%80%D1%85%D1%96%D0%B2:%D0%94%D0%90%D0%96%D0%9E/1/74&oldid=638053'},\n",
       " {'modified': '2023,09,13,20:01',\n",
       "  'link': 'https://uk.wikisource.org/w/index.php?title=%D0%90%D1%80%D1%85%D1%96%D0%B2:%D0%94%D0%90%D0%96%D0%9E/1/74&oldid=634611'},\n",
       " {'modified': '2023,06,05,07:08',\n",
       "  'link': 'https://uk.wikisource.org/w/index.php?title=%D0%90%D1%80%D1%85%D1%96%D0%B2:%D0%94%D0%90%D0%96%D0%9E/1/74&oldid=608553'},\n",
       " {'modified': '2023,04,03,12:52',\n",
       "  'link': 'https://uk.wikisource.org/w/index.php?title=%D0%90%D1%80%D1%85%D1%96%D0%B2:%D0%94%D0%90%D0%96%D0%9E/1/74&oldid=578943'},\n",
       " {'modified': '2023,04,03,12:49',\n",
       "  'link': 'https://uk.wikisource.org/w/index.php?title=%D0%90%D1%80%D1%85%D1%96%D0%B2:%D0%94%D0%90%D0%96%D0%9E/1/74&oldid=578941'},\n",
       " {'modified': '2023,03,30,15:16',\n",
       "  'link': 'https://uk.wikisource.org/w/index.php?title=%D0%90%D1%80%D1%85%D1%96%D0%B2:%D0%94%D0%90%D0%96%D0%9E/1/74&oldid=576820'},\n",
       " {'modified': '2023,02,03,15:05',\n",
       "  'link': 'https://uk.wikisource.org/w/index.php?title=%D0%90%D1%80%D1%85%D1%96%D0%B2:%D0%94%D0%90%D0%96%D0%9E/1/74&oldid=556839'},\n",
       " {'modified': '2023,02,03,12:36',\n",
       "  'link': 'https://uk.wikisource.org/w/index.php?title=%D0%90%D1%80%D1%85%D1%96%D0%B2:%D0%94%D0%90%D0%96%D0%9E/1/74&oldid=556799'},\n",
       " {'modified': '2022,10,13,13:15',\n",
       "  'link': 'https://uk.wikisource.org/w/index.php?title=%D0%90%D1%80%D1%85%D1%96%D0%B2:%D0%94%D0%90%D0%96%D0%9E/1/74&oldid=495447'},\n",
       " {'modified': '2022,09,07,21:38',\n",
       "  'link': 'https://uk.wikisource.org/w/index.php?title=%D0%90%D1%80%D1%85%D1%96%D0%B2:%D0%94%D0%90%D0%96%D0%9E/1/74&oldid=477890'},\n",
       " {'modified': '2022,09,07,21:38',\n",
       "  'link': 'https://uk.wikisource.org/w/index.php?title=%D0%90%D1%80%D1%85%D1%96%D0%B2:%D0%94%D0%90%D0%96%D0%9E/1/74&oldid=477889'},\n",
       " {'modified': '2022,08,31,18:00',\n",
       "  'link': 'https://uk.wikisource.org/w/index.php?title=%D0%90%D1%80%D1%85%D1%96%D0%B2:%D0%94%D0%90%D0%96%D0%9E/1/74&oldid=471087'},\n",
       " {'modified': '2022,08,31,11:03',\n",
       "  'link': 'https://uk.wikisource.org/w/index.php?title=%D0%90%D1%80%D1%85%D1%96%D0%B2:%D0%94%D0%90%D0%96%D0%9E/1/74&oldid=470984'},\n",
       " {'modified': '2022,08,25,18:50',\n",
       "  'link': 'https://uk.wikisource.org/w/index.php?title=%D0%90%D1%80%D1%85%D1%96%D0%B2:%D0%94%D0%90%D0%96%D0%9E/1/74&oldid=465385'},\n",
       " {'modified': '2022,08,25,18:48',\n",
       "  'link': 'https://uk.wikisource.org/w/index.php?title=%D0%90%D1%80%D1%85%D1%96%D0%B2:%D0%94%D0%90%D0%96%D0%9E/1/74&oldid=465384'},\n",
       " {'modified': '2022,08,25,18:23',\n",
       "  'link': 'https://uk.wikisource.org/w/index.php?title=%D0%90%D1%80%D1%85%D1%96%D0%B2:%D0%94%D0%90%D0%96%D0%9E/1/74&oldid=465376'},\n",
       " {'modified': '2022,08,25,18:00',\n",
       "  'link': 'https://uk.wikisource.org/w/index.php?title=%D0%90%D1%80%D1%85%D1%96%D0%B2:%D0%94%D0%90%D0%96%D0%9E/1/74&oldid=465370'},\n",
       " {'modified': '2021,12,10,08:27',\n",
       "  'link': 'https://uk.wikisource.org/w/index.php?title=%D0%90%D1%80%D1%85%D1%96%D0%B2:%D0%94%D0%90%D0%96%D0%9E/1/74&oldid=417045'},\n",
       " {'modified': '2021,04,03,10:49',\n",
       "  'link': 'https://uk.wikisource.org/w/index.php?title=%D0%90%D1%80%D1%85%D1%96%D0%B2:%D0%94%D0%90%D0%96%D0%9E/1/74&oldid=343783'},\n",
       " {'modified': '2021,04,02,23:20',\n",
       "  'link': 'https://uk.wikisource.org/w/index.php?title=%D0%90%D1%80%D1%85%D1%96%D0%B2:%D0%94%D0%90%D0%96%D0%9E/1/74&oldid=343776'},\n",
       " {'modified': '2021,04,02,23:19',\n",
       "  'link': 'https://uk.wikisource.org/w/index.php?title=%D0%90%D1%80%D1%85%D1%96%D0%B2:%D0%94%D0%90%D0%96%D0%9E/1/74&oldid=343775'},\n",
       " {'modified': '2021,03,27,12:14',\n",
       "  'link': 'https://uk.wikisource.org/w/index.php?title=%D0%90%D1%80%D1%85%D1%96%D0%B2:%D0%94%D0%90%D0%96%D0%9E/1/74&oldid=329118'},\n",
       " {'modified': '2021,03,26,21:40',\n",
       "  'link': 'https://uk.wikisource.org/w/index.php?title=%D0%90%D1%80%D1%85%D1%96%D0%B2:%D0%94%D0%90%D0%96%D0%9E/1/74&oldid=325150'},\n",
       " {'modified': '2021,03,10,20:21',\n",
       "  'link': 'https://uk.wikisource.org/w/index.php?title=%D0%90%D1%80%D1%85%D1%96%D0%B2:%D0%94%D0%90%D0%96%D0%9E/1/74&oldid=318468'},\n",
       " {'modified': '2021,02,13,19:21',\n",
       "  'link': 'https://uk.wikisource.org/w/index.php?title=%D0%90%D1%80%D1%85%D1%96%D0%B2:%D0%94%D0%90%D0%96%D0%9E/1/74&oldid=278997'},\n",
       " {'modified': '2020,11,30,18:57',\n",
       "  'link': 'https://uk.wikisource.org/w/index.php?title=%D0%90%D1%80%D1%85%D1%96%D0%B2:%D0%94%D0%90%D0%96%D0%9E/1/74&oldid=250286'},\n",
       " {'modified': '2020,11,30,18:56',\n",
       "  'link': 'https://uk.wikisource.org/w/index.php?title=%D0%90%D1%80%D1%85%D1%96%D0%B2:%D0%94%D0%90%D0%96%D0%9E/1/74&oldid=250285'},\n",
       " {'modified': '2020,11,30,16:40',\n",
       "  'link': 'https://uk.wikisource.org/w/index.php?title=%D0%90%D1%80%D1%85%D1%96%D0%B2:%D0%94%D0%90%D0%96%D0%9E/1/74&oldid=250225'},\n",
       " {'modified': '2020,11,30,15:57',\n",
       "  'link': 'https://uk.wikisource.org/w/index.php?title=%D0%90%D1%80%D1%85%D1%96%D0%B2:%D0%94%D0%90%D0%96%D0%9E/1/74&oldid=250186'},\n",
       " {'modified': '2020,11,29,15:29',\n",
       "  'link': 'https://uk.wikisource.org/w/index.php?title=%D0%90%D1%80%D1%85%D1%96%D0%B2:%D0%94%D0%90%D0%96%D0%9E/1/74&oldid=249945'},\n",
       " {'modified': '2020,11,29,15:23',\n",
       "  'link': 'https://uk.wikisource.org/w/index.php?title=%D0%90%D1%80%D1%85%D1%96%D0%B2:%D0%94%D0%90%D0%96%D0%9E/1/74&oldid=249944'},\n",
       " {'modified': '2020,07,04,09:38',\n",
       "  'link': 'https://uk.wikisource.org/w/index.php?title=%D0%90%D1%80%D1%85%D1%96%D0%B2:%D0%94%D0%90%D0%96%D0%9E/1/74&oldid=213580'},\n",
       " {'modified': '2020,07,04,09:37',\n",
       "  'link': 'https://uk.wikisource.org/w/index.php?title=%D0%90%D1%80%D1%85%D1%96%D0%B2:%D0%94%D0%90%D0%96%D0%9E/1/74&oldid=213579'},\n",
       " {'modified': '2020,07,01,12:21',\n",
       "  'link': 'https://uk.wikisource.org/w/index.php?title=%D0%90%D1%80%D1%85%D1%96%D0%B2:%D0%94%D0%90%D0%96%D0%9E/1/74&oldid=213004'},\n",
       " {'modified': '2020,06,30,21:49',\n",
       "  'link': 'https://uk.wikisource.org/w/index.php?title=%D0%90%D1%80%D1%85%D1%96%D0%B2:%D0%94%D0%90%D0%96%D0%9E/1/74&oldid=212931'},\n",
       " {'modified': '2020,06,30,10:19',\n",
       "  'link': 'https://uk.wikisource.org/w/index.php?title=%D0%90%D1%80%D1%85%D1%96%D0%B2:%D0%94%D0%90%D0%96%D0%9E/1/74&oldid=212798'},\n",
       " {'modified': '2020,06,30,09:23',\n",
       "  'link': 'https://uk.wikisource.org/w/index.php?title=%D0%90%D1%80%D1%85%D1%96%D0%B2:%D0%94%D0%90%D0%96%D0%9E/1/74&oldid=212793'},\n",
       " {'modified': '2020,06,30,09:09',\n",
       "  'link': 'https://uk.wikisource.org/w/index.php?title=%D0%90%D1%80%D1%85%D1%96%D0%B2:%D0%94%D0%90%D0%96%D0%9E/1/74&oldid=212789'},\n",
       " {'modified': '2020,06,29,20:35',\n",
       "  'link': 'https://uk.wikisource.org/w/index.php?title=%D0%90%D1%80%D1%85%D1%96%D0%B2:%D0%94%D0%90%D0%96%D0%9E/1/74&oldid=212731'},\n",
       " {'modified': '2020,06,29,20:34',\n",
       "  'link': 'https://uk.wikisource.org/w/index.php?title=%D0%90%D1%80%D1%85%D1%96%D0%B2:%D0%94%D0%90%D0%96%D0%9E/1/74&oldid=212728'},\n",
       " {'modified': '2020,06,25,20:37',\n",
       "  'link': 'https://uk.wikisource.org/w/index.php?title=%D0%90%D1%80%D1%85%D1%96%D0%B2:%D0%94%D0%90%D0%96%D0%9E/1/74&oldid=211951'},\n",
       " {'modified': '2020,05,17,21:26',\n",
       "  'link': 'https://uk.wikisource.org/w/index.php?title=%D0%90%D1%80%D1%85%D1%96%D0%B2:%D0%94%D0%90%D0%96%D0%9E/1/74&oldid=200965'},\n",
       " {'modified': '2019,11,23,19:29',\n",
       "  'link': 'https://uk.wikisource.org/w/index.php?title=%D0%90%D1%80%D1%85%D1%96%D0%B2:%D0%94%D0%90%D0%96%D0%9E/1/74&oldid=141020'},\n",
       " {'modified': '2019,10,07,16:42',\n",
       "  'link': 'https://uk.wikisource.org/w/index.php?title=%D0%90%D1%80%D1%85%D1%96%D0%B2:%D0%94%D0%90%D0%96%D0%9E/1/74&oldid=138885'},\n",
       " {'modified': '2019,10,05,14:17',\n",
       "  'link': 'https://uk.wikisource.org/w/index.php?title=%D0%90%D1%80%D1%85%D1%96%D0%B2:%D0%94%D0%90%D0%96%D0%9E/1/74&oldid=138812'},\n",
       " {'modified': '2019,10,05,09:18',\n",
       "  'link': 'https://uk.wikisource.org/w/index.php?title=%D0%90%D1%80%D1%85%D1%96%D0%B2:%D0%94%D0%90%D0%96%D0%9E/1/74&oldid=138802'},\n",
       " {'modified': '2019,10,05,08:57',\n",
       "  'link': 'https://uk.wikisource.org/w/index.php?title=%D0%90%D1%80%D1%85%D1%96%D0%B2:%D0%94%D0%90%D0%96%D0%9E/1/74&oldid=138801'},\n",
       " {'modified': '2019,10,04,18:59',\n",
       "  'link': 'https://uk.wikisource.org/w/index.php?title=%D0%90%D1%80%D1%85%D1%96%D0%B2:%D0%94%D0%90%D0%96%D0%9E/1/74&oldid=138799'},\n",
       " {'modified': '2019,10,02,20:12',\n",
       "  'link': 'https://uk.wikisource.org/w/index.php?title=%D0%90%D1%80%D1%85%D1%96%D0%B2:%D0%94%D0%90%D0%96%D0%9E/1/74&oldid=138787'},\n",
       " {'modified': '2019,10,02,06:24',\n",
       "  'link': 'https://uk.wikisource.org/w/index.php?title=%D0%90%D1%80%D1%85%D1%96%D0%B2:%D0%94%D0%90%D0%96%D0%9E/1/74&oldid=138771'},\n",
       " {'modified': '2019,10,01,22:26',\n",
       "  'link': 'https://uk.wikisource.org/w/index.php?title=%D0%90%D1%80%D1%85%D1%96%D0%B2:%D0%94%D0%90%D0%96%D0%9E/1/74&oldid=138767'},\n",
       " {'modified': '2019,10,01,21:31',\n",
       "  'link': 'https://uk.wikisource.org/w/index.php?title=%D0%90%D1%80%D1%85%D1%96%D0%B2:%D0%94%D0%90%D0%96%D0%9E/1/74&oldid=138765'},\n",
       " {'modified': '2019,10,01,18:37',\n",
       "  'link': 'https://uk.wikisource.org/w/index.php?title=%D0%90%D1%80%D1%85%D1%96%D0%B2:%D0%94%D0%90%D0%96%D0%9E/1/74&oldid=138763'},\n",
       " {'modified': '2019,10,01,12:19',\n",
       "  'link': 'https://uk.wikisource.org/w/index.php?title=%D0%90%D1%80%D1%85%D1%96%D0%B2:%D0%94%D0%90%D0%96%D0%9E/1/74&oldid=138758'},\n",
       " {'modified': '2019,10,01,09:00',\n",
       "  'link': 'https://uk.wikisource.org/w/index.php?title=%D0%90%D1%80%D1%85%D1%96%D0%B2:%D0%94%D0%90%D0%96%D0%9E/1/74&oldid=138756'},\n",
       " {'modified': '2019,10,01,08:59',\n",
       "  'link': 'https://uk.wikisource.org/w/index.php?title=%D0%90%D1%80%D1%85%D1%96%D0%B2:%D0%94%D0%90%D0%96%D0%9E/1/74&oldid=138754'}]"
      ]
     },
     "execution_count": 23,
     "metadata": {},
     "output_type": "execute_result"
    }
   ],
   "source": [
    "opus1_74.history"
   ]
  },
  {
   "cell_type": "code",
   "execution_count": 24,
   "id": "bfda7eed",
   "metadata": {},
   "outputs": [
    {
     "name": "stdout",
     "output_type": "stream",
     "text": [
      "No changes to report. Run check_page_changes first.\n"
     ]
    }
   ],
   "source": [
    "report_page_changes(opus1_74)"
   ]
  },
  {
   "cell_type": "code",
   "execution_count": 25,
   "id": "bcee9bfa",
   "metadata": {},
   "outputs": [],
   "source": [
    "check_page_changes(opus1_74, opus1_74_old)"
   ]
  },
  {
   "cell_type": "code",
   "execution_count": 26,
   "id": "83963ebb",
   "metadata": {},
   "outputs": [
    {
     "name": "stdout",
     "output_type": "stream",
     "text": [
      "Change report for Dago/1/74, lastmod=2025,02,22,17:32, refmod=2022,10,13,13:15\n",
      "1[1] (changed): Metric books of the Kashogrod Uniate Deanery of Kovel and Lutsk counties\n",
      "1[2] (changed): Kovelsky, Lutsk\n",
      "1[3] (changed): 1798, 1802–1803, 1813\n",
      "2[1] (changed): Confessional paintings of the Ratin Uniate Deanery of Kovel County\n",
      "3[1] (changed): Metric books of the Uniate Churches of Kovel County\n",
      "4[1] (changed): Metric books of the Kashogrod Uniate Deanery of Kovel and Lutsk counties\n",
      "4[2] (changed): Kovelsky, Lutsk\n",
      "5[1] (changed): Metric books of the Uniate Churches of Kovel and Lutsk counties\n",
      "5[2] (changed): Kovelsky, Lutsk\n",
      "5[3] (changed): 1821, 1822\n",
      "6[1] (changed): Metric book of the Greek Catholic Church. Myrin Kovel County\n",
      "6[3] (changed): 1827–1834\n",
      "7[1] (changed): Metric Book of Greek Catholic Michael-Archangel Church. Sekun and Assumption village. The settlement of Kovel county\n",
      "7[3] (changed): 1830–1839\n",
      "8[1] (changed): Metric books of the Uniate Churches of Kovel County\n",
      "9[1] (changed): Metric books of the Uniate Churches of Kovel County\n",
      "10[1] (changed): Metric books of the Uniate Churches of Kovel County\n",
      "11[1] (changed): Metric books of the Uniate Churches of Kovel County\n",
      "13[1] (changed): Metric books of the Uniate Churches of Kovel County\n",
      "14[1] (changed): Metric books of the Uniate Churches of Kovel County\n",
      "14[3] (changed): 1835\n",
      "18[1] (changed): Metric books of the Uniate Churches of Kovel County\n",
      "19[1] (changed): Metric books of the Uniate Churches of Kovel County\n",
      "23[1] (changed): Metric books of the Uniate Churches of Kovel County\n",
      "26[1] (changed): Metric books of the Uniate Churches of Kovel County\n",
      "30[1] (changed): Confessional paintings of Orthodox churches. The villages of K -N\n",
      "31[1] (changed): Confessional paintings of Orthodox churches. The villages of O -I\n",
      "32[1] (changed): Confessional paintings of Orthodox churches. Village B -D\n",
      "33[1] (changed): Confessional paintings of Orthodox churches. The village of Zh -M\n",
      "33[3] (changed): 1893\n",
      "34[1] (changed): Confessional paintings of the Orthodox churches of Kovel county. The village of Zh -l\n",
      "35[1] (changed): Confessional paintings of the Orthodox churches of Kovel county. The villages of the m -p\n",
      "36[1] (changed): Confessional paintings of Orthodox churches. The villages of the r -Y\n",
      "37[1] (changed): Metric Book of St. Dmitry Greek Catholic Church in Sudylkov\n",
      "37[3] (changed): 1757–1795\n",
      "38[1] (changed): Metric Book of St. Trinity Greek Catholic Church in Sulzhin\n",
      "38[3] (changed): 1764–1819\n",
      "39[1] (changed): Metric Book of the Greek Catholic Church of the Nativity of the Blessed Virgin Mary Great Matsevichi\n",
      "39[3] (changed): 1765–1789\n",
      "40[3] (changed): 1791–1805\n",
      "42[1] (changed): Metric books of Orthodox churches of Zdslav and Ostroh counties\n",
      "42[2] (changed): Zaslavsky, Ostroh\n",
      "43[1] (changed): Metric books of Orthodox Churches of Zaslavsky County\n",
      "45[1] (changed): Metric books of Orthodox Churches of Zaslavsky County\n",
      "46[1] (changed): Metric books of Orthodox Churches of Zaslavsky County\n",
      "47[3] (changed): 1801\n",
      "50[3] (changed): 1804–1837\n",
      "52[1] (changed): Metric books of Orthodox Churches of Zaslavsky County\n",
      "53[1] (changed): Metric books of Orthodox Churches of Zaslavsky County\n",
      "60[1] (changed): Metric books of Orthodox Churches of Zaslavsky County\n",
      "61[1] (changed): Metric books of Orthodox Churches of Zaslavsky County\n",
      "62[1] (changed): Metric books of Orthodox Churches of Zaslavsky County\n",
      "64[1] (changed): Metric books of Orthodox Churches of Zaslavsky County\n",
      "65[1] (changed): Metric books of Orthodox Churches of Zaslavsky County\n",
      "67[1] (changed): Metric books of Orthodox Churches of Zaslavsky County\n",
      "70[1] (changed): Metric books of Orthodox Churches of Zaslavsky County\n",
      "71[1] (changed): Metric books of Orthodox Churches of Zaslavsky County\n",
      "73[1] (changed): Metric books of Orthodox Churches of Zaslavsky County\n",
      "74[2] (changed): Starokostiantynivsky\n",
      "80[1] (changed): Metric books of Orthodox Churches of Zaslavsky County\n",
      "82[1] (changed): Metric books of Orthodox Churches of Zaslavsky County\n",
      "87[1] (changed): Metric books of Orthodox Churches of Zaslavsky County\n",
      "93[1] (changed): Metric books of Orthodox Churches of Zaslavsky County\n",
      "94[1] (changed): Metric books of Orthodox Churches of Zaslavsky County\n",
      "95[1] (changed): Metric books of Orthodox Churches of Zaslavsky County\n",
      "98[1] (changed): Metric books of Orthodox Churches of Zaslavsky County\n",
      "99[1] (changed): Metric books of Orthodox Churches of Zaslavsky County\n",
      "103[1] (changed): Metric books of Orthodox Churches of Zaslavsky County\n",
      "107[1] (changed): Metric books of Orthodox Churches of Zaslavsky County\n",
      "114[1] (changed): Metric books of Orthodox Churches of Zaslavsky County\n",
      "133[2] (changed): Starokostiantynivsky\n",
      "136[1] (changed): Metric books of Orthodox churches of Zaslavsky district. The villages A-C.\n",
      "138[2] (changed): Starokostiantynivsky\n",
      "141[1] (changed): Metric books of Orthodox churches of Zaslavsky district. The villages A-C.\n",
      "145[1] (changed): Metric books of Orthodox churches of Zaslavsky district. Village A-L.\n",
      "167[0] (added): 167\n",
      "167[1] (added): Metric books are Orthodox. See #Notes.\n",
      "167[2] (added): Zaslavsky\n",
      "167[3] (added): 1904\n",
      "167[4] (added): \n",
      "167[5] (added): \n",
      "168[1] (changed): Orthodox Lists\n",
      "169[1] (changed): Confessor paintings of the Orthodox churches of Zaslav district. The villages of the r -Y\n",
      "170[1] (changed): Confessor paintings of the Orthodox churches of Zaslav district. The villages of L -p\n",
      "171[1] (changed): Confessor paintings of the Orthodox churches of Zaslav district. The villages of the r -Y\n",
      "172[1] (changed): Confessor paintings of the Orthodox churches of Zaslav district. The villages of K -p\n",
      "173[1] (changed): Confessor paintings of the Orthodox churches of Zaslav district. Village A -K\n",
      "174[1] (changed): Metric book of the Union Trinity Church of the village. Derno (birth 1800-1827), (marriage 1780-1827) (Death 1774-1827)\n",
      "174[3] (changed): 1774-1827\n",
      "175[1] (changed): Metric books of the union of olive dean (death)\n",
      "176[1] (changed): Metric books of the Union Olytsky Deanery (Birth)\n",
      "177[1] (changed): Metric books of the union of olive dean (death)\n",
      "177[3] (changed): 1823\n",
      "178[1] (changed): Metric books of the Union Olytsky Deanery (Marriage)\n",
      "178[3] (changed): 1823\n",
      "179[1] (changed): Metric books of the Union Olytsky Deanery (Birth)\n",
      "179[3] (changed): 1823\n",
      "180[1] (changed): Metric books of the Union Olytsky Deanery (Birth)\n",
      "181[1] (changed): Metric books of the union of olive dean (death)\n",
      "182[1] (changed): Metric books of the Union Olytsky Deanery. Duben County. Birth\n",
      "183[1] (changed): Metric books of the Union Olytsky Deanery. Duben County. Marriage\n",
      "183a[1] (changed): Metric Books (Birth)\n",
      "184[1] (changed): Metric books of the Union Olytsky Deanery. Duben County\n",
      "185[1] (changed): Metric Books on Birth Uniate (not the whole business)\n",
      "186[1] (changed): Orthodox Lists Orthodox\n",
      "187[1] (changed): Confessor paintings of the Orthodox churches of Dubensky county. The village Z -O\n",
      "188[1] (changed): Orthodox lists of Orthodox\n",
      "189[1] (changed): Confessor information of the Orthodox churches of Dubensky county. The villages of P-i.\n",
      "190[1] (changed): Confessor lists of Orthodox churches of Dubensky county. The village Z -O\n",
      "192[1] (changed): Metric Book of the Trinity Church of the village The alms of the Rivne county\n",
      "192[3] (changed): 1805–1838\n",
      "193[1] (changed): The metric book of the Greek-Uniate Churches of the Dombrovitsky Piety of Rivne County. Birth\n",
      "194[1] (changed): The metric book of the Greek-Uniate Churches of the Dombrovitsky Piety of Rivne County. Marriage\n",
      "194a[1] (changed): Orthodox metric books (death)\n",
      "195[1] (changed): The metric book of the Greek-Uniate Churches of the Dombrovitsky Piety of Rivne County. Marriage\n",
      "196[1] (changed): The metric book of the Greek-Uniate Churches of the Dombrovitsky Piety of Rivne County. Birth\n",
      "197[1] (changed): The metric book of the Greek-Uniate Churches of the Dombrovitsky Piety of Rivne County. Death\n",
      "198[1] (changed): Metric book of the Church of St. Paraskeva village Nemovichi Rivne County\n",
      "198[3] (changed): 1823–1838\n",
      "199[1] (changed): The metric book of the Greek-Uniate Churches of the Dombrovitsky Piety of Rivne County. Marriage\n",
      "200[1] (changed): The metric book of the Greek-Uniate Churches of the Dombrovitsky Piety of Rivne County. Death\n",
      "201[1] (changed): The metric book of the Greek-Uniate Churches of the Dombrovitsky Piety of Rivne County. Birth\n",
      "202[1] (changed): The metric book of the Greek-Uniate Churches of the Dombrovitsky Piety of Rivne County. Birth\n",
      "203[1] (changed): The metric book of the Greek-Uniate Churches of the Dombrovitsky Piety of Rivne County. Death\n",
      "204[1] (changed): The metric book of the Greek-Uniate Churches of the Dombrovitsky Piety of Rivne County. Marriage\n",
      "204[3] (changed): 1840\n",
      "205[1] (changed): The metric book of the Greek-Uniate Churches of the Dombrovitsky Piety of Rivne County. Birth\n",
      "205[3] (changed): 1841\n",
      "206[1] (changed): The metric book of the Greek-Uniate Churches of the Dombrovitsky Piety of Rivne County. Death\n",
      "206[3] (changed): 1841\n",
      "209[3] (changed): 1796–1843\n",
      "211[1] (changed): Confessor paintings of the Orthodox churches of Rivne county. The village Z -O\n",
      "212[1] (changed): Confessor paintings of the Orthodox churches of Rivne county. Village A -D\n",
      "214[1] (changed): Confessions of Orthodox Churches of Rivne County. The village of C -Y\n",
      "215[1] (changed): Confessions of Orthodox Churches of Rivne County. Village A -G\n",
      "216[1] (changed): Confessor paintings of the Orthodox churches of Rivne county. The villages of D -K\n",
      "217[1] (changed): Confessor paintings of the Orthodox churches of Rivne county. The villages of L -r\n",
      "218[3] (changed): 1770–1796\n",
      "219[3] (changed): 1800–1821\n",
      "220[3] (changed): 1790–1827\n",
      "221[3] (changed): 1774–1819\n",
      "222[1] (changed): Metric book of the Greek Catholic St. Nicholas Church Vilsk Zhytomyr County. Birth.\n",
      "222[3] (changed): 1767–1798\n",
      "223[1] (changed): Orthodox Metric Books (Kobylin)\n",
      "224[3] (changed): 1783–1815\n",
      "225[1] (changed): Metric Books of Orthodox Churches of Ovruch County\n",
      "228[3] (changed): 1799–1821\n",
      "231[3] (changed): 1805–1818\n",
      "234[3] (changed): 1804–1839\n",
      "235[1] (changed): Metric Books of Orthodox Churches of Ovruch County\n",
      "241[1] (changed): Metric Books of Orthodox Churches of Ovruch County\n",
      "242[1] (changed): Metric Books of Orthodox Churches of Ovruch County\n",
      "243[3] (changed): 1816–1827\n",
      "247[1] (changed): Metric Books of Orthodox Churches of Ovruch County\n",
      "247a[3] (changed): 1821–1832\n",
      "250[1] (changed): Metric book of the Church of St. Paraskeva village Kobylivka\n",
      "250[3] (changed): 1822–1836\n",
      "252[1] (changed): Metric Books of Orthodox Churches of Ovruch County\n",
      "255[1] (changed): Metric Books of Orthodox Churches of Ovruch County\n",
      "256[1] (changed): Metric Books of Orthodox Churches of Ovruch County\n",
      "257[1] (changed): Metric Books of Orthodox Churches of Ovruch County\n",
      "258[1] (changed): Metric Books of Orthodox Churches of Ovruch County\n",
      "259[1] (changed): Metric Books of Orthodox Churches of Ovruch County\n",
      "260[1] (changed): Metric Books of Orthodox Churches of Ovruch County\n",
      "262[3] (changed): 1836–1840\n",
      "263[3] (changed): 1837–1841\n",
      "264[3] (changed): 1835–1840\n",
      "265[3] (changed): 1835–1841\n",
      "266[3] (changed): 1835–1842\n",
      "267[3] (changed): 1835–1847\n",
      "268[3] (changed): 1835–1843\n",
      "269[3] (changed): 1836–1841\n",
      "270[3] (changed): 1835–1842\n",
      "271[1] (changed): Metric Books of Orthodox Churches of Ovruch County\n",
      "272[1] (changed): Metric Books of Orthodox Churches of Ovruch County\n",
      "273[3] (changed): 1837–1840\n",
      "274[1] (changed): Metric Books of Orthodox Churches of Ovruch County\n",
      "275[1] (changed): Metric Books of Orthodox Churches of Ovruch County\n",
      "276[1] (changed): Metric Books of Orthodox Churches of Ovruch County\n",
      "277[1] (changed): Metric books of Ovruch Assumption Church\n",
      "277[3] (changed): 1739-1770\n",
      "278[3] (changed): 1839–1842\n",
      "279[3] (changed): 1840–1841\n",
      "280[3] (changed): 1840–1841\n",
      "281[3] (changed): 1840–1842\n",
      "283[1] (changed): Metric Books of Orthodox Churches of Ovruch County\n",
      "284[1] (changed): Metric Books of Orthodox Churches of Ovruch County\n",
      "284[3] (changed): 1840\n",
      "285[1] (changed): Metric Books of Orthodox Churches of Ovruch County\n",
      "286[1] (changed): Metric Books of Orthodox Churches of Ovruch County\n",
      "287[1] (changed): Metric Books of Orthodox Churches of Ovruch County\n",
      "288[1] (changed): Metric Books of Orthodox Churches of Ovruch County\n",
      "289[1] (changed): Metric Books of Orthodox Churches of Ovruch County\n",
      "290[1] (changed): Metric Books of Orthodox Churches of Ovruch County\n",
      "291[1] (changed): Metric Books of Orthodox Churches of Ovruch County\n",
      "292[1] (changed): Metric Books of Orthodox Churches of Ovruch County\n",
      "293[1] (changed): Metric books of Orthodox churches of Ovruch county. Village A -K\n",
      "294[1] (changed): Metric books of Orthodox churches of Ovruch county. The villages of L -sh\n",
      "295[1] (changed): Metric books of Orthodox churches of Ovruch county. Village A -K\n",
      "296[1] (changed): Metric books of Orthodox churches of Ovruch county. The villages of L -sh\n",
      "297[1] (changed): Metric Books of Orthodox Churches of Ovruch County\n",
      "298[1] (changed): Metric Books of Orthodox Churches of Ovruch County\n",
      "299[1] (changed): Metric Books of Orthodox Churches of Ovruch County\n",
      "300[1] (changed): Metric Books of Orthodox Churches of Ovruch County\n",
      "301[1] (changed): Metric Books of Orthodox Churches of Ovruch County\n",
      "302[1] (changed): Metric Books of Orthodox Churches of Ovruch County\n",
      "303[1] (changed): Metric Books of Orthodox Churches of Ovruch County\n",
      "304[1] (changed): Metric Books of Orthodox Churches of Ovruch County\n",
      "305[1] (changed): Metric books of Orthodox churches of Ovruch county. The villages of L -Sh\n",
      "306[1] (changed): Metric Books of Orthodox Churches of Ovruch County\n",
      "307[1] (changed): Metric Books of Orthodox Churches of Ovruch County\n",
      "308[1] (changed): Metric Books of Orthodox Churches of Ovruch County\n",
      "309[1] (changed): Metric books of Orthodox churches of Zhytomyr county. Zhytomyr, villages with\n",
      "310[1] (changed): Metric Books of Orthodox Churches of Ovruch County\n",
      "311[1] (changed): Metric Books of Orthodox Churches of Ovruch County\n",
      "312[1] (changed): Metric Books of Orthodox Churches of Ovruch County\n",
      "313[1] (changed): Metric Books of Orthodox Churches of Ovruch County\n",
      "314[1] (changed): Metric Books of Orthodox Churches of Ovruch County\n",
      "316[1] (changed): Metric Books of Orthodox Churches of Ovruch County\n",
      "317[1] (changed): Metric Books of Orthodox Churches of Ovruch County\n",
      "318[1] (changed): Metric books of Orthodox churches of Ovruch county. The villages of M -Sh\n",
      "319[1] (changed): Metric Books of Orthodox Churches of Ovruch County\n",
      "320[1] (changed): Metric Books of Orthodox Churches of Ovruch County\n",
      "321[1] (changed): Metric Books of Orthodox Churches of Ovruch County\n",
      "322[1] (changed): Metric Books of Orthodox Churches of Ovruch County\n",
      "323[1] (changed): Metric Book of the Zaruchaysk Assumption Church (Birth)\n",
      "323[3] (changed): 1858–1864\n",
      "324[1] (changed): Metric Books of Orthodox Churches of Ovruch County\n",
      "325[1] (changed): Metric Books of Orthodox Churches of Ovruch County\n",
      "326[1] (changed): Metric Books of Orthodox Churches of Ovruch County\n",
      "327[3] (changed): 1860–1869\n",
      "328[1] (changed): Metric Books of Orthodox Churches of Ovruch County\n",
      "329[1] (changed): Metric Books of Orthodox Churches of Ovruch County\n",
      "330[1] (changed): Metric Books of Orthodox Churches of Ovruch County\n",
      "331[1] (changed): Metric Books of Orthodox Churches of Ovruch County\n",
      "332[1] (changed): Metric Books of Orthodox Churches of Ovruch County\n",
      "333[1] (changed): Metric Books of Orthodox Churches of Ovruch County\n",
      "334[1] (changed): Metric Books of Orthodox Churches of Ovruch County\n",
      "335[1] (changed): Metric Books of Orthodox Churches of Ovruch County\n",
      "336[1] (changed): Metric Books of Orthodox Churches of Ovruch County\n",
      "337[1] (changed): Metric Books of Orthodox Churches of Ovruch County\n",
      "338[1] (changed): Metric Books of Orthodox Churches of Ovruch County\n",
      "339[1] (changed): Metric Books of Orthodox Churches of Ovruch County\n",
      "340[1] (changed): Metric books of Orthodox churches of Ovruch county. The villages of L -T\n",
      "341[1] (changed): Metric Books of Orthodox Churches of Ovruch County\n",
      "342[1] (changed): Metric Books of Orthodox Churches of Ovruch County\n",
      "343[1] (changed): Metric Books of Orthodox Churches of Ovruch County\n",
      "344[1] (changed): Metric books of Orthodox churches of Ovruch county. The villages of BD.\n",
      "345[1] (changed): Metric books of Orthodox churches of Ovruch county. The villages of L-sh\n",
      "345[3] (changed): 1867\n",
      "346[1] (changed): Metric books of Orthodox churches of Ovruch county. The villages of M-Sh\n",
      "347[1] (changed): Metric books of Orthodox churches of Ostroh county\n",
      "347[2] (changed): Ostrog\n",
      "348[0] (added): 348\n",
      "348[1] (added): Metric books of Orthodox churches of Ostroh district. See #Notes.\n",
      "348[2] (added): Ostrog\n",
      "348[3] (added): 1894\n",
      "348[4] (added): \n",
      "348[5] (added): \n",
      "349[0] (added): 349\n",
      "349[1] (added): Metric books of Orthodox churches of Ostroh district. See #Notes.\n",
      "349[2] (added): Ostrog\n",
      "349[3] (added): 1909\n",
      "349[4] (added): \n",
      "349[5] (added): \n",
      "351[1] (changed): Confessional information of the Orthodox churches of Lutsk county. The villages of the r -Y\n",
      "352[1] (changed): Confessional information of the Orthodox Churches of Ovruch County. The villages of b - i\n",
      "354[1] (changed): Confessional information of the village of P -W\n",
      "357[1] (changed): Confessional information of the Orthodox Churches of Ovruch County. The villages of L-o.\n",
      "371[0] (added): 371\n",
      "371[1] (added): Metric books are Orthodox. See #Notes.\n",
      "371[2] (added): Kremenetsky\n",
      "371[3] (added): 1882\n",
      "371[4] (added): \n",
      "371[5] (added): \n",
      "372[0] (added): 372\n",
      "372[1] (added): Metric books are Orthodox. See #Notes.\n",
      "372[2] (added): Kremenetsky\n",
      "372[3] (added): 1884\n",
      "372[4] (added): \n",
      "372[5] (added): \n",
      "373[0] (added): 373\n",
      "373[1] (added): Metric books are Orthodox. See #Notes.\n",
      "373[2] (added): Kremenetsky\n",
      "373[3] (added): 1885\n",
      "373[4] (added): \n",
      "373[5] (added): \n",
      "374[0] (added): 374\n",
      "374[1] (added): Metric books are Orthodox. See #Notes.\n",
      "374[2] (added): Kremenetsky\n",
      "374[3] (added): 1886\n",
      "374[4] (added): \n",
      "374[5] (added): \n",
      "375[0] (added): 375\n",
      "375[1] (added): Metric books are Orthodox. See #Notes.\n",
      "375[2] (added): Kremenetsky\n",
      "375[3] (added): 1887\n",
      "375[4] (added): \n",
      "375[5] (added): \n",
      "376[0] (added): 376\n",
      "376[1] (added): Metric books are Orthodox. See #Notes.\n",
      "376[2] (added): Kremenetsky\n",
      "376[3] (added): 1888\n",
      "376[4] (added): \n",
      "376[5] (added): \n",
      "377[0] (added): 377\n",
      "377[1] (added): Metric books are Orthodox. See #Notes.\n",
      "377[2] (added): Kremenetsky\n",
      "377[3] (added): 1889\n",
      "377[4] (added): \n",
      "377[5] (added): \n",
      "378[0] (added): 378\n",
      "378[1] (added): Metric books are Orthodox. See #Notes.\n",
      "378[2] (added): Kremenetsky\n",
      "378[3] (added): 1890\n",
      "378[4] (added): \n",
      "378[5] (added): \n",
      "379[0] (added): 379\n",
      "379[1] (added): Metric books are Orthodox. See #Notes.\n",
      "379[2] (added): Kremenetsky\n",
      "379[3] (added): 1891\n",
      "379[4] (added): \n",
      "379[5] (added): \n",
      "380[0] (added): 380\n",
      "380[1] (added): Metric books are Orthodox. See #Notes.\n",
      "380[2] (added): Kremenetsky\n",
      "380[3] (added): 1892\n",
      "380[4] (added): \n",
      "380[5] (added): \n",
      "381[0] (added): 381\n",
      "381[1] (added): Metric books are Orthodox. See #Notes.\n",
      "381[2] (added): Kremenetsky\n",
      "381[3] (added): 1893\n",
      "381[4] (added): \n",
      "381[5] (added): \n",
      "382[0] (added): 382\n",
      "382[1] (added): Metric books are Orthodox. See #Notes.\n",
      "382[2] (added): Kremenetsky\n",
      "382[3] (added): 1895\n",
      "382[4] (added): \n",
      "382[5] (added): \n",
      "383[0] (added): 383\n",
      "383[1] (added): Metric books are Orthodox. See #Notes.\n",
      "383[2] (added): Kremenetsky\n",
      "383[3] (added): 1896\n",
      "383[4] (added): \n",
      "383[5] (added): \n",
      "384[0] (added): 384\n",
      "384[1] (added): Metric books are Orthodox. See #Notes.\n",
      "384[2] (added): Kremenetsky\n",
      "384[3] (added): 1897\n",
      "384[4] (added): \n",
      "384[5] (added): \n",
      "385[0] (added): 385\n",
      "385[1] (added): Metric books are Orthodox. See #Notes.\n",
      "385[2] (added): Kremenetsky\n",
      "385[3] (added): 1898\n",
      "385[4] (added): \n",
      "385[5] (added): \n",
      "386[0] (added): 386\n",
      "386[1] (added): Metric books are Orthodox. See #Notes.\n",
      "386[2] (added): Kremenetsky\n",
      "386[3] (added): 1899\n",
      "386[4] (added): \n",
      "386[5] (added): \n",
      "387[0] (added): 387\n",
      "387[1] (added): Metric books are Orthodox. See #Notes.\n",
      "387[2] (added): Kremenetsky\n",
      "387[3] (added): 1902\n",
      "387[4] (added): \n",
      "387[5] (added): \n",
      "388[0] (added): 388\n",
      "388[1] (added): Metric books are Orthodox. See #Notes.\n",
      "388[2] (added): Kremenetsky\n",
      "388[3] (added): 1903\n",
      "388[4] (added): \n",
      "388[5] (added): \n",
      "389[0] (added): 389\n",
      "389[1] (added): Metric books are Orthodox. See #Notes.\n",
      "389[2] (added): Kremenetsky\n",
      "389[3] (added): 1904\n",
      "389[4] (added): \n",
      "389[5] (added): \n",
      "390[0] (added): 390\n",
      "390[1] (added): Metric books are Orthodox. See #Notes.\n",
      "390[2] (added): Kremenetsky\n",
      "390[3] (added): 1907\n",
      "390[4] (added): \n",
      "390[5] (added): \n",
      "391[0] (added): 391\n",
      "391[1] (added): Metric books are Orthodox. See #Notes.\n",
      "391[2] (added): Kremenetsky\n",
      "391[3] (added): 1908\n",
      "391[4] (added): \n",
      "391[5] (added): \n",
      "392[0] (added): 392\n",
      "392[1] (added): Metric books are Orthodox. See #Notes.\n",
      "392[2] (added): Kremenetsky\n",
      "392[3] (added): 1909\n",
      "392[4] (added): \n",
      "392[5] (added): \n",
      "393[0] (added): 393\n",
      "393[1] (added): Metric books are Orthodox. See #Notes.\n",
      "393[2] (added): Kremenetsky\n",
      "393[3] (added): 1910\n",
      "393[4] (added): \n",
      "393[5] (added): \n",
      "394[0] (added): 394\n",
      "394[1] (added): Metric books are Orthodox. See #Notes.\n",
      "394[2] (added): Kremenetsky\n",
      "394[3] (added): 1911\n",
      "394[4] (added): \n",
      "394[5] (added): \n",
      "395[0] (added): 395\n",
      "395[1] (added): Metric books are Orthodox. See #Notes.\n",
      "395[2] (added): Kremenetsky\n",
      "395[3] (added): 1912\n",
      "395[4] (added): \n",
      "395[5] (added): \n",
      "396[0] (added): 396\n",
      "396[1] (added): Metric books are Orthodox. See #Notes.\n",
      "396[2] (added): Kremenetsky\n",
      "396[3] (added): 1914\n",
      "396[4] (added): \n",
      "396[5] (added): \n",
      "406[1] (changed): Confessional information of the Orthodox churches of Vladimir-Volyn district. The village of O-I\n",
      "406[3] (changed): 1911–1912\n",
      "407[1] (changed): Confessional information of the Orthodox churches of Vladimir-Volyn district. The village with\n",
      "407[2] (changed): Vladimir-Volynsky\n",
      "408[1] (changed): Confessional information of the Orthodox churches of Vladimir-Volyn district. The villages A-C.\n",
      "409[1] (changed): Confessional information of the Orthodox churches of Vladimir-Volyn district. The villages of D-K\n",
      "409[3] (changed): 1913\n",
      "410[1] (changed): Confessional information of the Orthodox churches of Vladimir-Volyn district. The villages AD\n",
      "410[3] (changed): 1913\n",
      "411[1] (changed): Confessional information of the Orthodox churches of Vladimir-Volyn district. The villages of L-o\n"
     ]
    }
   ],
   "source": [
    "report_page_changes(opus1_74)"
   ]
  },
  {
   "cell_type": "code",
   "execution_count": 27,
   "id": "ae5353b0",
   "metadata": {},
   "outputs": [
    {
     "name": "stdout",
     "output_type": "stream",
     "text": [
      "opening template file templates/opus.xlsx...\n",
      "sheet title: DAZHO 1-74\n"
     ]
    },
    {
     "data": {
      "text/plain": [
       "<openpyxl.workbook.workbook.Workbook at 0x11e7c4a90>"
      ]
     },
     "execution_count": 27,
     "metadata": {},
     "output_type": "execute_result"
    }
   ],
   "source": [
    "export_page(opus1_74, 'var/o1_74.xlsx')"
   ]
  }
 ],
 "metadata": {
  "kernelspec": {
   "display_name": "Python 3 (ipykernel)",
   "language": "python",
   "name": "python3"
  },
  "language_info": {
   "codemirror_mode": {
    "name": "ipython",
    "version": 3
   },
   "file_extension": ".py",
   "mimetype": "text/x-python",
   "name": "python",
   "nbconvert_exporter": "python",
   "pygments_lexer": "ipython3",
   "version": "3.11.5"
  }
 },
 "nbformat": 4,
 "nbformat_minor": 5
}
