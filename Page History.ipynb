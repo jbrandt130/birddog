{
 "cells": [
  {
   "cell_type": "code",
   "execution_count": 1,
   "id": "2ea99e53",
   "metadata": {},
   "outputs": [],
   "source": [
    "from birddog.core import (\n",
    "    Table, \n",
    "    Archive, \n",
    "    Fond, \n",
    "    Opus,\n",
    "    check_page_changes,\n",
    "    report_page_changes,\n",
    "    get_page_history\n",
    "    )\n",
    "from birddog.excel import export_page"
   ]
  },
  {
   "cell_type": "code",
   "execution_count": 2,
   "id": "2c803a32",
   "metadata": {},
   "outputs": [
    {
     "name": "stdout",
     "output_type": "stream",
     "text": [
      "Retrieved from cache: Архів:ДАЖО/Д[latest]: DAZHO-D/latest.json\n",
      "checking currency: 2025,01,19,12:47 == 2025,01,19,12:47?\n",
      "archive,DAZHO/Д,2025,01,19,12:47\n"
     ]
    }
   ],
   "source": [
    "archive = Archive('DAZHO')\n",
    "print(archive.report)"
   ]
  },
  {
   "cell_type": "code",
   "execution_count": 3,
   "id": "6f878cca",
   "metadata": {},
   "outputs": [
    {
     "name": "stdout",
     "output_type": "stream",
     "text": [
      "Retrieved from cache: Архів:ДАЖО/Д/1[latest]: DAZHO-D/1/latest.json\n",
      "checking currency: 2024,09,12,08:41 == 2024,09,12,08:41?\n",
      "Retrieved from cache: Архів:ДАЖО/Д/1/74[latest]: DAZHO-D/1/74/latest.json\n",
      "checking currency: 2025,03,14,11:40 == 2025,03,14,11:40?\n"
     ]
    }
   ],
   "source": [
    "fond1 = archive.lookup('1')\n",
    "opus1_74 = fond1.lookup('74')"
   ]
  },
  {
   "cell_type": "code",
   "execution_count": 4,
   "id": "8b537d41",
   "metadata": {},
   "outputs": [
    {
     "name": "stdout",
     "output_type": "stream",
     "text": [
      "2025,03,14,11:40 https://uk.wikisource.org/wiki/%D0%90%D1%80%D1%85%D1%96%D0%B2:%D0%94%D0%90%D0%96%D0%9E/1/74\n"
     ]
    }
   ],
   "source": [
    "print(opus1_74.lastmod, opus1_74.url)"
   ]
  },
  {
   "cell_type": "code",
   "execution_count": 5,
   "id": "2eee4e59",
   "metadata": {},
   "outputs": [
    {
     "data": {
      "text/plain": [
       "[{'modified': '2025,03,14,11:40',\n",
       "  'link': 'https://uk.wikisource.org/w/index.php?title=%D0%90%D1%80%D1%85%D1%96%D0%B2:%D0%94%D0%90%D0%96%D0%9E/1/74&oldid=890523'},\n",
       " {'modified': '2025,02,22,17:32',\n",
       "  'link': 'https://uk.wikisource.org/w/index.php?title=%D0%90%D1%80%D1%85%D1%96%D0%B2:%D0%94%D0%90%D0%96%D0%9E/1/74&oldid=883639'},\n",
       " {'modified': '2025,02,22,17:31',\n",
       "  'link': 'https://uk.wikisource.org/w/index.php?title=%D0%90%D1%80%D1%85%D1%96%D0%B2:%D0%94%D0%90%D0%96%D0%9E/1/74&oldid=883638'},\n",
       " {'modified': '2025,02,22,17:29',\n",
       "  'link': 'https://uk.wikisource.org/w/index.php?title=%D0%90%D1%80%D1%85%D1%96%D0%B2:%D0%94%D0%90%D0%96%D0%9E/1/74&oldid=883637'},\n",
       " {'modified': '2025,02,22,16:50',\n",
       "  'link': 'https://uk.wikisource.org/w/index.php?title=%D0%90%D1%80%D1%85%D1%96%D0%B2:%D0%94%D0%90%D0%96%D0%9E/1/74&oldid=883463'},\n",
       " {'modified': '2025,02,22,16:50',\n",
       "  'link': 'https://uk.wikisource.org/w/index.php?title=%D0%90%D1%80%D1%85%D1%96%D0%B2:%D0%94%D0%90%D0%96%D0%9E/1/74&oldid=883462'},\n",
       " {'modified': '2025,02,03,10:48',\n",
       "  'link': 'https://uk.wikisource.org/w/index.php?title=%D0%90%D1%80%D1%85%D1%96%D0%B2:%D0%94%D0%90%D0%96%D0%9E/1/74&oldid=875788'},\n",
       " {'modified': '2025,02,01,16:30',\n",
       "  'link': 'https://uk.wikisource.org/w/index.php?title=%D0%90%D1%80%D1%85%D1%96%D0%B2:%D0%94%D0%90%D0%96%D0%9E/1/74&oldid=875367'},\n",
       " {'modified': '2025,02,01,10:58',\n",
       "  'link': 'https://uk.wikisource.org/w/index.php?title=%D0%90%D1%80%D1%85%D1%96%D0%B2:%D0%94%D0%90%D0%96%D0%9E/1/74&oldid=875295'},\n",
       " {'modified': '2025,02,01,10:37',\n",
       "  'link': 'https://uk.wikisource.org/w/index.php?title=%D0%90%D1%80%D1%85%D1%96%D0%B2:%D0%94%D0%90%D0%96%D0%9E/1/74&oldid=875288'},\n",
       " {'modified': '2025,01,12,21:50',\n",
       "  'link': 'https://uk.wikisource.org/w/index.php?title=%D0%90%D1%80%D1%85%D1%96%D0%B2:%D0%94%D0%90%D0%96%D0%9E/1/74&oldid=860297'},\n",
       " {'modified': '2025,01,12,21:41',\n",
       "  'link': 'https://uk.wikisource.org/w/index.php?title=%D0%90%D1%80%D1%85%D1%96%D0%B2:%D0%94%D0%90%D0%96%D0%9E/1/74&oldid=860295'},\n",
       " {'modified': '2025,01,12,21:39',\n",
       "  'link': 'https://uk.wikisource.org/w/index.php?title=%D0%90%D1%80%D1%85%D1%96%D0%B2:%D0%94%D0%90%D0%96%D0%9E/1/74&oldid=860294'},\n",
       " {'modified': '2025,01,12,13:16',\n",
       "  'link': 'https://uk.wikisource.org/w/index.php?title=%D0%90%D1%80%D1%85%D1%96%D0%B2:%D0%94%D0%90%D0%96%D0%9E/1/74&oldid=860154'},\n",
       " {'modified': '2025,01,12,13:02',\n",
       "  'link': 'https://uk.wikisource.org/w/index.php?title=%D0%90%D1%80%D1%85%D1%96%D0%B2:%D0%94%D0%90%D0%96%D0%9E/1/74&oldid=860139'},\n",
       " {'modified': '2025,01,12,13:01',\n",
       "  'link': 'https://uk.wikisource.org/w/index.php?title=%D0%90%D1%80%D1%85%D1%96%D0%B2:%D0%94%D0%90%D0%96%D0%9E/1/74&oldid=860138'},\n",
       " {'modified': '2025,01,12,12:58',\n",
       "  'link': 'https://uk.wikisource.org/w/index.php?title=%D0%90%D1%80%D1%85%D1%96%D0%B2:%D0%94%D0%90%D0%96%D0%9E/1/74&oldid=860137'},\n",
       " {'modified': '2025,01,12,12:58',\n",
       "  'link': 'https://uk.wikisource.org/w/index.php?title=%D0%90%D1%80%D1%85%D1%96%D0%B2:%D0%94%D0%90%D0%96%D0%9E/1/74&oldid=860136'},\n",
       " {'modified': '2025,01,12,12:56',\n",
       "  'link': 'https://uk.wikisource.org/w/index.php?title=%D0%90%D1%80%D1%85%D1%96%D0%B2:%D0%94%D0%90%D0%96%D0%9E/1/74&oldid=860134'},\n",
       " {'modified': '2025,01,12,12:44',\n",
       "  'link': 'https://uk.wikisource.org/w/index.php?title=%D0%90%D1%80%D1%85%D1%96%D0%B2:%D0%94%D0%90%D0%96%D0%9E/1/74&oldid=860131'},\n",
       " {'modified': '2025,01,12,12:42',\n",
       "  'link': 'https://uk.wikisource.org/w/index.php?title=%D0%90%D1%80%D1%85%D1%96%D0%B2:%D0%94%D0%90%D0%96%D0%9E/1/74&oldid=860130'},\n",
       " {'modified': '2025,01,05,13:22',\n",
       "  'link': 'https://uk.wikisource.org/w/index.php?title=%D0%90%D1%80%D1%85%D1%96%D0%B2:%D0%94%D0%90%D0%96%D0%9E/1/74&oldid=857862'},\n",
       " {'modified': '2025,01,04,10:13',\n",
       "  'link': 'https://uk.wikisource.org/w/index.php?title=%D0%90%D1%80%D1%85%D1%96%D0%B2:%D0%94%D0%90%D0%96%D0%9E/1/74&oldid=857532'},\n",
       " {'modified': '2025,01,04,09:27',\n",
       "  'link': 'https://uk.wikisource.org/w/index.php?title=%D0%90%D1%80%D1%85%D1%96%D0%B2:%D0%94%D0%90%D0%96%D0%9E/1/74&oldid=857522'},\n",
       " {'modified': '2025,01,04,09:22',\n",
       "  'link': 'https://uk.wikisource.org/w/index.php?title=%D0%90%D1%80%D1%85%D1%96%D0%B2:%D0%94%D0%90%D0%96%D0%9E/1/74&oldid=857520'},\n",
       " {'modified': '2024,12,05,20:31',\n",
       "  'link': 'https://uk.wikisource.org/w/index.php?title=%D0%90%D1%80%D1%85%D1%96%D0%B2:%D0%94%D0%90%D0%96%D0%9E/1/74&oldid=830141'},\n",
       " {'modified': '2024,12,05,20:26',\n",
       "  'link': 'https://uk.wikisource.org/w/index.php?title=%D0%90%D1%80%D1%85%D1%96%D0%B2:%D0%94%D0%90%D0%96%D0%9E/1/74&oldid=830139'},\n",
       " {'modified': '2024,12,04,05:30',\n",
       "  'link': 'https://uk.wikisource.org/w/index.php?title=%D0%90%D1%80%D1%85%D1%96%D0%B2:%D0%94%D0%90%D0%96%D0%9E/1/74&oldid=829287'},\n",
       " {'modified': '2024,11,30,20:26',\n",
       "  'link': 'https://uk.wikisource.org/w/index.php?title=%D0%90%D1%80%D1%85%D1%96%D0%B2:%D0%94%D0%90%D0%96%D0%9E/1/74&oldid=827944'},\n",
       " {'modified': '2024,11,30,19:09',\n",
       "  'link': 'https://uk.wikisource.org/w/index.php?title=%D0%90%D1%80%D1%85%D1%96%D0%B2:%D0%94%D0%90%D0%96%D0%9E/1/74&oldid=827918'},\n",
       " {'modified': '2024,11,30,18:44',\n",
       "  'link': 'https://uk.wikisource.org/w/index.php?title=%D0%90%D1%80%D1%85%D1%96%D0%B2:%D0%94%D0%90%D0%96%D0%9E/1/74&oldid=827909'},\n",
       " {'modified': '2024,11,30,18:11',\n",
       "  'link': 'https://uk.wikisource.org/w/index.php?title=%D0%90%D1%80%D1%85%D1%96%D0%B2:%D0%94%D0%90%D0%96%D0%9E/1/74&oldid=827901'},\n",
       " {'modified': '2024,11,30,17:57',\n",
       "  'link': 'https://uk.wikisource.org/w/index.php?title=%D0%90%D1%80%D1%85%D1%96%D0%B2:%D0%94%D0%90%D0%96%D0%9E/1/74&oldid=827900'},\n",
       " {'modified': '2024,11,30,14:57',\n",
       "  'link': 'https://uk.wikisource.org/w/index.php?title=%D0%90%D1%80%D1%85%D1%96%D0%B2:%D0%94%D0%90%D0%96%D0%9E/1/74&oldid=827786'},\n",
       " {'modified': '2024,11,30,14:23',\n",
       "  'link': 'https://uk.wikisource.org/w/index.php?title=%D0%90%D1%80%D1%85%D1%96%D0%B2:%D0%94%D0%90%D0%96%D0%9E/1/74&oldid=827774'},\n",
       " {'modified': '2024,11,30,14:21',\n",
       "  'link': 'https://uk.wikisource.org/w/index.php?title=%D0%90%D1%80%D1%85%D1%96%D0%B2:%D0%94%D0%90%D0%96%D0%9E/1/74&oldid=827765'},\n",
       " {'modified': '2024,11,30,14:15',\n",
       "  'link': 'https://uk.wikisource.org/w/index.php?title=%D0%90%D1%80%D1%85%D1%96%D0%B2:%D0%94%D0%90%D0%96%D0%9E/1/74&oldid=827761'},\n",
       " {'modified': '2024,11,30,14:12',\n",
       "  'link': 'https://uk.wikisource.org/w/index.php?title=%D0%90%D1%80%D1%85%D1%96%D0%B2:%D0%94%D0%90%D0%96%D0%9E/1/74&oldid=827760'},\n",
       " {'modified': '2024,11,30,14:10',\n",
       "  'link': 'https://uk.wikisource.org/w/index.php?title=%D0%90%D1%80%D1%85%D1%96%D0%B2:%D0%94%D0%90%D0%96%D0%9E/1/74&oldid=827759'},\n",
       " {'modified': '2024,11,30,14:09',\n",
       "  'link': 'https://uk.wikisource.org/w/index.php?title=%D0%90%D1%80%D1%85%D1%96%D0%B2:%D0%94%D0%90%D0%96%D0%9E/1/74&oldid=827758'},\n",
       " {'modified': '2024,11,29,13:40',\n",
       "  'link': 'https://uk.wikisource.org/w/index.php?title=%D0%90%D1%80%D1%85%D1%96%D0%B2:%D0%94%D0%90%D0%96%D0%9E/1/74&oldid=827399'},\n",
       " {'modified': '2024,11,29,13:22',\n",
       "  'link': 'https://uk.wikisource.org/w/index.php?title=%D0%90%D1%80%D1%85%D1%96%D0%B2:%D0%94%D0%90%D0%96%D0%9E/1/74&oldid=827396'},\n",
       " {'modified': '2024,11,29,13:12',\n",
       "  'link': 'https://uk.wikisource.org/w/index.php?title=%D0%90%D1%80%D1%85%D1%96%D0%B2:%D0%94%D0%90%D0%96%D0%9E/1/74&oldid=827395'},\n",
       " {'modified': '2024,11,18,21:13',\n",
       "  'link': 'https://uk.wikisource.org/w/index.php?title=%D0%90%D1%80%D1%85%D1%96%D0%B2:%D0%94%D0%90%D0%96%D0%9E/1/74&oldid=818868'},\n",
       " {'modified': '2024,11,15,14:33',\n",
       "  'link': 'https://uk.wikisource.org/w/index.php?title=%D0%90%D1%80%D1%85%D1%96%D0%B2:%D0%94%D0%90%D0%96%D0%9E/1/74&oldid=814906'},\n",
       " {'modified': '2024,11,15,14:23',\n",
       "  'link': 'https://uk.wikisource.org/w/index.php?title=%D0%90%D1%80%D1%85%D1%96%D0%B2:%D0%94%D0%90%D0%96%D0%9E/1/74&oldid=814905'},\n",
       " {'modified': '2024,11,15,13:27',\n",
       "  'link': 'https://uk.wikisource.org/w/index.php?title=%D0%90%D1%80%D1%85%D1%96%D0%B2:%D0%94%D0%90%D0%96%D0%9E/1/74&oldid=814898'},\n",
       " {'modified': '2024,11,12,22:16',\n",
       "  'link': 'https://uk.wikisource.org/w/index.php?title=%D0%90%D1%80%D1%85%D1%96%D0%B2:%D0%94%D0%90%D0%96%D0%9E/1/74&oldid=812443'},\n",
       " {'modified': '2024,11,08,08:42',\n",
       "  'link': 'https://uk.wikisource.org/w/index.php?title=%D0%90%D1%80%D1%85%D1%96%D0%B2:%D0%94%D0%90%D0%96%D0%9E/1/74&oldid=804729'},\n",
       " {'modified': '2024,11,04,21:33',\n",
       "  'link': 'https://uk.wikisource.org/w/index.php?title=%D0%90%D1%80%D1%85%D1%96%D0%B2:%D0%94%D0%90%D0%96%D0%9E/1/74&oldid=800815'},\n",
       " {'modified': '2024,11,04,21:30',\n",
       "  'link': 'https://uk.wikisource.org/w/index.php?title=%D0%90%D1%80%D1%85%D1%96%D0%B2:%D0%94%D0%90%D0%96%D0%9E/1/74&oldid=800814'},\n",
       " {'modified': '2024,11,04,21:20',\n",
       "  'link': 'https://uk.wikisource.org/w/index.php?title=%D0%90%D1%80%D1%85%D1%96%D0%B2:%D0%94%D0%90%D0%96%D0%9E/1/74&oldid=800812'},\n",
       " {'modified': '2024,11,04,21:10',\n",
       "  'link': 'https://uk.wikisource.org/w/index.php?title=%D0%90%D1%80%D1%85%D1%96%D0%B2:%D0%94%D0%90%D0%96%D0%9E/1/74&oldid=800808'},\n",
       " {'modified': '2024,11,04,20:53',\n",
       "  'link': 'https://uk.wikisource.org/w/index.php?title=%D0%90%D1%80%D1%85%D1%96%D0%B2:%D0%94%D0%90%D0%96%D0%9E/1/74&oldid=800806'},\n",
       " {'modified': '2024,11,04,16:02',\n",
       "  'link': 'https://uk.wikisource.org/w/index.php?title=%D0%90%D1%80%D1%85%D1%96%D0%B2:%D0%94%D0%90%D0%96%D0%9E/1/74&oldid=800346'},\n",
       " {'modified': '2024,10,31,09:00',\n",
       "  'link': 'https://uk.wikisource.org/w/index.php?title=%D0%90%D1%80%D1%85%D1%96%D0%B2:%D0%94%D0%90%D0%96%D0%9E/1/74&oldid=797706'},\n",
       " {'modified': '2024,10,30,20:15',\n",
       "  'link': 'https://uk.wikisource.org/w/index.php?title=%D0%90%D1%80%D1%85%D1%96%D0%B2:%D0%94%D0%90%D0%96%D0%9E/1/74&oldid=797547'},\n",
       " {'modified': '2024,10,29,18:51',\n",
       "  'link': 'https://uk.wikisource.org/w/index.php?title=%D0%90%D1%80%D1%85%D1%96%D0%B2:%D0%94%D0%90%D0%96%D0%9E/1/74&oldid=795695'},\n",
       " {'modified': '2024,10,25,13:24',\n",
       "  'link': 'https://uk.wikisource.org/w/index.php?title=%D0%90%D1%80%D1%85%D1%96%D0%B2:%D0%94%D0%90%D0%96%D0%9E/1/74&oldid=793288'},\n",
       " {'modified': '2024,10,25,13:17',\n",
       "  'link': 'https://uk.wikisource.org/w/index.php?title=%D0%90%D1%80%D1%85%D1%96%D0%B2:%D0%94%D0%90%D0%96%D0%9E/1/74&oldid=793286'},\n",
       " {'modified': '2024,10,25,11:24',\n",
       "  'link': 'https://uk.wikisource.org/w/index.php?title=%D0%90%D1%80%D1%85%D1%96%D0%B2:%D0%94%D0%90%D0%96%D0%9E/1/74&oldid=792751'},\n",
       " {'modified': '2024,10,09,14:46',\n",
       "  'link': 'https://uk.wikisource.org/w/index.php?title=%D0%90%D1%80%D1%85%D1%96%D0%B2:%D0%94%D0%90%D0%96%D0%9E/1/74&oldid=785089'},\n",
       " {'modified': '2024,10,08,15:39',\n",
       "  'link': 'https://uk.wikisource.org/w/index.php?title=%D0%90%D1%80%D1%85%D1%96%D0%B2:%D0%94%D0%90%D0%96%D0%9E/1/74&oldid=784712'},\n",
       " {'modified': '2024,10,07,16:38',\n",
       "  'link': 'https://uk.wikisource.org/w/index.php?title=%D0%90%D1%80%D1%85%D1%96%D0%B2:%D0%94%D0%90%D0%96%D0%9E/1/74&oldid=784300'},\n",
       " {'modified': '2024,10,07,16:36',\n",
       "  'link': 'https://uk.wikisource.org/w/index.php?title=%D0%90%D1%80%D1%85%D1%96%D0%B2:%D0%94%D0%90%D0%96%D0%9E/1/74&oldid=784296'},\n",
       " {'modified': '2024,10,07,07:35',\n",
       "  'link': 'https://uk.wikisource.org/w/index.php?title=%D0%90%D1%80%D1%85%D1%96%D0%B2:%D0%94%D0%90%D0%96%D0%9E/1/74&oldid=783949'},\n",
       " {'modified': '2024,10,07,07:25',\n",
       "  'link': 'https://uk.wikisource.org/w/index.php?title=%D0%90%D1%80%D1%85%D1%96%D0%B2:%D0%94%D0%90%D0%96%D0%9E/1/74&oldid=783947'},\n",
       " {'modified': '2024,10,07,06:51',\n",
       "  'link': 'https://uk.wikisource.org/w/index.php?title=%D0%90%D1%80%D1%85%D1%96%D0%B2:%D0%94%D0%90%D0%96%D0%9E/1/74&oldid=783944'},\n",
       " {'modified': '2024,10,07,06:45',\n",
       "  'link': 'https://uk.wikisource.org/w/index.php?title=%D0%90%D1%80%D1%85%D1%96%D0%B2:%D0%94%D0%90%D0%96%D0%9E/1/74&oldid=783941'},\n",
       " {'modified': '2024,10,07,06:27',\n",
       "  'link': 'https://uk.wikisource.org/w/index.php?title=%D0%90%D1%80%D1%85%D1%96%D0%B2:%D0%94%D0%90%D0%96%D0%9E/1/74&oldid=783938'},\n",
       " {'modified': '2024,10,06,18:23',\n",
       "  'link': 'https://uk.wikisource.org/w/index.php?title=%D0%90%D1%80%D1%85%D1%96%D0%B2:%D0%94%D0%90%D0%96%D0%9E/1/74&oldid=783816'},\n",
       " {'modified': '2024,10,06,18:22',\n",
       "  'link': 'https://uk.wikisource.org/w/index.php?title=%D0%90%D1%80%D1%85%D1%96%D0%B2:%D0%94%D0%90%D0%96%D0%9E/1/74&oldid=783813'},\n",
       " {'modified': '2024,10,06,18:12',\n",
       "  'link': 'https://uk.wikisource.org/w/index.php?title=%D0%90%D1%80%D1%85%D1%96%D0%B2:%D0%94%D0%90%D0%96%D0%9E/1/74&oldid=783812'},\n",
       " {'modified': '2024,10,05,20:26',\n",
       "  'link': 'https://uk.wikisource.org/w/index.php?title=%D0%90%D1%80%D1%85%D1%96%D0%B2:%D0%94%D0%90%D0%96%D0%9E/1/74&oldid=783226'},\n",
       " {'modified': '2024,10,05,19:45',\n",
       "  'link': 'https://uk.wikisource.org/w/index.php?title=%D0%90%D1%80%D1%85%D1%96%D0%B2:%D0%94%D0%90%D0%96%D0%9E/1/74&oldid=783201'},\n",
       " {'modified': '2024,10,04,21:19',\n",
       "  'link': 'https://uk.wikisource.org/w/index.php?title=%D0%90%D1%80%D1%85%D1%96%D0%B2:%D0%94%D0%90%D0%96%D0%9E/1/74&oldid=782248'},\n",
       " {'modified': '2024,10,03,20:41',\n",
       "  'link': 'https://uk.wikisource.org/w/index.php?title=%D0%90%D1%80%D1%85%D1%96%D0%B2:%D0%94%D0%90%D0%96%D0%9E/1/74&oldid=781991'},\n",
       " {'modified': '2024,10,03,19:37',\n",
       "  'link': 'https://uk.wikisource.org/w/index.php?title=%D0%90%D1%80%D1%85%D1%96%D0%B2:%D0%94%D0%90%D0%96%D0%9E/1/74&oldid=781966'},\n",
       " {'modified': '2024,10,03,18:49',\n",
       "  'link': 'https://uk.wikisource.org/w/index.php?title=%D0%90%D1%80%D1%85%D1%96%D0%B2:%D0%94%D0%90%D0%96%D0%9E/1/74&oldid=781962'},\n",
       " {'modified': '2024,10,03,17:54',\n",
       "  'link': 'https://uk.wikisource.org/w/index.php?title=%D0%90%D1%80%D1%85%D1%96%D0%B2:%D0%94%D0%90%D0%96%D0%9E/1/74&oldid=781942'},\n",
       " {'modified': '2024,10,03,17:09',\n",
       "  'link': 'https://uk.wikisource.org/w/index.php?title=%D0%90%D1%80%D1%85%D1%96%D0%B2:%D0%94%D0%90%D0%96%D0%9E/1/74&oldid=781914'},\n",
       " {'modified': '2024,10,03,16:45',\n",
       "  'link': 'https://uk.wikisource.org/w/index.php?title=%D0%90%D1%80%D1%85%D1%96%D0%B2:%D0%94%D0%90%D0%96%D0%9E/1/74&oldid=781900'},\n",
       " {'modified': '2024,10,02,13:46',\n",
       "  'link': 'https://uk.wikisource.org/w/index.php?title=%D0%90%D1%80%D1%85%D1%96%D0%B2:%D0%94%D0%90%D0%96%D0%9E/1/74&oldid=781314'},\n",
       " {'modified': '2024,09,28,14:49',\n",
       "  'link': 'https://uk.wikisource.org/w/index.php?title=%D0%90%D1%80%D1%85%D1%96%D0%B2:%D0%94%D0%90%D0%96%D0%9E/1/74&oldid=779733'},\n",
       " {'modified': '2024,09,28,14:13',\n",
       "  'link': 'https://uk.wikisource.org/w/index.php?title=%D0%90%D1%80%D1%85%D1%96%D0%B2:%D0%94%D0%90%D0%96%D0%9E/1/74&oldid=779727'},\n",
       " {'modified': '2024,09,28,14:13',\n",
       "  'link': 'https://uk.wikisource.org/w/index.php?title=%D0%90%D1%80%D1%85%D1%96%D0%B2:%D0%94%D0%90%D0%96%D0%9E/1/74&oldid=779726'},\n",
       " {'modified': '2024,09,28,12:46',\n",
       "  'link': 'https://uk.wikisource.org/w/index.php?title=%D0%90%D1%80%D1%85%D1%96%D0%B2:%D0%94%D0%90%D0%96%D0%9E/1/74&oldid=779719'},\n",
       " {'modified': '2024,09,12,19:11',\n",
       "  'link': 'https://uk.wikisource.org/w/index.php?title=%D0%90%D1%80%D1%85%D1%96%D0%B2:%D0%94%D0%90%D0%96%D0%9E/1/74&oldid=771121'},\n",
       " {'modified': '2024,09,12,18:41',\n",
       "  'link': 'https://uk.wikisource.org/w/index.php?title=%D0%90%D1%80%D1%85%D1%96%D0%B2:%D0%94%D0%90%D0%96%D0%9E/1/74&oldid=771120'},\n",
       " {'modified': '2024,09,12,15:53',\n",
       "  'link': 'https://uk.wikisource.org/w/index.php?title=%D0%90%D1%80%D1%85%D1%96%D0%B2:%D0%94%D0%90%D0%96%D0%9E/1/74&oldid=771093'},\n",
       " {'modified': '2024,09,12,12:26',\n",
       "  'link': 'https://uk.wikisource.org/w/index.php?title=%D0%90%D1%80%D1%85%D1%96%D0%B2:%D0%94%D0%90%D0%96%D0%9E/1/74&oldid=771025'},\n",
       " {'modified': '2024,09,12,12:25',\n",
       "  'link': 'https://uk.wikisource.org/w/index.php?title=%D0%90%D1%80%D1%85%D1%96%D0%B2:%D0%94%D0%90%D0%96%D0%9E/1/74&oldid=771024'},\n",
       " {'modified': '2024,09,12,08:43',\n",
       "  'link': 'https://uk.wikisource.org/w/index.php?title=%D0%90%D1%80%D1%85%D1%96%D0%B2:%D0%94%D0%90%D0%96%D0%9E/1/74&oldid=771003'},\n",
       " {'modified': '2024,09,12,08:34',\n",
       "  'link': 'https://uk.wikisource.org/w/index.php?title=%D0%90%D1%80%D1%85%D1%96%D0%B2:%D0%94%D0%90%D0%96%D0%9E/1/74&oldid=770995'},\n",
       " {'modified': '2024,09,12,08:33',\n",
       "  'link': 'https://uk.wikisource.org/w/index.php?title=%D0%90%D1%80%D1%85%D1%96%D0%B2:%D0%94%D0%90%D0%96%D0%9E/1/74&oldid=770994'},\n",
       " {'modified': '2024,09,12,08:32',\n",
       "  'link': 'https://uk.wikisource.org/w/index.php?title=%D0%90%D1%80%D1%85%D1%96%D0%B2:%D0%94%D0%90%D0%96%D0%9E/1/74&oldid=770993'},\n",
       " {'modified': '2024,09,12,08:32',\n",
       "  'link': 'https://uk.wikisource.org/w/index.php?title=%D0%90%D1%80%D1%85%D1%96%D0%B2:%D0%94%D0%90%D0%96%D0%9E/1/74&oldid=770992'},\n",
       " {'modified': '2024,09,09,19:30',\n",
       "  'link': 'https://uk.wikisource.org/w/index.php?title=%D0%90%D1%80%D1%85%D1%96%D0%B2:%D0%94%D0%90%D0%96%D0%9E/1/74&oldid=769692'},\n",
       " {'modified': '2024,09,06,09:19',\n",
       "  'link': 'https://uk.wikisource.org/w/index.php?title=%D0%90%D1%80%D1%85%D1%96%D0%B2:%D0%94%D0%90%D0%96%D0%9E/1/74&oldid=767865'},\n",
       " {'modified': '2024,09,06,09:18',\n",
       "  'link': 'https://uk.wikisource.org/w/index.php?title=%D0%90%D1%80%D1%85%D1%96%D0%B2:%D0%94%D0%90%D0%96%D0%9E/1/74&oldid=767864'},\n",
       " {'modified': '2024,08,30,04:38',\n",
       "  'link': 'https://uk.wikisource.org/w/index.php?title=%D0%90%D1%80%D1%85%D1%96%D0%B2:%D0%94%D0%90%D0%96%D0%9E/1/74&oldid=764542'},\n",
       " {'modified': '2024,07,27,22:08',\n",
       "  'link': 'https://uk.wikisource.org/w/index.php?title=%D0%90%D1%80%D1%85%D1%96%D0%B2:%D0%94%D0%90%D0%96%D0%9E/1/74&oldid=750184'},\n",
       " {'modified': '2024,06,21,21:09',\n",
       "  'link': 'https://uk.wikisource.org/w/index.php?title=%D0%90%D1%80%D1%85%D1%96%D0%B2:%D0%94%D0%90%D0%96%D0%9E/1/74&oldid=736316'},\n",
       " {'modified': '2024,06,21,21:00',\n",
       "  'link': 'https://uk.wikisource.org/w/index.php?title=%D0%90%D1%80%D1%85%D1%96%D0%B2:%D0%94%D0%90%D0%96%D0%9E/1/74&oldid=736313'},\n",
       " {'modified': '2024,05,16,07:37',\n",
       "  'link': 'https://uk.wikisource.org/w/index.php?title=%D0%90%D1%80%D1%85%D1%96%D0%B2:%D0%94%D0%90%D0%96%D0%9E/1/74&oldid=726879'},\n",
       " {'modified': '2024,05,09,23:22',\n",
       "  'link': 'https://uk.wikisource.org/w/index.php?title=%D0%90%D1%80%D1%85%D1%96%D0%B2:%D0%94%D0%90%D0%96%D0%9E/1/74&oldid=724608'},\n",
       " {'modified': '2024,04,24,12:44',\n",
       "  'link': 'https://uk.wikisource.org/w/index.php?title=%D0%90%D1%80%D1%85%D1%96%D0%B2:%D0%94%D0%90%D0%96%D0%9E/1/74&oldid=718600'},\n",
       " {'modified': '2024,02,18,09:41',\n",
       "  'link': 'https://uk.wikisource.org/w/index.php?title=%D0%90%D1%80%D1%85%D1%96%D0%B2:%D0%94%D0%90%D0%96%D0%9E/1/74&oldid=679975'},\n",
       " {'modified': '2024,01,16,20:44',\n",
       "  'link': 'https://uk.wikisource.org/w/index.php?title=%D0%90%D1%80%D1%85%D1%96%D0%B2:%D0%94%D0%90%D0%96%D0%9E/1/74&oldid=672203'},\n",
       " {'modified': '2024,01,13,19:47',\n",
       "  'link': 'https://uk.wikisource.org/w/index.php?title=%D0%90%D1%80%D1%85%D1%96%D0%B2:%D0%94%D0%90%D0%96%D0%9E/1/74&oldid=670799'},\n",
       " {'modified': '2024,01,13,19:11',\n",
       "  'link': 'https://uk.wikisource.org/w/index.php?title=%D0%90%D1%80%D1%85%D1%96%D0%B2:%D0%94%D0%90%D0%96%D0%9E/1/74&oldid=670786'},\n",
       " {'modified': '2024,01,13,17:37',\n",
       "  'link': 'https://uk.wikisource.org/w/index.php?title=%D0%90%D1%80%D1%85%D1%96%D0%B2:%D0%94%D0%90%D0%96%D0%9E/1/74&oldid=670777'},\n",
       " {'modified': '2024,01,13,17:23',\n",
       "  'link': 'https://uk.wikisource.org/w/index.php?title=%D0%90%D1%80%D1%85%D1%96%D0%B2:%D0%94%D0%90%D0%96%D0%9E/1/74&oldid=670774'},\n",
       " {'modified': '2024,01,13,16:38',\n",
       "  'link': 'https://uk.wikisource.org/w/index.php?title=%D0%90%D1%80%D1%85%D1%96%D0%B2:%D0%94%D0%90%D0%96%D0%9E/1/74&oldid=670771'},\n",
       " {'modified': '2024,01,12,09:12',\n",
       "  'link': 'https://uk.wikisource.org/w/index.php?title=%D0%90%D1%80%D1%85%D1%96%D0%B2:%D0%94%D0%90%D0%96%D0%9E/1/74&oldid=670417'},\n",
       " {'modified': '2024,01,12,08:24',\n",
       "  'link': 'https://uk.wikisource.org/w/index.php?title=%D0%90%D1%80%D1%85%D1%96%D0%B2:%D0%94%D0%90%D0%96%D0%9E/1/74&oldid=670404'},\n",
       " {'modified': '2023,12,21,14:14',\n",
       "  'link': 'https://uk.wikisource.org/w/index.php?title=%D0%90%D1%80%D1%85%D1%96%D0%B2:%D0%94%D0%90%D0%96%D0%9E/1/74&oldid=660058'}]"
      ]
     },
     "execution_count": 5,
     "metadata": {},
     "output_type": "execute_result"
    }
   ],
   "source": [
    "get_page_history(opus1_74, cutoff_date='2024')"
   ]
  },
  {
   "cell_type": "code",
   "execution_count": 6,
   "id": "ffed2f8e",
   "metadata": {},
   "outputs": [
    {
     "name": "stdout",
     "output_type": "stream",
     "text": [
      "Loading page: Архів:ДАЖО/Д/1/74, modified: 2023,12,21,14:14\n",
      "saving DAZHO-D/1/74/2023,12,21,14:14.json: 193546\n"
     ]
    },
    {
     "data": {
      "text/plain": [
       "<birddog.core.Opus at 0x12eb58b10>"
      ]
     },
     "execution_count": 6,
     "metadata": {},
     "output_type": "execute_result"
    }
   ],
   "source": [
    "opus1_74.revert_to('2024')"
   ]
  },
  {
   "cell_type": "code",
   "execution_count": 7,
   "id": "94bab660",
   "metadata": {},
   "outputs": [
    {
     "name": "stdout",
     "output_type": "stream",
     "text": [
      "2023,12,21,14:14 https://uk.wikisource.org/w/index.php?title=%D0%90%D1%80%D1%85%D1%96%D0%B2:%D0%94%D0%90%D0%96%D0%9E/1/74&oldid=660058\n"
     ]
    }
   ],
   "source": [
    "print(opus1_74.lastmod, opus1_74.url)"
   ]
  },
  {
   "cell_type": "code",
   "execution_count": 8,
   "id": "766fe0d7",
   "metadata": {},
   "outputs": [
    {
     "name": "stdout",
     "output_type": "stream",
     "text": [
      "Retrieved from cache: Архів:ДАЖО/Д/1/74[2025,03,14,11:40]: DAZHO-D/1/74/2025,03,14,11:40.json\n"
     ]
    },
    {
     "data": {
      "text/plain": [
       "<birddog.core.Opus at 0x12eb58b10>"
      ]
     },
     "execution_count": 8,
     "metadata": {},
     "output_type": "execute_result"
    }
   ],
   "source": [
    "opus1_74.latest()"
   ]
  },
  {
   "cell_type": "code",
   "execution_count": 9,
   "id": "7a93803d",
   "metadata": {},
   "outputs": [
    {
     "name": "stdout",
     "output_type": "stream",
     "text": [
      "2025,03,14,11:40 https://uk.wikisource.org/wiki/%D0%90%D1%80%D1%85%D1%96%D0%B2:%D0%94%D0%90%D0%96%D0%9E/1/74\n"
     ]
    }
   ],
   "source": [
    "print(opus1_74.lastmod, opus1_74.url)"
   ]
  },
  {
   "cell_type": "code",
   "execution_count": 10,
   "id": "d17b5a21",
   "metadata": {},
   "outputs": [
    {
     "name": "stdout",
     "output_type": "stream",
     "text": [
      "Loading page: Архів:ДАЖО/Д/1/74, modified: 2020,11,30,18:57\n",
      "saving DAZHO-D/1/74/2020,11,30,18:57.json: 136809\n"
     ]
    },
    {
     "data": {
      "text/plain": [
       "<birddog.core.Opus at 0x12eb58b10>"
      ]
     },
     "execution_count": 10,
     "metadata": {},
     "output_type": "execute_result"
    }
   ],
   "source": [
    "opus1_74.revert_to('2021')"
   ]
  },
  {
   "cell_type": "code",
   "execution_count": 11,
   "id": "fb782101",
   "metadata": {},
   "outputs": [
    {
     "data": {
      "text/plain": [
       "'https://uk.wikisource.org'"
      ]
     },
     "execution_count": 11,
     "metadata": {},
     "output_type": "execute_result"
    }
   ],
   "source": [
    "opus1_74.base"
   ]
  },
  {
   "cell_type": "code",
   "execution_count": 12,
   "id": "5b742d67",
   "metadata": {},
   "outputs": [
    {
     "name": "stdout",
     "output_type": "stream",
     "text": [
      "2020,11,30,18:57 https://uk.wikisource.org/w/index.php?title=%D0%90%D1%80%D1%85%D1%96%D0%B2:%D0%94%D0%90%D0%96%D0%9E/1/74&oldid=250286\n"
     ]
    }
   ],
   "source": [
    "print(opus1_74.lastmod, opus1_74.url)"
   ]
  },
  {
   "cell_type": "code",
   "execution_count": 13,
   "id": "acff4267",
   "metadata": {},
   "outputs": [
    {
     "name": "stdout",
     "output_type": "stream",
     "text": [
      "Loading page: Архів:ДАЖО/Д/1/75 from https://uk.wikisource.org/wiki/%D0%90%D1%80%D1%85%D1%96%D0%B2:%D0%94%D0%90%D0%96%D0%9E/1/75\n",
      "saving DAZHO-D/1/75/2025,02,28,10:14.json: 248346\n",
      "saving DAZHO-D/1/75/latest.json: 248346\n"
     ]
    }
   ],
   "source": [
    "o1_75 = fond1.lookup('75')"
   ]
  },
  {
   "cell_type": "code",
   "execution_count": 14,
   "id": "79c71276",
   "metadata": {},
   "outputs": [
    {
     "name": "stdout",
     "output_type": "stream",
     "text": [
      "Loading page: Архів:ДАЖО/Д/1/75, modified: 2020,07,04,22:03\n",
      "saving DAZHO-D/1/75/2020,07,04,22:03.json: 76675\n"
     ]
    },
    {
     "data": {
      "text/plain": [
       "<birddog.core.Opus at 0x14b10ec90>"
      ]
     },
     "execution_count": 14,
     "metadata": {},
     "output_type": "execute_result"
    }
   ],
   "source": [
    "o1_75.revert_to('2021')"
   ]
  },
  {
   "cell_type": "code",
   "execution_count": 15,
   "id": "ffbcfb3a",
   "metadata": {},
   "outputs": [
    {
     "name": "stdout",
     "output_type": "stream",
     "text": [
      "2020,07,04,22:03 https://uk.wikisource.org/w/index.php?title=%D0%90%D1%80%D1%85%D1%96%D0%B2:%D0%94%D0%90%D0%96%D0%9E/1/75&oldid=213745\n"
     ]
    }
   ],
   "source": [
    "print(o1_75.lastmod, o1_75.url)"
   ]
  },
  {
   "cell_type": "code",
   "execution_count": 16,
   "id": "c2e26e7d",
   "metadata": {},
   "outputs": [
    {
     "name": "stdout",
     "output_type": "stream",
     "text": [
      "Loading page: Архів:ДАЖО/Д/1/75, modified: 2019,11,23,19:39\n",
      "saving DAZHO-D/1/75/2019,11,23,19:39.json: 72552\n"
     ]
    },
    {
     "data": {
      "text/plain": [
       "<birddog.core.Opus at 0x14b10ec90>"
      ]
     },
     "execution_count": 16,
     "metadata": {},
     "output_type": "execute_result"
    }
   ],
   "source": [
    "o1_75.revert_to('2020')"
   ]
  },
  {
   "cell_type": "code",
   "execution_count": 17,
   "id": "d483cf20",
   "metadata": {},
   "outputs": [
    {
     "name": "stdout",
     "output_type": "stream",
     "text": [
      "2019,11,23,19:39 https://uk.wikisource.org/w/index.php?title=%D0%90%D1%80%D1%85%D1%96%D0%B2:%D0%94%D0%90%D0%96%D0%9E/1/75&oldid=141022\n"
     ]
    }
   ],
   "source": [
    "print(o1_75.lastmod, o1_75.url)"
   ]
  },
  {
   "cell_type": "code",
   "execution_count": 18,
   "id": "7b908a6e",
   "metadata": {},
   "outputs": [
    {
     "name": "stdout",
     "output_type": "stream",
     "text": [
      "opening template file resources/templates/opus.xlsx...\n",
      "sheet title: DAZHO 1-75\n"
     ]
    },
    {
     "data": {
      "text/plain": [
       "<openpyxl.workbook.workbook.Workbook at 0x14b5a8290>"
      ]
     },
     "execution_count": 18,
     "metadata": {},
     "output_type": "execute_result"
    }
   ],
   "source": [
    "export_page(o1_75, 'var/01_75_2019.xlsx')"
   ]
  },
  {
   "cell_type": "code",
   "execution_count": 19,
   "id": "1dbd2fa9",
   "metadata": {},
   "outputs": [
    {
     "name": "stdout",
     "output_type": "stream",
     "text": [
      "Retrieved from cache: Архів:ДАЖО/Д/1/75[2025,02,28,10:14]: DAZHO-D/1/75/2025,02,28,10:14.json\n"
     ]
    },
    {
     "data": {
      "text/plain": [
       "<birddog.core.Opus at 0x14b10ec90>"
      ]
     },
     "execution_count": 19,
     "metadata": {},
     "output_type": "execute_result"
    }
   ],
   "source": [
    "o1_75.latest()"
   ]
  },
  {
   "cell_type": "code",
   "execution_count": 20,
   "id": "9ad3fa48",
   "metadata": {},
   "outputs": [
    {
     "name": "stdout",
     "output_type": "stream",
     "text": [
      "opening template file resources/templates/opus.xlsx...\n",
      "sheet title: DAZHO 1-75\n"
     ]
    },
    {
     "data": {
      "text/plain": [
       "<openpyxl.workbook.workbook.Workbook at 0x12ebbbc10>"
      ]
     },
     "execution_count": 20,
     "metadata": {},
     "output_type": "execute_result"
    }
   ],
   "source": [
    "export_page(o1_75, 'var/01_75_2025.xlsx')"
   ]
  },
  {
   "cell_type": "code",
   "execution_count": 21,
   "id": "ea779716",
   "metadata": {},
   "outputs": [
    {
     "data": {
      "text/plain": [
       "'2025,02,28,10:14'"
      ]
     },
     "execution_count": 21,
     "metadata": {},
     "output_type": "execute_result"
    }
   ],
   "source": [
    "o1_75.lastmod"
   ]
  },
  {
   "cell_type": "code",
   "execution_count": 22,
   "id": "ad625f64",
   "metadata": {},
   "outputs": [
    {
     "name": "stdout",
     "output_type": "stream",
     "text": [
      "2020,11,30,18:57 https://uk.wikisource.org/w/index.php?title=%D0%90%D1%80%D1%85%D1%96%D0%B2:%D0%94%D0%90%D0%96%D0%9E/1/74&oldid=250286\n"
     ]
    }
   ],
   "source": [
    "print(opus1_74.lastmod, opus1_74.url)"
   ]
  },
  {
   "cell_type": "code",
   "execution_count": 23,
   "id": "e1ef400e",
   "metadata": {},
   "outputs": [
    {
     "name": "stdout",
     "output_type": "stream",
     "text": [
      "Retrieved from cache: Архів:ДАЖО/Д/1/74[2025,03,14,11:40]: DAZHO-D/1/74/2025,03,14,11:40.json\n",
      "Retrieved from cache: Архів:ДАЖО/Д/1/74[latest]: DAZHO-D/1/74/latest.json\n",
      "checking currency: 2025,03,14,11:40 == 2025,03,14,11:40?\n",
      "Loading page: Архів:ДАЖО/Д/1/74, modified: 2022,10,13,13:15\n",
      "saving DAZHO-D/1/74/2022,10,13,13:15.json: 190083\n",
      "Batch translation: 787 items...\n",
      "    ...completed (197.20 sec.)\n",
      "saving DAZHO-D/1/74/2022,10,13,13:15.json: 212354\n"
     ]
    },
    {
     "data": {
      "text/plain": [
       "True"
      ]
     },
     "execution_count": 23,
     "metadata": {},
     "output_type": "execute_result"
    }
   ],
   "source": [
    "opus1_74.latest()\n",
    "opus1_74_old = fond1.lookup('74').revert_to('2023')\n",
    "opus1_74_old.translate()"
   ]
  },
  {
   "cell_type": "code",
   "execution_count": 24,
   "id": "02423079",
   "metadata": {},
   "outputs": [
    {
     "data": {
      "text/plain": [
       "<bound method Table.history of <birddog.core.Opus object at 0x12eb58b10>>"
      ]
     },
     "execution_count": 24,
     "metadata": {},
     "output_type": "execute_result"
    }
   ],
   "source": [
    "opus1_74.history"
   ]
  },
  {
   "cell_type": "code",
   "execution_count": 25,
   "id": "bfda7eed",
   "metadata": {},
   "outputs": [
    {
     "name": "stdout",
     "output_type": "stream",
     "text": [
      "No changes to report. Run check_page_changes first.\n"
     ]
    }
   ],
   "source": [
    "report_page_changes(opus1_74)"
   ]
  },
  {
   "cell_type": "code",
   "execution_count": 26,
   "id": "bcee9bfa",
   "metadata": {},
   "outputs": [],
   "source": [
    "check_page_changes(opus1_74, opus1_74_old)"
   ]
  },
  {
   "cell_type": "code",
   "execution_count": 27,
   "id": "83963ebb",
   "metadata": {},
   "outputs": [
    {
     "name": "stdout",
     "output_type": "stream",
     "text": [
      "Change report for ДАЖО/1/74, lastmod=2025,03,14,11:40, refmod=2022,10,13,13:15\n",
      "1[1] (changed): Метричні книги Кашогродського уніатського деканату Ковельського і Луцького повітів\n",
      "1[2] (changed): Ковельський, Луцький\n",
      "1[3] (changed): 1798, 1802–1803, 1813\n",
      "2[1] (changed): Сповідні розписи Ратинського уніатського деканату Ковельського повіту\n",
      "3[1] (changed): Метричні книги уніатських церков Ковельського повіту\n",
      "4[1] (changed): Метричні книги Кашогродського уніатського деканату Ковельського і Луцького повітів\n",
      "4[2] (changed): Ковельський, Луцький\n",
      "5[1] (changed): Метричні книги уніатських церков Ковельського та Луцького повітів\n",
      "5[2] (changed): Ковельський, Луцький\n",
      "5[3] (changed): 1821, 1822\n",
      "6[1] (changed): Метрична книга греко-католицької церкви с. Мирин Ковельського повіту\n",
      "6[3] (changed): 1827–1834\n",
      "7[1] (changed): Метрична книга греко-католицьких Михайло-Архангельської церкви с. Секунь та Успенської с. Городище Ковельського повіту\n",
      "7[3] (changed): 1830–1839\n",
      "8[1] (changed): Метричні книги уніатських церков Ковельського повіту\n",
      "9[1] (changed): Метричні книги уніатських церков Ковельського повіту\n",
      "10[1] (changed): Метричні книги уніатських церков Ковельського повіту\n",
      "11[1] (changed): Метричні книги уніатських церков Ковельського повіту\n",
      "13[1] (changed): Метричні книги уніатських церков Ковельського повіту\n",
      "14[1] (changed): Метричні книги уніатських церков Ковельського повіту\n",
      "14[3] (changed): 1835\n",
      "18[1] (changed): Метричні книги уніатських церков Ковельського повіту\n",
      "19[1] (changed): Метричні книги уніатських церков Ковельського повіту\n",
      "23[1] (changed): Метричні книги уніатських церков Ковельського повіту\n",
      "26[1] (changed): Метричні книги уніатських церков Ковельського повіту\n",
      "30[1] (changed): Сповідальні розписи православних церков. Села К–Н\n",
      "31[1] (changed): Сповідальні розписи православних церков. Села О–Я\n",
      "32[1] (changed): Сповідальні розписи православних церков. Села Б–Ж\n",
      "33[1] (changed): Сповідальні розписи православних церков. Села Ж–М\n",
      "33[3] (changed): 1893\n",
      "34[1] (changed): Сповідальні розписи православних церков Ковельського повіту. Села Ж–Л\n",
      "35[1] (changed): Сповідальні розписи православних церков Ковельського повіту. Села М–Р\n",
      "36[1] (changed): Сповідальні розписи православних церков. Села Р–Я\n",
      "37[1] (changed): Метрична книга Св. Дмитровської греко-католицької церкви по м. Судилків\n",
      "37[3] (changed): 1757–1795\n",
      "38[1] (changed): Метрична книга Св. Троїцької греко-католицької церкви по м. Сульжин\n",
      "38[3] (changed): 1764–1819\n",
      "39[1] (changed): Метрична книга грекокатолицької церкви Різдва Пресвятої Богородиці с. Великі Мацевичі\n",
      "39[3] (changed): 1765–1789\n",
      "40[3] (changed): 1791–1805\n",
      "42[1] (changed): Метричні книги православних церков Запславського та Острозького повітів\n",
      "42[2] (changed): Заславський, Острозький\n",
      "43[1] (changed): Метричні книги православних церков Заславського повіту\n",
      "45[1] (changed): Метричні книги православних церков Заславського повіту\n",
      "46[1] (changed): Метричні книги православних церков Заславського повіту\n",
      "47[3] (changed): 1801\n",
      "50[3] (changed): 1804–1837\n",
      "52[1] (changed): Метричні книги православних церков Заславського повіту\n",
      "53[1] (changed): Метричні книги православних церков Заславського повіту\n",
      "60[1] (changed): Метричні книги православних церков Заславського повіту\n",
      "61[1] (changed): Метричні книги православних церков Заславського повіту\n",
      "62[1] (changed): Метричні книги православних церков Заславського повіту\n",
      "64[1] (changed): Метричні книги православних церков Заславського повіту\n",
      "65[1] (changed): Метричні книги православних церков Заславського повіту\n",
      "67[1] (changed): Метричні книги православних церков Заславського повіту\n",
      "70[1] (changed): Метричні книги православних церков Заславського повіту\n",
      "71[1] (changed): Метричні книги православних церков Заславського повіту\n",
      "73[1] (changed): Метричні книги православних церков Заславського повіту\n",
      "74[2] (changed): Старокостянтинівський\n",
      "80[1] (changed): Метричні книги православних церков Заславського повіту\n",
      "82[1] (changed): Метричні книги православних церков Заславського повіту\n",
      "87[1] (changed): Метричні книги православних церков Заславського повіту\n",
      "90а[0] (added): 90а\n",
      "90а[1] (added): Метричні книги православні\n",
      "90а[2] (added): Заславський\n",
      "90а[3] (added): 1839\n",
      "90а[4] (added): \n",
      "90а[5] (added): \n",
      "93[1] (changed): Метричні книги православних церков Заславського повіту\n",
      "94[1] (changed): Метричні книги православних церков Заславського повіту\n",
      "95[1] (changed): Метричні книги православних церков Заславського повіту\n",
      "98[1] (changed): Метричні книги православних церков Заславського повіту\n",
      "99[1] (changed): Метричні книги православних церков Заславського повіту\n",
      "103[1] (changed): Метричні книги православних церков Заславського повіту\n",
      "104а[0] (added): 104а\n",
      "104а[1] (added): Метричні книги православні\n",
      "104а[2] (added): Заславський\n",
      "104а[3] (added): 1846\n",
      "104а[4] (added): \n",
      "104а[5] (added): \n",
      "107[1] (changed): Метричні книги православних церков Заславського повіту\n",
      "114[1] (changed): Метричні книги православних церков Заславського повіту\n",
      "133[2] (changed): Старокостянтинівський\n",
      "136[1] (changed): Метричні книги православних церков Заславського повіту. Села А-З.\n",
      "138[2] (changed): Старокостянтинівський\n",
      "141[1] (changed): Метричні книги православних церков Заславського повіту. Села А-З.\n",
      "145[1] (changed): Метричні книги православних церков Заславського повіту. Села А-Л.\n",
      "167[0] (added): 167\n",
      "167[1] (added): Метричні книги православні. Див. #Примітки.\n",
      "167[2] (added): Заславський\n",
      "167[3] (added): 1904\n",
      "167[4] (added): \n",
      "167[5] (added): \n",
      "168[1] (changed): Сповідні списки православні А–К\n",
      "169[1] (changed): Сповідні розписи православних церков Заславського повіту. Села Р–Я\n",
      "170[1] (changed): Сповідні розписи православних церков Заславського повіту. Села Л–П\n",
      "171[1] (changed): Сповідні розписи православних церков Заславського повіту. Села Р–Я\n",
      "172[1] (changed): Сповідні розписи православних церков Заславського повіту. Села К–П\n",
      "173[1] (changed): Сповідні розписи православних церков Заславського повіту. Села А–К\n",
      "174[1] (changed): Метрична книга унійної Троїцької церкви с. Дерно (народження 1800-1827), (шлюб 1780-1827) (смерть 1774-1827)\n",
      "174[3] (changed): 1774-1827\n",
      "175[1] (changed): Метричні книги унійного Олицького деканату (смерть)\n",
      "176[1] (changed): Метричні книги унійного Олицького деканату (народження)\n",
      "177[1] (changed): Метричні книги унійного Олицького деканату (смерть)\n",
      "177[3] (changed): 1823\n",
      "178[1] (changed): Метричні книги унійного Олицького деканату (шлюб)\n",
      "178[3] (changed): 1823\n",
      "179[1] (changed): Метричні книги унійного Олицького деканату (народження)\n",
      "179[3] (changed): 1823\n",
      "180[1] (changed): Метричні книги унійного Олицького деканату (народження)\n",
      "181[1] (changed): Метричні книги унійного Олицького деканату (смерть)\n",
      "182[1] (changed): Метричні книги унійного Олицького деканату. Дубенський повіт. Народження\n",
      "183[1] (changed): Метричні книги унійного Олицького деканату. Дубенський повіт. Шлюб\n",
      "183а[0] (added): 183а\n",
      "183а[1] (added): Метричні книги (народження)\n",
      "183а[2] (added): Дубенський\n",
      "183а[3] (added): 1832\n",
      "183а[4] (added): \n",
      "183а[5] (added): \n",
      "184[1] (changed): Метричні книги унійного Олицького деканату. Дубенський повіт\n",
      "185[1] (changed): Метричні книги про народження уніатські (не вся справа)\n",
      "186[1] (changed): Сповідні списки православні А–Ж\n",
      "187[1] (changed): Сповідні розписи православних церков Дубенського повіту. Села З–О\n",
      "188[1] (changed): Сповідні списки православні П–Я\n",
      "189[1] (changed): Сповідні відомості православних церков Дубенського повіту. Села П-Я.\n",
      "190[1] (changed): Сповідні списки православних церков Дубенського повіту. Села З–О\n",
      "192[1] (changed): Метрична книга Троїцької церкви с. Милостів Ровенського повіту\n",
      "192[3] (changed): 1805–1838\n",
      "193[1] (changed): Метрична книга греко-уніатських церков Домбровицького благочиння Ровенського повіту. Народження\n",
      "194[1] (changed): Метрична книга греко-уніатських церков Домбровицького благочиння Ровенського повіту. Шлюб\n",
      "194а[0] (added): 194а\n",
      "194а[1] (added): Метричні книги православні (смерть)\n",
      "194а[2] (added): Ровенський\n",
      "194а[3] (added): 1836\n",
      "194а[4] (added): \n",
      "194а[5] (added): \n",
      "195[1] (changed): Метрична книга греко-уніатських церков Домбровицького благочиння Ровенського повіту. Шлюб\n",
      "196[1] (changed): Метрична книга греко-уніатських церков Домбровицького благочиння Ровенського повіту. Народження\n",
      "197[1] (changed): Метрична книга греко-уніатських церков Домбровицького благочиння Ровенського повіту. Смерть\n",
      "198[1] (changed): Метрична книга церкви Св. Параскеви с. Немовичі Ровенського повіту\n",
      "198[3] (changed): 1823–1838\n",
      "199[1] (changed): Метрична книга греко-уніатських церков Домбровицького благочиння Ровенського повіту. Шлюб\n",
      "200[1] (changed): Метрична книга греко-уніатських церков Домбровицького благочиння Ровенського повіту. Смерть\n",
      "201[1] (changed): Метрична книга греко-уніатських церков Домбровицького благочиння Ровенського повіту. Народження\n",
      "202[1] (changed): Метрична книга греко-уніатських церков Домбровицького благочиння Ровенського повіту. Народження\n",
      "203[1] (changed): Метрична книга греко-уніатських церков Домбровицького благочиння Ровенського повіту. Смерть\n",
      "204[1] (changed): Метрична книга греко-уніатських церков Домбровицького благочиння Ровенського повіту. Шлюб\n",
      "204[3] (changed): 1840\n",
      "205[1] (changed): Метрична книга греко-уніатських церков Домбровицького благочиння Ровенського повіту. Народження\n",
      "205[3] (changed): 1841\n",
      "206[1] (changed): Метрична книга греко-уніатських церков Домбровицького благочиння Ровенського повіту. Смерть\n",
      "206[3] (changed): 1841\n",
      "209[3] (changed): 1796–1843\n",
      "211[1] (changed): Сповідні розписи православних церков Ровенського повіту. Села З–О\n",
      "212[1] (changed): Сповідні розписи православних церков Ровенського повіту. Села А–Ж\n",
      "214[1] (changed): Сповідні відомості православних церков Ровенського повіту. Села С–Я\n",
      "215[1] (changed): Сповідні відомості православних церков Ровенського повіту. Села А–Г\n",
      "216[1] (changed): Сповідні розписи православних церков Ровенського повіту. Села Д–К\n",
      "217[1] (changed): Сповідні розписи православних церков Ровенського повіту. Села Л–Р\n",
      "218[3] (changed): 1770–1796\n",
      "219[3] (changed): 1800–1821\n",
      "220[3] (changed): 1790–1827\n",
      "221[3] (changed): 1774–1819\n",
      "222[1] (changed): Метрична книга греко-католицької Св. Миколаївської церкви с. Вільськ Житомирського повіту. Народження.\n",
      "222[3] (changed): 1767–1798\n",
      "223[1] (changed): Метрична книги православні (Кобилин)\n",
      "224[3] (changed): 1783–1815\n",
      "225[1] (changed): Метричні книги православних церков Овруцького повіту\n",
      "228[3] (changed): 1799–1821\n",
      "231[3] (changed): 1805–1818\n",
      "234[3] (changed): 1804–1839\n",
      "235[1] (changed): Метричні книги православних церков Овруцького повіту\n",
      "241[1] (changed): Метричні книги православних церков Овруцького повіту\n",
      "242[1] (changed): Метричні книги православних церков Овруцького повіту\n",
      "243[3] (changed): 1816–1827\n",
      "247[1] (changed): Метричні книги православних церков Овруцького повіту\n",
      "247а[0] (added): 247а\n",
      "247а[1] (added): Метричні книги села Калинівка (Покровська церква)\n",
      "247а[2] (added): Овруцький\n",
      "247а[3] (added): 1821–1832\n",
      "247а[4] (added): \n",
      "247а[5] (added): \n",
      "250[1] (changed): Метрична книга церкви Св. Параскеви с. Кобилівка\n",
      "250[3] (changed): 1822–1836\n",
      "252[1] (changed): Метричні книги православних церков Овруцького повіту\n",
      "255[1] (changed): Метричні книги православних церков Овруцького повіту\n",
      "256[1] (changed): Метричні книги православних церков Овруцького повіту\n",
      "257[1] (changed): Метричні книги православних церков Овруцького повіту\n",
      "258[1] (changed): Метричні книги православних церков Овруцького повіту\n",
      "259[1] (changed): Метричні книги православних церков Овруцького повіту\n",
      "260[1] (changed): Метричні книги православних церков Овруцького повіту\n",
      "262[3] (changed): 1836–1840\n",
      "263[3] (changed): 1837–1841\n",
      "264[3] (changed): 1835–1840\n",
      "265[3] (changed): 1835–1841\n",
      "266[3] (changed): 1835–1842\n",
      "267[3] (changed): 1835–1847\n",
      "268[3] (changed): 1835–1843\n",
      "269[3] (changed): 1836–1841\n",
      "270[3] (changed): 1835–1842\n",
      "271[1] (changed): Метричні книги православних церков Овруцького повіту\n",
      "272[1] (changed): Метричні книги православних церков Овруцького повіту\n",
      "273[3] (changed): 1837–1840\n",
      "274[1] (changed): Метричні книги православних церков Овруцького повіту\n",
      "275[1] (changed): Метричні книги православних церков Овруцького повіту\n",
      "276[1] (changed): Метричні книги православних церков Овруцького повіту\n",
      "277[1] (changed): Метричні книги Овруцької успенської церкви\n",
      "277[3] (changed): 1739-1770\n",
      "278[3] (changed): 1839–1842\n",
      "279[3] (changed): 1840–1841\n",
      "280[3] (changed): 1840–1841\n",
      "281[3] (changed): 1840–1842\n",
      "283[1] (changed): Метричні книги православних церков Овруцького повіту\n",
      "284[1] (changed): Метричні книги православних церков Овруцького повіту\n",
      "284[3] (changed): 1840\n",
      "285[1] (changed): Метричні книги православних церков Овруцького повіту\n",
      "286[1] (changed): Метричні книги православних церков Овруцького повіту\n",
      "287[1] (changed): Метричні книги православних церков Овруцького повіту\n",
      "288[1] (changed): Метричні книги православних церков Овруцького повіту\n",
      "289[1] (changed): Метричні книги православних церков Овруцького повіту\n",
      "290[1] (changed): Метричні книги православних церков Овруцького повіту\n",
      "291[1] (changed): Метричні книги православних церков Овруцького повіту\n",
      "292[1] (changed): Метричні книги православних церков Овруцького повіту\n",
      "293[1] (changed): Метричні книги православних церков Овруцького повіту. Села А–К\n",
      "294[1] (changed): Метричні книги православних церков Овруцького повіту. Села Л–Ш\n",
      "295[1] (changed): Метричні книги православних церков Овруцького повіту. Села А–К\n",
      "296[1] (changed): Метричні книги православних церков Овруцького повіту. Села Л–Ш\n",
      "297[1] (changed): Метричні книги православних церков Овруцького повіту\n",
      "298[1] (changed): Метричні книги православних церков Овруцького повіту\n",
      "299[1] (changed): Метричні книги православних церков Овруцького повіту\n",
      "300[1] (changed): Метричні книги православних церков Овруцького повіту\n",
      "301[1] (changed): Метричні книги православних церков Овруцького повіту\n",
      "302[1] (changed): Метричні книги православних церков Овруцького повіту\n",
      "303[1] (changed): Метричні книги православних церков Овруцького повіту\n",
      "304[1] (changed): Метричні книги православних церков Овруцького повіту\n",
      "305[1] (changed): Метричні книги православних церков Овруцького повіту. Села Л–Щ\n",
      "306[1] (changed): Метричні книги православних церков Овруцького повіту\n",
      "307[1] (changed): Метричні книги православних церков Овруцького повіту\n",
      "308[1] (changed): Метричні книги православних церков Овруцького повіту\n",
      "309[1] (changed): Метричні книги православних церков Житомирського повіту. Житомир, села З-К\n",
      "310[1] (changed): Метричні книги православних церков Овруцького повіту\n",
      "311[1] (changed): Метричні книги православних церков Овруцького повіту\n",
      "312[1] (changed): Метричні книги православних церков Овруцького повіту\n",
      "313[1] (changed): Метричні книги православних церков Овруцького повіту\n",
      "314[1] (changed): Метричні книги православних церков Овруцького повіту\n",
      "316[1] (changed): Метричні книги православних церков Овруцького повіту\n",
      "317[1] (changed): Метричні книги православних церков Овруцького повіту\n",
      "318[1] (changed): Метричні книги православних церков Овруцького повіту. Села М–Ш\n",
      "319[1] (changed): Метричні книги православних церков Овруцького повіту\n",
      "320[1] (changed): Метричні книги православних церков Овруцького повіту\n",
      "321[1] (changed): Метричні книги православних церков Овруцького повіту\n",
      "322[1] (changed): Метричні книги православних церков Овруцького повіту\n",
      "323[1] (changed): Метрична книга Заручайської Успенської церкви (народження)\n",
      "323[3] (changed): 1858–1864\n",
      "324[1] (changed): Метричні книги православних церков Овруцького повіту\n",
      "325[1] (changed): Метричні книги православних церков Овруцького повіту\n",
      "326[1] (changed): Метричні книги православних церков Овруцького повіту\n",
      "327[3] (changed): 1860–1869\n",
      "328[1] (changed): Метричні книги православних церков Овруцького повіту\n",
      "329[1] (changed): Метричні книги православних церков Овруцького повіту\n",
      "330[1] (changed): Метричні книги православних церков Овруцького повіту\n",
      "331[1] (changed): Метричні книги православних церков Овруцького повіту\n",
      "332[1] (changed): Метричні книги православних церков Овруцького повіту\n",
      "333[1] (changed): Метричні книги православних церков Овруцького повіту\n",
      "334[1] (changed): Метричні книги православних церков Овруцького повіту\n",
      "335[1] (changed): Метричні книги православних церков Овруцького повіту\n",
      "336[1] (changed): Метричні книги православних церков Овруцького повіту\n",
      "337[1] (changed): Метричні книги православних церков Овруцького повіту\n",
      "338[1] (changed): Метричні книги православних церков Овруцького повіту\n",
      "339[1] (changed): Метричні книги православних церков Овруцького повіту\n",
      "340[1] (changed): Метричні книги православних церков Овруцького повіту. Села Л–Т\n",
      "341[1] (changed): Метричні книги православних церков Овруцького повіту\n",
      "342[1] (changed): Метричні книги православних церков Овруцького повіту\n",
      "343[1] (changed): Метричні книги православних церков Овруцького повіту\n",
      "344[1] (changed): Метричні книги православних церков Овруцького повіту. Села Б-Д.\n",
      "345[1] (changed): Метричні книги православних церков Овруцького повіту. Села Л-Ш\n",
      "345[3] (changed): 1867\n",
      "346[1] (changed): Метричні книги православних церков Овруцького повіту. Села М-Ш\n",
      "347[1] (changed): Метричні книги православних церков Острозького повіту\n",
      "347[2] (changed): Острозький\n",
      "348[0] (added): 348\n",
      "348[1] (added): Метричні книги православних церков Острозького повіту. Див. #Примітки.\n",
      "348[2] (added): Острозький\n",
      "348[3] (added): 1894\n",
      "348[4] (added): \n",
      "348[5] (added): \n",
      "349[0] (added): 349\n",
      "349[1] (added): Метричні книги православних церков Острозького повіту. Див. #Примітки.\n",
      "349[2] (added): Острозький\n",
      "349[3] (added): 1909\n",
      "349[4] (added): \n",
      "349[5] (added): \n",
      "351[1] (changed): Сповідальні відомості православних церков Луцького повіту. Села Р–Я\n",
      "352[1] (changed): Сповідальні відомості православних церков Овруцького повіту. Села Б–І\n",
      "354[1] (changed): Сповідальні відомості села П–Ш\n",
      "357[1] (changed): Сповідальні відомості православних церков Овруцького повіту. Села Л-О.\n",
      "371[0] (added): 371\n",
      "371[1] (added): Метричні книги православні. Див. #Примітки.\n",
      "371[2] (added): Кременецький\n",
      "371[3] (added): 1882\n",
      "371[4] (added): \n",
      "371[5] (added): \n",
      "372[0] (added): 372\n",
      "372[1] (added): Метричні книги православні. Див. #Примітки.\n",
      "372[2] (added): Кременецький\n",
      "372[3] (added): 1884\n",
      "372[4] (added): \n",
      "372[5] (added): \n",
      "373[0] (added): 373\n",
      "373[1] (added): Метричні книги православні. Див. #Примітки.\n",
      "373[2] (added): Кременецький\n",
      "373[3] (added): 1885\n",
      "373[4] (added): \n",
      "373[5] (added): \n",
      "374[0] (added): 374\n",
      "374[1] (added): Метричні книги православні. Див. #Примітки.\n",
      "374[2] (added): Кременецький\n",
      "374[3] (added): 1886\n",
      "374[4] (added): \n",
      "374[5] (added): \n",
      "375[0] (added): 375\n",
      "375[1] (added): Метричні книги православні. Див. #Примітки.\n",
      "375[2] (added): Кременецький\n",
      "375[3] (added): 1887\n",
      "375[4] (added): \n",
      "375[5] (added): \n",
      "376[0] (added): 376\n",
      "376[1] (added): Метричні книги православні. Див. #Примітки.\n",
      "376[2] (added): Кременецький\n",
      "376[3] (added): 1888\n",
      "376[4] (added): \n",
      "376[5] (added): \n",
      "377[0] (added): 377\n",
      "377[1] (added): Метричні книги православні. Див. #Примітки.\n",
      "377[2] (added): Кременецький\n",
      "377[3] (added): 1889\n",
      "377[4] (added): \n",
      "377[5] (added): \n",
      "378[0] (added): 378\n",
      "378[1] (added): Метричні книги православні. Див. #Примітки.\n",
      "378[2] (added): Кременецький\n",
      "378[3] (added): 1890\n",
      "378[4] (added): \n",
      "378[5] (added): \n",
      "379[0] (added): 379\n",
      "379[1] (added): Метричні книги православні. Див. #Примітки.\n",
      "379[2] (added): Кременецький\n",
      "379[3] (added): 1891\n",
      "379[4] (added): \n",
      "379[5] (added): \n",
      "380[0] (added): 380\n",
      "380[1] (added): Метричні книги православні. Див. #Примітки.\n",
      "380[2] (added): Кременецький\n",
      "380[3] (added): 1892\n",
      "380[4] (added): \n",
      "380[5] (added): \n",
      "381[0] (added): 381\n",
      "381[1] (added): Метричні книги православні. Див. #Примітки.\n",
      "381[2] (added): Кременецький\n",
      "381[3] (added): 1893\n",
      "381[4] (added): \n",
      "381[5] (added): \n",
      "382[0] (added): 382\n",
      "382[1] (added): Метричні книги православні. Див. #Примітки.\n",
      "382[2] (added): Кременецький\n",
      "382[3] (added): 1895\n",
      "382[4] (added): \n",
      "382[5] (added): \n",
      "383[0] (added): 383\n",
      "383[1] (added): Метричні книги православні. Див. #Примітки.\n",
      "383[2] (added): Кременецький\n",
      "383[3] (added): 1896\n",
      "383[4] (added): \n",
      "383[5] (added): \n",
      "384[0] (added): 384\n",
      "384[1] (added): Метричні книги православні. Див. #Примітки.\n",
      "384[2] (added): Кременецький\n",
      "384[3] (added): 1897\n",
      "384[4] (added): \n",
      "384[5] (added): \n",
      "385[0] (added): 385\n",
      "385[1] (added): Метричні книги православні. Див. #Примітки.\n",
      "385[2] (added): Кременецький\n",
      "385[3] (added): 1898\n",
      "385[4] (added): \n",
      "385[5] (added): \n",
      "386[0] (added): 386\n",
      "386[1] (added): Метричні книги православні. Див. #Примітки.\n",
      "386[2] (added): Кременецький\n",
      "386[3] (added): 1899\n",
      "386[4] (added): \n",
      "386[5] (added): \n",
      "387[0] (added): 387\n",
      "387[1] (added): Метричні книги православні. Див. #Примітки.\n",
      "387[2] (added): Кременецький\n",
      "387[3] (added): 1902\n",
      "387[4] (added): \n",
      "387[5] (added): \n",
      "388[0] (added): 388\n",
      "388[1] (added): Метричні книги православні. Див. #Примітки.\n",
      "388[2] (added): Кременецький\n",
      "388[3] (added): 1903\n",
      "388[4] (added): \n",
      "388[5] (added): \n",
      "389[0] (added): 389\n",
      "389[1] (added): Метричні книги православні. Див. #Примітки.\n",
      "389[2] (added): Кременецький\n",
      "389[3] (added): 1904\n",
      "389[4] (added): \n",
      "389[5] (added): \n",
      "390[0] (added): 390\n",
      "390[1] (added): Метричні книги православні. Див. #Примітки.\n",
      "390[2] (added): Кременецький\n",
      "390[3] (added): 1907\n",
      "390[4] (added): \n",
      "390[5] (added): \n",
      "391[0] (added): 391\n",
      "391[1] (added): Метричні книги православні. Див. #Примітки.\n",
      "391[2] (added): Кременецький\n",
      "391[3] (added): 1908\n",
      "391[4] (added): \n",
      "391[5] (added): \n",
      "392[0] (added): 392\n",
      "392[1] (added): Метричні книги православні. Див. #Примітки.\n",
      "392[2] (added): Кременецький\n",
      "392[3] (added): 1909\n",
      "392[4] (added): \n",
      "392[5] (added): \n",
      "393[0] (added): 393\n",
      "393[1] (added): Метричні книги православні. Див. #Примітки.\n",
      "393[2] (added): Кременецький\n",
      "393[3] (added): 1910\n",
      "393[4] (added): \n",
      "393[5] (added): \n",
      "394[0] (added): 394\n",
      "394[1] (added): Метричні книги православні. Див. #Примітки.\n",
      "394[2] (added): Кременецький\n",
      "394[3] (added): 1911\n",
      "394[4] (added): \n",
      "394[5] (added): \n",
      "395[0] (added): 395\n",
      "395[1] (added): Метричні книги православні. Див. #Примітки.\n",
      "395[2] (added): Кременецький\n",
      "395[3] (added): 1912\n",
      "395[4] (added): \n",
      "395[5] (added): \n",
      "396[0] (added): 396\n",
      "396[1] (added): Метричні книги православні. Див. #Примітки.\n",
      "396[2] (added): Кременецький\n",
      "396[3] (added): 1914\n",
      "396[4] (added): \n",
      "396[5] (added): \n",
      "406[1] (changed): Сповідальні відомості православних церков Володимир-Волинського повіту. Села О-Я\n",
      "406[3] (changed): 1911–1912\n",
      "407[1] (changed): Сповідальні відомості православних церков Володимир-Волинського повіту. Села З-О\n",
      "407[2] (changed): Володимир-Волинський\n",
      "408[1] (changed): Сповідальні відомості православних церков Володимир-Волинського повіту. Села А-З.\n",
      "409[1] (changed): Сповідальні відомості православних церков Володимир-Волинського повіту. Села Д-К\n",
      "409[3] (changed): 1913\n",
      "410[1] (changed): Сповідальні відомості православних церков Володимир-Волинського повіту. Села А-Д\n",
      "410[3] (changed): 1913\n",
      "411[1] (changed): Сповідальні відомості православних церков Володимир-Волинського повіту. Села Л-О\n"
     ]
    }
   ],
   "source": [
    "report_page_changes(opus1_74)"
   ]
  },
  {
   "cell_type": "code",
   "execution_count": 28,
   "id": "ae5353b0",
   "metadata": {},
   "outputs": [
    {
     "name": "stdout",
     "output_type": "stream",
     "text": [
      "opening template file resources/templates/opus.xlsx...\n",
      "sheet title: DAZHO 1-74\n"
     ]
    },
    {
     "data": {
      "text/plain": [
       "<openpyxl.workbook.workbook.Workbook at 0x14b3cd350>"
      ]
     },
     "execution_count": 28,
     "metadata": {},
     "output_type": "execute_result"
    }
   ],
   "source": [
    "export_page(opus1_74, 'var/o1_74.xlsx')"
   ]
  },
  {
   "cell_type": "code",
   "execution_count": 29,
   "id": "40dce085",
   "metadata": {},
   "outputs": [
    {
     "data": {
      "text/plain": [
       "[{'title': 'Архів:ДАЖО/115/1/6159а',\n",
       "  'link': '/wiki/%D0%90%D1%80%D1%85%D1%96%D0%B2:%D0%94%D0%90%D0%96%D0%9E/115/1/6159%D0%B0',\n",
       "  'lastmod': '2025,03,16,20:28'},\n",
       " {'title': 'Архів:ДАЖО/115/1/6156',\n",
       "  'link': '/wiki/%D0%90%D1%80%D1%85%D1%96%D0%B2:%D0%94%D0%90%D0%96%D0%9E/115/1/6156',\n",
       "  'lastmod': '2025,03,16,20:27'},\n",
       " {'title': 'Архів:ДАЖО/115/1/6028',\n",
       "  'link': '/wiki/%D0%90%D1%80%D1%85%D1%96%D0%B2:%D0%94%D0%90%D0%96%D0%9E/115/1/6028',\n",
       "  'lastmod': '2025,03,16,20:26'},\n",
       " {'title': 'Архів:ДАЖО/115/1/5932',\n",
       "  'link': '/wiki/%D0%90%D1%80%D1%85%D1%96%D0%B2:%D0%94%D0%90%D0%96%D0%9E/115/1/5932',\n",
       "  'lastmod': '2025,03,16,20:26'},\n",
       " {'title': 'Архів:ДАЖО/115/1',\n",
       "  'link': '/wiki/%D0%90%D1%80%D1%85%D1%96%D0%B2:%D0%94%D0%90%D0%96%D0%9E/115/1',\n",
       "  'lastmod': '2025,03,16,20:23'},\n",
       " {'title': 'Архів:ДАЖО/115/1/5922',\n",
       "  'link': '/wiki/%D0%90%D1%80%D1%85%D1%96%D0%B2:%D0%94%D0%90%D0%96%D0%9E/115/1/5922',\n",
       "  'lastmod': '2025,03,16,20:23'},\n",
       " {'title': 'Архів:ДАЖО/115/1/5845',\n",
       "  'link': '/wiki/%D0%90%D1%80%D1%85%D1%96%D0%B2:%D0%94%D0%90%D0%96%D0%9E/115/1/5845',\n",
       "  'lastmod': '2025,03,16,20:22'},\n",
       " {'title': 'Архів:ДАЖО/115/1/5697',\n",
       "  'link': '/wiki/%D0%90%D1%80%D1%85%D1%96%D0%B2:%D0%94%D0%90%D0%96%D0%9E/115/1/5697',\n",
       "  'lastmod': '2025,03,16,20:21'},\n",
       " {'title': 'Архів:ДАЖО/115/1/5695',\n",
       "  'link': '/wiki/%D0%90%D1%80%D1%85%D1%96%D0%B2:%D0%94%D0%90%D0%96%D0%9E/115/1/5695',\n",
       "  'lastmod': '2025,03,16,20:20'},\n",
       " {'title': 'Архів:ДАЖО/115/1/4916',\n",
       "  'link': '/wiki/%D0%90%D1%80%D1%85%D1%96%D0%B2:%D0%94%D0%90%D0%96%D0%9E/115/1/4916',\n",
       "  'lastmod': '2025,03,16,20:19'},\n",
       " {'title': 'Архів:ДАЖО/115/1/4909',\n",
       "  'link': '/wiki/%D0%90%D1%80%D1%85%D1%96%D0%B2:%D0%94%D0%90%D0%96%D0%9E/115/1/4909',\n",
       "  'lastmod': '2025,03,16,20:17'},\n",
       " {'title': 'Архів:ДАЖО/115/1/4908',\n",
       "  'link': '/wiki/%D0%90%D1%80%D1%85%D1%96%D0%B2:%D0%94%D0%90%D0%96%D0%9E/115/1/4908',\n",
       "  'lastmod': '2025,03,16,20:16'},\n",
       " {'title': 'Архів:ДАЖО/115/1/4906',\n",
       "  'link': '/wiki/%D0%90%D1%80%D1%85%D1%96%D0%B2:%D0%94%D0%90%D0%96%D0%9E/115/1/4906',\n",
       "  'lastmod': '2025,03,16,20:15'},\n",
       " {'title': 'Архів:ДАЖО/115/1/4852',\n",
       "  'link': '/wiki/%D0%90%D1%80%D1%85%D1%96%D0%B2:%D0%94%D0%90%D0%96%D0%9E/115/1/4852',\n",
       "  'lastmod': '2025,03,16,20:14'},\n",
       " {'title': 'Архів:ДАЖО/115/1/4850',\n",
       "  'link': '/wiki/%D0%90%D1%80%D1%85%D1%96%D0%B2:%D0%94%D0%90%D0%96%D0%9E/115/1/4850',\n",
       "  'lastmod': '2025,03,16,20:14'},\n",
       " {'title': 'Архів:ДАЖО/115/1/4418',\n",
       "  'link': '/wiki/%D0%90%D1%80%D1%85%D1%96%D0%B2:%D0%94%D0%90%D0%96%D0%9E/115/1/4418',\n",
       "  'lastmod': '2025,03,16,20:12'},\n",
       " {'title': 'Архів:ДАЖО/115/1/4406',\n",
       "  'link': '/wiki/%D0%90%D1%80%D1%85%D1%96%D0%B2:%D0%94%D0%90%D0%96%D0%9E/115/1/4406',\n",
       "  'lastmod': '2025,03,16,20:11'},\n",
       " {'title': 'Архів:ДАЖО/115/1/4390',\n",
       "  'link': '/wiki/%D0%90%D1%80%D1%85%D1%96%D0%B2:%D0%94%D0%90%D0%96%D0%9E/115/1/4390',\n",
       "  'lastmod': '2025,03,16,20:10'},\n",
       " {'title': 'Архів:ДАЖО/115/1/4216',\n",
       "  'link': '/wiki/%D0%90%D1%80%D1%85%D1%96%D0%B2:%D0%94%D0%90%D0%96%D0%9E/115/1/4216',\n",
       "  'lastmod': '2025,03,16,20:10'},\n",
       " {'title': 'Архів:ДАЖО/115/1/4192',\n",
       "  'link': '/wiki/%D0%90%D1%80%D1%85%D1%96%D0%B2:%D0%94%D0%90%D0%96%D0%9E/115/1/4192',\n",
       "  'lastmod': '2025,03,16,20:09'},\n",
       " {'title': 'Архів:ДАЖО/115/1/3690',\n",
       "  'link': '/wiki/%D0%90%D1%80%D1%85%D1%96%D0%B2:%D0%94%D0%90%D0%96%D0%9E/115/1/3690',\n",
       "  'lastmod': '2025,03,16,11:37'},\n",
       " {'title': 'Архів:ДАЖО/115/1/3671',\n",
       "  'link': '/wiki/%D0%90%D1%80%D1%85%D1%96%D0%B2:%D0%94%D0%90%D0%96%D0%9E/115/1/3671',\n",
       "  'lastmod': '2025,03,16,11:37'},\n",
       " {'title': 'Архів:ДАЖО/115/1/3092',\n",
       "  'link': '/wiki/%D0%90%D1%80%D1%85%D1%96%D0%B2:%D0%94%D0%90%D0%96%D0%9E/115/1/3092',\n",
       "  'lastmod': '2025,03,16,11:35'},\n",
       " {'title': 'Архів:ДАЖО/115/1/3080',\n",
       "  'link': '/wiki/%D0%90%D1%80%D1%85%D1%96%D0%B2:%D0%94%D0%90%D0%96%D0%9E/115/1/3080',\n",
       "  'lastmod': '2025,03,16,11:32'},\n",
       " {'title': 'Архів:ДАЖО/115/1/3020',\n",
       "  'link': '/wiki/%D0%90%D1%80%D1%85%D1%96%D0%B2:%D0%94%D0%90%D0%96%D0%9E/115/1/3020',\n",
       "  'lastmod': '2025,03,16,11:31'},\n",
       " {'title': 'Архів:ДАЖО/115/1/3012',\n",
       "  'link': '/wiki/%D0%90%D1%80%D1%85%D1%96%D0%B2:%D0%94%D0%90%D0%96%D0%9E/115/1/3012',\n",
       "  'lastmod': '2025,03,16,11:31'},\n",
       " {'title': 'Архів:ДАЖО/115/1/2880',\n",
       "  'link': '/wiki/%D0%90%D1%80%D1%85%D1%96%D0%B2:%D0%94%D0%90%D0%96%D0%9E/115/1/2880',\n",
       "  'lastmod': '2025,03,16,10:43'},\n",
       " {'title': 'Архів:ДАЖО/115/1/2907',\n",
       "  'link': '/wiki/%D0%90%D1%80%D1%85%D1%96%D0%B2:%D0%94%D0%90%D0%96%D0%9E/115/1/2907',\n",
       "  'lastmod': '2025,03,16,10:43'},\n",
       " {'title': 'Архів:ДАЖО/115/1/2913',\n",
       "  'link': '/wiki/%D0%90%D1%80%D1%85%D1%96%D0%B2:%D0%94%D0%90%D0%96%D0%9E/115/1/2913',\n",
       "  'lastmod': '2025,03,16,10:42'},\n",
       " {'title': 'Архів:ДАЖО/115/1/2962',\n",
       "  'link': '/wiki/%D0%90%D1%80%D1%85%D1%96%D0%B2:%D0%94%D0%90%D0%96%D0%9E/115/1/2962',\n",
       "  'lastmod': '2025,03,16,10:42'},\n",
       " {'title': 'Архів:ДАЖО/115/1/2991',\n",
       "  'link': '/wiki/%D0%90%D1%80%D1%85%D1%96%D0%B2:%D0%94%D0%90%D0%96%D0%9E/115/1/2991',\n",
       "  'lastmod': '2025,03,16,10:41'},\n",
       " {'title': 'Архів:ДАЖО/115/1/2837',\n",
       "  'link': '/wiki/%D0%90%D1%80%D1%85%D1%96%D0%B2:%D0%94%D0%90%D0%96%D0%9E/115/1/2837',\n",
       "  'lastmod': '2025,03,15,21:33'},\n",
       " {'title': 'Архів:ДАЖО/115/1/2702',\n",
       "  'link': '/wiki/%D0%90%D1%80%D1%85%D1%96%D0%B2:%D0%94%D0%90%D0%96%D0%9E/115/1/2702',\n",
       "  'lastmod': '2025,03,15,21:32'},\n",
       " {'title': 'Архів:ДАЖО/115/1/2701',\n",
       "  'link': '/wiki/%D0%90%D1%80%D1%85%D1%96%D0%B2:%D0%94%D0%90%D0%96%D0%9E/115/1/2701',\n",
       "  'lastmod': '2025,03,15,21:31'},\n",
       " {'title': 'Архів:ДАЖО/115/1/2700',\n",
       "  'link': '/wiki/%D0%90%D1%80%D1%85%D1%96%D0%B2:%D0%94%D0%90%D0%96%D0%9E/115/1/2700',\n",
       "  'lastmod': '2025,03,15,21:26'},\n",
       " {'title': 'Архів:ДАЖО/115/1/2538',\n",
       "  'link': '/wiki/%D0%90%D1%80%D1%85%D1%96%D0%B2:%D0%94%D0%90%D0%96%D0%9E/115/1/2538',\n",
       "  'lastmod': '2025,03,15,21:25'},\n",
       " {'title': 'Архів:ДАЖО/115/1/2426',\n",
       "  'link': '/wiki/%D0%90%D1%80%D1%85%D1%96%D0%B2:%D0%94%D0%90%D0%96%D0%9E/115/1/2426',\n",
       "  'lastmod': '2025,03,15,21:24'},\n",
       " {'title': 'Архів:ДАЖО/115/1/2367',\n",
       "  'link': '/wiki/%D0%90%D1%80%D1%85%D1%96%D0%B2:%D0%94%D0%90%D0%96%D0%9E/115/1/2367',\n",
       "  'lastmod': '2025,03,15,21:21'},\n",
       " {'title': 'Архів:ДАЖО/115/1/2340',\n",
       "  'link': '/wiki/%D0%90%D1%80%D1%85%D1%96%D0%B2:%D0%94%D0%90%D0%96%D0%9E/115/1/2340',\n",
       "  'lastmod': '2025,03,15,21:03'},\n",
       " {'title': 'Архів:ДАЖО/115/1/2167',\n",
       "  'link': '/wiki/%D0%90%D1%80%D1%85%D1%96%D0%B2:%D0%94%D0%90%D0%96%D0%9E/115/1/2167',\n",
       "  'lastmod': '2025,03,15,21:01'},\n",
       " {'title': 'Архів:ДАЖО/115/1/2162',\n",
       "  'link': '/wiki/%D0%90%D1%80%D1%85%D1%96%D0%B2:%D0%94%D0%90%D0%96%D0%9E/115/1/2162',\n",
       "  'lastmod': '2025,03,15,21:00'},\n",
       " {'title': 'Архів:ДАЖО/115/1/2126',\n",
       "  'link': '/wiki/%D0%90%D1%80%D1%85%D1%96%D0%B2:%D0%94%D0%90%D0%96%D0%9E/115/1/2126',\n",
       "  'lastmod': '2025,03,15,20:56'},\n",
       " {'title': 'Архів:ДАЖО/115/1/2116',\n",
       "  'link': '/wiki/%D0%90%D1%80%D1%85%D1%96%D0%B2:%D0%94%D0%90%D0%96%D0%9E/115/1/2116',\n",
       "  'lastmod': '2025,03,15,20:56'},\n",
       " {'title': 'Архів:ДАЖО/115/1/2108',\n",
       "  'link': '/wiki/%D0%90%D1%80%D1%85%D1%96%D0%B2:%D0%94%D0%90%D0%96%D0%9E/115/1/2108',\n",
       "  'lastmod': '2025,03,15,20:51'},\n",
       " {'title': 'Архів:ДАЖО/115/1/2060',\n",
       "  'link': '/wiki/%D0%90%D1%80%D1%85%D1%96%D0%B2:%D0%94%D0%90%D0%96%D0%9E/115/1/2060',\n",
       "  'lastmod': '2025,03,15,20:51'},\n",
       " {'title': 'Архів:ДАЖО/115/1/2056',\n",
       "  'link': '/wiki/%D0%90%D1%80%D1%85%D1%96%D0%B2:%D0%94%D0%90%D0%96%D0%9E/115/1/2056',\n",
       "  'lastmod': '2025,03,15,20:50'},\n",
       " {'title': 'Архів:ДАЖО/115/1/1905',\n",
       "  'link': '/wiki/%D0%90%D1%80%D1%85%D1%96%D0%B2:%D0%94%D0%90%D0%96%D0%9E/115/1/1905',\n",
       "  'lastmod': '2025,03,15,20:49'},\n",
       " {'title': 'Архів:ДАЖО/115/1/1904',\n",
       "  'link': '/wiki/%D0%90%D1%80%D1%85%D1%96%D0%B2:%D0%94%D0%90%D0%96%D0%9E/115/1/1904',\n",
       "  'lastmod': '2025,03,15,20:48'},\n",
       " {'title': 'Архів:ДАЖО/115/1/1903',\n",
       "  'link': '/wiki/%D0%90%D1%80%D1%85%D1%96%D0%B2:%D0%94%D0%90%D0%96%D0%9E/115/1/1903',\n",
       "  'lastmod': '2025,03,15,20:47'},\n",
       " {'title': 'Архів:ДАЖО/115/1/1902',\n",
       "  'link': '/wiki/%D0%90%D1%80%D1%85%D1%96%D0%B2:%D0%94%D0%90%D0%96%D0%9E/115/1/1902',\n",
       "  'lastmod': '2025,03,15,20:40'},\n",
       " {'title': 'Архів:ДАЖО/115/1/1901',\n",
       "  'link': '/wiki/%D0%90%D1%80%D1%85%D1%96%D0%B2:%D0%94%D0%90%D0%96%D0%9E/115/1/1901',\n",
       "  'lastmod': '2025,03,15,20:38'},\n",
       " {'title': 'Архів:ДАЖО/115/1/1874',\n",
       "  'link': '/wiki/%D0%90%D1%80%D1%85%D1%96%D0%B2:%D0%94%D0%90%D0%96%D0%9E/115/1/1874',\n",
       "  'lastmod': '2025,03,15,20:36'},\n",
       " {'title': 'Архів:ДАЖО/115/1/1869',\n",
       "  'link': '/wiki/%D0%90%D1%80%D1%85%D1%96%D0%B2:%D0%94%D0%90%D0%96%D0%9E/115/1/1869',\n",
       "  'lastmod': '2025,03,15,20:36'},\n",
       " {'title': 'Архів:ДАЖО/115/1/1735',\n",
       "  'link': '/wiki/%D0%90%D1%80%D1%85%D1%96%D0%B2:%D0%94%D0%90%D0%96%D0%9E/115/1/1735',\n",
       "  'lastmod': '2025,03,15,20:35'},\n",
       " {'title': 'Архів:ДАЖО/115/1/1727',\n",
       "  'link': '/wiki/%D0%90%D1%80%D1%85%D1%96%D0%B2:%D0%94%D0%90%D0%96%D0%9E/115/1/1727',\n",
       "  'lastmod': '2025,03,15,20:28'},\n",
       " {'title': 'Архів:ДАЖО/1/78',\n",
       "  'link': '/wiki/%D0%90%D1%80%D1%85%D1%96%D0%B2:%D0%94%D0%90%D0%96%D0%9E/1/78',\n",
       "  'lastmod': '2025,03,15,13:16'},\n",
       " {'title': 'Архів:ДАЖО/1/78/753',\n",
       "  'link': '/wiki/%D0%90%D1%80%D1%85%D1%96%D0%B2:%D0%94%D0%90%D0%96%D0%9E/1/78/753',\n",
       "  'lastmod': '2025,03,15,13:12'},\n",
       " {'title': 'Архів:ДАЖО/1/78/158',\n",
       "  'link': '/wiki/%D0%90%D1%80%D1%85%D1%96%D0%B2:%D0%94%D0%90%D0%96%D0%9E/1/78/158',\n",
       "  'lastmod': '2025,03,15,13:11'},\n",
       " {'title': 'Архів:ДАЖО/1/78/156',\n",
       "  'link': '/wiki/%D0%90%D1%80%D1%85%D1%96%D0%B2:%D0%94%D0%90%D0%96%D0%9E/1/78/156',\n",
       "  'lastmod': '2025,03,15,13:10'},\n",
       " {'title': 'Архів:ДАЖО/1/78/155',\n",
       "  'link': '/wiki/%D0%90%D1%80%D1%85%D1%96%D0%B2:%D0%94%D0%90%D0%96%D0%9E/1/78/155',\n",
       "  'lastmod': '2025,03,15,13:09'},\n",
       " {'title': 'Архів:ДАЖО/1/78/154',\n",
       "  'link': '/wiki/%D0%90%D1%80%D1%85%D1%96%D0%B2:%D0%94%D0%90%D0%96%D0%9E/1/78/154',\n",
       "  'lastmod': '2025,03,15,13:08'},\n",
       " {'title': 'Архів:ДАЖО/1/78/153',\n",
       "  'link': '/wiki/%D0%90%D1%80%D1%85%D1%96%D0%B2:%D0%94%D0%90%D0%96%D0%9E/1/78/153',\n",
       "  'lastmod': '2025,03,15,13:07'},\n",
       " {'title': 'Архів:ДАЖО/60/1/661',\n",
       "  'link': '/wiki/%D0%90%D1%80%D1%85%D1%96%D0%B2:%D0%94%D0%90%D0%96%D0%9E/60/1/661',\n",
       "  'lastmod': '2025,03,15,12:50'},\n",
       " {'title': 'Архів:ДАЖО/60/1',\n",
       "  'link': '/wiki/%D0%90%D1%80%D1%85%D1%96%D0%B2:%D0%94%D0%90%D0%96%D0%9E/60/1',\n",
       "  'lastmod': '2025,03,15,12:15'},\n",
       " {'title': 'Архів:ДАЖО/60/1д',\n",
       "  'link': '/wiki/%D0%90%D1%80%D1%85%D1%96%D0%B2:%D0%94%D0%90%D0%96%D0%9E/60/1%D0%B4',\n",
       "  'lastmod': '2025,03,15,12:12'},\n",
       " {'title': 'Архів:ДАЖО/60',\n",
       "  'link': '/wiki/%D0%90%D1%80%D1%85%D1%96%D0%B2:%D0%94%D0%90%D0%96%D0%9E/60',\n",
       "  'lastmod': '2025,03,15,12:12'},\n",
       " {'title': 'Архів:ДАЖО/1/76/500',\n",
       "  'link': '/wiki/%D0%90%D1%80%D1%85%D1%96%D0%B2:%D0%94%D0%90%D0%96%D0%9E/1/76/500',\n",
       "  'lastmod': '2025,03,15,12:11'},\n",
       " {'title': 'Архів:ДАЖО/1/76/505',\n",
       "  'link': '/wiki/%D0%90%D1%80%D1%85%D1%96%D0%B2:%D0%94%D0%90%D0%96%D0%9E/1/76/505',\n",
       "  'lastmod': '2025,03,15,12:10'},\n",
       " {'title': 'Архів:ДАЖО/1/76',\n",
       "  'link': '/wiki/%D0%90%D1%80%D1%85%D1%96%D0%B2:%D0%94%D0%90%D0%96%D0%9E/1/76',\n",
       "  'lastmod': '2025,03,15,12:00'},\n",
       " {'title': 'Архів:ДАЖО/115/1/1681',\n",
       "  'link': '/wiki/%D0%90%D1%80%D1%85%D1%96%D0%B2:%D0%94%D0%90%D0%96%D0%9E/115/1/1681',\n",
       "  'lastmod': '2025,03,15,09:32'},\n",
       " {'title': 'Архів:ДАЖО/115/1/1644',\n",
       "  'link': '/wiki/%D0%90%D1%80%D1%85%D1%96%D0%B2:%D0%94%D0%90%D0%96%D0%9E/115/1/1644',\n",
       "  'lastmod': '2025,03,15,09:31'},\n",
       " {'title': 'Архів:ДАЖО/115/1/1638',\n",
       "  'link': '/wiki/%D0%90%D1%80%D1%85%D1%96%D0%B2:%D0%94%D0%90%D0%96%D0%9E/115/1/1638',\n",
       "  'lastmod': '2025,03,15,09:30'},\n",
       " {'title': 'Архів:ДАЖО/115/1/1580',\n",
       "  'link': '/wiki/%D0%90%D1%80%D1%85%D1%96%D0%B2:%D0%94%D0%90%D0%96%D0%9E/115/1/1580',\n",
       "  'lastmod': '2025,03,15,09:26'},\n",
       " {'title': 'Архів:ДАЖО/115/1/1560',\n",
       "  'link': '/wiki/%D0%90%D1%80%D1%85%D1%96%D0%B2:%D0%94%D0%90%D0%96%D0%9E/115/1/1560',\n",
       "  'lastmod': '2025,03,15,08:47'},\n",
       " {'title': 'Архів:ДАЖО/115/1/912',\n",
       "  'link': '/wiki/%D0%90%D1%80%D1%85%D1%96%D0%B2:%D0%94%D0%90%D0%96%D0%9E/115/1/912',\n",
       "  'lastmod': '2025,03,15,08:46'},\n",
       " {'title': 'Архів:ДАЖО/115/1/897',\n",
       "  'link': '/wiki/%D0%90%D1%80%D1%85%D1%96%D0%B2:%D0%94%D0%90%D0%96%D0%9E/115/1/897',\n",
       "  'lastmod': '2025,03,15,08:45'},\n",
       " {'title': 'Архів:ДАЖО/115/1/683',\n",
       "  'link': '/wiki/%D0%90%D1%80%D1%85%D1%96%D0%B2:%D0%94%D0%90%D0%96%D0%9E/115/1/683',\n",
       "  'lastmod': '2025,03,15,08:44'},\n",
       " {'title': 'Архів:ДАЖО/115/1/1577',\n",
       "  'link': '/wiki/%D0%90%D1%80%D1%85%D1%96%D0%B2:%D0%94%D0%90%D0%96%D0%9E/115/1/1577',\n",
       "  'lastmod': '2025,03,15,08:42'},\n",
       " {'title': 'Архів:ДАЖО/115/1/522',\n",
       "  'link': '/wiki/%D0%90%D1%80%D1%85%D1%96%D0%B2:%D0%94%D0%90%D0%96%D0%9E/115/1/522',\n",
       "  'lastmod': '2025,03,15,08:42'},\n",
       " {'title': 'Архів:ДАЖО/115/1/1683',\n",
       "  'link': '/wiki/%D0%90%D1%80%D1%85%D1%96%D0%B2:%D0%94%D0%90%D0%96%D0%9E/115/1/1683',\n",
       "  'lastmod': '2025,03,15,08:41'},\n",
       " {'title': 'Архів:ДАЖО/10/1/421',\n",
       "  'link': '/wiki/%D0%90%D1%80%D1%85%D1%96%D0%B2:%D0%94%D0%90%D0%96%D0%9E/10/1/421',\n",
       "  'lastmod': '2025,03,14,21:03'},\n",
       " {'title': 'Архів:ДАЖО/Р-5013/2',\n",
       "  'link': '/wiki/%D0%90%D1%80%D1%85%D1%96%D0%B2:%D0%94%D0%90%D0%96%D0%9E/%D0%A0-5013/2',\n",
       "  'lastmod': '2025,03,14,20:38'},\n",
       " {'title': 'Архів:ДАЖО/Р-5013/2/2139',\n",
       "  'link': '/wiki/%D0%90%D1%80%D1%85%D1%96%D0%B2:%D0%94%D0%90%D0%96%D0%9E/%D0%A0-5013/2/2139',\n",
       "  'lastmod': '2025,03,14,20:36'},\n",
       " {'title': 'Архів:ДАЖО/394/1/27',\n",
       "  'link': '/wiki/%D0%90%D1%80%D1%85%D1%96%D0%B2:%D0%94%D0%90%D0%96%D0%9E/394/1/27',\n",
       "  'lastmod': '2025,03,14,20:10'},\n",
       " {'title': 'Архів:ДАЖО/Р-5013/2/2138',\n",
       "  'link': '/wiki/%D0%90%D1%80%D1%85%D1%96%D0%B2:%D0%94%D0%90%D0%96%D0%9E/%D0%A0-5013/2/2138',\n",
       "  'lastmod': '2025,03,14,20:04'},\n",
       " {'title': 'Архів:ДАЖО/1/78/1093',\n",
       "  'link': '/wiki/%D0%90%D1%80%D1%85%D1%96%D0%B2:%D0%94%D0%90%D0%96%D0%9E/1/78/1093',\n",
       "  'lastmod': '2025,03,14,13:19'},\n",
       " {'title': 'Архів:ДАЖО/1/74',\n",
       "  'link': '/wiki/%D0%90%D1%80%D1%85%D1%96%D0%B2:%D0%94%D0%90%D0%96%D0%9E/1/74',\n",
       "  'lastmod': '2025,03,14,11:40'},\n",
       " {'title': 'Архів:ДАЖО/115/1/17',\n",
       "  'link': '/wiki/%D0%90%D1%80%D1%85%D1%96%D0%B2:%D0%94%D0%90%D0%96%D0%9E/115/1/17',\n",
       "  'lastmod': '2025,03,14,09:39'},\n",
       " {'title': 'Архів:ДАЖО/1/74/234',\n",
       "  'link': '/wiki/%D0%90%D1%80%D1%85%D1%96%D0%B2:%D0%94%D0%90%D0%96%D0%9E/1/74/234',\n",
       "  'lastmod': '2025,03,14,09:34'},\n",
       " {'title': 'Архів:ДАЖО/115/1/2',\n",
       "  'link': '/wiki/%D0%90%D1%80%D1%85%D1%96%D0%B2:%D0%94%D0%90%D0%96%D0%9E/115/1/2',\n",
       "  'lastmod': '2025,03,14,09:29'},\n",
       " {'title': 'Архів:ДАЖО/115/1/142',\n",
       "  'link': '/wiki/%D0%90%D1%80%D1%85%D1%96%D0%B2:%D0%94%D0%90%D0%96%D0%9E/115/1/142',\n",
       "  'lastmod': '2025,03,13,21:28'},\n",
       " {'title': 'Архів:ДАЖО/115/1/165',\n",
       "  'link': '/wiki/%D0%90%D1%80%D1%85%D1%96%D0%B2:%D0%94%D0%90%D0%96%D0%9E/115/1/165',\n",
       "  'lastmod': '2025,03,13,21:28'},\n",
       " {'title': 'Архів:ДАЖО/115/1/231',\n",
       "  'link': '/wiki/%D0%90%D1%80%D1%85%D1%96%D0%B2:%D0%94%D0%90%D0%96%D0%9E/115/1/231',\n",
       "  'lastmod': '2025,03,13,21:27'},\n",
       " {'title': 'Архів:ДАЖО/115/1/248',\n",
       "  'link': '/wiki/%D0%90%D1%80%D1%85%D1%96%D0%B2:%D0%94%D0%90%D0%96%D0%9E/115/1/248',\n",
       "  'lastmod': '2025,03,13,21:27'},\n",
       " {'title': 'Архів:ДАЖО/115/1/290',\n",
       "  'link': '/wiki/%D0%90%D1%80%D1%85%D1%96%D0%B2:%D0%94%D0%90%D0%96%D0%9E/115/1/290',\n",
       "  'lastmod': '2025,03,13,21:22'},\n",
       " {'title': 'Архів:ДАЖО/115/1/411',\n",
       "  'link': '/wiki/%D0%90%D1%80%D1%85%D1%96%D0%B2:%D0%94%D0%90%D0%96%D0%9E/115/1/411',\n",
       "  'lastmod': '2025,03,13,21:22'},\n",
       " {'title': 'Архів:ДАЖО/115/1/334',\n",
       "  'link': '/wiki/%D0%90%D1%80%D1%85%D1%96%D0%B2:%D0%94%D0%90%D0%96%D0%9E/115/1/334',\n",
       "  'lastmod': '2025,03,13,21:20'},\n",
       " {'title': 'Архів:ДАЖО/115/1/302',\n",
       "  'link': '/wiki/%D0%90%D1%80%D1%85%D1%96%D0%B2:%D0%94%D0%90%D0%96%D0%9E/115/1/302',\n",
       "  'lastmod': '2025,03,13,21:20'},\n",
       " {'title': 'Архів:ДАЖО/1/78/152',\n",
       "  'link': '/wiki/%D0%90%D1%80%D1%85%D1%96%D0%B2:%D0%94%D0%90%D0%96%D0%9E/1/78/152',\n",
       "  'lastmod': '2025,03,12,19:43'},\n",
       " {'title': 'Архів:ДАЖО/1/78/151',\n",
       "  'link': '/wiki/%D0%90%D1%80%D1%85%D1%96%D0%B2:%D0%94%D0%90%D0%96%D0%9E/1/78/151',\n",
       "  'lastmod': '2025,03,12,19:42'}]"
      ]
     },
     "execution_count": 29,
     "metadata": {},
     "output_type": "execute_result"
    }
   ],
   "source": [
    "archive.latest_changes()"
   ]
  },
  {
   "cell_type": "code",
   "execution_count": 30,
   "id": "ce568f81",
   "metadata": {},
   "outputs": [
    {
     "name": "stdout",
     "output_type": "stream",
     "text": [
      "Loading page: Архів:ДАЖО/Д, modified: 2018,08,21,11:15\n",
      "saving DAZHO-D/2018,08,21,11:15.json: 583\n"
     ]
    },
    {
     "data": {
      "text/plain": [
       "<birddog.core.Archive at 0x119a9a490>"
      ]
     },
     "execution_count": 30,
     "metadata": {},
     "output_type": "execute_result"
    }
   ],
   "source": [
    "archive.revert_to('2001')"
   ]
  },
  {
   "cell_type": "code",
   "execution_count": 31,
   "id": "c30f9c2f",
   "metadata": {},
   "outputs": [
    {
     "name": "stdout",
     "output_type": "stream",
     "text": [
      "Retrieved from cache: Архів:ДАЖО/Д[2025,01,19,12:47]: DAZHO-D/2025,01,19,12:47.json\n"
     ]
    },
    {
     "data": {
      "text/plain": [
       "<birddog.core.Archive at 0x119a9a490>"
      ]
     },
     "execution_count": 31,
     "metadata": {},
     "output_type": "execute_result"
    }
   ],
   "source": [
    "archive.revert_to('2026')"
   ]
  },
  {
   "cell_type": "code",
   "execution_count": null,
   "id": "0e4d2b07",
   "metadata": {},
   "outputs": [],
   "source": []
  }
 ],
 "metadata": {
  "kernelspec": {
   "display_name": "Python 3 (ipykernel)",
   "language": "python",
   "name": "python3"
  },
  "language_info": {
   "codemirror_mode": {
    "name": "ipython",
    "version": 3
   },
   "file_extension": ".py",
   "mimetype": "text/x-python",
   "name": "python",
   "nbconvert_exporter": "python",
   "pygments_lexer": "ipython3",
   "version": "3.11.5"
  }
 },
 "nbformat": 4,
 "nbformat_minor": 5
}
