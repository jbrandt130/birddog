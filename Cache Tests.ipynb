{
 "cells": [
  {
   "cell_type": "code",
   "execution_count": 1,
   "id": "f46b0b5d",
   "metadata": {},
   "outputs": [],
   "source": [
    "from birddog.cache import (save_cached_object, load_cached_object, remove_cached_object)"
   ]
  },
  {
   "cell_type": "code",
   "execution_count": 2,
   "id": "8049231c",
   "metadata": {},
   "outputs": [],
   "source": [
    "x='hello world'"
   ]
  },
  {
   "cell_type": "code",
   "execution_count": 3,
   "id": "160f3b52",
   "metadata": {},
   "outputs": [],
   "source": [
    "save_cached_object(x, 'x')"
   ]
  },
  {
   "cell_type": "code",
   "execution_count": 4,
   "id": "d65c23eb",
   "metadata": {},
   "outputs": [
    {
     "data": {
      "text/plain": [
       "'hello world'"
      ]
     },
     "execution_count": 4,
     "metadata": {},
     "output_type": "execute_result"
    }
   ],
   "source": [
    "load_cached_object('x')"
   ]
  },
  {
   "cell_type": "code",
   "execution_count": 5,
   "id": "432df307",
   "metadata": {},
   "outputs": [],
   "source": [
    "remove_cached_object('x')"
   ]
  },
  {
   "cell_type": "code",
   "execution_count": 6,
   "id": "0cf8d127",
   "metadata": {},
   "outputs": [
    {
     "ename": "CacheMissError",
     "evalue": "x",
     "output_type": "error",
     "traceback": [
      "\u001b[0;31m---------------------------------------------------------------------------\u001b[0m",
      "\u001b[0;31mCacheMissError\u001b[0m                            Traceback (most recent call last)",
      "Cell \u001b[0;32mIn[6], line 1\u001b[0m\n\u001b[0;32m----> 1\u001b[0m load_cached_object(\u001b[38;5;124m'\u001b[39m\u001b[38;5;124mx\u001b[39m\u001b[38;5;124m'\u001b[39m)\n",
      "File \u001b[0;32m~/code/alexweb/birddog/cache.py:132\u001b[0m, in \u001b[0;36mload_cached_object\u001b[0;34m(object_path)\u001b[0m\n\u001b[1;32m    130\u001b[0m item \u001b[38;5;241m=\u001b[39m _get_item(object_path)\n\u001b[1;32m    131\u001b[0m \u001b[38;5;28;01mif\u001b[39;00m \u001b[38;5;129;01mnot\u001b[39;00m item:\n\u001b[0;32m--> 132\u001b[0m     \u001b[38;5;28;01mraise\u001b[39;00m CacheMissError(object_path)\n\u001b[1;32m    134\u001b[0m \u001b[38;5;28;01mreturn\u001b[39;00m json\u001b[38;5;241m.\u001b[39mloads(item)\n",
      "\u001b[0;31mCacheMissError\u001b[0m: x"
     ]
    }
   ],
   "source": [
    "load_cached_object('x')"
   ]
  },
  {
   "cell_type": "code",
   "execution_count": null,
   "id": "8c5fbf37",
   "metadata": {},
   "outputs": [],
   "source": []
  }
 ],
 "metadata": {
  "kernelspec": {
   "display_name": "Python 3 (ipykernel)",
   "language": "python",
   "name": "python3"
  },
  "language_info": {
   "codemirror_mode": {
    "name": "ipython",
    "version": 3
   },
   "file_extension": ".py",
   "mimetype": "text/x-python",
   "name": "python",
   "nbconvert_exporter": "python",
   "pygments_lexer": "ipython3",
   "version": "3.11.5"
  }
 },
 "nbformat": 4,
 "nbformat_minor": 5
}
