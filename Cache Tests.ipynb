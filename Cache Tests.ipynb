{
 "cells": [
  {
   "cell_type": "code",
   "execution_count": 1,
   "id": "f46b0b5d",
   "metadata": {},
   "outputs": [],
   "source": [
    "from birddog.cache import (\n",
    "    save_cached_object, \n",
    "    load_cached_object, \n",
    "    remove_cached_object, \n",
    "    CacheMissError\n",
    "    )"
   ]
  },
  {
   "cell_type": "code",
   "execution_count": 2,
   "id": "8049231c",
   "metadata": {},
   "outputs": [],
   "source": [
    "x='hello world'"
   ]
  },
  {
   "cell_type": "code",
   "execution_count": 3,
   "id": "cb84ccb6",
   "metadata": {},
   "outputs": [
    {
     "name": "stdout",
     "output_type": "stream",
     "text": [
      "saving x: 13\n"
     ]
    }
   ],
   "source": [
    "save_cached_object(x, 'x')"
   ]
  },
  {
   "cell_type": "code",
   "execution_count": 4,
   "id": "90dd6622",
   "metadata": {},
   "outputs": [
    {
     "data": {
      "text/plain": [
       "'hello world'"
      ]
     },
     "execution_count": 4,
     "metadata": {},
     "output_type": "execute_result"
    }
   ],
   "source": [
    "load_cached_object('x')"
   ]
  },
  {
   "cell_type": "code",
   "execution_count": 5,
   "id": "f1fb696e",
   "metadata": {},
   "outputs": [],
   "source": [
    "remove_cached_object('x')"
   ]
  },
  {
   "cell_type": "code",
   "execution_count": 6,
   "id": "fbb3aee4",
   "metadata": {},
   "outputs": [
    {
     "name": "stdout",
     "output_type": "stream",
     "text": [
      "ok\n"
     ]
    }
   ],
   "source": [
    "try:\n",
    "    load_cached_object('x')\n",
    "except CacheMissError:\n",
    "    print('ok')"
   ]
  },
  {
   "cell_type": "code",
   "execution_count": null,
   "id": "f259cdff",
   "metadata": {},
   "outputs": [],
   "source": []
  }
 ],
 "metadata": {
  "kernelspec": {
   "display_name": "Python 3 (ipykernel)",
   "language": "python",
   "name": "python3"
  },
  "language_info": {
   "codemirror_mode": {
    "name": "ipython",
    "version": 3
   },
   "file_extension": ".py",
   "mimetype": "text/x-python",
   "name": "python",
   "nbconvert_exporter": "python",
   "pygments_lexer": "ipython3",
   "version": "3.11.5"
  }
 },
 "nbformat": 4,
 "nbformat_minor": 5
}
