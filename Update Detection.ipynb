{
 "cells": [
  {
   "cell_type": "code",
   "execution_count": 1,
   "id": "3ad45053",
   "metadata": {},
   "outputs": [],
   "source": [
    "from birddog.core import Archive, check_page_changes, report_page_changes\n",
    "from birddog.excel import export_page"
   ]
  },
  {
   "cell_type": "code",
   "execution_count": 2,
   "id": "28c3e4bc",
   "metadata": {},
   "outputs": [
    {
     "name": "stdout",
     "output_type": "stream",
     "text": [
      "Retrieved from cache: Архів:ДАЖО/Д[latest]: DAZHO-D/latest.json\n",
      "checking currency: 2025,01,19,12:47 == 2025,01,19,12:47?\n",
      "archive,DAZHO/Д,2025,01,19,12:47\n"
     ]
    }
   ],
   "source": [
    "archive = Archive('DAZHO')\n",
    "print(archive.report)"
   ]
  },
  {
   "cell_type": "code",
   "execution_count": 3,
   "id": "6c7fe2fe",
   "metadata": {},
   "outputs": [
    {
     "name": "stdout",
     "output_type": "stream",
     "text": [
      "Архів:ДАЖО/115/1/6159а: 2025,03,16,20:28\n",
      "Архів:ДАЖО/115/1/6156: 2025,03,16,20:27\n",
      "Архів:ДАЖО/115/1/6028: 2025,03,16,20:26\n",
      "Архів:ДАЖО/115/1/5932: 2025,03,16,20:26\n",
      "Архів:ДАЖО/115/1: 2025,03,16,20:23\n",
      "Архів:ДАЖО/115/1/5922: 2025,03,16,20:23\n",
      "Архів:ДАЖО/115/1/5845: 2025,03,16,20:22\n",
      "Архів:ДАЖО/115/1/5697: 2025,03,16,20:21\n",
      "Архів:ДАЖО/115/1/5695: 2025,03,16,20:20\n",
      "Архів:ДАЖО/115/1/4916: 2025,03,16,20:19\n"
     ]
    }
   ],
   "source": [
    "for change in archive.latest_changes(limit=10):\n",
    "    print(f'{change[\"title\"]}: {change[\"lastmod\"]}')"
   ]
  },
  {
   "cell_type": "code",
   "execution_count": 4,
   "id": "3015bfde",
   "metadata": {},
   "outputs": [
    {
     "name": "stdout",
     "output_type": "stream",
     "text": [
      "Retrieved from cache: Архів:ДАЖО/Д/1[latest]: DAZHO-D/1/latest.json\n",
      "checking currency: 2024,09,12,08:41 == 2024,09,12,08:41?\n",
      "Loading page: Архів:ДАЖО/Д/1/76 from https://uk.wikisource.org/wiki/%D0%90%D1%80%D1%85%D1%96%D0%B2:%D0%94%D0%90%D0%96%D0%9E/1/76\n",
      "saving DAZHO-D/1/76/2025,03,15,12:00.json: 154824\n",
      "saving DAZHO-D/1/76/latest.json: 154824\n"
     ]
    }
   ],
   "source": [
    "opus1_76_latest = archive.lookup('1').lookup('76')"
   ]
  },
  {
   "cell_type": "code",
   "execution_count": 5,
   "id": "f7b4cf9e",
   "metadata": {},
   "outputs": [
    {
     "name": "stdout",
     "output_type": "stream",
     "text": [
      "Retrieved from cache: Архів:ДАЖО/Д/1[latest]: DAZHO-D/1/latest.json\n",
      "checking currency: 2024,09,12,08:41 == 2024,09,12,08:41?\n",
      "Retrieved from cache: Архів:ДАЖО/Д/1/76[latest]: DAZHO-D/1/76/latest.json\n",
      "checking currency: 2025,03,15,12:00 == 2025,03,15,12:00?\n",
      "Loading page: Архів:ДАЖО/Д/1/76, modified: 2025,02,21,20:45\n",
      "saving DAZHO-D/1/76/2025,02,21,20:45.json: 154048\n"
     ]
    }
   ],
   "source": [
    "opus1_76_prior = archive.lookup('1').lookup('76').revert_to('2025,02,28')"
   ]
  },
  {
   "cell_type": "code",
   "execution_count": 6,
   "id": "57673bda",
   "metadata": {},
   "outputs": [],
   "source": [
    "check_page_changes(opus1_76_latest, opus1_76_prior)"
   ]
  },
  {
   "cell_type": "code",
   "execution_count": 7,
   "id": "ca25c942",
   "metadata": {},
   "outputs": [
    {
     "name": "stdout",
     "output_type": "stream",
     "text": [
      "Change report for ДАЖО/1/76, lastmod=2025,03,15,12:00, refmod=2025,02,21,20:45\n",
      "500[1] (changed): Метрична книга Св. Богородицької церкви м.Житомир. Шлюб.\n",
      "500[4] (changed): 77\n",
      "500[5] (changed): 117553656\n",
      "505[1] (changed): Метрична книга Св. Михайлівської церкви м.Житомир. Шлюб.\n",
      "505[4] (changed): 29\n",
      "505[5] (changed): 117553652\n",
      "568[1] (changed): Книга шлюбних обшуків Св. Покровської церкви с.Янківці Житомирського повіту\n",
      "568[4] (changed): 106\n",
      "568[5] (changed): 117753251\n"
     ]
    }
   ],
   "source": [
    "report_page_changes(opus1_76_latest)"
   ]
  },
  {
   "cell_type": "code",
   "execution_count": 8,
   "id": "a574b272",
   "metadata": {},
   "outputs": [
    {
     "name": "stdout",
     "output_type": "stream",
     "text": [
      "opening template file resources/templates/opus.xlsx...\n",
      "sheet title: DAZHO 1-76\n"
     ]
    },
    {
     "data": {
      "text/plain": [
       "<openpyxl.workbook.workbook.Workbook at 0x10957f490>"
      ]
     },
     "execution_count": 8,
     "metadata": {},
     "output_type": "execute_result"
    }
   ],
   "source": [
    "export_page(opus1_76_latest, 'var/opus1_76_changes.xlsx')"
   ]
  }
 ],
 "metadata": {
  "kernelspec": {
   "display_name": "Python 3 (ipykernel)",
   "language": "python",
   "name": "python3"
  },
  "language_info": {
   "codemirror_mode": {
    "name": "ipython",
    "version": 3
   },
   "file_extension": ".py",
   "mimetype": "text/x-python",
   "name": "python",
   "nbconvert_exporter": "python",
   "pygments_lexer": "ipython3",
   "version": "3.11.5"
  }
 },
 "nbformat": 4,
 "nbformat_minor": 5
}
