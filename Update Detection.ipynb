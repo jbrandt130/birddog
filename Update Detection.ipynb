{
 "cells": [
  {
   "cell_type": "code",
   "execution_count": 1,
   "id": "3ad45053",
   "metadata": {},
   "outputs": [],
   "source": [
    "from birddog.core import Archive, check_page_changes, report_page_changes\n",
    "from birddog.excel import export_page"
   ]
  },
  {
   "cell_type": "code",
   "execution_count": 2,
   "id": "28c3e4bc",
   "metadata": {},
   "outputs": [
    {
     "name": "stdout",
     "output_type": "stream",
     "text": [
      "Retrieving from cache: Архів:ДАЖО/Д\n",
      "archive,DAZHO/Д,2025,01,19,12:47\n"
     ]
    }
   ],
   "source": [
    "archive = Archive('DAZHO')\n",
    "print(archive.report)"
   ]
  },
  {
   "cell_type": "code",
   "execution_count": 3,
   "id": "6c7fe2fe",
   "metadata": {},
   "outputs": [
    {
     "name": "stdout",
     "output_type": "stream",
     "text": [
      "Архів:ДАЖО/1/76/564: 2025,03,09,19:13\n",
      "Архів:ДАЖО/1/76/565: 2025,03,09,19:13\n",
      "Архів:ДАЖО/1/76/568: 2025,03,09,19:13\n",
      "Архів:ДАЖО/1/76: 2025,03,09,19:10\n",
      "Архів:Єврейське містечко/Київська губернія: 2025,03,07,18:27\n",
      "Архів:Єврейське містечко/Волинська губернія: 2025,03,07,17:31\n",
      "Архів:ДАЖО/1/78: 2025,03,06,19:13\n",
      "Архів:ДАЖО/420/1/45: 2025,03,06,10:26\n",
      "Архів:ДАЖО/420/1: 2025,03,06,09:28\n",
      "Архів:ДАЖО/420: 2025,03,06,09:23\n"
     ]
    }
   ],
   "source": [
    "for change in archive.latest_changes(limit=10):\n",
    "    print(f'{change[\"title\"]}: {change[\"lastmod\"]}')"
   ]
  },
  {
   "cell_type": "code",
   "execution_count": 4,
   "id": "3015bfde",
   "metadata": {},
   "outputs": [
    {
     "name": "stdout",
     "output_type": "stream",
     "text": [
      "Retrieving from cache: Архів:ДАЖО/Д/1\n",
      "Retrieving from cache: Архів:ДАЖО/Д/1/76\n"
     ]
    }
   ],
   "source": [
    "opus1_76_latest = archive.lookup('1').lookup('76')"
   ]
  },
  {
   "cell_type": "code",
   "execution_count": 5,
   "id": "f7b4cf9e",
   "metadata": {},
   "outputs": [
    {
     "name": "stdout",
     "output_type": "stream",
     "text": [
      "Retrieving from cache: Архів:ДАЖО/Д/1\n",
      "Retrieving from cache: Архів:ДАЖО/Д/1/76\n",
      "Retrieving from cache: Архів:ДАЖО/Д/1/76, modified: 2025,02,21,20:45\n"
     ]
    }
   ],
   "source": [
    "opus1_76_prior = archive.lookup('1').lookup('76').revert_to('2025,02,28')"
   ]
  },
  {
   "cell_type": "code",
   "execution_count": 6,
   "id": "57673bda",
   "metadata": {},
   "outputs": [],
   "source": [
    "check_page_changes(opus1_76_latest, opus1_76_prior)"
   ]
  },
  {
   "cell_type": "code",
   "execution_count": 7,
   "id": "ca25c942",
   "metadata": {},
   "outputs": [
    {
     "name": "stdout",
     "output_type": "stream",
     "text": [
      "Change report for ДАЖО/1/76, lastmod=2025,03,09,19:10, refmod=2025,02,21,20:45\n",
      "568[1] (changed): Книга шлюбних обшуків Св. Покровської церкви с.Янківці Житомирського повіту\n",
      "568[4] (changed): 106\n",
      "568[5] (changed): 117753251\n"
     ]
    }
   ],
   "source": [
    "report_page_changes(opus1_76_latest)"
   ]
  },
  {
   "cell_type": "code",
   "execution_count": 8,
   "id": "a574b272",
   "metadata": {},
   "outputs": [
    {
     "name": "stdout",
     "output_type": "stream",
     "text": [
      "opening template file templates/opus.xlsx...\n",
      "sheet title: DAZHO 1-76\n"
     ]
    },
    {
     "data": {
      "text/plain": [
       "<openpyxl.workbook.workbook.Workbook at 0x109707750>"
      ]
     },
     "execution_count": 8,
     "metadata": {},
     "output_type": "execute_result"
    }
   ],
   "source": [
    "export_page(opus1_76_latest, 'var/opus1_76_changes.xlsx')"
   ]
  }
 ],
 "metadata": {
  "kernelspec": {
   "display_name": "Python 3 (ipykernel)",
   "language": "python",
   "name": "python3"
  },
  "language_info": {
   "codemirror_mode": {
    "name": "ipython",
    "version": 3
   },
   "file_extension": ".py",
   "mimetype": "text/x-python",
   "name": "python",
   "nbconvert_exporter": "python",
   "pygments_lexer": "ipython3",
   "version": "3.11.5"
  }
 },
 "nbformat": 4,
 "nbformat_minor": 5
}
