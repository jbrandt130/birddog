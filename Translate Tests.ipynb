{
 "cells": [
  {
   "cell_type": "code",
   "execution_count": 1,
   "id": "1167d904",
   "metadata": {},
   "outputs": [
    {
     "name": "stdout",
     "output_type": "stream",
     "text": [
      "Using local folder ./cache for storage.\n"
     ]
    }
   ],
   "source": [
    "from time import sleep\n",
    "import json\n",
    "from birddog.translate import (\n",
    "    is_english, \n",
    "    translation,\n",
    "    queue_translation,\n",
    "    cancel_translation,\n",
    "    is_translation_running)\n",
    "from birddog.core import Archive"
   ]
  },
  {
   "cell_type": "code",
   "execution_count": 2,
   "id": "78aa529e",
   "metadata": {},
   "outputs": [],
   "source": [
    "text = 'Перейменування: 1941-1945 Рейхскомісаріат України, м. Рівне.'"
   ]
  },
  {
   "cell_type": "code",
   "execution_count": 3,
   "id": "2e23c49a",
   "metadata": {},
   "outputs": [
    {
     "data": {
      "text/plain": [
       "'Rename: 1941-1945 Reich Commissariat of Ukraine, Rivne.'"
      ]
     },
     "execution_count": 3,
     "metadata": {},
     "output_type": "execute_result"
    }
   ],
   "source": [
    "translation(text)"
   ]
  },
  {
   "cell_type": "code",
   "execution_count": 4,
   "id": "9620b071",
   "metadata": {},
   "outputs": [
    {
     "data": {
      "text/plain": [
       "False"
      ]
     },
     "execution_count": 4,
     "metadata": {},
     "output_type": "execute_result"
    }
   ],
   "source": [
    "is_english(text)"
   ]
  },
  {
   "cell_type": "code",
   "execution_count": 5,
   "id": "b15a03f7",
   "metadata": {},
   "outputs": [
    {
     "data": {
      "text/plain": [
       "True"
      ]
     },
     "execution_count": 5,
     "metadata": {},
     "output_type": "execute_result"
    }
   ],
   "source": [
    "is_english(translation(text))"
   ]
  },
  {
   "cell_type": "code",
   "execution_count": 6,
   "id": "ca356235",
   "metadata": {},
   "outputs": [
    {
     "data": {
      "text/plain": [
       "['Rename: 1941-1945 Reich Commissariat of Ukraine, Rivne.',\n",
       " 'Rename: 1941-1945 Reich Commissariat of Ukraine, Rivne.',\n",
       " 'Rename: 1941-1945 Reich Commissariat of Ukraine, Rivne.',\n",
       " 'Rename: 1941-1945 Reich Commissariat of Ukraine, Rivne.']"
      ]
     },
     "execution_count": 6,
     "metadata": {},
     "output_type": "execute_result"
    }
   ],
   "source": [
    "translation([text, text, text, text])"
   ]
  },
  {
   "cell_type": "code",
   "execution_count": 7,
   "id": "a3156651",
   "metadata": {},
   "outputs": [
    {
     "name": "stdout",
     "output_type": "stream",
     "text": [
      "loading 475 items.\n"
     ]
    }
   ],
   "source": [
    "gen_batch = False\n",
    "file_name = 'test/resources/dazho_d_descriptions.json'\n",
    "if gen_batch:\n",
    "    archive = Archive('DAZHO', 'D')\n",
    "    translation_batch = [child[1]['text']['uk'] for child in archive.children]\n",
    "    print('saving', len(translation_batch), 'items.')\n",
    "    with open(file_name, 'w', encoding=\"utf8\") as file:\n",
    "        file.write(json.dumps(translation_batch))\n",
    "else:\n",
    "    with open(file_name, 'r', encoding=\"utf8\") as file:\n",
    "        translation_batch = json.loads(file.read())\n",
    "        print('loading', len(translation_batch), 'items.')"
   ]
  },
  {
   "cell_type": "code",
   "execution_count": 8,
   "id": "603a10ea",
   "metadata": {},
   "outputs": [],
   "source": [
    "def progress_cb(task_id, progress, total):\n",
    "    print(f'progress[{task_id}]: {progress}/{total} {float(progress)/float(total)*100.:.1f}%')"
   ]
  },
  {
   "cell_type": "code",
   "execution_count": 9,
   "id": "57bd2c29",
   "metadata": {},
   "outputs": [],
   "source": [
    "def completion_cb(task_id, results):\n",
    "    print(f'completed[{task_id}]:')\n",
    "    for item in results[:10]:\n",
    "        print('    ', item)"
   ]
  },
  {
   "cell_type": "code",
   "execution_count": 10,
   "id": "ae0257d0",
   "metadata": {},
   "outputs": [
    {
     "name": "stdout",
     "output_type": "stream",
     "text": [
      "Queued e96d500a-750e-468a-9795-8bfdcb1dc26e\n",
      "progress[e96d500a-750e-468a-9795-8bfdcb1dc26e]: 10/80 12.5%\n",
      "progress[e96d500a-750e-468a-9795-8bfdcb1dc26e]: 20/80 25.0%\n",
      "progress[e96d500a-750e-468a-9795-8bfdcb1dc26e]: 30/80 37.5%\n",
      "progress[e96d500a-750e-468a-9795-8bfdcb1dc26e]: 40/80 50.0%\n",
      "progress[e96d500a-750e-468a-9795-8bfdcb1dc26e]: 50/80 62.5%\n",
      "progress[e96d500a-750e-468a-9795-8bfdcb1dc26e]: 60/80 75.0%\n",
      "progress[e96d500a-750e-468a-9795-8bfdcb1dc26e]: 70/80 87.5%\n",
      "progress[e96d500a-750e-468a-9795-8bfdcb1dc26e]: 80/80 100.0%\n",
      "completed[e96d500a-750e-468a-9795-8bfdcb1dc26e]:\n",
      "     Volyn Spiritual Consistory of Zhytomyr, Volyn Province\n",
      "     Zhytomyr County Court of Zhytomyr, Volyn Province\n",
      "     Zhytomyr Horoda Magistrate in Zhytomyr, Volyn Province\n",
      "     Zhytomyr noble care of Zhytomyr, Volyn province\n",
      "     Novograd-Volyn Horoda Magistrate of Nov.-Volynsky, Volyn province\n",
      "     Novograd-Volynsky County Court of Nov.-Volynsky, Volyn Province\n",
      "     Ovruch County Court of Ovruch, Volyn Province\n",
      "     Ovruch city magistrate in Ovruch, Volyn province\n",
      "     Volyn Chief Court of Zhytomyr, Volyn Province\n",
      "     Volyn Chamber of Civil Court of Zhytomyr, Volyn Province\n"
     ]
    }
   ],
   "source": [
    "task_id = queue_translation(translation_batch[:80], progress_cb, completion_cb)\n",
    "print('Queued', task_id)"
   ]
  },
  {
   "cell_type": "code",
   "execution_count": 11,
   "id": "4c81fdc4",
   "metadata": {},
   "outputs": [
    {
     "name": "stdout",
     "output_type": "stream",
     "text": [
      "Queued: ['0516fa80-bd2c-4c3c-9882-00001db1e260', 'efbbf58a-7745-4eeb-a8a9-9f63cf354809', 'da658fbf-2c42-4fd8-b27e-13ba191f800c', 'c4b90795-9a8c-4302-b316-85d485c31e5d']\n",
      "progress[efbbf58a-7745-4eeb-a8a9-9f63cf354809]: 10/50 20.0%progress[0516fa80-bd2c-4c3c-9882-00001db1e260]: 10/100 10.0%\n",
      "\n",
      "progress[da658fbf-2c42-4fd8-b27e-13ba191f800c]: 10/200 5.0%\n",
      "progress[c4b90795-9a8c-4302-b316-85d485c31e5d]: 10/125 8.0%\n",
      "progress[0516fa80-bd2c-4c3c-9882-00001db1e260]: 20/100 20.0%\n",
      "progress[efbbf58a-7745-4eeb-a8a9-9f63cf354809]: 20/50 40.0%\n",
      "progress[da658fbf-2c42-4fd8-b27e-13ba191f800c]: 20/200 10.0%\n",
      "progress[c4b90795-9a8c-4302-b316-85d485c31e5d]: 20/125 16.0%\n",
      "progress[0516fa80-bd2c-4c3c-9882-00001db1e260]: 30/100 30.0%\n",
      "progress[efbbf58a-7745-4eeb-a8a9-9f63cf354809]: 30/50 60.0%\n",
      "progress[da658fbf-2c42-4fd8-b27e-13ba191f800c]: 30/200 15.0%\n"
     ]
    }
   ],
   "source": [
    "tasks = [\n",
    "    queue_translation(translation_batch[batch[0]:batch[1]], progress_cb, completion_cb)\n",
    "    for batch in ((0, 100), (100, 150), (150, 350), (350, 500)) ]\n",
    "print('Queued:', tasks)"
   ]
  },
  {
   "cell_type": "code",
   "execution_count": 12,
   "id": "e859cb36",
   "metadata": {},
   "outputs": [
    {
     "data": {
      "text/plain": [
       "True"
      ]
     },
     "execution_count": 12,
     "metadata": {},
     "output_type": "execute_result"
    },
    {
     "name": "stdout",
     "output_type": "stream",
     "text": [
      "progress[c4b90795-9a8c-4302-b316-85d485c31e5d]: 30/125 24.0%\n",
      "Task c4b90795-9a8c-4302-b316-85d485c31e5d cancelled.\n",
      "progress[efbbf58a-7745-4eeb-a8a9-9f63cf354809]: 40/50 80.0%\n",
      "progress[0516fa80-bd2c-4c3c-9882-00001db1e260]: 40/100 40.0%\n",
      "progress[da658fbf-2c42-4fd8-b27e-13ba191f800c]: 40/200 20.0%\n",
      "progress[0516fa80-bd2c-4c3c-9882-00001db1e260]: 50/100 50.0%\n",
      "progress[efbbf58a-7745-4eeb-a8a9-9f63cf354809]: 50/50 100.0%\n",
      "completed[efbbf58a-7745-4eeb-a8a9-9f63cf354809]:\n",
      "     Volyn Provincial in Zemsky and City Affairs is a Zhytomyr, Volyn province\n",
      "     Baron De de-Duguar Ivan Maximilianovich\n",
      "     Merchants Zhuravlev: Mykola Oleksiyovych, Vladimir, Nadiya Vladimirovna\n",
      "     Congress of Mary Judges of Zhytomyr Judicial and Mirory District of Zhytomyr\n",
      "     The world judge of the 1st section of the Zhytomyr Judicial-Mira District\n",
      "     The Judge of the 2nd District of Zhytomyr Judiciary District\n",
      "     The Judge of the 3rd District of Zhytomyr Judicial District\n",
      "     The Judge of the 4th District District District\n",
      "     Judge of the 5th District of the Judiciary District of Goroshka, Zhytomyr County\n",
      "     Judge of the 6th District of the Zhytomyr Judicial-Mirova District of Chudnov, Zhytomyr County\n",
      "progress[da658fbf-2c42-4fd8-b27e-13ba191f800c]: 50/200 25.0%\n",
      "progress[0516fa80-bd2c-4c3c-9882-00001db1e260]: 60/100 60.0%\n",
      "progress[da658fbf-2c42-4fd8-b27e-13ba191f800c]: 60/200 30.0%\n",
      "progress[0516fa80-bd2c-4c3c-9882-00001db1e260]: 70/100 70.0%\n",
      "progress[da658fbf-2c42-4fd8-b27e-13ba191f800c]: 70/200 35.0%\n"
     ]
    }
   ],
   "source": [
    "#sleep(10)\n",
    "cancel_translation(tasks[3])"
   ]
  },
  {
   "cell_type": "code",
   "execution_count": 13,
   "id": "278e88fd",
   "metadata": {},
   "outputs": [
    {
     "data": {
      "text/plain": [
       "False"
      ]
     },
     "execution_count": 13,
     "metadata": {},
     "output_type": "execute_result"
    },
    {
     "name": "stdout",
     "output_type": "stream",
     "text": [
      "progress[0516fa80-bd2c-4c3c-9882-00001db1e260]: 80/100 80.0%\n",
      "progress[da658fbf-2c42-4fd8-b27e-13ba191f800c]: 80/200 40.0%\n"
     ]
    }
   ],
   "source": [
    "is_translation_running(tasks[3])"
   ]
  },
  {
   "cell_type": "code",
   "execution_count": 14,
   "id": "c9638a8a",
   "metadata": {},
   "outputs": [
    {
     "data": {
      "text/plain": [
       "True"
      ]
     },
     "execution_count": 14,
     "metadata": {},
     "output_type": "execute_result"
    },
    {
     "name": "stdout",
     "output_type": "stream",
     "text": [
      "progress[0516fa80-bd2c-4c3c-9882-00001db1e260]: 90/100 90.0%\n",
      "progress[da658fbf-2c42-4fd8-b27e-13ba191f800c]: 90/200 45.0%\n",
      "progress[da658fbf-2c42-4fd8-b27e-13ba191f800c]: 100/200 50.0%\n",
      "progress[0516fa80-bd2c-4c3c-9882-00001db1e260]: 100/100 100.0%\n",
      "completed[0516fa80-bd2c-4c3c-9882-00001db1e260]:\n",
      "     Zhytomyr Women's Gymnasium NV Ovsyannikova, Zhytomyr, Volyn Province\n",
      "     Zhytomyr County Court of Zhytomyr, Volyn Province\n",
      "     Zhytomyr Horoda Magistrate in Zhytomyr, Volyn Province\n",
      "     Zhytomyr noble care of Zhytomyr, Volyn province\n",
      "     Novograd-Volyn Horoda Magistrate of Nov.-Volynsky, Volyn province\n",
      "     Novograd-Volynsky County Court of Nov.-Volynsky, Volyn Province\n",
      "     Ovruch County Court of Ovruch, Volyn Province\n",
      "     Ovruch city magistrate in Ovruch, Volyn province\n",
      "     Volyn Chief Court of Zhytomyr, Volyn Province\n",
      "     Volyn Chamber of Civil Court of Zhytomyr, Volyn Province\n",
      "progress[da658fbf-2c42-4fd8-b27e-13ba191f800c]: 110/200 55.0%\n",
      "progress[da658fbf-2c42-4fd8-b27e-13ba191f800c]: 120/200 60.0%\n",
      "progress[da658fbf-2c42-4fd8-b27e-13ba191f800c]: 130/200 65.0%\n",
      "progress[da658fbf-2c42-4fd8-b27e-13ba191f800c]: 140/200 70.0%\n",
      "progress[da658fbf-2c42-4fd8-b27e-13ba191f800c]: 150/200 75.0%\n",
      "progress[da658fbf-2c42-4fd8-b27e-13ba191f800c]: 160/200 80.0%\n",
      "progress[da658fbf-2c42-4fd8-b27e-13ba191f800c]: 170/200 85.0%\n",
      "progress[da658fbf-2c42-4fd8-b27e-13ba191f800c]: 180/200 90.0%\n",
      "progress[da658fbf-2c42-4fd8-b27e-13ba191f800c]: 190/200 95.0%\n",
      "progress[da658fbf-2c42-4fd8-b27e-13ba191f800c]: 200/200 100.0%\n",
      "completed[da658fbf-2c42-4fd8-b27e-13ba191f800c]:\n",
      "     Berdychiv district police of Berdychiv, Kiev lips.\n",
      "     Novograd-Volyn Men's Gymnasium of Novograd-Volynsky, Volyn Province\n",
      "     Zhytomyr 1st higher-laid male school of Zhytomyr, Volyn province\n",
      "     Zhytomyr two-year pedagogical courses at the Zhytomyr first higher men's school of Zhytomyr, Volyn province\n",
      "     Volyn Provincial Agemir of Zhytomyr, Volyn Province\n",
      "     Zhytomyr State Cleansing Composition №1 of Volyn Provincial Excise Department of Zhytomyr, Volyn Province\n",
      "     Lubarsky Tales of Cleaning No. 2 of Volyn Provincial Excise Department\n",
      "     Charity monasteries of the Volyn Diocese of Zhytomyr, Volyn Province\n",
      "     Volyn Provincial on Real Estate Tax is present in Zhytomyr, Volyn province\n",
      "     Kodnyansk Postal and Telegraph State Savings Cashier №14 M-Kodnya, Zhytomyr County\n"
     ]
    }
   ],
   "source": [
    "is_translation_running()"
   ]
  },
  {
   "cell_type": "code",
   "execution_count": 15,
   "id": "4bf4256b",
   "metadata": {},
   "outputs": [
    {
     "data": {
      "text/plain": [
       "False"
      ]
     },
     "execution_count": 15,
     "metadata": {},
     "output_type": "execute_result"
    }
   ],
   "source": [
    "is_translation_running()"
   ]
  },
  {
   "cell_type": "code",
   "execution_count": null,
   "id": "1b884076",
   "metadata": {},
   "outputs": [],
   "source": []
  }
 ],
 "metadata": {
  "kernelspec": {
   "display_name": "Python 3 (ipykernel)",
   "language": "python",
   "name": "python3"
  },
  "language_info": {
   "codemirror_mode": {
    "name": "ipython",
    "version": 3
   },
   "file_extension": ".py",
   "mimetype": "text/x-python",
   "name": "python",
   "nbconvert_exporter": "python",
   "pygments_lexer": "ipython3",
   "version": "3.11.5"
  }
 },
 "nbformat": 4,
 "nbformat_minor": 5
}
