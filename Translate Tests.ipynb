{
 "cells": [
  {
   "cell_type": "code",
   "execution_count": 1,
   "id": "1167d904",
   "metadata": {},
   "outputs": [],
   "source": [
    "from birddog.translate import is_english, translation"
   ]
  },
  {
   "cell_type": "code",
   "execution_count": 2,
   "id": "78aa529e",
   "metadata": {},
   "outputs": [],
   "source": [
    "text = 'Перейменування: 1941-1945 Рейхскомісаріат України, м. Рівне.'"
   ]
  },
  {
   "cell_type": "code",
   "execution_count": 3,
   "id": "2e23c49a",
   "metadata": {},
   "outputs": [
    {
     "data": {
      "text/plain": [
       "'Rename: 1941-1945 Reich Commissariat of Ukraine, Rivne.'"
      ]
     },
     "execution_count": 3,
     "metadata": {},
     "output_type": "execute_result"
    }
   ],
   "source": [
    "translation(text)"
   ]
  },
  {
   "cell_type": "code",
   "execution_count": 4,
   "id": "9620b071",
   "metadata": {},
   "outputs": [
    {
     "data": {
      "text/plain": [
       "False"
      ]
     },
     "execution_count": 4,
     "metadata": {},
     "output_type": "execute_result"
    }
   ],
   "source": [
    "is_english(text)"
   ]
  },
  {
   "cell_type": "code",
   "execution_count": 5,
   "id": "b15a03f7",
   "metadata": {},
   "outputs": [
    {
     "data": {
      "text/plain": [
       "True"
      ]
     },
     "execution_count": 5,
     "metadata": {},
     "output_type": "execute_result"
    }
   ],
   "source": [
    "is_english(translation(text))"
   ]
  },
  {
   "cell_type": "code",
   "execution_count": 6,
   "id": "ca356235",
   "metadata": {},
   "outputs": [
    {
     "data": {
      "text/plain": [
       "['Rename: 1941-1945 Reich Commissariat of Ukraine, Rivne.',\n",
       " 'Rename: 1941-1945 Reich Commissariat of Ukraine, Rivne.',\n",
       " 'Rename: 1941-1945 Reich Commissariat of Ukraine, Rivne.',\n",
       " 'Rename: 1941-1945 Reich Commissariat of Ukraine, Rivne.']"
      ]
     },
     "execution_count": 6,
     "metadata": {},
     "output_type": "execute_result"
    }
   ],
   "source": [
    "translation([text, text, text, text])"
   ]
  },
  {
   "cell_type": "code",
   "execution_count": 7,
   "id": "67144538",
   "metadata": {},
   "outputs": [
    {
     "data": {
      "text/plain": [
       "['D', 'R', 'Pp']"
      ]
     },
     "execution_count": 7,
     "metadata": {},
     "output_type": "execute_result"
    }
   ],
   "source": [
    "translation(['Д', 'Р', 'П'])"
   ]
  },
  {
   "cell_type": "code",
   "execution_count": null,
   "id": "b61fe934",
   "metadata": {},
   "outputs": [],
   "source": []
  },
  {
   "cell_type": "code",
   "execution_count": 8,
   "id": "ebfd4704",
   "metadata": {},
   "outputs": [],
   "source": [
    "#from googletrans import Translator"
   ]
  },
  {
   "cell_type": "code",
   "execution_count": 9,
   "id": "96b92576",
   "metadata": {},
   "outputs": [],
   "source": [
    "#T = Translator()"
   ]
  },
  {
   "cell_type": "code",
   "execution_count": 10,
   "id": "ed61d358",
   "metadata": {},
   "outputs": [],
   "source": [
    "#T.translate(text)"
   ]
  },
  {
   "cell_type": "code",
   "execution_count": 11,
   "id": "132dbd04",
   "metadata": {},
   "outputs": [],
   "source": [
    "#T.translate('안녕하세요.')"
   ]
  },
  {
   "cell_type": "code",
   "execution_count": 12,
   "id": "a22753d0",
   "metadata": {},
   "outputs": [],
   "source": [
    "from deep_translator import GoogleTranslator, ChatGptTranslator"
   ]
  },
  {
   "cell_type": "code",
   "execution_count": 13,
   "id": "a1902a2f",
   "metadata": {},
   "outputs": [],
   "source": [
    "xlator = GoogleTranslator(source='uk', target='en')"
   ]
  },
  {
   "cell_type": "code",
   "execution_count": 14,
   "id": "ddd202ba",
   "metadata": {},
   "outputs": [
    {
     "name": "stdout",
     "output_type": "stream",
     "text": [
      "Rename: 1941-1945 Reich Commissariat of Ukraine, Rivne.\n"
     ]
    }
   ],
   "source": [
    "print(xlator.translate(text))"
   ]
  },
  {
   "cell_type": "code",
   "execution_count": 15,
   "id": "6a509e0d",
   "metadata": {},
   "outputs": [],
   "source": [
    "gpt = ChatGptTranslator(source='uk', target='en')"
   ]
  },
  {
   "cell_type": "code",
   "execution_count": 16,
   "id": "1a42077a",
   "metadata": {},
   "outputs": [
    {
     "data": {
      "text/plain": [
       "'Translation: \"Renaming: 1941-1945 Reichskommissariat Ukraine, city of Rivne.\"'"
      ]
     },
     "execution_count": 16,
     "metadata": {},
     "output_type": "execute_result"
    }
   ],
   "source": [
    "gpt.translate(text)"
   ]
  },
  {
   "cell_type": "code",
   "execution_count": 4,
   "id": "814a80e3",
   "metadata": {},
   "outputs": [
    {
     "data": {
      "text/plain": [
       "'Kiev province'"
      ]
     },
     "execution_count": 4,
     "metadata": {},
     "output_type": "execute_result"
    }
   ],
   "source": [
    "translation('Київська губернія')"
   ]
  },
  {
   "cell_type": "code",
   "execution_count": 5,
   "id": "ddcb6d0a",
   "metadata": {},
   "outputs": [
    {
     "data": {
      "text/plain": [
       "'Volyn province'"
      ]
     },
     "execution_count": 5,
     "metadata": {},
     "output_type": "execute_result"
    }
   ],
   "source": [
    "translation('Волинська губернія')"
   ]
  },
  {
   "cell_type": "code",
   "execution_count": null,
   "id": "a3156651",
   "metadata": {},
   "outputs": [],
   "source": []
  }
 ],
 "metadata": {
  "kernelspec": {
   "display_name": "Python 3 (ipykernel)",
   "language": "python",
   "name": "python3"
  },
  "language_info": {
   "codemirror_mode": {
    "name": "ipython",
    "version": 3
   },
   "file_extension": ".py",
   "mimetype": "text/x-python",
   "name": "python",
   "nbconvert_exporter": "python",
   "pygments_lexer": "ipython3",
   "version": "3.11.5"
  }
 },
 "nbformat": 4,
 "nbformat_minor": 5
}
