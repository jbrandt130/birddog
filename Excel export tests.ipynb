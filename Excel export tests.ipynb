{
 "cells": [
  {
   "cell_type": "code",
   "execution_count": 1,
   "id": "9a57704c",
   "metadata": {},
   "outputs": [],
   "source": [
    "import re\n",
    "from birddog.core import Archive, history_url\n",
    "from birddog.excel import export_page"
   ]
  },
  {
   "cell_type": "code",
   "execution_count": 2,
   "id": "cdf85fc7",
   "metadata": {},
   "outputs": [
    {
     "name": "stdout",
     "output_type": "stream",
     "text": [
      "Retrieved from cache: DAZHO-D[latest]: DAZHO-D/latest.json\n",
      "checking currency: 2025,01,19,12:47 == 2025,01,19,12:47?\n",
      "archive,DAZHO-D,2025,01,19,12:47\n"
     ]
    }
   ],
   "source": [
    "archive = Archive('DAZHO')\n",
    "print(archive.report)"
   ]
  },
  {
   "cell_type": "code",
   "execution_count": 3,
   "id": "4e7315fa",
   "metadata": {},
   "outputs": [
    {
     "data": {
      "text/plain": [
       "[{'modified': '2025,01,19,12:47',\n",
       "  'link': 'https://uk.wikisource.org/w/index.php?title=%D0%90%D1%80%D1%85%D1%96%D0%B2:%D0%94%D0%90%D0%96%D0%9E/%D0%94&oldid=871572'}]"
      ]
     },
     "execution_count": 3,
     "metadata": {},
     "output_type": "execute_result"
    }
   ],
   "source": [
    "archive.history(limit=1)"
   ]
  },
  {
   "cell_type": "code",
   "execution_count": 4,
   "id": "e34d53fb",
   "metadata": {},
   "outputs": [
    {
     "name": "stdout",
     "output_type": "stream",
     "text": [
      "opening template file resources/templates/archive.xlsx...\n",
      "sheet title: DAZHO\n"
     ]
    },
    {
     "data": {
      "text/plain": [
       "<openpyxl.workbook.workbook.Workbook at 0x10e134fd0>"
      ]
     },
     "execution_count": 4,
     "metadata": {},
     "output_type": "execute_result"
    }
   ],
   "source": [
    "export_page(archive, 'var/dazho.xlsx')"
   ]
  },
  {
   "cell_type": "code",
   "execution_count": 5,
   "id": "a0f3237f",
   "metadata": {},
   "outputs": [
    {
     "name": "stdout",
     "output_type": "stream",
     "text": [
      "Retrieved from cache: DAZHO-D/1[latest]: DAZHO-D/1/latest.json\n",
      "checking currency: 2024,09,12,08:41 == 2024,09,12,08:41?\n",
      "Retrieved from cache: DAZHO-D/1/74[latest]: DAZHO-D/1/74/latest.json\n",
      "checking currency: 2025,03,14,11:40 == 2025,03,14,11:40?\n"
     ]
    }
   ],
   "source": [
    "fond1 = archive.lookup('1')\n",
    "opus1_74 = fond1.lookup('74')"
   ]
  },
  {
   "cell_type": "code",
   "execution_count": 6,
   "id": "0107b27d",
   "metadata": {},
   "outputs": [
    {
     "data": {
      "text/plain": [
       "[{'modified': '2024,09,12,08:41',\n",
       "  'link': 'https://uk.wikisource.org/w/index.php?title=%D0%90%D1%80%D1%85%D1%96%D0%B2:%D0%94%D0%90%D0%96%D0%9E/1&oldid=771001'}]"
      ]
     },
     "execution_count": 6,
     "metadata": {},
     "output_type": "execute_result"
    }
   ],
   "source": [
    "fond1.history(limit=1)"
   ]
  },
  {
   "cell_type": "code",
   "execution_count": 7,
   "id": "96fb2e95",
   "metadata": {},
   "outputs": [
    {
     "data": {
      "text/plain": [
       "'https://uk.wikisource.org/w/index.php?action=history&title=%D0%90%D1%80%D1%85%D1%96%D0%B2:%D0%94%D0%90%D0%96%D0%9E/1'"
      ]
     },
     "execution_count": 7,
     "metadata": {},
     "output_type": "execute_result"
    }
   ],
   "source": [
    "history_url(fond1)"
   ]
  },
  {
   "cell_type": "code",
   "execution_count": 8,
   "id": "1f2057e0",
   "metadata": {},
   "outputs": [
    {
     "data": {
      "text/plain": [
       "'74'"
      ]
     },
     "execution_count": 8,
     "metadata": {},
     "output_type": "execute_result"
    }
   ],
   "source": [
    "opus1_74.id"
   ]
  },
  {
   "cell_type": "code",
   "execution_count": 9,
   "id": "863f28fa",
   "metadata": {},
   "outputs": [
    {
     "data": {
      "text/plain": [
       "'1'"
      ]
     },
     "execution_count": 9,
     "metadata": {},
     "output_type": "execute_result"
    }
   ],
   "source": [
    "opus1_74.parent.id"
   ]
  },
  {
   "cell_type": "code",
   "execution_count": 10,
   "id": "c6a7b5d4",
   "metadata": {},
   "outputs": [
    {
     "data": {
      "text/plain": [
       "'DAZHO'"
      ]
     },
     "execution_count": 10,
     "metadata": {},
     "output_type": "execute_result"
    }
   ],
   "source": [
    "opus1_74.parent.parent.id"
   ]
  },
  {
   "cell_type": "code",
   "execution_count": 11,
   "id": "0246e161",
   "metadata": {},
   "outputs": [
    {
     "data": {
      "text/plain": [
       "'Державний архів Житомирської області. Дорадянський період'"
      ]
     },
     "execution_count": 11,
     "metadata": {},
     "output_type": "execute_result"
    }
   ],
   "source": [
    "archive.description"
   ]
  },
  {
   "cell_type": "code",
   "execution_count": 12,
   "id": "abc1568d",
   "metadata": {},
   "outputs": [
    {
     "data": {
      "text/plain": [
       "'Metric books of Kovel, Zaslav, Dubensky, Rivne, Ovruch, Kremenetsky counties. Confessional information on Kovel, Zaslavsky, Dubensky, Rivne, Ovruch, Kremenetsky counties'"
      ]
     },
     "execution_count": 12,
     "metadata": {},
     "output_type": "execute_result"
    }
   ],
   "source": [
    "opus1_74.description"
   ]
  },
  {
   "cell_type": "code",
   "execution_count": 13,
   "id": "ab56f65e",
   "metadata": {},
   "outputs": [
    {
     "name": "stdout",
     "output_type": "stream",
     "text": [
      "opening template file resources/templates/opus.xlsx...\n",
      "sheet title: DAZHO 1-74\n"
     ]
    },
    {
     "data": {
      "text/plain": [
       "<openpyxl.workbook.workbook.Workbook at 0x11e31f150>"
      ]
     },
     "execution_count": 13,
     "metadata": {},
     "output_type": "execute_result"
    }
   ],
   "source": [
    "export_page(opus1_74, 'var/opus1_74.xlsx')"
   ]
  },
  {
   "cell_type": "code",
   "execution_count": 14,
   "id": "b789f25d",
   "metadata": {},
   "outputs": [
    {
     "name": "stdout",
     "output_type": "stream",
     "text": [
      "opening template file resources/templates/fond.xlsx...\n",
      "sheet title: fund 1\n"
     ]
    },
    {
     "data": {
      "text/plain": [
       "<openpyxl.workbook.workbook.Workbook at 0x11eb09e90>"
      ]
     },
     "execution_count": 14,
     "metadata": {},
     "output_type": "execute_result"
    }
   ],
   "source": [
    "export_page(fond1, 'var/fond1.xlsx')"
   ]
  },
  {
   "cell_type": "code",
   "execution_count": 15,
   "id": "99da67da",
   "metadata": {},
   "outputs": [
    {
     "data": {
      "text/plain": [
       "'Metric books of Kovel, Zaslav, Dubensky, Rivne, Ovruch, Kremenetsky counties. Confessional information on Kovel, Zaslavsky, Dubensky, Rivne, Ovruch, Kremenetsky counties'"
      ]
     },
     "execution_count": 15,
     "metadata": {},
     "output_type": "execute_result"
    }
   ],
   "source": [
    "opus1_74.description"
   ]
  },
  {
   "cell_type": "code",
   "execution_count": 16,
   "id": "ecf5d558",
   "metadata": {},
   "outputs": [],
   "source": [
    "from openpyxl import Workbook, load_workbook\n",
    "from copy import copy"
   ]
  },
  {
   "cell_type": "code",
   "execution_count": 17,
   "id": "e36e42bc",
   "metadata": {},
   "outputs": [],
   "source": [
    "wb = load_workbook('resources/templates/opus.xlsx')\n",
    "ws = wb.active"
   ]
  },
  {
   "cell_type": "code",
   "execution_count": null,
   "id": "5fc2af84",
   "metadata": {},
   "outputs": [],
   "source": []
  }
 ],
 "metadata": {
  "kernelspec": {
   "display_name": "Python 3 (ipykernel)",
   "language": "python",
   "name": "python3"
  },
  "language_info": {
   "codemirror_mode": {
    "name": "ipython",
    "version": 3
   },
   "file_extension": ".py",
   "mimetype": "text/x-python",
   "name": "python",
   "nbconvert_exporter": "python",
   "pygments_lexer": "ipython3",
   "version": "3.11.5"
  }
 },
 "nbformat": 4,
 "nbformat_minor": 5
}
