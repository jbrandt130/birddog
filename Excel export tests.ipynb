{
 "cells": [
  {
   "cell_type": "code",
   "execution_count": 1,
   "id": "9a57704c",
   "metadata": {},
   "outputs": [],
   "source": [
    "import re\n",
    "from archivescraper import Archive, get_text\n",
    "from excel import export_page"
   ]
  },
  {
   "cell_type": "code",
   "execution_count": 2,
   "id": "cdf85fc7",
   "metadata": {},
   "outputs": [
    {
     "name": "stdout",
     "output_type": "stream",
     "text": [
      "Retrieving from cache: Архів:ДАЖО/Д\n",
      "archive,DAZHO/Д,2025,01,19,12:47\n"
     ]
    }
   ],
   "source": [
    "archive = Archive('DAZHO')\n",
    "print(archive.report)"
   ]
  },
  {
   "cell_type": "code",
   "execution_count": 3,
   "id": "e34d53fb",
   "metadata": {},
   "outputs": [
    {
     "name": "stdout",
     "output_type": "stream",
     "text": [
      "opening template file templates/archive.xlsx...\n",
      "sheet title: DAZHO\n"
     ]
    },
    {
     "data": {
      "text/plain": [
       "<openpyxl.workbook.workbook.Workbook at 0x106473650>"
      ]
     },
     "execution_count": 3,
     "metadata": {},
     "output_type": "execute_result"
    }
   ],
   "source": [
    "export_page(archive, 'dazho.xlsx')"
   ]
  },
  {
   "cell_type": "code",
   "execution_count": 4,
   "id": "d5af7b15",
   "metadata": {},
   "outputs": [],
   "source": [
    "s = 'Archives / {archive_name} / {fond_name} / {opus_name}'"
   ]
  },
  {
   "cell_type": "code",
   "execution_count": 5,
   "id": "a0f3237f",
   "metadata": {},
   "outputs": [
    {
     "name": "stdout",
     "output_type": "stream",
     "text": [
      "Retrieving from cache: Архів:ДАЖО/Д/1\n",
      "Retrieving from cache: Архів:ДАЖО/Д/1/74\n"
     ]
    }
   ],
   "source": [
    "fond1 = archive.lookup('1')\n",
    "opus1_74 = fond1.lookup('74')"
   ]
  },
  {
   "cell_type": "code",
   "execution_count": 6,
   "id": "0107b27d",
   "metadata": {},
   "outputs": [
    {
     "data": {
      "text/plain": [
       "'1'"
      ]
     },
     "execution_count": 6,
     "metadata": {},
     "output_type": "execute_result"
    }
   ],
   "source": [
    "fond1.id"
   ]
  },
  {
   "cell_type": "code",
   "execution_count": 7,
   "id": "1f2057e0",
   "metadata": {},
   "outputs": [
    {
     "data": {
      "text/plain": [
       "'74'"
      ]
     },
     "execution_count": 7,
     "metadata": {},
     "output_type": "execute_result"
    }
   ],
   "source": [
    "opus1_74.id"
   ]
  },
  {
   "cell_type": "code",
   "execution_count": 8,
   "id": "863f28fa",
   "metadata": {},
   "outputs": [
    {
     "data": {
      "text/plain": [
       "'1'"
      ]
     },
     "execution_count": 8,
     "metadata": {},
     "output_type": "execute_result"
    }
   ],
   "source": [
    "opus1_74.parent.id"
   ]
  },
  {
   "cell_type": "code",
   "execution_count": 9,
   "id": "c6a7b5d4",
   "metadata": {},
   "outputs": [
    {
     "data": {
      "text/plain": [
       "'DAZHO'"
      ]
     },
     "execution_count": 9,
     "metadata": {},
     "output_type": "execute_result"
    }
   ],
   "source": [
    "opus1_74.parent.parent.id"
   ]
  },
  {
   "cell_type": "code",
   "execution_count": 10,
   "id": "0246e161",
   "metadata": {},
   "outputs": [
    {
     "data": {
      "text/plain": [
       "'State Archives of Zhytomyr Region. The pre -Soviet period'"
      ]
     },
     "execution_count": 10,
     "metadata": {},
     "output_type": "execute_result"
    }
   ],
   "source": [
    "archive.description"
   ]
  },
  {
   "cell_type": "code",
   "execution_count": 11,
   "id": "abc1568d",
   "metadata": {},
   "outputs": [
    {
     "data": {
      "text/plain": [
       "'Metric books of Kovel, Zaslav, Dubensky, Rivne, Ovruch, Kremenetsky counties. Confessional information on Kovel, Zaslavsky, Dubensky, Rivne, Ovruch, Kremenetsky counties'"
      ]
     },
     "execution_count": 11,
     "metadata": {},
     "output_type": "execute_result"
    }
   ],
   "source": [
    "opus1_74.description"
   ]
  },
  {
   "cell_type": "code",
   "execution_count": 12,
   "id": "ab56f65e",
   "metadata": {},
   "outputs": [
    {
     "name": "stdout",
     "output_type": "stream",
     "text": [
      "opening template file templates/opus.xlsx...\n",
      "sheet title: DAZHO 1-74\n"
     ]
    },
    {
     "data": {
      "text/plain": [
       "<openpyxl.workbook.workbook.Workbook at 0x108f4c490>"
      ]
     },
     "execution_count": 12,
     "metadata": {},
     "output_type": "execute_result"
    }
   ],
   "source": [
    "export_page(opus1_74, 'opus1_74.xlsx')"
   ]
  },
  {
   "cell_type": "code",
   "execution_count": 13,
   "id": "b789f25d",
   "metadata": {},
   "outputs": [
    {
     "name": "stdout",
     "output_type": "stream",
     "text": [
      "opening template file templates/fond.xlsx...\n",
      "sheet title: fund 1\n"
     ]
    },
    {
     "data": {
      "text/plain": [
       "<openpyxl.workbook.workbook.Workbook at 0x109c873d0>"
      ]
     },
     "execution_count": 13,
     "metadata": {},
     "output_type": "execute_result"
    }
   ],
   "source": [
    "export_page(fond1, 'fond1.xlsx')"
   ]
  },
  {
   "cell_type": "code",
   "execution_count": 14,
   "id": "99da67da",
   "metadata": {},
   "outputs": [
    {
     "data": {
      "text/plain": [
       "'Metric books of Kovel, Zaslav, Dubensky, Rivne, Ovruch, Kremenetsky counties. Confessional information on Kovel, Zaslavsky, Dubensky, Rivne, Ovruch, Kremenetsky counties'"
      ]
     },
     "execution_count": 14,
     "metadata": {},
     "output_type": "execute_result"
    }
   ],
   "source": [
    "opus1_74.description"
   ]
  },
  {
   "cell_type": "code",
   "execution_count": null,
   "id": "ecf5d558",
   "metadata": {},
   "outputs": [],
   "source": []
  }
 ],
 "metadata": {
  "kernelspec": {
   "display_name": "Python 3 (ipykernel)",
   "language": "python",
   "name": "python3"
  },
  "language_info": {
   "codemirror_mode": {
    "name": "ipython",
    "version": 3
   },
   "file_extension": ".py",
   "mimetype": "text/x-python",
   "name": "python",
   "nbconvert_exporter": "python",
   "pygments_lexer": "ipython3",
   "version": "3.11.5"
  }
 },
 "nbformat": 4,
 "nbformat_minor": 5
}
