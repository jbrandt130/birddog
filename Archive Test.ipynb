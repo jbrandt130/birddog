{
 "cells": [
  {
   "cell_type": "code",
   "execution_count": 1,
   "metadata": {},
   "outputs": [],
   "source": [
    "from birddog.core import Table, Archive, Fond, Opus, ARCHIVE_LIST"
   ]
  },
  {
   "cell_type": "code",
   "execution_count": 2,
   "metadata": {},
   "outputs": [
    {
     "data": {
      "text/plain": [
       "{'DAARC': 'Архів:ДААРК',\n",
       " 'DACHGO': 'Архів:ДАЧгО',\n",
       " 'DACHkO': 'Архів:ДАЧкО',\n",
       " 'DACHvO': None,\n",
       " 'DADNO': 'Архів:ДАДнО',\n",
       " 'DADoO': None,\n",
       " 'DAHO': 'Архів:ДАХО',\n",
       " 'DAHeO': 'Архів:ДАХеО',\n",
       " 'DAHmO': 'Архів:ДАХмО',\n",
       " 'DAIFO': 'Архів:ДАІФО',\n",
       " 'DAK': 'Архів:ДАК',\n",
       " 'DAKO': 'Архів:ДАКО',\n",
       " 'DAKrO': 'Архів:ДАКрО',\n",
       " 'DALO': 'Архів:ДАЛО',\n",
       " 'DALuO': 'Архів:ДАЛуО',\n",
       " 'DAMO': 'Архів:ДАМО',\n",
       " 'DAOO': 'Архів:ДАОО',\n",
       " 'DAPO': 'Архів:ДАПО',\n",
       " 'DARO': 'Архів:ДАРО',\n",
       " 'DAS': 'Архів:ДАС',\n",
       " 'DASO': 'Архів:ДАСО',\n",
       " 'DATE': None,\n",
       " 'DAVIO': 'Архів:ДАВіО',\n",
       " 'DAVOO': 'Архів:ДАВоО',\n",
       " 'DAZHO': 'Архів:ДАЖО',\n",
       " 'DAZKO': 'Архів:ДАЗкО',\n",
       " 'DAZpO': 'Архів:ДАЗпО'}"
      ]
     },
     "execution_count": 2,
     "metadata": {},
     "output_type": "execute_result"
    }
   ],
   "source": [
    "ARCHIVE_LIST"
   ]
  },
  {
   "cell_type": "code",
   "execution_count": 3,
   "metadata": {},
   "outputs": [
    {
     "name": "stdout",
     "output_type": "stream",
     "text": [
      "Retrieving from cache: Архів:ДАЖО/Д\n",
      "archive,DAZHO/Д,2025,01,19,12:47\n"
     ]
    }
   ],
   "source": [
    "a=Archive('DAZHO')\n",
    "print(a.report)"
   ]
  },
  {
   "cell_type": "code",
   "execution_count": 4,
   "metadata": {},
   "outputs": [
    {
     "name": "stdout",
     "output_type": "stream",
     "text": [
      "Архів:ДАЖО/Д\n"
     ]
    }
   ],
   "source": [
    "print(a.name)"
   ]
  },
  {
   "cell_type": "code",
   "execution_count": 5,
   "metadata": {},
   "outputs": [
    {
     "data": {
      "text/plain": [
       "'Державний архів Житомирської області. Дорадянський період'"
      ]
     },
     "execution_count": 5,
     "metadata": {},
     "output_type": "execute_result"
    }
   ],
   "source": [
    "a.description"
   ]
  },
  {
   "cell_type": "code",
   "execution_count": 6,
   "metadata": {},
   "outputs": [
    {
     "name": "stdout",
     "output_type": "stream",
     "text": [
      "Retrieving from cache: Архів:ДАЖО/Д/1\n",
      "fond,Архів:ДАЖО/Д/1,2024,09,12,08:41\n",
      "Архів:ДАЖО/Д/1\n"
     ]
    }
   ],
   "source": [
    "f = a.lookup('1')\n",
    "print(f.report)\n",
    "print(f.name)"
   ]
  },
  {
   "cell_type": "code",
   "execution_count": null,
   "metadata": {},
   "outputs": [],
   "source": []
  },
  {
   "cell_type": "code",
   "execution_count": 7,
   "metadata": {},
   "outputs": [
    {
     "name": "stdout",
     "output_type": "stream",
     "text": [
      "Retrieving from cache: Архів:ДАЖО/Д/1/74\n",
      "opus,Архів:ДАЖО/Д/1/74,2025,02,22,17:32\n",
      "416\n",
      "Архів:ДАЖО/Д/1/74\n"
     ]
    }
   ],
   "source": [
    "o = f.lookup('74')\n",
    "print(o.report)\n",
    "print(len(o.children))\n",
    "print(o.name)"
   ]
  },
  {
   "cell_type": "code",
   "execution_count": 8,
   "metadata": {},
   "outputs": [
    {
     "name": "stdout",
     "output_type": "stream",
     "text": [
      "Retrieving from cache: Архів:ДАЖО/Д/1/74/1\n",
      "case,Архів:ДАЖО/Д/1/74/1,2024,09,12,19:14\n"
     ]
    }
   ],
   "source": [
    "c = o.lookup('1')\n",
    "print(c.report)"
   ]
  },
  {
   "cell_type": "code",
   "execution_count": 9,
   "metadata": {},
   "outputs": [
    {
     "data": {
      "text/plain": [
       "'1'"
      ]
     },
     "execution_count": 9,
     "metadata": {},
     "output_type": "execute_result"
    }
   ],
   "source": [
    "c.id"
   ]
  },
  {
   "cell_type": "code",
   "execution_count": 10,
   "metadata": {},
   "outputs": [
    {
     "data": {
      "text/plain": [
       "'Архів:ДАЖО/Д/1/74/1'"
      ]
     },
     "execution_count": 10,
     "metadata": {},
     "output_type": "execute_result"
    }
   ],
   "source": [
    "c.name"
   ]
  },
  {
   "cell_type": "code",
   "execution_count": 11,
   "metadata": {},
   "outputs": [
    {
     "data": {
      "text/plain": [
       "'2024,09,12,19:14'"
      ]
     },
     "execution_count": 11,
     "metadata": {},
     "output_type": "execute_result"
    }
   ],
   "source": [
    "c.lastmod"
   ]
  },
  {
   "cell_type": "code",
   "execution_count": 12,
   "metadata": {},
   "outputs": [
    {
     "data": {
      "text/plain": [
       "'Metric books of the Uniate Churches of Kovel County'"
      ]
     },
     "execution_count": 12,
     "metadata": {},
     "output_type": "execute_result"
    }
   ],
   "source": [
    "c.description"
   ]
  },
  {
   "cell_type": "code",
   "execution_count": 13,
   "metadata": {},
   "outputs": [
    {
     "data": {
      "text/plain": [
       "False"
      ]
     },
     "execution_count": 13,
     "metadata": {},
     "output_type": "execute_result"
    }
   ],
   "source": [
    "c.translate()"
   ]
  },
  {
   "cell_type": "code",
   "execution_count": 14,
   "metadata": {},
   "outputs": [
    {
     "data": {
      "text/plain": [
       "False"
      ]
     },
     "execution_count": 14,
     "metadata": {},
     "output_type": "execute_result"
    }
   ],
   "source": [
    "f.translate()"
   ]
  },
  {
   "cell_type": "code",
   "execution_count": 15,
   "metadata": {},
   "outputs": [
    {
     "data": {
      "text/plain": [
       "'The Volyn Spiritual Consistory of Zhytomyr, Volyn Province. 1741 - 1921.'"
      ]
     },
     "execution_count": 15,
     "metadata": {},
     "output_type": "execute_result"
    }
   ],
   "source": [
    "f.description"
   ]
  },
  {
   "cell_type": "code",
   "execution_count": 16,
   "metadata": {},
   "outputs": [
    {
     "name": "stdout",
     "output_type": "stream",
     "text": [
      "Retrieving from cache: Архів:ДАЖО/Д/1\n"
     ]
    },
    {
     "data": {
      "text/plain": [
       "'The Volyn Spiritual Consistory of Zhytomyr, Volyn Province. 1741 - 1921.'"
      ]
     },
     "execution_count": 16,
     "metadata": {},
     "output_type": "execute_result"
    }
   ],
   "source": [
    "a.lookup('1').description"
   ]
  },
  {
   "cell_type": "code",
   "execution_count": 17,
   "metadata": {},
   "outputs": [
    {
     "name": "stdout",
     "output_type": "stream",
     "text": [
      "Retrieving from cache: Архів:ДАЖО/Д/1\n",
      "Retrieving from cache: Архів:ДАЖО/Д/1/75\n"
     ]
    },
    {
     "data": {
      "text/plain": [
       "'2025,02,28,10:14'"
      ]
     },
     "execution_count": 17,
     "metadata": {},
     "output_type": "execute_result"
    }
   ],
   "source": [
    "a.lookup('1').lookup('75').lastmod"
   ]
  },
  {
   "cell_type": "code",
   "execution_count": 18,
   "metadata": {},
   "outputs": [
    {
     "data": {
      "text/plain": [
       "'2025,01,19,12:47'"
      ]
     },
     "execution_count": 18,
     "metadata": {},
     "output_type": "execute_result"
    }
   ],
   "source": [
    "a.lastmod"
   ]
  },
  {
   "cell_type": "code",
   "execution_count": 19,
   "metadata": {},
   "outputs": [
    {
     "data": {
      "text/plain": [
       "{'title': {'uk': 'ДАЖО/1/74/1', 'en': 'Dago/1/74/1'},\n",
       " 'description': {'uk': '1. Метричні книги уніатських церков Ковельського повіту',\n",
       "  'en': '1. Metric books of the Uniate Churches of Kovel County'},\n",
       " 'header': [],\n",
       " 'children': [],\n",
       " 'lastmod': '2024,09,12,19:14',\n",
       " 'link': 'https://uk.wikisource.org/wiki/%D0%90%D1%80%D1%85%D1%96%D0%B2:%D0%94%D0%90%D0%96%D0%9E/1/74/1'}"
      ]
     },
     "execution_count": 19,
     "metadata": {},
     "output_type": "execute_result"
    }
   ],
   "source": [
    "c._page"
   ]
  },
  {
   "cell_type": "code",
   "execution_count": 20,
   "metadata": {},
   "outputs": [
    {
     "data": {
      "text/plain": [
       "[{'title': {'uk': 'ДАЖО/1/74/1', 'en': 'Dago/1/74/1'},\n",
       "  'description': {'uk': '1. Метричні книги уніатських церков Ковельського повіту',\n",
       "   'en': '1. Metric books of the Uniate Churches of Kovel County'},\n",
       "  'header': [],\n",
       "  'children': [],\n",
       "  'lastmod': '2024,09,12,19:14',\n",
       "  'link': 'https://uk.wikisource.org/wiki/%D0%90%D1%80%D1%85%D1%96%D0%B2:%D0%94%D0%90%D0%96%D0%9E/1/74/1'}]"
      ]
     },
     "execution_count": 20,
     "metadata": {},
     "output_type": "execute_result"
    }
   ],
   "source": [
    "c._pages"
   ]
  },
  {
   "cell_type": "code",
   "execution_count": 21,
   "metadata": {},
   "outputs": [
    {
     "name": "stdout",
     "output_type": "stream",
     "text": [
      "Retrieving from cache: Архів:ДАЖО/Д/1/74/1\n"
     ]
    },
    {
     "data": {
      "text/plain": [
       "'Metric books of the Uniate Churches of Kovel County'"
      ]
     },
     "execution_count": 21,
     "metadata": {},
     "output_type": "execute_result"
    }
   ],
   "source": [
    "o.lookup('1').description"
   ]
  },
  {
   "cell_type": "code",
   "execution_count": 22,
   "metadata": {},
   "outputs": [
    {
     "data": {
      "text/plain": [
       "'Metric books of the Uniate Churches of Kovel County'"
      ]
     },
     "execution_count": 22,
     "metadata": {},
     "output_type": "execute_result"
    }
   ],
   "source": [
    "c.description"
   ]
  },
  {
   "cell_type": "code",
   "execution_count": 23,
   "metadata": {},
   "outputs": [
    {
     "name": "stdout",
     "output_type": "stream",
     "text": [
      "Nothing new.\n"
     ]
    },
    {
     "data": {
      "text/plain": [
       "<birddog.core.Fond at 0x107f06dd0>"
      ]
     },
     "execution_count": 23,
     "metadata": {},
     "output_type": "execute_result"
    }
   ],
   "source": [
    "f.latest()"
   ]
  },
  {
   "cell_type": "code",
   "execution_count": 24,
   "metadata": {},
   "outputs": [
    {
     "name": "stdout",
     "output_type": "stream",
     "text": [
      "Retrieving from cache: Архів:ДАЖО/Д/1\n",
      "Retrieving from cache: Архів:ДАЖО/Д/1/74\n"
     ]
    }
   ],
   "source": [
    "opus1_74 = a.lookup('1').lookup('74')"
   ]
  },
  {
   "cell_type": "code",
   "execution_count": 25,
   "metadata": {},
   "outputs": [
    {
     "data": {
      "text/plain": [
       "False"
      ]
     },
     "execution_count": 25,
     "metadata": {},
     "output_type": "execute_result"
    }
   ],
   "source": [
    "opus1_74.translate()"
   ]
  },
  {
   "cell_type": "code",
   "execution_count": 26,
   "metadata": {},
   "outputs": [
    {
     "name": "stdout",
     "output_type": "stream",
     "text": [
      "Nothing new.\n"
     ]
    },
    {
     "data": {
      "text/plain": [
       "<birddog.core.Opus at 0x10c214c50>"
      ]
     },
     "execution_count": 26,
     "metadata": {},
     "output_type": "execute_result"
    }
   ],
   "source": [
    "opus1_74.latest()"
   ]
  },
  {
   "cell_type": "code",
   "execution_count": 27,
   "metadata": {},
   "outputs": [],
   "source": [
    "fonds = ['1', '2', '9', '17', '27', '58', '62']"
   ]
  },
  {
   "cell_type": "code",
   "execution_count": 28,
   "metadata": {},
   "outputs": [
    {
     "name": "stdout",
     "output_type": "stream",
     "text": [
      "Retrieving from cache: Архів:ДАЖО/Д/1\n",
      "fond,Архів:ДАЖО/Д/1,2024,09,12,08:41\n",
      "Retrieving from cache: Архів:ДАЖО/Д/2\n",
      "fond,Архів:ДАЖО/Д/2,2023,07,05,11:39\n",
      "Retrieving from cache: Архів:ДАЖО/Д/9\n",
      "fond,Архів:ДАЖО/Д/9,2023,05,14,21:08\n",
      "Retrieving from cache: Архів:ДАЖО/Д/17\n",
      "fond,Архів:ДАЖО/Д/17,2023,09,22,14:35\n",
      "Retrieving from cache: Архів:ДАЖО/Д/27\n",
      "fond,Архів:ДАЖО/Д/27,2023,06,27,22:26\n",
      "Retrieving from cache: Архів:ДАЖО/Д/58\n",
      "fond,Архів:ДАЖО/Д/58,2023,07,03,14:47\n",
      "Retrieving from cache: Архів:ДАЖО/Д/62\n",
      "fond,Архів:ДАЖО/Д/62,2024,04,17,20:15\n"
     ]
    }
   ],
   "source": [
    "for f in fonds:\n",
    "    fond = a.lookup(f)\n",
    "    print(fond.report)"
   ]
  },
  {
   "cell_type": "code",
   "execution_count": 29,
   "metadata": {},
   "outputs": [
    {
     "name": "stdout",
     "output_type": "stream",
     "text": [
      "Retrieving from cache: Архів:ДАЖО/Д/1\n",
      "fond,Архів:ДАЖО/Д/1,2024,09,12,08:41 The Volyn Spiritual Consistory of Zhytomyr, Volyn Province. 1741 - 1921.\n",
      "Retrieving from cache: Архів:ДАЖО/Д/2\n",
      "fond,Архів:ДАЖО/Д/2,2023,07,05,11:39 Zhytomyr County Court of Zhytomyr, Volyn Province\n",
      "Retrieving from cache: Архів:ДАЖО/Д/9\n",
      "fond,Архів:ДАЖО/Д/9,2023,05,14,21:08 Novograd-Volyn city magistrate of Volyn province\n",
      "Retrieving from cache: Архів:ДАЖО/Д/17\n",
      "fond,Архів:ДАЖО/Д/17,2023,09,22,14:35 The Volyn Chamber of Civil Court of Zhytomyr, Volyn Province\n",
      "Retrieving from cache: Архів:ДАЖО/Д/27\n",
      "fond,Архів:ДАЖО/Д/27,2023,06,27,22:26 Zhytomyr notary Philippov Ivan Nikolaevich Zhytomyr, Volyn Province\n",
      "Retrieving from cache: Архів:ДАЖО/Д/58\n",
      "fond,Архів:ДАЖО/Д/58,2023,07,03,14:47 The Volyn Chamber of State Property of Zhytomyr, Volyn Province\n",
      "Retrieving from cache: Архів:ДАЖО/Д/62\n",
      "fond,Архів:ДАЖО/Д/62,2024,04,17,20:15 Zhytomyr City Administration of Zhytomyr, Volyn Province\n"
     ]
    }
   ],
   "source": [
    "for f in fonds:\n",
    "    fond = a.lookup(f)\n",
    "    fond.translate()\n",
    "    print(fond.report, fond.description)"
   ]
  },
  {
   "cell_type": "code",
   "execution_count": 30,
   "metadata": {},
   "outputs": [],
   "source": [
    "opi = [('1', '74'), \n",
    "       ('1', '75'),\n",
    "       ('1', '77'),\n",
    "       ('2', '1'),\n",
    "       ('9', '1'),\n",
    "       ('17', '2'),\n",
    "       ('27', '1'),\n",
    "       ('58', '1'),\n",
    "       ('62', '1')\n",
    "       ]"
   ]
  },
  {
   "cell_type": "code",
   "execution_count": 31,
   "metadata": {},
   "outputs": [
    {
     "name": "stdout",
     "output_type": "stream",
     "text": [
      "Retrieving from cache: Архів:ДАЖО/Д/1\n",
      "Retrieving from cache: Архів:ДАЖО/Д/1/74\n",
      "opus,Архів:ДАЖО/Д/1/74,2025,02,22,17:32\n",
      "Retrieving from cache: Архів:ДАЖО/Д/1\n",
      "Retrieving from cache: Архів:ДАЖО/Д/1/75\n",
      "opus,Архів:ДАЖО/Д/1/75,2025,02,28,10:14\n",
      "Retrieving from cache: Архів:ДАЖО/Д/1\n",
      "Loading page: Архів:ДАЖО/Д/1/77\n",
      "saving Архів:ДАЖО/Д/1/77.json: 1201671\n"
     ]
    },
    {
     "ename": "ClientError",
     "evalue": "An error occurred (ValidationException) when calling the PutItem operation: Item size has exceeded the maximum allowed size",
     "output_type": "error",
     "traceback": [
      "\u001b[0;31m---------------------------------------------------------------------------\u001b[0m",
      "\u001b[0;31mClientError\u001b[0m                               Traceback (most recent call last)",
      "Cell \u001b[0;32mIn[31], line 2\u001b[0m\n\u001b[1;32m      1\u001b[0m \u001b[38;5;28;01mfor\u001b[39;00m o \u001b[38;5;129;01min\u001b[39;00m opi:\n\u001b[0;32m----> 2\u001b[0m     \u001b[38;5;28mprint\u001b[39m(a\u001b[38;5;241m.\u001b[39mlookup(o[\u001b[38;5;241m0\u001b[39m])\u001b[38;5;241m.\u001b[39mlookup(o[\u001b[38;5;241m1\u001b[39m])\u001b[38;5;241m.\u001b[39mreport)\n",
      "File \u001b[0;32m~/code/alexweb/birddog/core.py:325\u001b[0m, in \u001b[0;36mTable.lookup\u001b[0;34m(self, entry_id, use_cache)\u001b[0m\n\u001b[1;32m    323\u001b[0m     child \u001b[38;5;241m=\u001b[39m matches[\u001b[38;5;241m0\u001b[39m][\u001b[38;5;241m0\u001b[39m]\n\u001b[1;32m    324\u001b[0m     spec \u001b[38;5;241m=\u001b[39m (get_text(child[\u001b[38;5;124m'\u001b[39m\u001b[38;5;124mtext\u001b[39m\u001b[38;5;124m'\u001b[39m]), child[\u001b[38;5;124m'\u001b[39m\u001b[38;5;124mlink\u001b[39m\u001b[38;5;124m'\u001b[39m])\n\u001b[0;32m--> 325\u001b[0m     \u001b[38;5;28;01mreturn\u001b[39;00m \u001b[38;5;28mself\u001b[39m\u001b[38;5;241m.\u001b[39mchild_class(spec, \u001b[38;5;28mself\u001b[39m, use_cache\u001b[38;5;241m=\u001b[39muse_cache)\n\u001b[1;32m    326\u001b[0m \u001b[38;5;28;01mreturn\u001b[39;00m \u001b[38;5;28;01mNone\u001b[39;00m\n",
      "File \u001b[0;32m~/code/alexweb/birddog/core.py:204\u001b[0m, in \u001b[0;36mTable.__init__\u001b[0;34m(self, spec, parent, use_cache)\u001b[0m\n\u001b[1;32m    202\u001b[0m \u001b[38;5;28mself\u001b[39m\u001b[38;5;241m.\u001b[39m_page \u001b[38;5;241m=\u001b[39m read_page(\u001b[38;5;28mself\u001b[39m\u001b[38;5;241m.\u001b[39mdefault_url)\n\u001b[1;32m    203\u001b[0m \u001b[38;5;28mself\u001b[39m\u001b[38;5;241m.\u001b[39m_pages \u001b[38;5;241m=\u001b[39m [\u001b[38;5;28mself\u001b[39m\u001b[38;5;241m.\u001b[39m_page]\n\u001b[0;32m--> 204\u001b[0m \u001b[38;5;28mself\u001b[39m\u001b[38;5;241m.\u001b[39m_update_cache()\n",
      "File \u001b[0;32m~/code/alexweb/birddog/core.py:208\u001b[0m, in \u001b[0;36mTable._update_cache\u001b[0;34m(self)\u001b[0m\n\u001b[1;32m    206\u001b[0m \u001b[38;5;28;01mdef\u001b[39;00m \u001b[38;5;21m_update_cache\u001b[39m(\u001b[38;5;28mself\u001b[39m):\n\u001b[1;32m    207\u001b[0m     \u001b[38;5;28mself\u001b[39m\u001b[38;5;241m.\u001b[39m_pages\u001b[38;5;241m.\u001b[39msort(key\u001b[38;5;241m=\u001b[39m\u001b[38;5;28;01mlambda\u001b[39;00m x: x[\u001b[38;5;124m'\u001b[39m\u001b[38;5;124mlastmod\u001b[39m\u001b[38;5;124m'\u001b[39m])\n\u001b[0;32m--> 208\u001b[0m     save_cached_object(\u001b[38;5;28mself\u001b[39m\u001b[38;5;241m.\u001b[39m_pages, \u001b[38;5;124mf\u001b[39m\u001b[38;5;124m'\u001b[39m\u001b[38;5;132;01m{\u001b[39;00m\u001b[38;5;28mself\u001b[39m\u001b[38;5;241m.\u001b[39mname\u001b[38;5;132;01m}\u001b[39;00m\u001b[38;5;124m.json\u001b[39m\u001b[38;5;124m'\u001b[39m)\n",
      "File \u001b[0;32m~/code/alexweb/birddog/cache.py:122\u001b[0m, in \u001b[0;36msave_cached_object\u001b[0;34m(obj, object_path)\u001b[0m\n\u001b[1;32m    120\u001b[0m \u001b[38;5;28;01mif\u001b[39;00m \u001b[38;5;129;01mnot\u001b[39;00m _table_exists(CACHE_TABLE_NAME):\n\u001b[1;32m    121\u001b[0m     _create_table()\n\u001b[0;32m--> 122\u001b[0m _put_item(object_path, json\u001b[38;5;241m.\u001b[39mdumps(obj))\n",
      "File \u001b[0;32m~/code/alexweb/birddog/cache.py:100\u001b[0m, in \u001b[0;36m_put_item\u001b[0;34m(path, json_object)\u001b[0m\n\u001b[1;32m     98\u001b[0m \u001b[38;5;28;01mdef\u001b[39;00m \u001b[38;5;21m_put_item\u001b[39m(path, json_object):\n\u001b[1;32m     99\u001b[0m     \u001b[38;5;28mprint\u001b[39m(\u001b[38;5;124mf\u001b[39m\u001b[38;5;124m'\u001b[39m\u001b[38;5;124msaving \u001b[39m\u001b[38;5;132;01m{\u001b[39;00mpath\u001b[38;5;132;01m}\u001b[39;00m\u001b[38;5;124m: \u001b[39m\u001b[38;5;132;01m{\u001b[39;00m\u001b[38;5;28mlen\u001b[39m(json_object)\u001b[38;5;132;01m}\u001b[39;00m\u001b[38;5;124m'\u001b[39m)\n\u001b[0;32m--> 100\u001b[0m     response \u001b[38;5;241m=\u001b[39m dynamodb\u001b[38;5;241m.\u001b[39mput_item(\n\u001b[1;32m    101\u001b[0m         TableName\u001b[38;5;241m=\u001b[39mCACHE_TABLE_NAME,\n\u001b[1;32m    102\u001b[0m         Item\u001b[38;5;241m=\u001b[39m{\n\u001b[1;32m    103\u001b[0m             \u001b[38;5;124m'\u001b[39m\u001b[38;5;124mpath\u001b[39m\u001b[38;5;124m'\u001b[39m: {\u001b[38;5;124m'\u001b[39m\u001b[38;5;124mS\u001b[39m\u001b[38;5;124m'\u001b[39m: path},\n\u001b[1;32m    104\u001b[0m             \u001b[38;5;124m'\u001b[39m\u001b[38;5;124mvalue\u001b[39m\u001b[38;5;124m'\u001b[39m: {\u001b[38;5;124m'\u001b[39m\u001b[38;5;124mS\u001b[39m\u001b[38;5;124m'\u001b[39m: json_object},\n\u001b[1;32m    105\u001b[0m         }\n\u001b[1;32m    106\u001b[0m     )\n",
      "File \u001b[0;32m~/anaconda3/lib/python3.11/site-packages/botocore/client.py:570\u001b[0m, in \u001b[0;36mClientCreator._create_api_method.<locals>._api_call\u001b[0;34m(self, *args, **kwargs)\u001b[0m\n\u001b[1;32m    566\u001b[0m     \u001b[38;5;28;01mraise\u001b[39;00m \u001b[38;5;167;01mTypeError\u001b[39;00m(\n\u001b[1;32m    567\u001b[0m         \u001b[38;5;124mf\u001b[39m\u001b[38;5;124m\"\u001b[39m\u001b[38;5;132;01m{\u001b[39;00mpy_operation_name\u001b[38;5;132;01m}\u001b[39;00m\u001b[38;5;124m() only accepts keyword arguments.\u001b[39m\u001b[38;5;124m\"\u001b[39m\n\u001b[1;32m    568\u001b[0m     )\n\u001b[1;32m    569\u001b[0m \u001b[38;5;66;03m# The \"self\" in this scope is referring to the BaseClient.\u001b[39;00m\n\u001b[0;32m--> 570\u001b[0m \u001b[38;5;28;01mreturn\u001b[39;00m \u001b[38;5;28mself\u001b[39m\u001b[38;5;241m.\u001b[39m_make_api_call(operation_name, kwargs)\n",
      "File \u001b[0;32m~/anaconda3/lib/python3.11/site-packages/botocore/context.py:124\u001b[0m, in \u001b[0;36mwith_current_context.<locals>.decorator.<locals>.wrapper\u001b[0;34m(*args, **kwargs)\u001b[0m\n\u001b[1;32m    122\u001b[0m \u001b[38;5;28;01mif\u001b[39;00m hook:\n\u001b[1;32m    123\u001b[0m     hook()\n\u001b[0;32m--> 124\u001b[0m \u001b[38;5;28;01mreturn\u001b[39;00m func(\u001b[38;5;241m*\u001b[39margs, \u001b[38;5;241m*\u001b[39m\u001b[38;5;241m*\u001b[39mkwargs)\n",
      "File \u001b[0;32m~/anaconda3/lib/python3.11/site-packages/botocore/client.py:1031\u001b[0m, in \u001b[0;36mBaseClient._make_api_call\u001b[0;34m(self, operation_name, api_params)\u001b[0m\n\u001b[1;32m   1027\u001b[0m     error_code \u001b[38;5;241m=\u001b[39m error_info\u001b[38;5;241m.\u001b[39mget(\u001b[38;5;124m\"\u001b[39m\u001b[38;5;124mQueryErrorCode\u001b[39m\u001b[38;5;124m\"\u001b[39m) \u001b[38;5;129;01mor\u001b[39;00m error_info\u001b[38;5;241m.\u001b[39mget(\n\u001b[1;32m   1028\u001b[0m         \u001b[38;5;124m\"\u001b[39m\u001b[38;5;124mCode\u001b[39m\u001b[38;5;124m\"\u001b[39m\n\u001b[1;32m   1029\u001b[0m     )\n\u001b[1;32m   1030\u001b[0m     error_class \u001b[38;5;241m=\u001b[39m \u001b[38;5;28mself\u001b[39m\u001b[38;5;241m.\u001b[39mexceptions\u001b[38;5;241m.\u001b[39mfrom_code(error_code)\n\u001b[0;32m-> 1031\u001b[0m     \u001b[38;5;28;01mraise\u001b[39;00m error_class(parsed_response, operation_name)\n\u001b[1;32m   1032\u001b[0m \u001b[38;5;28;01melse\u001b[39;00m:\n\u001b[1;32m   1033\u001b[0m     \u001b[38;5;28;01mreturn\u001b[39;00m parsed_response\n",
      "\u001b[0;31mClientError\u001b[0m: An error occurred (ValidationException) when calling the PutItem operation: Item size has exceeded the maximum allowed size"
     ]
    }
   ],
   "source": [
    "for o in opi:\n",
    "    print(a.lookup(o[0]).lookup(o[1]).report)"
   ]
  },
  {
   "cell_type": "code",
   "execution_count": 32,
   "metadata": {},
   "outputs": [
    {
     "name": "stdout",
     "output_type": "stream",
     "text": [
      "Retrieving from cache: Архів:ДАЖО/Д/1\n",
      "Retrieving from cache: Архів:ДАЖО/Д/1/74\n",
      "opus,Архів:ДАЖО/Д/1/74,2025,02,22,17:32 Metric books of Kovel, Zaslav, Dubensky, Rivne, Ovruch, Kremenetsky counties. Confessional information on Kovel, Zaslavsky, Dubensky, Rivne, Ovruch, Kremenetsky counties\n",
      "Retrieving from cache: Архів:ДАЖО/Д/1\n",
      "Retrieving from cache: Архів:ДАЖО/Д/1/75\n",
      "Batch translation: 567 items...\n",
      "    ...completed (173.82 sec.)\n",
      "saving Архів:ДАЖО/Д/1/75.json: 278317\n",
      "opus,Архів:ДАЖО/Д/1/75,2025,02,28,10:14 Metric books of Novograd-Volynsky, Ovruch, Starokostiantyniv districts. Confessional information on Starokostiantyniv County\n",
      "Retrieving from cache: Архів:ДАЖО/Д/1\n",
      "Loading page: Архів:ДАЖО/Д/1/77\n",
      "saving Архів:ДАЖО/Д/1/77.json: 1201671\n"
     ]
    },
    {
     "ename": "ClientError",
     "evalue": "An error occurred (ValidationException) when calling the PutItem operation: Item size has exceeded the maximum allowed size",
     "output_type": "error",
     "traceback": [
      "\u001b[0;31m---------------------------------------------------------------------------\u001b[0m",
      "\u001b[0;31mClientError\u001b[0m                               Traceback (most recent call last)",
      "Cell \u001b[0;32mIn[32], line 2\u001b[0m\n\u001b[1;32m      1\u001b[0m \u001b[38;5;28;01mfor\u001b[39;00m o \u001b[38;5;129;01min\u001b[39;00m opi:\n\u001b[0;32m----> 2\u001b[0m     opus \u001b[38;5;241m=\u001b[39m a\u001b[38;5;241m.\u001b[39mlookup(o[\u001b[38;5;241m0\u001b[39m])\u001b[38;5;241m.\u001b[39mlookup(o[\u001b[38;5;241m1\u001b[39m])\n\u001b[1;32m      3\u001b[0m     opus\u001b[38;5;241m.\u001b[39mtranslate()\n\u001b[1;32m      4\u001b[0m     \u001b[38;5;28mprint\u001b[39m(opus\u001b[38;5;241m.\u001b[39mreport, opus\u001b[38;5;241m.\u001b[39mdescription)\n",
      "File \u001b[0;32m~/code/alexweb/birddog/core.py:325\u001b[0m, in \u001b[0;36mTable.lookup\u001b[0;34m(self, entry_id, use_cache)\u001b[0m\n\u001b[1;32m    323\u001b[0m     child \u001b[38;5;241m=\u001b[39m matches[\u001b[38;5;241m0\u001b[39m][\u001b[38;5;241m0\u001b[39m]\n\u001b[1;32m    324\u001b[0m     spec \u001b[38;5;241m=\u001b[39m (get_text(child[\u001b[38;5;124m'\u001b[39m\u001b[38;5;124mtext\u001b[39m\u001b[38;5;124m'\u001b[39m]), child[\u001b[38;5;124m'\u001b[39m\u001b[38;5;124mlink\u001b[39m\u001b[38;5;124m'\u001b[39m])\n\u001b[0;32m--> 325\u001b[0m     \u001b[38;5;28;01mreturn\u001b[39;00m \u001b[38;5;28mself\u001b[39m\u001b[38;5;241m.\u001b[39mchild_class(spec, \u001b[38;5;28mself\u001b[39m, use_cache\u001b[38;5;241m=\u001b[39muse_cache)\n\u001b[1;32m    326\u001b[0m \u001b[38;5;28;01mreturn\u001b[39;00m \u001b[38;5;28;01mNone\u001b[39;00m\n",
      "File \u001b[0;32m~/code/alexweb/birddog/core.py:204\u001b[0m, in \u001b[0;36mTable.__init__\u001b[0;34m(self, spec, parent, use_cache)\u001b[0m\n\u001b[1;32m    202\u001b[0m \u001b[38;5;28mself\u001b[39m\u001b[38;5;241m.\u001b[39m_page \u001b[38;5;241m=\u001b[39m read_page(\u001b[38;5;28mself\u001b[39m\u001b[38;5;241m.\u001b[39mdefault_url)\n\u001b[1;32m    203\u001b[0m \u001b[38;5;28mself\u001b[39m\u001b[38;5;241m.\u001b[39m_pages \u001b[38;5;241m=\u001b[39m [\u001b[38;5;28mself\u001b[39m\u001b[38;5;241m.\u001b[39m_page]\n\u001b[0;32m--> 204\u001b[0m \u001b[38;5;28mself\u001b[39m\u001b[38;5;241m.\u001b[39m_update_cache()\n",
      "File \u001b[0;32m~/code/alexweb/birddog/core.py:208\u001b[0m, in \u001b[0;36mTable._update_cache\u001b[0;34m(self)\u001b[0m\n\u001b[1;32m    206\u001b[0m \u001b[38;5;28;01mdef\u001b[39;00m \u001b[38;5;21m_update_cache\u001b[39m(\u001b[38;5;28mself\u001b[39m):\n\u001b[1;32m    207\u001b[0m     \u001b[38;5;28mself\u001b[39m\u001b[38;5;241m.\u001b[39m_pages\u001b[38;5;241m.\u001b[39msort(key\u001b[38;5;241m=\u001b[39m\u001b[38;5;28;01mlambda\u001b[39;00m x: x[\u001b[38;5;124m'\u001b[39m\u001b[38;5;124mlastmod\u001b[39m\u001b[38;5;124m'\u001b[39m])\n\u001b[0;32m--> 208\u001b[0m     save_cached_object(\u001b[38;5;28mself\u001b[39m\u001b[38;5;241m.\u001b[39m_pages, \u001b[38;5;124mf\u001b[39m\u001b[38;5;124m'\u001b[39m\u001b[38;5;132;01m{\u001b[39;00m\u001b[38;5;28mself\u001b[39m\u001b[38;5;241m.\u001b[39mname\u001b[38;5;132;01m}\u001b[39;00m\u001b[38;5;124m.json\u001b[39m\u001b[38;5;124m'\u001b[39m)\n",
      "File \u001b[0;32m~/code/alexweb/birddog/cache.py:122\u001b[0m, in \u001b[0;36msave_cached_object\u001b[0;34m(obj, object_path)\u001b[0m\n\u001b[1;32m    120\u001b[0m \u001b[38;5;28;01mif\u001b[39;00m \u001b[38;5;129;01mnot\u001b[39;00m _table_exists(CACHE_TABLE_NAME):\n\u001b[1;32m    121\u001b[0m     _create_table()\n\u001b[0;32m--> 122\u001b[0m _put_item(object_path, json\u001b[38;5;241m.\u001b[39mdumps(obj))\n",
      "File \u001b[0;32m~/code/alexweb/birddog/cache.py:100\u001b[0m, in \u001b[0;36m_put_item\u001b[0;34m(path, json_object)\u001b[0m\n\u001b[1;32m     98\u001b[0m \u001b[38;5;28;01mdef\u001b[39;00m \u001b[38;5;21m_put_item\u001b[39m(path, json_object):\n\u001b[1;32m     99\u001b[0m     \u001b[38;5;28mprint\u001b[39m(\u001b[38;5;124mf\u001b[39m\u001b[38;5;124m'\u001b[39m\u001b[38;5;124msaving \u001b[39m\u001b[38;5;132;01m{\u001b[39;00mpath\u001b[38;5;132;01m}\u001b[39;00m\u001b[38;5;124m: \u001b[39m\u001b[38;5;132;01m{\u001b[39;00m\u001b[38;5;28mlen\u001b[39m(json_object)\u001b[38;5;132;01m}\u001b[39;00m\u001b[38;5;124m'\u001b[39m)\n\u001b[0;32m--> 100\u001b[0m     response \u001b[38;5;241m=\u001b[39m dynamodb\u001b[38;5;241m.\u001b[39mput_item(\n\u001b[1;32m    101\u001b[0m         TableName\u001b[38;5;241m=\u001b[39mCACHE_TABLE_NAME,\n\u001b[1;32m    102\u001b[0m         Item\u001b[38;5;241m=\u001b[39m{\n\u001b[1;32m    103\u001b[0m             \u001b[38;5;124m'\u001b[39m\u001b[38;5;124mpath\u001b[39m\u001b[38;5;124m'\u001b[39m: {\u001b[38;5;124m'\u001b[39m\u001b[38;5;124mS\u001b[39m\u001b[38;5;124m'\u001b[39m: path},\n\u001b[1;32m    104\u001b[0m             \u001b[38;5;124m'\u001b[39m\u001b[38;5;124mvalue\u001b[39m\u001b[38;5;124m'\u001b[39m: {\u001b[38;5;124m'\u001b[39m\u001b[38;5;124mS\u001b[39m\u001b[38;5;124m'\u001b[39m: json_object},\n\u001b[1;32m    105\u001b[0m         }\n\u001b[1;32m    106\u001b[0m     )\n",
      "File \u001b[0;32m~/anaconda3/lib/python3.11/site-packages/botocore/client.py:570\u001b[0m, in \u001b[0;36mClientCreator._create_api_method.<locals>._api_call\u001b[0;34m(self, *args, **kwargs)\u001b[0m\n\u001b[1;32m    566\u001b[0m     \u001b[38;5;28;01mraise\u001b[39;00m \u001b[38;5;167;01mTypeError\u001b[39;00m(\n\u001b[1;32m    567\u001b[0m         \u001b[38;5;124mf\u001b[39m\u001b[38;5;124m\"\u001b[39m\u001b[38;5;132;01m{\u001b[39;00mpy_operation_name\u001b[38;5;132;01m}\u001b[39;00m\u001b[38;5;124m() only accepts keyword arguments.\u001b[39m\u001b[38;5;124m\"\u001b[39m\n\u001b[1;32m    568\u001b[0m     )\n\u001b[1;32m    569\u001b[0m \u001b[38;5;66;03m# The \"self\" in this scope is referring to the BaseClient.\u001b[39;00m\n\u001b[0;32m--> 570\u001b[0m \u001b[38;5;28;01mreturn\u001b[39;00m \u001b[38;5;28mself\u001b[39m\u001b[38;5;241m.\u001b[39m_make_api_call(operation_name, kwargs)\n",
      "File \u001b[0;32m~/anaconda3/lib/python3.11/site-packages/botocore/context.py:124\u001b[0m, in \u001b[0;36mwith_current_context.<locals>.decorator.<locals>.wrapper\u001b[0;34m(*args, **kwargs)\u001b[0m\n\u001b[1;32m    122\u001b[0m \u001b[38;5;28;01mif\u001b[39;00m hook:\n\u001b[1;32m    123\u001b[0m     hook()\n\u001b[0;32m--> 124\u001b[0m \u001b[38;5;28;01mreturn\u001b[39;00m func(\u001b[38;5;241m*\u001b[39margs, \u001b[38;5;241m*\u001b[39m\u001b[38;5;241m*\u001b[39mkwargs)\n",
      "File \u001b[0;32m~/anaconda3/lib/python3.11/site-packages/botocore/client.py:1031\u001b[0m, in \u001b[0;36mBaseClient._make_api_call\u001b[0;34m(self, operation_name, api_params)\u001b[0m\n\u001b[1;32m   1027\u001b[0m     error_code \u001b[38;5;241m=\u001b[39m error_info\u001b[38;5;241m.\u001b[39mget(\u001b[38;5;124m\"\u001b[39m\u001b[38;5;124mQueryErrorCode\u001b[39m\u001b[38;5;124m\"\u001b[39m) \u001b[38;5;129;01mor\u001b[39;00m error_info\u001b[38;5;241m.\u001b[39mget(\n\u001b[1;32m   1028\u001b[0m         \u001b[38;5;124m\"\u001b[39m\u001b[38;5;124mCode\u001b[39m\u001b[38;5;124m\"\u001b[39m\n\u001b[1;32m   1029\u001b[0m     )\n\u001b[1;32m   1030\u001b[0m     error_class \u001b[38;5;241m=\u001b[39m \u001b[38;5;28mself\u001b[39m\u001b[38;5;241m.\u001b[39mexceptions\u001b[38;5;241m.\u001b[39mfrom_code(error_code)\n\u001b[0;32m-> 1031\u001b[0m     \u001b[38;5;28;01mraise\u001b[39;00m error_class(parsed_response, operation_name)\n\u001b[1;32m   1032\u001b[0m \u001b[38;5;28;01melse\u001b[39;00m:\n\u001b[1;32m   1033\u001b[0m     \u001b[38;5;28;01mreturn\u001b[39;00m parsed_response\n",
      "\u001b[0;31mClientError\u001b[0m: An error occurred (ValidationException) when calling the PutItem operation: Item size has exceeded the maximum allowed size"
     ]
    }
   ],
   "source": [
    "for o in opi:\n",
    "    opus = a.lookup(o[0]).lookup(o[1])\n",
    "    opus.translate()\n",
    "    print(opus.report, opus.description)"
   ]
  },
  {
   "cell_type": "code",
   "execution_count": null,
   "metadata": {},
   "outputs": [],
   "source": []
  }
 ],
 "metadata": {
  "kernelspec": {
   "display_name": "Python 3 (ipykernel)",
   "language": "python",
   "name": "python3"
  },
  "language_info": {
   "codemirror_mode": {
    "name": "ipython",
    "version": 3
   },
   "file_extension": ".py",
   "mimetype": "text/x-python",
   "name": "python",
   "nbconvert_exporter": "python",
   "pygments_lexer": "ipython3",
   "version": "3.11.5"
  }
 },
 "nbformat": 4,
 "nbformat_minor": 4
}
