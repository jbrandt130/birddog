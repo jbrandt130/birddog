{
 "cells": [
  {
   "cell_type": "code",
   "execution_count": 1,
   "metadata": {},
   "outputs": [],
   "source": [
    "from archivescraper import *\n",
    "import pandas as pd\n",
    "import numpy as np\n",
    "import re\n",
    "from translate import translation, translate_field, is_english\n",
    "from cache import save_cached_object, load_cached_object"
   ]
  },
  {
   "cell_type": "code",
   "execution_count": 2,
   "metadata": {},
   "outputs": [
    {
     "data": {
      "text/plain": [
       "{'DAZHO': 'Архів:ДАЖО'}"
      ]
     },
     "execution_count": 2,
     "metadata": {},
     "output_type": "execute_result"
    }
   ],
   "source": [
    "archive_list"
   ]
  },
  {
   "cell_type": "code",
   "execution_count": 3,
   "metadata": {},
   "outputs": [
    {
     "name": "stdout",
     "output_type": "stream",
     "text": [
      "Retrieving from cache: Архів:ДАЖО/Д\n",
      "archive,DAZHO/Д,2025,01,19,12:47\n"
     ]
    }
   ],
   "source": [
    "a=Archive('DAZHO')\n",
    "print(a.report)"
   ]
  },
  {
   "cell_type": "code",
   "execution_count": 4,
   "metadata": {},
   "outputs": [
    {
     "data": {
      "text/plain": [
       "[{'uk': '№'}, {'uk': 'Назва фонду'}, {'uk': 'Крайні дати'}, {'uk': 'Справ'}]"
      ]
     },
     "execution_count": 4,
     "metadata": {},
     "output_type": "execute_result"
    }
   ],
   "source": [
    "a._page['header']"
   ]
  },
  {
   "cell_type": "code",
   "execution_count": 5,
   "metadata": {},
   "outputs": [
    {
     "data": {
      "text/plain": [
       "'Державний архів Житомирської області. Дорадянський період'"
      ]
     },
     "execution_count": 5,
     "metadata": {},
     "output_type": "execute_result"
    }
   ],
   "source": [
    "a.description"
   ]
  },
  {
   "cell_type": "code",
   "execution_count": 6,
   "metadata": {},
   "outputs": [
    {
     "name": "stdout",
     "output_type": "stream",
     "text": [
      "Retrieving from cache: Архів:ДАЖО/Д/1\n",
      "fond,Архів:ДАЖО/Д/1,2024,09,12,08:41\n"
     ]
    }
   ],
   "source": [
    "f = a.lookup('1')\n",
    "print(f.report)"
   ]
  },
  {
   "cell_type": "code",
   "execution_count": 7,
   "metadata": {},
   "outputs": [
    {
     "name": "stdout",
     "output_type": "stream",
     "text": [
      "Retrieving from cache: Архів:ДАЖО/Д/1/74\n",
      "opus,Архів:ДАЖО/Д/1/74,2025,02,22,17:32\n",
      "416\n",
      "Архів:ДАЖО/Д/1/74\n"
     ]
    }
   ],
   "source": [
    "o = f.lookup('74')\n",
    "print(o.report)\n",
    "print(len(o.children))\n",
    "print(o.name)"
   ]
  },
  {
   "cell_type": "code",
   "execution_count": 8,
   "metadata": {},
   "outputs": [
    {
     "name": "stdout",
     "output_type": "stream",
     "text": [
      "Retrieving from cache: Архів:ДАЖО/Д/1/74/1\n",
      "case,Архів:ДАЖО/Д/1/74/1,2024,09,12,19:14\n"
     ]
    }
   ],
   "source": [
    "c = o.lookup('1')\n",
    "print(c.report)"
   ]
  },
  {
   "cell_type": "code",
   "execution_count": 9,
   "metadata": {},
   "outputs": [
    {
     "data": {
      "text/plain": [
       "'1'"
      ]
     },
     "execution_count": 9,
     "metadata": {},
     "output_type": "execute_result"
    }
   ],
   "source": [
    "c.id"
   ]
  },
  {
   "cell_type": "code",
   "execution_count": 10,
   "metadata": {},
   "outputs": [
    {
     "data": {
      "text/plain": [
       "'Архів:ДАЖО/Д/1/74/1'"
      ]
     },
     "execution_count": 10,
     "metadata": {},
     "output_type": "execute_result"
    }
   ],
   "source": [
    "c.name"
   ]
  },
  {
   "cell_type": "code",
   "execution_count": 11,
   "metadata": {},
   "outputs": [
    {
     "data": {
      "text/plain": [
       "'2024,09,12,19:14'"
      ]
     },
     "execution_count": 11,
     "metadata": {},
     "output_type": "execute_result"
    }
   ],
   "source": [
    "c.lastmod"
   ]
  },
  {
   "cell_type": "code",
   "execution_count": 12,
   "metadata": {},
   "outputs": [
    {
     "data": {
      "text/plain": [
       "'1. Metric books of the Uniate Churches of Kovel County'"
      ]
     },
     "execution_count": 12,
     "metadata": {},
     "output_type": "execute_result"
    }
   ],
   "source": [
    "c.description"
   ]
  },
  {
   "cell_type": "code",
   "execution_count": 13,
   "metadata": {},
   "outputs": [],
   "source": [
    "c.translate()"
   ]
  },
  {
   "cell_type": "code",
   "execution_count": 14,
   "metadata": {},
   "outputs": [],
   "source": [
    "f.translate()"
   ]
  },
  {
   "cell_type": "code",
   "execution_count": 15,
   "metadata": {},
   "outputs": [
    {
     "data": {
      "text/plain": [
       "'1. The Volyn Spiritual Consistory of Zhytomyr, Volyn Province. 1741 - 1921.'"
      ]
     },
     "execution_count": 15,
     "metadata": {},
     "output_type": "execute_result"
    }
   ],
   "source": [
    "f.description"
   ]
  },
  {
   "cell_type": "code",
   "execution_count": 16,
   "metadata": {},
   "outputs": [
    {
     "name": "stdout",
     "output_type": "stream",
     "text": [
      "Retrieving from cache: Архів:ДАЖО/Д/1\n"
     ]
    },
    {
     "data": {
      "text/plain": [
       "'1. The Volyn Spiritual Consistory of Zhytomyr, Volyn Province. 1741 - 1921.'"
      ]
     },
     "execution_count": 16,
     "metadata": {},
     "output_type": "execute_result"
    }
   ],
   "source": [
    "a.lookup('1').description"
   ]
  },
  {
   "cell_type": "code",
   "execution_count": 17,
   "metadata": {},
   "outputs": [
    {
     "name": "stdout",
     "output_type": "stream",
     "text": [
      "Retrieving from cache: Архів:ДАЖО/Д/1\n",
      "Retrieving from cache: Архів:ДАЖО/Д/1/75\n"
     ]
    },
    {
     "data": {
      "text/plain": [
       "'2025,02,28,10:14'"
      ]
     },
     "execution_count": 17,
     "metadata": {},
     "output_type": "execute_result"
    }
   ],
   "source": [
    "a.lookup('1').lookup('75').lastmod"
   ]
  },
  {
   "cell_type": "code",
   "execution_count": 18,
   "metadata": {},
   "outputs": [
    {
     "data": {
      "text/plain": [
       "'2025,01,19,12:47'"
      ]
     },
     "execution_count": 18,
     "metadata": {},
     "output_type": "execute_result"
    }
   ],
   "source": [
    "a.lastmod"
   ]
  },
  {
   "cell_type": "code",
   "execution_count": 19,
   "metadata": {},
   "outputs": [
    {
     "data": {
      "text/plain": [
       "{'title': {'uk': 'ДАЖО/1/74/1', 'en': 'Dago/1/74/1'},\n",
       " 'description': {'uk': '1. Метричні книги уніатських церков Ковельського повіту',\n",
       "  'en': '1. Metric books of the Uniate Churches of Kovel County'},\n",
       " 'header': [],\n",
       " 'children': [],\n",
       " 'lastmod': '2024,09,12,19:14'}"
      ]
     },
     "execution_count": 19,
     "metadata": {},
     "output_type": "execute_result"
    }
   ],
   "source": [
    "c._page"
   ]
  },
  {
   "cell_type": "code",
   "execution_count": 20,
   "metadata": {},
   "outputs": [
    {
     "data": {
      "text/plain": [
       "[{'title': {'uk': 'ДАЖО/1/74/1', 'en': 'Dago/1/74/1'},\n",
       "  'description': {'uk': '1. Метричні книги уніатських церков Ковельського повіту',\n",
       "   'en': '1. Metric books of the Uniate Churches of Kovel County'},\n",
       "  'header': [],\n",
       "  'children': [],\n",
       "  'lastmod': '2024,09,12,19:14'}]"
      ]
     },
     "execution_count": 20,
     "metadata": {},
     "output_type": "execute_result"
    }
   ],
   "source": [
    "c._pages"
   ]
  },
  {
   "cell_type": "code",
   "execution_count": 21,
   "metadata": {},
   "outputs": [
    {
     "name": "stdout",
     "output_type": "stream",
     "text": [
      "Retrieving from cache: Архів:ДАЖО/Д/1/74/1\n"
     ]
    },
    {
     "data": {
      "text/plain": [
       "'1. Metric books of the Uniate Churches of Kovel County'"
      ]
     },
     "execution_count": 21,
     "metadata": {},
     "output_type": "execute_result"
    }
   ],
   "source": [
    "o.lookup('1').description"
   ]
  },
  {
   "cell_type": "code",
   "execution_count": 22,
   "metadata": {},
   "outputs": [
    {
     "data": {
      "text/plain": [
       "'1. Metric books of the Uniate Churches of Kovel County'"
      ]
     },
     "execution_count": 22,
     "metadata": {},
     "output_type": "execute_result"
    }
   ],
   "source": [
    "c.description"
   ]
  },
  {
   "cell_type": "code",
   "execution_count": 23,
   "metadata": {},
   "outputs": [
    {
     "name": "stdout",
     "output_type": "stream",
     "text": [
      "no new version\n"
     ]
    }
   ],
   "source": [
    "f.refresh()"
   ]
  },
  {
   "cell_type": "code",
   "execution_count": 24,
   "metadata": {},
   "outputs": [
    {
     "name": "stdout",
     "output_type": "stream",
     "text": [
      "Retrieving from cache: Архів:ДАЖО/Д/1\n",
      "Retrieving from cache: Архів:ДАЖО/Д/1/74\n"
     ]
    }
   ],
   "source": [
    "opus1_74 = a.lookup('1').lookup('74')"
   ]
  },
  {
   "cell_type": "code",
   "execution_count": null,
   "metadata": {},
   "outputs": [
    {
     "name": "stdout",
     "output_type": "stream",
     "text": [
      "batch translation: 846 items...\n"
     ]
    }
   ],
   "source": [
    "opus1_74.translate()"
   ]
  },
  {
   "cell_type": "code",
   "execution_count": null,
   "metadata": {},
   "outputs": [],
   "source": []
  }
 ],
 "metadata": {
  "kernelspec": {
   "display_name": "Python 3 (ipykernel)",
   "language": "python",
   "name": "python3"
  },
  "language_info": {
   "codemirror_mode": {
    "name": "ipython",
    "version": 3
   },
   "file_extension": ".py",
   "mimetype": "text/x-python",
   "name": "python",
   "nbconvert_exporter": "python",
   "pygments_lexer": "ipython3",
   "version": "3.11.5"
  }
 },
 "nbformat": 4,
 "nbformat_minor": 4
}
