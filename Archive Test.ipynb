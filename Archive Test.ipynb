{
 "cells": [
  {
   "cell_type": "code",
   "execution_count": 1,
   "metadata": {},
   "outputs": [],
   "source": [
    "from birddog.core import Table, Archive, Fond, Opus, ARCHIVE_LIST"
   ]
  },
  {
   "cell_type": "code",
   "execution_count": 2,
   "metadata": {},
   "outputs": [
    {
     "data": {
      "text/plain": [
       "{'DAARC': 'Архів:ДААРК',\n",
       " 'DACHGO': 'Архів:ДАЧгО',\n",
       " 'DACHkO': 'Архів:ДАЧкО',\n",
       " 'DADNO': 'Архів:ДАДнО',\n",
       " 'DAHO': 'Архів:ДАХО',\n",
       " 'DAHeO': 'Архів:ДАХеО',\n",
       " 'DAHmO': 'Архів:ДАХмО',\n",
       " 'DAIFO': 'Архів:ДАІФО',\n",
       " 'DAK': 'Архів:ДАК',\n",
       " 'DAKO': 'Архів:ДАКО',\n",
       " 'DAKrO': 'Архів:ДАКрО',\n",
       " 'DALO': 'Архів:ДАЛО',\n",
       " 'DALuO': 'Архів:ДАЛуО',\n",
       " 'DAMO': 'Архів:ДАМО',\n",
       " 'DAOO': 'Архів:ДАОО',\n",
       " 'DAPO': 'Архів:ДАПО',\n",
       " 'DARO': 'Архів:ДАРО',\n",
       " 'DAS': 'Архів:ДАС',\n",
       " 'DASO': 'Архів:ДАСО',\n",
       " 'DAVIO': 'Архів:ДАВіО',\n",
       " 'DAVOO': 'Архів:ДАВоО',\n",
       " 'DAZHO': 'Архів:ДАЖО',\n",
       " 'DAZKO': 'Архів:ДАЗкО',\n",
       " 'DAZpO': 'Архів:ДАЗпО'}"
      ]
     },
     "execution_count": 2,
     "metadata": {},
     "output_type": "execute_result"
    }
   ],
   "source": [
    "ARCHIVE_LIST"
   ]
  },
  {
   "cell_type": "code",
   "execution_count": 3,
   "metadata": {},
   "outputs": [
    {
     "name": "stdout",
     "output_type": "stream",
     "text": [
      "Retrieving from cache: Архів:ДАЖО/Д\n",
      "archive,DAZHO/Д,2025,01,19,12:47\n",
      "DAZHO\n"
     ]
    }
   ],
   "source": [
    "a=Archive('DAZHO')\n",
    "print(a.report)\n",
    "print(a.ascii_name)"
   ]
  },
  {
   "cell_type": "code",
   "execution_count": 4,
   "metadata": {},
   "outputs": [
    {
     "name": "stdout",
     "output_type": "stream",
     "text": [
      "Архів:ДАЖО/Д\n"
     ]
    }
   ],
   "source": [
    "print(a.name)"
   ]
  },
  {
   "cell_type": "code",
   "execution_count": 5,
   "metadata": {},
   "outputs": [
    {
     "data": {
      "text/plain": [
       "'Державний архів Житомирської області. Дорадянський період'"
      ]
     },
     "execution_count": 5,
     "metadata": {},
     "output_type": "execute_result"
    }
   ],
   "source": [
    "a.description"
   ]
  },
  {
   "cell_type": "code",
   "execution_count": 6,
   "metadata": {},
   "outputs": [
    {
     "name": "stdout",
     "output_type": "stream",
     "text": [
      "Retrieving from cache: Архів:ДАЖО/Д/1\n",
      "fond,Архів:ДАЖО/Д/1,2024,09,12,08:41\n",
      "Архів:ДАЖО/Д/1\n"
     ]
    }
   ],
   "source": [
    "f = a.lookup('1')\n",
    "print(f.report)\n",
    "print(f.name)"
   ]
  },
  {
   "cell_type": "code",
   "execution_count": null,
   "metadata": {},
   "outputs": [],
   "source": []
  },
  {
   "cell_type": "code",
   "execution_count": 7,
   "metadata": {},
   "outputs": [
    {
     "name": "stdout",
     "output_type": "stream",
     "text": [
      "Retrieving from cache: Архів:ДАЖО/Д/1/74\n",
      "opus,Архів:ДАЖО/Д/1/74,2025,03,14,11:40\n",
      "416\n",
      "Архів:ДАЖО/Д/1/74\n"
     ]
    }
   ],
   "source": [
    "o = f.lookup('74')\n",
    "print(o.report)\n",
    "print(len(o.children))\n",
    "print(o.name)"
   ]
  },
  {
   "cell_type": "code",
   "execution_count": 8,
   "metadata": {},
   "outputs": [
    {
     "name": "stdout",
     "output_type": "stream",
     "text": [
      "Retrieving from cache: Архів:ДАЖО/Д/1/74/1\n",
      "case,Архів:ДАЖО/Д/1/74/1,2024,09,12,19:14\n"
     ]
    }
   ],
   "source": [
    "c = o.lookup('1')\n",
    "print(c.report)"
   ]
  },
  {
   "cell_type": "code",
   "execution_count": 9,
   "metadata": {},
   "outputs": [
    {
     "data": {
      "text/plain": [
       "'1'"
      ]
     },
     "execution_count": 9,
     "metadata": {},
     "output_type": "execute_result"
    }
   ],
   "source": [
    "c.id"
   ]
  },
  {
   "cell_type": "code",
   "execution_count": 10,
   "metadata": {},
   "outputs": [
    {
     "data": {
      "text/plain": [
       "'Архів:ДАЖО/Д/1/74/1'"
      ]
     },
     "execution_count": 10,
     "metadata": {},
     "output_type": "execute_result"
    }
   ],
   "source": [
    "c.name"
   ]
  },
  {
   "cell_type": "code",
   "execution_count": 11,
   "metadata": {},
   "outputs": [
    {
     "data": {
      "text/plain": [
       "'2024,09,12,19:14'"
      ]
     },
     "execution_count": 11,
     "metadata": {},
     "output_type": "execute_result"
    }
   ],
   "source": [
    "c.lastmod"
   ]
  },
  {
   "cell_type": "code",
   "execution_count": 12,
   "metadata": {},
   "outputs": [
    {
     "data": {
      "text/plain": [
       "'Metric books of the Uniate Churches of Kovel County'"
      ]
     },
     "execution_count": 12,
     "metadata": {},
     "output_type": "execute_result"
    }
   ],
   "source": [
    "c.description"
   ]
  },
  {
   "cell_type": "code",
   "execution_count": 13,
   "metadata": {},
   "outputs": [
    {
     "data": {
      "text/plain": [
       "False"
      ]
     },
     "execution_count": 13,
     "metadata": {},
     "output_type": "execute_result"
    }
   ],
   "source": [
    "c.translate()"
   ]
  },
  {
   "cell_type": "code",
   "execution_count": 14,
   "metadata": {},
   "outputs": [
    {
     "data": {
      "text/plain": [
       "False"
      ]
     },
     "execution_count": 14,
     "metadata": {},
     "output_type": "execute_result"
    }
   ],
   "source": [
    "f.translate()"
   ]
  },
  {
   "cell_type": "code",
   "execution_count": 15,
   "metadata": {},
   "outputs": [
    {
     "data": {
      "text/plain": [
       "'The Volyn Spiritual Consistory of Zhytomyr, Volyn Province. 1741 - 1921.'"
      ]
     },
     "execution_count": 15,
     "metadata": {},
     "output_type": "execute_result"
    }
   ],
   "source": [
    "f.description"
   ]
  },
  {
   "cell_type": "code",
   "execution_count": 16,
   "metadata": {},
   "outputs": [
    {
     "name": "stdout",
     "output_type": "stream",
     "text": [
      "Retrieving from cache: Архів:ДАЖО/Д/1\n"
     ]
    },
    {
     "data": {
      "text/plain": [
       "'The Volyn Spiritual Consistory of Zhytomyr, Volyn Province. 1741 - 1921.'"
      ]
     },
     "execution_count": 16,
     "metadata": {},
     "output_type": "execute_result"
    }
   ],
   "source": [
    "a.lookup('1').description"
   ]
  },
  {
   "cell_type": "code",
   "execution_count": 17,
   "metadata": {},
   "outputs": [
    {
     "name": "stdout",
     "output_type": "stream",
     "text": [
      "Retrieving from cache: Архів:ДАЖО/Д/1\n",
      "Retrieving from cache: Архів:ДАЖО/Д/1/75\n"
     ]
    },
    {
     "data": {
      "text/plain": [
       "'2025,02,28,10:14'"
      ]
     },
     "execution_count": 17,
     "metadata": {},
     "output_type": "execute_result"
    }
   ],
   "source": [
    "a.lookup('1').lookup('75').lastmod"
   ]
  },
  {
   "cell_type": "code",
   "execution_count": 18,
   "metadata": {},
   "outputs": [
    {
     "data": {
      "text/plain": [
       "'2025,01,19,12:47'"
      ]
     },
     "execution_count": 18,
     "metadata": {},
     "output_type": "execute_result"
    }
   ],
   "source": [
    "a.lastmod"
   ]
  },
  {
   "cell_type": "code",
   "execution_count": 19,
   "metadata": {},
   "outputs": [
    {
     "data": {
      "text/plain": [
       "{'title': {'uk': 'ДАЖО/1/74/1', 'en': 'Dago/1/74/1'},\n",
       " 'description': {'uk': '1. Метричні книги уніатських церков Ковельського повіту',\n",
       "  'en': '1. Metric books of the Uniate Churches of Kovel County'},\n",
       " 'header': [],\n",
       " 'children': [],\n",
       " 'lastmod': '2024,09,12,19:14',\n",
       " 'link': 'https://uk.wikisource.org/wiki/%D0%90%D1%80%D1%85%D1%96%D0%B2:%D0%94%D0%90%D0%96%D0%9E/1/74/1'}"
      ]
     },
     "execution_count": 19,
     "metadata": {},
     "output_type": "execute_result"
    }
   ],
   "source": [
    "c._page"
   ]
  },
  {
   "cell_type": "code",
   "execution_count": 20,
   "metadata": {},
   "outputs": [
    {
     "data": {
      "text/plain": [
       "[{'title': {'uk': 'ДАЖО/1/74/1', 'en': 'Dago/1/74/1'},\n",
       "  'description': {'uk': '1. Метричні книги уніатських церков Ковельського повіту',\n",
       "   'en': '1. Metric books of the Uniate Churches of Kovel County'},\n",
       "  'header': [],\n",
       "  'children': [],\n",
       "  'lastmod': '2024,09,12,19:14',\n",
       "  'link': 'https://uk.wikisource.org/wiki/%D0%90%D1%80%D1%85%D1%96%D0%B2:%D0%94%D0%90%D0%96%D0%9E/1/74/1'}]"
      ]
     },
     "execution_count": 20,
     "metadata": {},
     "output_type": "execute_result"
    }
   ],
   "source": [
    "c._pages"
   ]
  },
  {
   "cell_type": "code",
   "execution_count": 21,
   "metadata": {},
   "outputs": [
    {
     "name": "stdout",
     "output_type": "stream",
     "text": [
      "Retrieving from cache: Архів:ДАЖО/Д/1/74/1\n"
     ]
    },
    {
     "data": {
      "text/plain": [
       "'Metric books of the Uniate Churches of Kovel County'"
      ]
     },
     "execution_count": 21,
     "metadata": {},
     "output_type": "execute_result"
    }
   ],
   "source": [
    "o.lookup('1').description"
   ]
  },
  {
   "cell_type": "code",
   "execution_count": 22,
   "metadata": {},
   "outputs": [
    {
     "data": {
      "text/plain": [
       "'Metric books of the Uniate Churches of Kovel County'"
      ]
     },
     "execution_count": 22,
     "metadata": {},
     "output_type": "execute_result"
    }
   ],
   "source": [
    "c.description"
   ]
  },
  {
   "cell_type": "code",
   "execution_count": 23,
   "metadata": {},
   "outputs": [
    {
     "name": "stdout",
     "output_type": "stream",
     "text": [
      "Nothing new.\n"
     ]
    },
    {
     "data": {
      "text/plain": [
       "<birddog.core.Fond at 0x11be23fd0>"
      ]
     },
     "execution_count": 23,
     "metadata": {},
     "output_type": "execute_result"
    }
   ],
   "source": [
    "f.latest()"
   ]
  },
  {
   "cell_type": "code",
   "execution_count": 24,
   "metadata": {},
   "outputs": [
    {
     "name": "stdout",
     "output_type": "stream",
     "text": [
      "Retrieving from cache: Архів:ДАЖО/Д/1\n",
      "Retrieving from cache: Архів:ДАЖО/Д/1/74\n"
     ]
    }
   ],
   "source": [
    "opus1_74 = a.lookup('1').lookup('74')"
   ]
  },
  {
   "cell_type": "code",
   "execution_count": 25,
   "metadata": {},
   "outputs": [
    {
     "data": {
      "text/plain": [
       "False"
      ]
     },
     "execution_count": 25,
     "metadata": {},
     "output_type": "execute_result"
    }
   ],
   "source": [
    "opus1_74.translate()"
   ]
  },
  {
   "cell_type": "code",
   "execution_count": 26,
   "metadata": {},
   "outputs": [
    {
     "name": "stdout",
     "output_type": "stream",
     "text": [
      "Nothing new.\n"
     ]
    },
    {
     "data": {
      "text/plain": [
       "<birddog.core.Opus at 0x11f47a750>"
      ]
     },
     "execution_count": 26,
     "metadata": {},
     "output_type": "execute_result"
    }
   ],
   "source": [
    "opus1_74.latest()"
   ]
  },
  {
   "cell_type": "code",
   "execution_count": 27,
   "metadata": {},
   "outputs": [],
   "source": [
    "fonds = ['1', '2', '9', '17', '27', '58', '62']"
   ]
  },
  {
   "cell_type": "code",
   "execution_count": 28,
   "metadata": {},
   "outputs": [
    {
     "name": "stdout",
     "output_type": "stream",
     "text": [
      "Retrieving from cache: Архів:ДАЖО/Д/1\n",
      "fond,Архів:ДАЖО/Д/1,2024,09,12,08:41\n",
      "DAZHO/1\n",
      "Retrieving from cache: Архів:ДАЖО/Д/2\n",
      "fond,Архів:ДАЖО/Д/2,2023,07,05,11:39\n",
      "DAZHO/2\n",
      "Retrieving from cache: Архів:ДАЖО/Д/9\n",
      "fond,Архів:ДАЖО/Д/9,2023,05,14,21:08\n",
      "DAZHO/9\n",
      "Retrieving from cache: Архів:ДАЖО/Д/17\n",
      "fond,Архів:ДАЖО/Д/17,2023,09,22,14:35\n",
      "DAZHO/17\n",
      "Retrieving from cache: Архів:ДАЖО/Д/27\n",
      "fond,Архів:ДАЖО/Д/27,2023,06,27,22:26\n",
      "DAZHO/27\n",
      "Retrieving from cache: Архів:ДАЖО/Д/58\n",
      "fond,Архів:ДАЖО/Д/58,2023,07,03,14:47\n",
      "DAZHO/58\n",
      "Retrieving from cache: Архів:ДАЖО/Д/62\n",
      "fond,Архів:ДАЖО/Д/62,2024,04,17,20:15\n",
      "DAZHO/62\n"
     ]
    }
   ],
   "source": [
    "for f in fonds:\n",
    "    fond = a.lookup(f)\n",
    "    print(fond.report)\n",
    "    print(fond.ascii_name)"
   ]
  },
  {
   "cell_type": "code",
   "execution_count": 29,
   "metadata": {},
   "outputs": [
    {
     "name": "stdout",
     "output_type": "stream",
     "text": [
      "Retrieving from cache: Архів:ДАЖО/Д/1\n",
      "fond,Архів:ДАЖО/Д/1,2024,09,12,08:41 The Volyn Spiritual Consistory of Zhytomyr, Volyn Province. 1741 - 1921.\n",
      "Retrieving from cache: Архів:ДАЖО/Д/2\n",
      "fond,Архів:ДАЖО/Д/2,2023,07,05,11:39 Zhytomyr County Court of Zhytomyr, Volyn Province\n",
      "Retrieving from cache: Архів:ДАЖО/Д/9\n",
      "fond,Архів:ДАЖО/Д/9,2023,05,14,21:08 Novograd-Volyn city magistrate of Volyn province\n",
      "Retrieving from cache: Архів:ДАЖО/Д/17\n",
      "fond,Архів:ДАЖО/Д/17,2023,09,22,14:35 The Volyn Chamber of Civil Court of Zhytomyr, Volyn Province\n",
      "Retrieving from cache: Архів:ДАЖО/Д/27\n",
      "fond,Архів:ДАЖО/Д/27,2023,06,27,22:26 Zhytomyr notary Philippov Ivan Nikolaevich Zhytomyr, Volyn Province\n",
      "Retrieving from cache: Архів:ДАЖО/Д/58\n",
      "fond,Архів:ДАЖО/Д/58,2023,07,03,14:47 The Volyn Chamber of State Property of Zhytomyr, Volyn Province\n",
      "Retrieving from cache: Архів:ДАЖО/Д/62\n",
      "fond,Архів:ДАЖО/Д/62,2024,04,17,20:15 Zhytomyr City Administration of Zhytomyr, Volyn Province\n"
     ]
    }
   ],
   "source": [
    "for f in fonds:\n",
    "    fond = a.lookup(f)\n",
    "    fond.translate()\n",
    "    print(fond.report, fond.description)"
   ]
  },
  {
   "cell_type": "code",
   "execution_count": 30,
   "metadata": {},
   "outputs": [],
   "source": [
    "opi = [('1', '74'), \n",
    "       ('1', '75'),\n",
    "       ('1', '77'),\n",
    "       ('2', '1'),\n",
    "       ('9', '1'),\n",
    "       ('17', '2'),\n",
    "       ('27', '1'),\n",
    "       ('58', '1'),\n",
    "       ('62', '1')\n",
    "       ]"
   ]
  },
  {
   "cell_type": "code",
   "execution_count": 31,
   "metadata": {},
   "outputs": [
    {
     "name": "stdout",
     "output_type": "stream",
     "text": [
      "Retrieving from cache: Архів:ДАЖО/Д/1\n",
      "Retrieving from cache: Архів:ДАЖО/Д/1/74\n",
      "opus,Архів:ДАЖО/Д/1/74,2025,03,14,11:40\n",
      "Retrieving from cache: Архів:ДАЖО/Д/1\n",
      "Retrieving from cache: Архів:ДАЖО/Д/1/75\n",
      "opus,Архів:ДАЖО/Д/1/75,2025,02,28,10:14\n",
      "Retrieving from cache: Архів:ДАЖО/Д/1\n",
      "Retrieving from cache: Архів:ДАЖО/Д/1/77\n",
      "opus,Архів:ДАЖО/Д/1/77,2025,02,10,17:55\n",
      "Retrieving from cache: Архів:ДАЖО/Д/2\n",
      "Retrieving from cache: Архів:ДАЖО/Д/2/1\n",
      "opus,Архів:ДАЖО/Д/2/1,2025,02,23,14:29\n",
      "Retrieving from cache: Архів:ДАЖО/Д/9\n",
      "Retrieving from cache: Архів:ДАЖО/Д/9/1\n",
      "opus,Архів:ДАЖО/Д/9/1,2025,02,23,18:05\n",
      "Retrieving from cache: Архів:ДАЖО/Д/17\n",
      "Retrieving from cache: Архів:ДАЖО/Д/17/2\n",
      "opus,Архів:ДАЖО/Д/17/2,2023,12,04,19:54\n",
      "Retrieving from cache: Архів:ДАЖО/Д/27\n",
      "Retrieving from cache: Архів:ДАЖО/Д/27/1\n",
      "opus,Архів:ДАЖО/Д/27/1,2023,06,28,14:43\n",
      "Retrieving from cache: Архів:ДАЖО/Д/58\n",
      "Retrieving from cache: Архів:ДАЖО/Д/58/1\n",
      "opus,Архів:ДАЖО/Д/58/1,2025,02,27,13:06\n",
      "Retrieving from cache: Архів:ДАЖО/Д/62\n",
      "Retrieving from cache: Архів:ДАЖО/Д/62/1\n",
      "opus,Архів:ДАЖО/Д/62/1,2024,04,17,20:29\n"
     ]
    }
   ],
   "source": [
    "for o in opi:\n",
    "    print(a.lookup(o[0]).lookup(o[1]).report)"
   ]
  },
  {
   "cell_type": "code",
   "execution_count": 32,
   "metadata": {},
   "outputs": [
    {
     "name": "stdout",
     "output_type": "stream",
     "text": [
      "Retrieving from cache: Архів:ДАЖО/Д/1\n",
      "Retrieving from cache: Архів:ДАЖО/Д/1/74\n",
      "DAZHO/1/74 opus,Архів:ДАЖО/Д/1/74,2025,03,14,11:40 Metric books of Kovel, Zaslav, Dubensky, Rivne, Ovruch, Kremenetsky counties. Confessional information on Kovel, Zaslavsky, Dubensky, Rivne, Ovruch, Kremenetsky counties\n",
      "Retrieving from cache: Архів:ДАЖО/Д/1\n",
      "Retrieving from cache: Архів:ДАЖО/Д/1/75\n",
      "DAZHO/1/75 opus,Архів:ДАЖО/Д/1/75,2025,02,28,10:14 Metric books of Novograd-Volynsky, Ovruch, Starokostiantyniv districts. Confessional information on Starokostiantyniv County\n",
      "Retrieving from cache: Архів:ДАЖО/Д/1\n",
      "Retrieving from cache: Архів:ДАЖО/Д/1/77\n",
      "DAZHO/1/77 opus,Архів:ДАЖО/Д/1/77,2025,02,10,17:55 Metric books of Zhytomyr, Ovrutsky, Novograd-Volyn, Radomysl, Skvyrsky, Berdychiv counties\n",
      "Retrieving from cache: Архів:ДАЖО/Д/2\n",
      "Retrieving from cache: Архів:ДАЖО/Д/2/1\n",
      "DAZHO/2/1 opus,Архів:ДАЖО/Д/2/1,2025,02,23,14:29 Protocols of the Volyn Provincial Board and Zhytomyr County Court. Court cases on peasants' complaints about landowners and economies. On the sale of serfs, the refusal of the peasants to pay taxes and redemption payments after the reform of 1861. On approval in the rights of inheritance. About theft, murder, arson, etc. Personal cases. court employees\n",
      "Retrieving from cache: Архів:ДАЖО/Д/9\n",
      "Retrieving from cache: Архів:ДАЖО/Д/9/1\n",
      "DAZHO/9/1 opus,Архів:ДАЖО/Д/9/1,2025,02,23,18:05 Novograd-Volyn city magistrate of Volyn province\n",
      "Retrieving from cache: Архів:ДАЖО/Д/17\n",
      "Retrieving from cache: Архів:ДАЖО/Д/17/2\n",
      "DAZHO/17/2 opus,Архів:ДАЖО/Д/17/2,2023,12,04,19:54 On the implementation of the bunch, imposing a ban on the sale of estates\n",
      "Retrieving from cache: Архів:ДАЖО/Д/27\n",
      "Retrieving from cache: Архів:ДАЖО/Д/27/1\n",
      "DAZHO/27/1 opus,Архів:ДАЖО/Д/27/1,2023,06,28,14:43 Zhytomyr notary Philippov Ivan Nikolaevich Zhytomyr, Volyn Province\n",
      "Retrieving from cache: Архів:ДАЖО/Д/58\n",
      "Retrieving from cache: Архів:ДАЖО/Д/58/1\n",
      "DAZHO/58/1 opus,Архів:ДАЖО/Д/58/1,2025,02,27,13:06 The Volyn Chamber of State Property of Zhytomyr, Volyn Province\n",
      "Retrieving from cache: Архів:ДАЖО/Д/62\n",
      "Retrieving from cache: Архів:ДАЖО/Д/62/1\n",
      "DAZHO/62/1 opus,Архів:ДАЖО/Д/62/1,2024,04,17,20:29 Zhytomyr City Administration of Zhytomyr, Volyn Province\n"
     ]
    }
   ],
   "source": [
    "for o in opi:\n",
    "    opus = a.lookup(o[0]).lookup(o[1])\n",
    "    #opus.translate()\n",
    "    print(opus.ascii_name, opus.report, opus.description)"
   ]
  },
  {
   "cell_type": "code",
   "execution_count": null,
   "metadata": {},
   "outputs": [],
   "source": []
  },
  {
   "cell_type": "code",
   "execution_count": null,
   "metadata": {},
   "outputs": [],
   "source": []
  },
  {
   "cell_type": "code",
   "execution_count": null,
   "metadata": {},
   "outputs": [],
   "source": []
  },
  {
   "cell_type": "code",
   "execution_count": null,
   "metadata": {},
   "outputs": [],
   "source": []
  },
  {
   "cell_type": "code",
   "execution_count": null,
   "metadata": {},
   "outputs": [],
   "source": []
  }
 ],
 "metadata": {
  "kernelspec": {
   "display_name": "Python 3 (ipykernel)",
   "language": "python",
   "name": "python3"
  },
  "language_info": {
   "codemirror_mode": {
    "name": "ipython",
    "version": 3
   },
   "file_extension": ".py",
   "mimetype": "text/x-python",
   "name": "python",
   "nbconvert_exporter": "python",
   "pygments_lexer": "ipython3",
   "version": "3.11.5"
  }
 },
 "nbformat": 4,
 "nbformat_minor": 4
}
